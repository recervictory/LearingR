{
  "nbformat": 4,
  "nbformat_minor": 0,
  "metadata": {
    "colab": {
      "name": "Intermediate R.ipynb",
      "provenance": [],
      "authorship_tag": "ABX9TyMkzDYDhxMEhl8/mlbmBl+R",
      "include_colab_link": true
    },
    "kernelspec": {
      "name": "ir",
      "display_name": "R",
      "language": "R"
    }
  },
  "cells": [
    {
      "cell_type": "markdown",
      "metadata": {
        "id": "view-in-github",
        "colab_type": "text"
      },
      "source": [
        "<a href=\"https://colab.research.google.com/github/recervictory/LearingR/blob/main/Intermediate_R.ipynb\" target=\"_parent\"><img src=\"https://colab.research.google.com/assets/colab-badge.svg\" alt=\"Open In Colab\"/></a>"
      ]
    },
    {
      "cell_type": "markdown",
      "metadata": {
        "id": "Vor1-g3WroKH"
      },
      "source": [
        "# Flow Control and Loops\r\n",
        "In this chapter, you'll learn about relational operators for comparing R objects, and logical operators like \"and\" and \"or\" for combining TRUE and FALSE values. Then, you'll use this knowledge to build conditional statements.\r\n",
        "## Chapter Goals\r\n",
        "- Be able to branch the flow of execution\r\n",
        "- Be able to repeatedly execute code with loops"
      ]
    },
    {
      "cell_type": "markdown",
      "metadata": {
        "id": "J5ZPvLUup4p7"
      },
      "source": [
        "## 1: Conditionals and Control Flow\r\n"
      ]
    },
    {
      "cell_type": "markdown",
      "metadata": {
        "id": "cnXMIL5Mu94N"
      },
      "source": [
        " **Equality**: The most basic form of comparison is equality. Used syntax `==` for comparing two string, numaric, logical values."
      ]
    },
    {
      "cell_type": "code",
      "metadata": {
        "id": "qqsGlMbyrmsP"
      },
      "source": [
        "#  Equality\r\n",
        "# Comparison of logicals\r\n",
        "TRUE == FALSE\r\n",
        "\r\n",
        "# Comparison of numerics\r\n",
        "-6 * 14 != 17 - 101\r\n",
        "\r\n",
        "# Comparison of character strings\r\n",
        "\"useR\" == \"user\"\r\n",
        "\r\n",
        "# Compare a logical with a numeric\r\n",
        "TRUE == 1"
      ],
      "execution_count": null,
      "outputs": []
    },
    {
      "cell_type": "code",
      "metadata": {
        "id": "JtatZLNIoseO"
      },
      "source": [
        "\r\n",
        "# Comparison of numerics\r\n",
        "-6 * 5 + 2 >= -10 + 1\r\n",
        "\r\n",
        "# Comparison of character strings\r\n",
        "\"raining\" <= \"raining dogs\"\r\n",
        "\r\n",
        "# Comparison of logicals\r\n",
        "TRUE > FALSE\r\n"
      ],
      "execution_count": null,
      "outputs": []
    },
    {
      "cell_type": "markdown",
      "metadata": {
        "id": "b5js-Kk6wk2V"
      },
      "source": [
        "**Greater and less than**: Apart from equality operators, Filip also introduced the less than and greater than operators: `<` and `>`. You can also add an equal sign to express less than or equal to or greater than or equal to, respectively.\r\n"
      ]
    },
    {
      "cell_type": "code",
      "metadata": {
        "id": "vvLIpfsDwkd-"
      },
      "source": [
        "# Comparison of numerics\r\n",
        "-6 * 5 + 2 >= -10 + 1\r\n",
        "\r\n",
        "# Comparison of character strings\r\n",
        "\"raining\" <= \"raining dogs\"\r\n",
        "\r\n",
        "# Comparison of logicals\r\n",
        "TRUE > FALSE"
      ],
      "execution_count": null,
      "outputs": []
    },
    {
      "cell_type": "markdown",
      "metadata": {
        "id": "YpRKP8Thw_CA"
      },
      "source": [
        "**Compare vectors**: Comparing vectors with relational operators"
      ]
    },
    {
      "cell_type": "code",
      "metadata": {
        "id": "wu2loxnhw82Q"
      },
      "source": [
        "# The linkedin and facebook vectors have already been created for you\r\n",
        "linkedin <- c(16, 9, 13, 5, 2, 17, 14)\r\n",
        "facebook <- c(17, 7, 5, 16, 8, 13, 14)\r\n",
        "\r\n",
        "# Popular days\r\n",
        "linkedin > 15\r\n",
        "# Quiet days\r\n",
        "linkedin <= 5\r\n",
        "\r\n",
        "# LinkedIn more popular than Facebook\r\n",
        "linkedin > facebook"
      ],
      "execution_count": null,
      "outputs": []
    },
    {
      "cell_type": "code",
      "metadata": {
        "id": "mS-_WXTD0rJu"
      },
      "source": [
        "# The social data has been created for you\n",
        "linkedin <- c(16, 9, 13, 5, 2, 17, 14)\n",
        "facebook <- c(17, 7, 5, 16, 8, 13, 14)\n",
        "views <- matrix(c(linkedin, facebook), nrow = 2, byrow = TRUE)\n",
        "\n",
        "# When does views equal 13?\n",
        "views == 13\n",
        "# When is views less than or equal to 14?\n",
        "views <= 14\n",
        "views"
      ],
      "execution_count": 4,
      "outputs": [
        {
          "output_type": "display_data",
          "data": {
            "text/html": "<table>\n<tbody>\n\t<tr><td>FALSE</td><td>FALSE</td><td> TRUE</td><td>FALSE</td><td>FALSE</td><td>FALSE</td><td>FALSE</td></tr>\n\t<tr><td>FALSE</td><td>FALSE</td><td>FALSE</td><td>FALSE</td><td>FALSE</td><td> TRUE</td><td>FALSE</td></tr>\n</tbody>\n</table>\n",
            "text/markdown": "\n| FALSE | FALSE |  TRUE | FALSE | FALSE | FALSE | FALSE |\n| FALSE | FALSE | FALSE | FALSE | FALSE |  TRUE | FALSE |\n\n",
            "text/latex": "\\begin{tabular}{lllllll}\n\t FALSE & FALSE &  TRUE & FALSE & FALSE & FALSE & FALSE\\\\\n\t FALSE & FALSE & FALSE & FALSE & FALSE &  TRUE & FALSE\\\\\n\\end{tabular}\n",
            "text/plain": "     [,1]  [,2]  [,3]  [,4]  [,5]  [,6]  [,7] \n[1,] FALSE FALSE  TRUE FALSE FALSE FALSE FALSE\n[2,] FALSE FALSE FALSE FALSE FALSE  TRUE FALSE"
          },
          "metadata": {}
        },
        {
          "output_type": "display_data",
          "data": {
            "text/html": "<table>\n<tbody>\n\t<tr><td>FALSE</td><td>TRUE </td><td>TRUE </td><td> TRUE</td><td>TRUE </td><td>FALSE</td><td>TRUE </td></tr>\n\t<tr><td>FALSE</td><td>TRUE </td><td>TRUE </td><td>FALSE</td><td>TRUE </td><td> TRUE</td><td>TRUE </td></tr>\n</tbody>\n</table>\n",
            "text/markdown": "\n| FALSE | TRUE  | TRUE  |  TRUE | TRUE  | FALSE | TRUE  |\n| FALSE | TRUE  | TRUE  | FALSE | TRUE  |  TRUE | TRUE  |\n\n",
            "text/latex": "\\begin{tabular}{lllllll}\n\t FALSE & TRUE  & TRUE  &  TRUE & TRUE  & FALSE & TRUE \\\\\n\t FALSE & TRUE  & TRUE  & FALSE & TRUE  &  TRUE & TRUE \\\\\n\\end{tabular}\n",
            "text/plain": "     [,1]  [,2] [,3] [,4]  [,5] [,6]  [,7]\n[1,] FALSE TRUE TRUE  TRUE TRUE FALSE TRUE\n[2,] FALSE TRUE TRUE FALSE TRUE  TRUE TRUE"
          },
          "metadata": {}
        },
        {
          "output_type": "display_data",
          "data": {
            "text/html": "<table>\n<tbody>\n\t<tr><td>16</td><td>9 </td><td>13</td><td> 5</td><td>2 </td><td>17</td><td>14</td></tr>\n\t<tr><td>17</td><td>7 </td><td> 5</td><td>16</td><td>8 </td><td>13</td><td>14</td></tr>\n</tbody>\n</table>\n",
            "text/markdown": "\n| 16 | 9  | 13 |  5 | 2  | 17 | 14 |\n| 17 | 7  |  5 | 16 | 8  | 13 | 14 |\n\n",
            "text/latex": "\\begin{tabular}{lllllll}\n\t 16 & 9  & 13 &  5 & 2  & 17 & 14\\\\\n\t 17 & 7  &  5 & 16 & 8  & 13 & 14\\\\\n\\end{tabular}\n",
            "text/plain": "     [,1] [,2] [,3] [,4] [,5] [,6] [,7]\n[1,] 16   9    13    5   2    17   14  \n[2,] 17   7     5   16   8    13   14  "
          },
          "metadata": {}
        }
      ]
    },
    {
      "cell_type": "markdown",
      "metadata": {
        "id": "hHjFtAEppT4c"
      },
      "source": [
        "**Logical Operators**: There are three vectorized logical operators in R:\r\n",
        "- ! is used for not.\r\n",
        "- & is used for and.\r\n",
        "- | is used for or."
      ]
    },
    {
      "cell_type": "code",
      "metadata": {
        "id": "2TEZe5hMOzEW"
      },
      "source": [
        "linkedin <- c(16, 9, 13, 5, 2, 17, 14)\r\n",
        "linkedin > 10 & linkedin < 15"
      ],
      "execution_count": null,
      "outputs": []
    },
    {
      "cell_type": "code",
      "metadata": {
        "id": "bOZhyV9cO7E_"
      },
      "source": [
        "linkedin <- c(16, 9, 13, 5, 2, 17, 14)\r\n",
        "linkedin == 16 | linkedin == 14"
      ],
      "execution_count": null,
      "outputs": []
    },
    {
      "cell_type": "code",
      "metadata": {
        "id": "E-s5ef7vPPow"
      },
      "source": [
        "linkedin <- c(16, 9, 13, 5, 2, 17, 14)\r\n",
        "linkedin == 16 | linkedin == 14"
      ],
      "execution_count": null,
      "outputs": []
    },
    {
      "cell_type": "code",
      "metadata": {
        "id": "1kxjUAJaA48F"
      },
      "source": [
        "monday <-c(2,    31,    3,    61,   4,    12,    0)\r\n",
        "tuesday <-c(21,    13,    33,    16,   43,    23,   20)\r\n",
        "wednessday <-c(24,   18,   15,   19,   18,   22,   17)\r\n",
        "thursday <-c(25,   25,   26,   31,   24,   36 ,  37)\r\n",
        "names <- c(\"employee_1\", \"employee_2\", \"employee_3\", \"employee_4\", \"employee_5\", \"employee_6\",\"employee_7\")\r\n",
        "\r\n",
        "employees <- data.frame(names,monday, tuesday, wednessday, thursday)\r\n",
        "employees"
      ],
      "execution_count": null,
      "outputs": []
    },
    {
      "cell_type": "code",
      "metadata": {
        "id": "HQGJ6xOhBGr_"
      },
      "source": [
        "# Build a logical vector, TRUE if value in second is extreme: extremes\r\n",
        "extremes <- employees$monday > 25 | employees$wednessday <  15\r\n",
        "# Count the number of TRUEs in extremes\r\n",
        "sum(extremes)\r\n",
        "\r\n",
        "# Solve it with a one-liner\r\n",
        "sum(employees$monday > 25 | employees$wednessday < 15)"
      ],
      "execution_count": null,
      "outputs": []
    },
    {
      "cell_type": "markdown",
      "metadata": {
        "id": "MmqUaL7fTDUk"
      },
      "source": [
        "### The if and else statement\r\n",
        "The simplest form of flow control is conditional execution using if. if takes a logical value (more precisely, a logical vector of length one) and executes the next statement only if that value is **TRUE**.The else statement does not require a condition; its corresponding code is simply run if all of the preceding conditions in the control structure are FALSE. \r\n",
        "```\r\n",
        "if (condition) {\r\n",
        "  expr\r\n",
        "} else if (condition) {\r\n",
        "  expr\r\n",
        "} else {\r\n",
        "  expr\r\n",
        "}\r\n",
        "```"
      ]
    },
    {
      "cell_type": "code",
      "metadata": {
        "colab": {
          "base_uri": "https://localhost:8080/"
        },
        "id": "ds1_mT1WTp2B",
        "outputId": "6cb53c76-f1b5-4f4e-d44a-71a06d361132"
      },
      "source": [
        "# Few simple Example\r\n",
        "if(TRUE) message(\"It was true!\")\r\n",
        "if(FALSE) message(\"It wasn't true!\")"
      ],
      "execution_count": 30,
      "outputs": [
        {
          "output_type": "stream",
          "text": [
            "It was true!\n",
            "\n"
          ],
          "name": "stderr"
        }
      ]
    },
    {
      "cell_type": "code",
      "metadata": {
        "colab": {
          "base_uri": "https://localhost:8080/",
          "height": 94
        },
        "id": "Lj9V6nI4UvCB",
        "outputId": "f4b000f5-e077-4e3a-8eae-fd9582b4415a"
      },
      "source": [
        "# Missing values aren’t allowed to be passed to if; doing so throws an error:\r\n",
        "if(NA) message(\"Who knows if it was true?\")\r\n",
        "\r\n",
        "# Where you may have a missing value, you should test for it using is.na:\r\n",
        "if(is.na(NA)) message(\"The value is missing!\")"
      ],
      "execution_count": 31,
      "outputs": [
        {
          "output_type": "error",
          "ename": "ERROR",
          "evalue": "ignored",
          "traceback": [
            "Error in if (NA) message(\"Who knows if it was true?\"): missing value where TRUE/FALSE needed\nTraceback:\n"
          ]
        }
      ]
    },
    {
      "cell_type": "code",
      "metadata": {
        "id": "qV5dJtaoE2D8"
      },
      "source": [
        "# Variables related to your last day of recordings\r\n",
        "medium <- \"LinkedIn\"\r\n",
        "num_views <- 14\r\n",
        "\r\n",
        "# Examine the if statement for medium\r\n",
        "if (medium == \"LinkedIn\") {\r\n",
        "  print(\"Showing LinkedIn information\")\r\n",
        "}\r\n",
        "\r\n",
        "# Write the if statement for num_views\r\n",
        "\r\n",
        "if (num_views > 15) {\r\n",
        "  print(\"You're popular!\")\r\n",
        "}"
      ],
      "execution_count": null,
      "outputs": []
    },
    {
      "cell_type": "markdown",
      "metadata": {
        "id": "SVy-_yzWVzSq"
      },
      "source": [
        "### else Statement Example"
      ]
    },
    {
      "cell_type": "code",
      "metadata": {
        "colab": {
          "base_uri": "https://localhost:8080/"
        },
        "id": "gQhYg4LaVpq7",
        "outputId": "fcb6d0fb-0e4b-443f-a048-5c6f6969e1c5"
      },
      "source": [
        "# Variables related to your last day of recordings\r\n",
        "medium <- \"LinkedIn\"\r\n",
        "num_views <- 14\r\n",
        "\r\n",
        "# Control structure for medium\r\n",
        "if (medium == \"LinkedIn\") {\r\n",
        "  print(\"Showing LinkedIn information\")\r\n",
        "} else {\r\n",
        "    print(\"Unknown medium\")\r\n",
        "}\r\n",
        "\r\n",
        "# Control structure for num_views\r\n",
        "if (num_views > 15) {\r\n",
        "  print(\"You're popular!\")\r\n",
        "} else {\r\n",
        "    print(\"Try to be more visible!\")\r\n",
        "}"
      ],
      "execution_count": 32,
      "outputs": [
        {
          "output_type": "stream",
          "text": [
            "[1] \"Showing LinkedIn information\"\n",
            "[1] \"Try to be more visible!\"\n"
          ],
          "name": "stdout"
        }
      ]
    },
    {
      "cell_type": "code",
      "metadata": {
        "colab": {
          "base_uri": "https://localhost:8080/"
        },
        "id": "9-nF8y1zVr6T",
        "outputId": "f4a50fb8-f5a6-44ae-dc9b-25e692248e4c"
      },
      "source": [
        "# Variables related to your last day of recordings\r\n",
        "medium <- \"LinkedIn\"\r\n",
        "num_views <- 14\r\n",
        "\r\n",
        "# Control structure for medium\r\n",
        "if (medium == \"LinkedIn\") {\r\n",
        "  print(\"Showing LinkedIn information\")\r\n",
        "} else if (medium == \"Facebook\") {\r\n",
        "  # Add code to print correct string when condition is TRUE\r\n",
        "    print(\"Showing Facebook information\")\r\n",
        "} else {\r\n",
        "  print(\"Unknown medium\")\r\n",
        "}\r\n",
        "\r\n",
        "# Control structure for num_views\r\n",
        "if (num_views > 15) {\r\n",
        "  print(\"You're popular!\")\r\n",
        "} else if (num_views <= 15 & num_views > 10) {\r\n",
        "  # Add code to print correct string when condition is TRUE\r\n",
        " print(\"Your number of views is average\")\r\n",
        "} else {\r\n",
        "  print(\"Try to be more visible!\")\r\n",
        "}"
      ],
      "execution_count": 33,
      "outputs": [
        {
          "output_type": "stream",
          "text": [
            "[1] \"Showing LinkedIn information\"\n",
            "[1] \"Your number of views is average\"\n"
          ],
          "name": "stdout"
        }
      ]
    },
    {
      "cell_type": "markdown",
      "metadata": {
        "id": "ZPWqBn4eWNZm"
      },
      "source": [
        "### else if"
      ]
    },
    {
      "cell_type": "code",
      "metadata": {
        "colab": {
          "base_uri": "https://localhost:8080/"
        },
        "id": "9s0hj0G1WCIj",
        "outputId": "f9e32b29-023e-4a40-ae0b-3d6b480bd0b9"
      },
      "source": [
        "# Variables related to your last day of recordings\r\n",
        "medium <- \"LinkedIn\"\r\n",
        "num_views <- 14\r\n",
        "\r\n",
        "# Control structure for medium\r\n",
        "if (medium == \"LinkedIn\") {\r\n",
        "  print(\"Showing LinkedIn information\")\r\n",
        "} else if (medium == \"Facebook\") {\r\n",
        "  # Add code to print correct string when condition is TRUE\r\n",
        "    print(\"Showing Facebook information\")\r\n",
        "} else {\r\n",
        "  print(\"Unknown medium\")\r\n",
        "}\r\n",
        "\r\n",
        "# Control structure for num_views\r\n",
        "if (num_views > 15) {\r\n",
        "  print(\"You're popular!\")\r\n",
        "} else if (num_views <= 15 & num_views > 10) {\r\n",
        "  # Add code to print correct string when condition is TRUE\r\n",
        " print(\"Your number of views is average\")\r\n",
        "} else {\r\n",
        "  print(\"Try to be more visible!\")\r\n",
        "}"
      ],
      "execution_count": 34,
      "outputs": [
        {
          "output_type": "stream",
          "text": [
            "[1] \"Showing LinkedIn information\"\n",
            "[1] \"Your number of views is average\"\n"
          ],
          "name": "stdout"
        }
      ]
    },
    {
      "cell_type": "code",
      "metadata": {
        "colab": {
          "base_uri": "https://localhost:8080/",
          "height": 33
        },
        "id": "5_MYIZZDWZhO",
        "outputId": "888091a3-9a19-48ed-d0d5-cb80c46fc80d"
      },
      "source": [
        "# Variables related to your last day of recordings\r\n",
        "li <- 15\r\n",
        "fb <- 9\r\n",
        "\r\n",
        "# Code the control-flow construct\r\n",
        "if (li >= 15 & fb >= 15) {\r\n",
        "  sms <- 2 * (li + fb)\r\n",
        "} else if (li < 10 & fb <10) {\r\n",
        "  sms <- 0.5 * (li + fb)\r\n",
        "} else {\r\n",
        "  sms <- li + fb\r\n",
        "}\r\n",
        "\r\n",
        "# Print the resulting sms to the console\r\n",
        "sms"
      ],
      "execution_count": 35,
      "outputs": [
        {
          "output_type": "display_data",
          "data": {
            "text/plain": [
              "[1] 24"
            ],
            "text/latex": "24",
            "text/markdown": "24",
            "text/html": [
              "24"
            ]
          },
          "metadata": {
            "tags": []
          }
        }
      ]
    },
    {
      "cell_type": "markdown",
      "metadata": {
        "id": "8aX3V-NBdJ9E"
      },
      "source": [
        "# 2. Loops\r\n",
        "There are **three kinds of loops** in R: \r\n",
        "\r\n",
        "- while,\r\n",
        "- for and\r\n",
        "- repeat . \r\n",
        "Although vectorization means that you don’t need them as much in R as in other languages, they can still come in handy for repeatedly executing code."
      ]
    },
    {
      "cell_type": "markdown",
      "metadata": {
        "id": "3kqFqn1ZryMu"
      },
      "source": [
        "### While Loop: \r\n",
        "The condition part of this recipe should become FALSE at some point during the execution. Otherwise, the while loop will go on indefinitely.\r\n",
        "\r\n",
        "```\r\n",
        "while (condition) {\r\n",
        "  expr\r\n",
        "}\r\n",
        "```"
      ]
    },
    {
      "cell_type": "code",
      "metadata": {
        "id": "fEcooOaycI8q"
      },
      "source": [
        "# Initialize the speed variable\r\n",
        "speed <- 64\r\n",
        "\r\n",
        "# Code the while loop\r\n",
        "while (speed > 30 ) {\r\n",
        "  print(\"Slow down!\")\r\n",
        "  speed <- speed - 7\r\n",
        "}\r\n",
        "\r\n",
        "# Print out the speed variable\r\n",
        "speed"
      ],
      "execution_count": null,
      "outputs": []
    },
    {
      "cell_type": "markdown",
      "metadata": {
        "id": "X4sPVPs_s_B0"
      },
      "source": [
        "### Exercise 1:\r\n",
        "- If the speed is greater than 48, have R print out \"Slow down big time!\", and decrease the speed by 11.\r\n",
        "- Otherwise, have R simply print out \"Slow down!\", and decrease the speed by 6."
      ]
    },
    {
      "cell_type": "code",
      "metadata": {
        "id": "oCvwgeNidH_U"
      },
      "source": [
        "# Initialize the speed variable\r\n",
        "speed <- 64\r\n",
        "\r\n",
        "# Extend/adapt the while loop\r\n",
        "while (speed > 30) {\r\n",
        "  print(paste(\"Your speed is\",speed))\r\n",
        "  if ( ) {\r\n",
        "    ___\r\n",
        "    ___\r\n",
        "  } else {\r\n",
        "    ___\r\n",
        "    ___\r\n",
        "  }\r\n",
        "}"
      ],
      "execution_count": null,
      "outputs": []
    },
    {
      "cell_type": "markdown",
      "metadata": {
        "id": "ToouXTKLt8LD"
      },
      "source": [
        "### **break statements**: break statement used to immediately break the loop\r\n",
        "```\r\n",
        "if (condition) {\r\n",
        "  break\r\n",
        "}\r\n",
        "```\r\n",
        "- Adapt the while loop such that it is abandoned when the speed of the vehicle is greater than 80. This time, the speed variable has been initialized to 88; keep it that way."
      ]
    },
    {
      "cell_type": "code",
      "metadata": {
        "id": "9Jlwfw-vvQin"
      },
      "source": [
        "# Initialize the speed variable\r\n",
        "speed <- 88\r\n",
        "\r\n",
        "while (speed > 30) {\r\n",
        "  print(paste(\"Your speed is\", speed))\r\n",
        "  \r\n",
        "  # Break the while loop when speed exceeds 80\r\n",
        "  if ( ) {\r\n",
        "    \r\n",
        "  }\r\n",
        "  \r\n",
        "  if (speed > 48) {\r\n",
        "    print(\"Slow down big time!\")\r\n",
        "    speed <- speed - 11\r\n",
        "  } else {\r\n",
        "    print(\"Slow down!\")\r\n",
        "    speed <- speed - 6\r\n",
        "  }\r\n",
        "}"
      ],
      "execution_count": null,
      "outputs": []
    },
    {
      "cell_type": "markdown",
      "metadata": {
        "id": "tB2fzR8H1tDj"
      },
      "source": [
        "### Loop over a vector\n",
        "There are two main strategies for using `for` loop in R. \n",
        "- by element\n",
        "- by index\n",
        "\n",
        "```\n",
        "primes <- c(2, 3, 5, 7, 11, 13)\n",
        "\n",
        "# loop version 1\n",
        "for (p in primes) {\n",
        "  print(p)\n",
        "}\n",
        "\n",
        "# loop version 2\n",
        "for (i in 1:length(primes)) {\n",
        "  print(primes[i])\n",
        "}\n",
        "```"
      ]
    },
    {
      "cell_type": "code",
      "metadata": {
        "id": "NMs-QPfowLX5"
      },
      "source": [
        "# The linkedin vector has already been defined for you\n",
        "linkedin <- c(16, 9, 13, 5, 2, 17, 14)\n",
        "\n",
        "# Loop version 1\n",
        "for(p in  linkedin) {\n",
        "    print(p)\n",
        "}\n",
        "\n",
        "# Loop version 2\n",
        "for(p in 1:length(linkedin)) {\n",
        "    print(linkedin[p])\n",
        "}"
      ],
      "execution_count": null,
      "outputs": []
    },
    {
      "source": [
        "### Loop over a list\n",
        "Looping over a list is just as easy and convenient as looping over a vector. \n",
        "```\n",
        "primes_list <- list(2, 3, 5, 7, 11, 13)\n",
        "\n",
        "# loop version 1\n",
        "for (p in primes_list) {\n",
        "  print(p)\n",
        "}\n",
        "\n",
        "# loop version 2\n",
        "for (i in 1:length(primes_list)) {\n",
        "  print(primes_list[[i]])\n",
        "}\n",
        "```\n",
        "**list need double square brackets - [[ ]] - to select the list elements.**"
      ],
      "cell_type": "markdown",
      "metadata": {}
    },
    {
      "source": [
        "### Loop over a matrix"
      ],
      "cell_type": "markdown",
      "metadata": {}
    },
    {
      "cell_type": "code",
      "execution_count": 2,
      "metadata": {},
      "outputs": [
        {
          "output_type": "display_data",
          "data": {
            "text/html": "<table>\n<tbody>\n\t<tr><td>0</td><td>1</td><td>0</td></tr>\n\t<tr><td>1</td><td>1</td><td>1</td></tr>\n\t<tr><td>0</td><td>1</td><td>0</td></tr>\n</tbody>\n</table>\n",
            "text/markdown": "\n| 0 | 1 | 0 |\n| 1 | 1 | 1 |\n| 0 | 1 | 0 |\n\n",
            "text/latex": "\\begin{tabular}{lll}\n\t 0 & 1 & 0\\\\\n\t 1 & 1 & 1\\\\\n\t 0 & 1 & 0\\\\\n\\end{tabular}\n",
            "text/plain": "     [,1] [,2] [,3]\n[1,] 0    1    0   \n[2,] 1    1    1   \n[3,] 0    1    0   "
          },
          "metadata": {}
        }
      ],
      "source": [
        "# Creating a Matrix\n",
        "a <- c(0, 1, 0)\n",
        "b <- c(1, 1, 1)\n",
        "c <- c(0, 1, 0)\n",
        "\n",
        "mt <- matrix(c(a, b, c), nrow = 3, byrow = TRUE)\n",
        "mt"
      ]
    },
    {
      "cell_type": "code",
      "execution_count": 3,
      "metadata": {},
      "outputs": [
        {
          "output_type": "stream",
          "name": "stdout",
          "text": [
            "[1] \"On row 1 and column 1  contains 0\"\n[1] \"On row 1 and column 2  contains 1\"\n[1] \"On row 1 and column 3  contains 0\"\n[1] \"On row 2 and column 1  contains 1\"\n[1] \"On row 2 and column 2  contains 1\"\n[1] \"On row 2 and column 3  contains 1\"\n[1] \"On row 3 and column 1  contains 0\"\n[1] \"On row 3 and column 2  contains 1\"\n[1] \"On row 3 and column 3  contains 0\"\n"
          ]
        }
      ],
      "source": [
        "# Viewing the matrix over nested loops\n",
        "for (i in 1:nrow(mt)) {\n",
        "  for (j in 1:ncol(mt)) {\n",
        "    print(paste(\"On row\", i, \"and column\", j, \" contains\", mt[i,j]))\n",
        "  }\n",
        "}"
      ]
    },
    {
      "cell_type": "code",
      "execution_count": null,
      "metadata": {},
      "outputs": [],
      "source": []
    }
  ]
}