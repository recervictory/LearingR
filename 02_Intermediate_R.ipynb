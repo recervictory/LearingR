{
  "nbformat": 4,
  "nbformat_minor": 0,
  "metadata": {
    "colab": {
      "name": "Intermediate R.ipynb",
      "provenance": [],
      "authorship_tag": "ABX9TyMkzDYDhxMEhl8/mlbmBl+R",
      "include_colab_link": true
    },
    "kernelspec": {
      "name": "ir",
      "display_name": "R",
      "language": "R"
    }
  },
  "cells": [
    {
      "cell_type": "markdown",
      "metadata": {
        "id": "view-in-github",
        "colab_type": "text"
      },
      "source": [
        "<a href=\"https://colab.research.google.com/github/recervictory/LearingR/blob/main/Intermediate_R.ipynb\" target=\"_parent\"><img src=\"https://colab.research.google.com/assets/colab-badge.svg\" alt=\"Open In Colab\"/></a>"
      ]
    },
    {
      "cell_type": "markdown",
      "metadata": {
        "id": "Vor1-g3WroKH"
      },
      "source": [
        "# Flow Control and Loops\r\n",
        "In this chapter, you'll learn about relational operators for comparing R objects, and logical operators like \"and\" and \"or\" for combining TRUE and FALSE values. Then, you'll use this knowledge to build conditional statements.\r\n",
        "## Chapter Goals\r\n",
        "- Be able to branch the flow of execution\r\n",
        "- Be able to repeatedly execute code with loops"
      ]
    },
    {
      "cell_type": "markdown",
      "metadata": {
        "id": "J5ZPvLUup4p7"
      },
      "source": [
        "## 1: Conditionals and Control Flow\r\n"
      ]
    },
    {
      "cell_type": "markdown",
      "metadata": {
        "id": "cnXMIL5Mu94N"
      },
      "source": [
        " **Equality**: The most basic form of comparison is equality. Used syntax `==` for comparing two string, numaric, logical values."
      ]
    },
    {
      "cell_type": "code",
      "metadata": {
        "id": "qqsGlMbyrmsP"
      },
      "source": [
        "#  Equality\r\n",
        "# Comparison of logicals\r\n",
        "TRUE == FALSE\r\n",
        "\r\n",
        "# Comparison of numerics\r\n",
        "-6 * 14 != 17 - 101\r\n",
        "\r\n",
        "# Comparison of character strings\r\n",
        "\"useR\" == \"user\"\r\n",
        "\r\n",
        "# Compare a logical with a numeric\r\n",
        "TRUE == 1"
      ],
      "execution_count": null,
      "outputs": []
    },
    {
      "cell_type": "code",
      "metadata": {
        "id": "JtatZLNIoseO"
      },
      "source": [
        "\r\n",
        "# Comparison of numerics\r\n",
        "-6 * 5 + 2 >= -10 + 1\r\n",
        "\r\n",
        "# Comparison of character strings\r\n",
        "\"raining\" <= \"raining dogs\"\r\n",
        "\r\n",
        "# Comparison of logicals\r\n",
        "TRUE > FALSE\r\n"
      ],
      "execution_count": null,
      "outputs": []
    },
    {
      "cell_type": "markdown",
      "metadata": {
        "id": "b5js-Kk6wk2V"
      },
      "source": [
        "**Greater and less than**: Apart from equality operators, Filip also introduced the less than and greater than operators: `<` and `>`. You can also add an equal sign to express less than or equal to or greater than or equal to, respectively.\r\n"
      ]
    },
    {
      "cell_type": "code",
      "metadata": {
        "id": "vvLIpfsDwkd-"
      },
      "source": [
        "# Comparison of numerics\r\n",
        "-6 * 5 + 2 >= -10 + 1\r\n",
        "\r\n",
        "# Comparison of character strings\r\n",
        "\"raining\" <= \"raining dogs\"\r\n",
        "\r\n",
        "# Comparison of logicals\r\n",
        "TRUE > FALSE"
      ],
      "execution_count": null,
      "outputs": []
    },
    {
      "cell_type": "markdown",
      "metadata": {
        "id": "YpRKP8Thw_CA"
      },
      "source": [
        "**Compare vectors**: Comparing vectors with relational operators"
      ]
    },
    {
      "cell_type": "code",
      "metadata": {
        "id": "wu2loxnhw82Q"
      },
      "source": [
        "# The linkedin and facebook vectors have already been created for you\r\n",
        "linkedin <- c(16, 9, 13, 5, 2, 17, 14)\r\n",
        "facebook <- c(17, 7, 5, 16, 8, 13, 14)\r\n",
        "\r\n",
        "# Popular days\r\n",
        "linkedin > 15\r\n",
        "# Quiet days\r\n",
        "linkedin <= 5\r\n",
        "\r\n",
        "# LinkedIn more popular than Facebook\r\n",
        "linkedin > facebook"
      ],
      "execution_count": null,
      "outputs": []
    },
    {
      "cell_type": "code",
      "metadata": {
        "id": "mS-_WXTD0rJu"
      },
      "source": [
        "# The social data has been created for you\n",
        "linkedin <- c(16, 9, 13, 5, 2, 17, 14)\n",
        "facebook <- c(17, 7, 5, 16, 8, 13, 14)\n",
        "views <- matrix(c(linkedin, facebook), nrow = 2, byrow = TRUE)\n",
        "\n",
        "# When does views equal 13?\n",
        "views == 13\n",
        "# When is views less than or equal to 14?\n",
        "views <= 14\n",
        "views"
      ],
      "execution_count": null,
      "outputs": []
    },
    {
      "cell_type": "markdown",
      "metadata": {
        "id": "hHjFtAEppT4c"
      },
      "source": [
        "**Logical Operators**: There are three vectorized logical operators in R:\r\n",
        "- ! is used for not.\r\n",
        "- & is used for and.\r\n",
        "- | is used for or."
      ]
    },
    {
      "cell_type": "code",
      "metadata": {
        "id": "2TEZe5hMOzEW"
      },
      "source": [
        "linkedin <- c(16, 9, 13, 5, 2, 17, 14)\r\n",
        "linkedin > 10 & linkedin < 15"
      ],
      "execution_count": null,
      "outputs": []
    },
    {
      "cell_type": "code",
      "metadata": {
        "id": "bOZhyV9cO7E_"
      },
      "source": [
        "linkedin <- c(16, 9, 13, 5, 2, 17, 14)\r\n",
        "linkedin == 16 | linkedin == 14"
      ],
      "execution_count": null,
      "outputs": []
    },
    {
      "cell_type": "code",
      "metadata": {
        "id": "E-s5ef7vPPow"
      },
      "source": [
        "linkedin <- c(16, 9, 13, 5, 2, 17, 14)\r\n",
        "linkedin == 16 | linkedin == 14"
      ],
      "execution_count": null,
      "outputs": []
    },
    {
      "cell_type": "code",
      "metadata": {
        "id": "1kxjUAJaA48F"
      },
      "source": [
        "monday <-c(2,    31,    3,    61,   4,    12,    0)\r\n",
        "tuesday <-c(21,    13,    33,    16,   43,    23,   20)\r\n",
        "wednessday <-c(24,   18,   15,   19,   18,   22,   17)\r\n",
        "thursday <-c(25,   25,   26,   31,   24,   36 ,  37)\r\n",
        "names <- c(\"employee_1\", \"employee_2\", \"employee_3\", \"employee_4\", \"employee_5\", \"employee_6\",\"employee_7\")\r\n",
        "\r\n",
        "employees <- data.frame(names,monday, tuesday, wednessday, thursday)\r\n",
        "employees"
      ],
      "execution_count": null,
      "outputs": []
    },
    {
      "cell_type": "code",
      "metadata": {
        "id": "HQGJ6xOhBGr_"
      },
      "source": [
        "# Build a logical vector, TRUE if value in second is extreme: extremes\r\n",
        "extremes <- employees$monday > 25 | employees$wednessday <  15\r\n",
        "# Count the number of TRUEs in extremes\r\n",
        "sum(extremes)\r\n",
        "\r\n",
        "# Solve it with a one-liner\r\n",
        "sum(employees$monday > 25 | employees$wednessday < 15)"
      ],
      "execution_count": null,
      "outputs": []
    },
    {
      "cell_type": "markdown",
      "metadata": {
        "id": "MmqUaL7fTDUk"
      },
      "source": [
        "### The if and else statement\r\n",
        "The simplest form of flow control is conditional execution using if. if takes a logical value (more precisely, a logical vector of length one) and executes the next statement only if that value is **TRUE**.The else statement does not require a condition; its corresponding code is simply run if all of the preceding conditions in the control structure are FALSE. \r\n",
        "```\r\n",
        "if (condition) {\r\n",
        "  expr\r\n",
        "} else if (condition) {\r\n",
        "  expr\r\n",
        "} else {\r\n",
        "  expr\r\n",
        "}\r\n",
        "```"
      ]
    },
    {
      "cell_type": "code",
      "metadata": {
        "colab": {
          "base_uri": "https://localhost:8080/"
        },
        "id": "ds1_mT1WTp2B",
        "outputId": "6cb53c76-f1b5-4f4e-d44a-71a06d361132"
      },
      "source": [
        "# Few simple Example\r\n",
        "if(TRUE) message(\"It was true!\")\r\n",
        "if(FALSE) message(\"It wasn't true!\")"
      ],
      "execution_count": null,
      "outputs": []
    },
    {
      "cell_type": "code",
      "metadata": {
        "colab": {
          "base_uri": "https://localhost:8080/",
          "height": 94
        },
        "id": "Lj9V6nI4UvCB",
        "outputId": "f4b000f5-e077-4e3a-8eae-fd9582b4415a"
      },
      "source": [
        "# Missing values aren’t allowed to be passed to if; doing so throws an error:\r\n",
        "if(NA) message(\"Who knows if it was true?\")\r\n",
        "\r\n",
        "# Where you may have a missing value, you should test for it using is.na:\r\n",
        "if(is.na(NA)) message(\"The value is missing!\")"
      ],
      "execution_count": null,
      "outputs": []
    },
    {
      "cell_type": "code",
      "metadata": {
        "id": "qV5dJtaoE2D8"
      },
      "source": [
        "# Variables related to your last day of recordings\r\n",
        "medium <- \"LinkedIn\"\r\n",
        "num_views <- 14\r\n",
        "\r\n",
        "# Examine the if statement for medium\r\n",
        "if (medium == \"LinkedIn\") {\r\n",
        "  print(\"Showing LinkedIn information\")\r\n",
        "}\r\n",
        "\r\n",
        "# Write the if statement for num_views\r\n",
        "\r\n",
        "if (num_views > 15) {\r\n",
        "  print(\"You're popular!\")\r\n",
        "}"
      ],
      "execution_count": null,
      "outputs": []
    },
    {
      "cell_type": "markdown",
      "metadata": {
        "id": "SVy-_yzWVzSq"
      },
      "source": [
        "### else Statement Example"
      ]
    },
    {
      "cell_type": "code",
      "metadata": {
        "colab": {
          "base_uri": "https://localhost:8080/"
        },
        "id": "gQhYg4LaVpq7",
        "outputId": "fcb6d0fb-0e4b-443f-a048-5c6f6969e1c5"
      },
      "source": [
        "# Variables related to your last day of recordings\r\n",
        "medium <- \"LinkedIn\"\r\n",
        "num_views <- 14\r\n",
        "\r\n",
        "# Control structure for medium\r\n",
        "if (medium == \"LinkedIn\") {\r\n",
        "  print(\"Showing LinkedIn information\")\r\n",
        "} else {\r\n",
        "    print(\"Unknown medium\")\r\n",
        "}\r\n",
        "\r\n",
        "# Control structure for num_views\r\n",
        "if (num_views > 15) {\r\n",
        "  print(\"You're popular!\")\r\n",
        "} else {\r\n",
        "    print(\"Try to be more visible!\")\r\n",
        "}"
      ],
      "execution_count": null,
      "outputs": []
    },
    {
      "cell_type": "code",
      "metadata": {
        "colab": {
          "base_uri": "https://localhost:8080/"
        },
        "id": "9-nF8y1zVr6T",
        "outputId": "f4a50fb8-f5a6-44ae-dc9b-25e692248e4c"
      },
      "source": [
        "# Variables related to your last day of recordings\r\n",
        "medium <- \"LinkedIn\"\r\n",
        "num_views <- 14\r\n",
        "\r\n",
        "# Control structure for medium\r\n",
        "if (medium == \"LinkedIn\") {\r\n",
        "  print(\"Showing LinkedIn information\")\r\n",
        "} else if (medium == \"Facebook\") {\r\n",
        "  # Add code to print correct string when condition is TRUE\r\n",
        "    print(\"Showing Facebook information\")\r\n",
        "} else {\r\n",
        "  print(\"Unknown medium\")\r\n",
        "}\r\n",
        "\r\n",
        "# Control structure for num_views\r\n",
        "if (num_views > 15) {\r\n",
        "  print(\"You're popular!\")\r\n",
        "} else if (num_views <= 15 & num_views > 10) {\r\n",
        "  # Add code to print correct string when condition is TRUE\r\n",
        " print(\"Your number of views is average\")\r\n",
        "} else {\r\n",
        "  print(\"Try to be more visible!\")\r\n",
        "}"
      ],
      "execution_count": null,
      "outputs": []
    },
    {
      "cell_type": "markdown",
      "metadata": {
        "id": "ZPWqBn4eWNZm"
      },
      "source": [
        "### else if"
      ]
    },
    {
      "cell_type": "code",
      "metadata": {
        "colab": {
          "base_uri": "https://localhost:8080/"
        },
        "id": "9s0hj0G1WCIj",
        "outputId": "f9e32b29-023e-4a40-ae0b-3d6b480bd0b9"
      },
      "source": [
        "# Variables related to your last day of recordings\r\n",
        "medium <- \"LinkedIn\"\r\n",
        "num_views <- 14\r\n",
        "\r\n",
        "# Control structure for medium\r\n",
        "if (medium == \"LinkedIn\") {\r\n",
        "  print(\"Showing LinkedIn information\")\r\n",
        "} else if (medium == \"Facebook\") {\r\n",
        "  # Add code to print correct string when condition is TRUE\r\n",
        "    print(\"Showing Facebook information\")\r\n",
        "} else {\r\n",
        "  print(\"Unknown medium\")\r\n",
        "}\r\n",
        "\r\n",
        "# Control structure for num_views\r\n",
        "if (num_views > 15) {\r\n",
        "  print(\"You're popular!\")\r\n",
        "} else if (num_views <= 15 & num_views > 10) {\r\n",
        "  # Add code to print correct string when condition is TRUE\r\n",
        " print(\"Your number of views is average\")\r\n",
        "} else {\r\n",
        "  print(\"Try to be more visible!\")\r\n",
        "}"
      ],
      "execution_count": null,
      "outputs": []
    },
    {
      "cell_type": "code",
      "metadata": {
        "colab": {
          "base_uri": "https://localhost:8080/",
          "height": 33
        },
        "id": "5_MYIZZDWZhO",
        "outputId": "888091a3-9a19-48ed-d0d5-cb80c46fc80d"
      },
      "source": [
        "# Variables related to your last day of recordings\r\n",
        "li <- 15\r\n",
        "fb <- 9\r\n",
        "\r\n",
        "# Code the control-flow construct\r\n",
        "if (li >= 15 & fb >= 15) {\r\n",
        "  sms <- 2 * (li + fb)\r\n",
        "} else if (li < 10 & fb <10) {\r\n",
        "  sms <- 0.5 * (li + fb)\r\n",
        "} else {\r\n",
        "  sms <- li + fb\r\n",
        "}\r\n",
        "\r\n",
        "# Print the resulting sms to the console\r\n",
        "sms"
      ],
      "execution_count": null,
      "outputs": []
    },
    {
      "cell_type": "markdown",
      "metadata": {
        "id": "8aX3V-NBdJ9E"
      },
      "source": [
        "# 2. Loops\r\n",
        "There are **three kinds of loops** in R: \r\n",
        "\r\n",
        "- while,\r\n",
        "- for and\r\n",
        "- repeat . \r\n",
        "Although vectorization means that you don’t need them as much in R as in other languages, they can still come in handy for repeatedly executing code."
      ]
    },
    {
      "cell_type": "markdown",
      "metadata": {
        "id": "3kqFqn1ZryMu"
      },
      "source": [
        "### While Loop: \r\n",
        "The condition part of this recipe should become FALSE at some point during the execution. Otherwise, the while loop will go on indefinitely.\r\n",
        "\r\n",
        "```\r\n",
        "while (condition) {\r\n",
        "  expr\r\n",
        "}\r\n",
        "```"
      ]
    },
    {
      "cell_type": "code",
      "metadata": {
        "id": "fEcooOaycI8q"
      },
      "source": [
        "# Initialize the speed variable\r\n",
        "speed <- 64\r\n",
        "\r\n",
        "# Code the while loop\r\n",
        "while (speed > 30 ) {\r\n",
        "  print(\"Slow down!\")\r\n",
        "  speed <- speed - 7\r\n",
        "}\r\n",
        "\r\n",
        "# Print out the speed variable\r\n",
        "speed"
      ],
      "execution_count": null,
      "outputs": []
    },
    {
      "cell_type": "markdown",
      "metadata": {
        "id": "X4sPVPs_s_B0"
      },
      "source": [
        "### Exercise 1:\r\n",
        "- If the speed is greater than 48, have R print out \"Slow down big time!\", and decrease the speed by 11.\r\n",
        "- Otherwise, have R simply print out \"Slow down!\", and decrease the speed by 6."
      ]
    },
    {
      "cell_type": "code",
      "metadata": {
        "id": "oCvwgeNidH_U"
      },
      "source": [
        "# Initialize the speed variable\r\n",
        "speed <- 64\r\n",
        "\r\n",
        "# Extend/adapt the while loop\r\n",
        "while (speed > 30) {\r\n",
        "  print(paste(\"Your speed is\",speed))\r\n",
        "  if ( ) {\r\n",
        "    ___\r\n",
        "    ___\r\n",
        "  } else {\r\n",
        "    ___\r\n",
        "    ___\r\n",
        "  }\r\n",
        "}"
      ],
      "execution_count": null,
      "outputs": []
    },
    {
      "cell_type": "markdown",
      "metadata": {
        "id": "ToouXTKLt8LD"
      },
      "source": [
        "### **break statements**: break statement used to immediately break the loop\r\n",
        "```\r\n",
        "if (condition) {\r\n",
        "  break\r\n",
        "}\r\n",
        "```\r\n",
        "- Adapt the while loop such that it is abandoned when the speed of the vehicle is greater than 80. This time, the speed variable has been initialized to 88; keep it that way."
      ]
    },
    {
      "cell_type": "code",
      "metadata": {
        "id": "9Jlwfw-vvQin"
      },
      "source": [
        "# Initialize the speed variable\r\n",
        "speed <- 88\r\n",
        "\r\n",
        "while (speed > 30) {\r\n",
        "  print(paste(\"Your speed is\", speed))\r\n",
        "  \r\n",
        "  # Break the while loop when speed exceeds 80\r\n",
        "  if ( ) {\r\n",
        "    \r\n",
        "  }\r\n",
        "  \r\n",
        "  if (speed > 48) {\r\n",
        "    print(\"Slow down big time!\")\r\n",
        "    speed <- speed - 11\r\n",
        "  } else {\r\n",
        "    print(\"Slow down!\")\r\n",
        "    speed <- speed - 6\r\n",
        "  }\r\n",
        "}"
      ],
      "execution_count": null,
      "outputs": []
    },
    {
      "cell_type": "markdown",
      "metadata": {
        "id": "tB2fzR8H1tDj"
      },
      "source": [
        "### Loop over a vector\n",
        "There are two main strategies for using `for` loop in R. \n",
        "- by element\n",
        "- by index\n",
        "\n",
        "```\n",
        "primes <- c(2, 3, 5, 7, 11, 13)\n",
        "\n",
        "# loop version 1\n",
        "for (p in primes) {\n",
        "  print(p)\n",
        "}\n",
        "\n",
        "# loop version 2\n",
        "for (i in 1:length(primes)) {\n",
        "  print(primes[i])\n",
        "}\n",
        "```"
      ]
    },
    {
      "cell_type": "code",
      "metadata": {
        "id": "NMs-QPfowLX5"
      },
      "source": [
        "# The linkedin vector has already been defined for you\n",
        "linkedin <- c(16, 9, 13, 5, 2, 17, 14)\n",
        "\n",
        "# Loop version 1\n",
        "for(p in  linkedin) {\n",
        "    print(p)\n",
        "}\n",
        "\n",
        "# Loop version 2\n",
        "for(p in 1:length(linkedin)) {\n",
        "    print(linkedin[p])\n",
        "}"
      ],
      "execution_count": null,
      "outputs": []
    },
    {
      "source": [
        "### Loop over a list\n",
        "Looping over a list is just as easy and convenient as looping over a vector. \n",
        "```\n",
        "primes_list <- list(2, 3, 5, 7, 11, 13)\n",
        "\n",
        "# loop version 1\n",
        "for (p in primes_list) {\n",
        "  print(p)\n",
        "}\n",
        "\n",
        "# loop version 2\n",
        "for (i in 1:length(primes_list)) {\n",
        "  print(primes_list[[i]])\n",
        "}\n",
        "```\n",
        "**list need double square brackets - [[ ]] - to select the list elements.**"
      ],
      "cell_type": "markdown",
      "metadata": {}
    },
    {
      "source": [
        "### Loop over a matrix"
      ],
      "cell_type": "markdown",
      "metadata": {}
    },
    {
      "cell_type": "code",
      "execution_count": null,
      "metadata": {},
      "outputs": [],
      "source": [
        "# Creating a Matrix\n",
        "a <- c(0, 1, 0)\n",
        "b <- c(1, 1, 1)\n",
        "c <- c(0, 1, 0)\n",
        "\n",
        "mt <- matrix(c(a, b, c), nrow = 3, byrow = TRUE)\n",
        "mt"
      ]
    },
    {
      "cell_type": "code",
      "execution_count": null,
      "metadata": {},
      "outputs": [],
      "source": [
        "# Viewing the matrix over nested loops\n",
        "for (i in 1:nrow(mt)) {\n",
        "  for (j in 1:ncol(mt)) {\n",
        "    print(paste(\"On row\", i, \"and column\", j, \" contains\", mt[i,j]))\n",
        "  }\n",
        "}"
      ]
    },
    {
      "cell_type": "code",
      "execution_count": null,
      "metadata": {},
      "outputs": [],
      "source": [
        "nums <- c(0,-1,0,1,-1,0,-1)\n",
        "for (num in nums) {\n",
        "    if (num > 0) {\n",
        "        print('positive')\n",
        "    } else if ( num == 0) {\n",
        "        print('negative')\n",
        "    } else {\n",
        "        print(\"zero\")\n",
        "    }\n",
        "}"
      ]
    },
    {
      "source": [
        "# 3. Function\n",
        "### Function Definition: \n",
        "- A function is a set of `statements organized together to perform a specific task`. R has a large number of `in-built functions` and the user can create their own functions known as `user-defined`.\n",
        "- In R, a function is an object so the R interpreter is able to pass control to the function, along with arguments that may be necessary for the function to accomplish the actions.\n",
        "- The function in turn performs its task and returns control to the interpreter as well as any result which may be stored in other objects.\n",
        "\n",
        "#### An R function is created by using the keyword function. The basic syntax of an R function definition is as follows −\n",
        "```\n",
        "function_name <- function(arg_1, arg_2, ...) {\n",
        "   // Function body \n",
        "}\n",
        "```\n",
        "\n",
        "### Function Components: \n",
        "The different parts of a function are −\n",
        "- **Function Name** − This is the actual name of the function. It is stored in R environment as an object with this name.\n",
        "- **Arguments** − An argument is a placeholder. When a function is invoked, you pass a value to the argument. Arguments are optional; that is, a function may contain no arguments. Also arguments can have default values.\n",
        "- **Function Body** − The function body contains a collection of statements that defines what the function does.\n",
        "- **Return Value** − The return value of a function is the last expression in the function body to be evaluated.\n",
        "\n",
        "R has many in-built functions which can be directly called in the program without defining them first. We can also create and use our own functions referred as user defined functions.\n"
      ],
      "cell_type": "markdown",
      "metadata": {}
    },
    {
      "source": [
        "### Built-in Function\n",
        "Simple examples of in-built functions are `seq(), mean(), max(), sum(x)` and `paste(...)` etc. They are directly called by user written programs. You can refer most widely used R functions.\n"
      ],
      "cell_type": "markdown",
      "metadata": {}
    },
    {
      "cell_type": "code",
      "execution_count": null,
      "metadata": {},
      "outputs": [],
      "source": [
        "# Create a sequence of numbers from 32 to 44.\n",
        "print(seq(32,44))\n",
        "\n",
        "# Find mean of numbers from 25 to 82.\n",
        "print(mean(25:82))\n",
        "\n",
        "# Find sum of numbers frm 41 to 68.\n",
        "print(sum(41:68))"
      ]
    },
    {
      "source": [
        "### User-defined Function\n",
        "We can create user-defined functions in R. They are specific to what a user wants and once created they can be used like the built-in functions. Below is an example of how a function is created and used.\n",
        "\n",
        "#### An R function is created by using the keyword function. The basic syntax of an R function definition is as follows −\n",
        "```\n",
        "function_name <- function(arg_1, arg_2, ...) {\n",
        "   // Function body \n",
        "}\n",
        "```"
      ],
      "cell_type": "markdown",
      "metadata": {}
    },
    {
      "cell_type": "code",
      "execution_count": null,
      "metadata": {},
      "outputs": [],
      "source": [
        "# Function calculate Hypotenuse\n",
        "\n",
        "# Defining the function\n",
        "hypotenuse <- function(x, y) {\n",
        "sqrt(x ^ 2 + y ^ 2)\n",
        "}\n",
        "\n",
        "# calling the function\n",
        "hypotenuse(3,4)\n",
        "hypotenuse(5,4)"
      ]
    },
    {
      "cell_type": "code",
      "execution_count": null,
      "metadata": {},
      "outputs": [],
      "source": [
        "# create a function that print square\n",
        "square <- function(num) {\n",
        "   \n",
        "    for(i in 1:num) {\n",
        "      print(i^2)\n",
        "   }\n",
        "}\n",
        "# Calling the function\n",
        "square(10)"
      ]
    },
    {
      "cell_type": "code",
      "execution_count": null,
      "metadata": {},
      "outputs": [],
      "source": [
        "numSeq <- c(1,2,4,4,6)"
      ]
    },
    {
      "cell_type": "code",
      "execution_count": null,
      "metadata": {},
      "outputs": [],
      "source": [
        "# defining a function\n",
        "logVector <- function(vector) {\n",
        "    # create a empty vector\n",
        "    logValue <- c()\n",
        "    for (i in 1:length(vector)) {\n",
        "        logValue[i] <- log(vector[i])\n",
        "    }\n",
        "    # return the value\n",
        "    logValue\n",
        "}\n",
        "\n",
        "# Calling the function\n",
        "numSeq <- c(1,2,4,4,6)\n",
        "logVector(numSeq)"
      ]
    },
    {
      "cell_type": "code",
      "execution_count": null,
      "metadata": {},
      "outputs": [],
      "source": [
        "# find argument ofa function\n",
        "args(lm)"
      ]
    },
    {
      "cell_type": "code",
      "execution_count": null,
      "metadata": {},
      "outputs": [],
      "source": [
        "# Function inside a function\n",
        "topower <- function(p) {\n",
        "    pow <- function(base) {\n",
        "        base^p\n",
        "    }\n",
        "    pow\n",
        "}\n",
        "\n",
        "# make cube function \n",
        "cube <- topower(3)\n",
        "\n",
        "# make cube function \n",
        "sqr <- topower(2)\n",
        "\n",
        "# reusult\n",
        "cube(3)\n",
        "sqr(5)"
      ]
    },
    {
      "cell_type": "code",
      "execution_count": null,
      "metadata": {},
      "outputs": [],
      "source": [
        "genes <- data.frame(\n",
        "            name = c('geneA','geneB','geneC','geneD','geneE','geneF','geneG','geneH','geneI','geneJ'),\n",
        "            conA = rnorm(10,5,6),\n",
        "            conB = rnorm(10,3,9),\n",
        "            conC = rnorm(10,7,5))\n",
        "genes"
      ]
    },
    {
      "cell_type": "code",
      "execution_count": null,
      "metadata": {},
      "outputs": [],
      "source": [
        "logConC <- log(genes$conC)"
      ]
    },
    {
      "cell_type": "code",
      "execution_count": null,
      "metadata": {},
      "outputs": [],
      "source": [
        "genes <- cbind(genes,logConC)"
      ]
    },
    {
      "cell_type": "code",
      "execution_count": null,
      "metadata": {},
      "outputs": [],
      "source": [
        "genes"
      ]
    },
    {
      "cell_type": "code",
      "execution_count": null,
      "metadata": {},
      "outputs": [],
      "source": [
        "optGene <- function(vector) {\n",
        "    optVector <- (vector - mean(vector))/sd(vector)\n",
        "    optVector\n",
        "}\n",
        "optGene(genes$conC)"
      ]
    },
    {
      "cell_type": "code",
      "execution_count": null,
      "metadata": {},
      "outputs": [],
      "source": []
    }
  ]
}