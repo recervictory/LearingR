{
  "nbformat": 4,
  "nbformat_minor": 0,
  "metadata": {
    "colab": {
      "name": "Intermediate R.ipynb",
      "provenance": [],
      "authorship_tag": "ABX9TyPyUu95MWtOI+fqm9SatUHH",
      "include_colab_link": true
    },
    "kernelspec": {
      "name": "ir",
      "display_name": "R"
    }
  },
  "cells": [
    {
      "cell_type": "markdown",
      "metadata": {
        "id": "view-in-github",
        "colab_type": "text"
      },
      "source": [
        "<a href=\"https://colab.research.google.com/github/recervictory/LearingR/blob/main/Intermediate_R.ipynb\" target=\"_parent\"><img src=\"https://colab.research.google.com/assets/colab-badge.svg\" alt=\"Open In Colab\"/></a>"
      ]
    },
    {
      "cell_type": "markdown",
      "metadata": {
        "id": "Vor1-g3WroKH"
      },
      "source": [
        "# Flow Control and Loops\r\n",
        "In this chapter, you'll learn about relational operators for comparing R objects, and logical operators like \"and\" and \"or\" for combining TRUE and FALSE values. Then, you'll use this knowledge to build conditional statements.\r\n",
        "## Chapter Goals\r\n",
        "- Be able to branch the flow of execution\r\n",
        "- Be able to repeatedly execute code with loops"
      ]
    },
    {
      "cell_type": "markdown",
      "metadata": {
        "id": "J5ZPvLUup4p7"
      },
      "source": [
        "## 1: Conditionals and Control Flow\r\n"
      ]
    },
    {
      "cell_type": "markdown",
      "metadata": {
        "id": "cnXMIL5Mu94N"
      },
      "source": [
        " **Equality**: The most basic form of comparison is equality. Used syntax `==` for comparing two string, numaric, logical values."
      ]
    },
    {
      "cell_type": "code",
      "metadata": {
        "id": "qqsGlMbyrmsP"
      },
      "source": [
        "#  Equality\r\n",
        "# Comparison of logicals\r\n",
        "TRUE == FALSE\r\n",
        "\r\n",
        "# Comparison of numerics\r\n",
        "-6 * 14 != 17 - 101\r\n",
        "\r\n",
        "# Comparison of character strings\r\n",
        "\"useR\" == \"user\"\r\n",
        "\r\n",
        "# Compare a logical with a numeric\r\n",
        "TRUE == 1"
      ],
      "execution_count": null,
      "outputs": []
    },
    {
      "cell_type": "code",
      "metadata": {
        "id": "JtatZLNIoseO"
      },
      "source": [
        "\r\n",
        "# Comparison of numerics\r\n",
        "-6 * 5 + 2 >= -10 + 1\r\n",
        "\r\n",
        "# Comparison of character strings\r\n",
        "\"raining\" <= \"raining dogs\"\r\n",
        "\r\n",
        "# Comparison of logicals\r\n",
        "TRUE > FALSE\r\n"
      ],
      "execution_count": null,
      "outputs": []
    },
    {
      "cell_type": "markdown",
      "metadata": {
        "id": "b5js-Kk6wk2V"
      },
      "source": [
        "**Greater and less than**: Apart from equality operators, Filip also introduced the less than and greater than operators: `<` and `>`. You can also add an equal sign to express less than or equal to or greater than or equal to, respectively.\r\n"
      ]
    },
    {
      "cell_type": "code",
      "metadata": {
        "id": "vvLIpfsDwkd-"
      },
      "source": [
        "# Comparison of numerics\r\n",
        "-6 * 5 + 2 >= -10 + 1\r\n",
        "\r\n",
        "# Comparison of character strings\r\n",
        "\"raining\" <= \"raining dogs\"\r\n",
        "\r\n",
        "# Comparison of logicals\r\n",
        "TRUE > FALSE"
      ],
      "execution_count": null,
      "outputs": []
    },
    {
      "cell_type": "markdown",
      "metadata": {
        "id": "YpRKP8Thw_CA"
      },
      "source": [
        "**Compare vectors**: Comparing vectors with relational operators"
      ]
    },
    {
      "cell_type": "code",
      "metadata": {
        "id": "wu2loxnhw82Q"
      },
      "source": [
        "# The linkedin and facebook vectors have already been created for you\r\n",
        "linkedin <- c(16, 9, 13, 5, 2, 17, 14)\r\n",
        "facebook <- c(17, 7, 5, 16, 8, 13, 14)\r\n",
        "\r\n",
        "# Popular days\r\n",
        "linkedin > 15\r\n",
        "# Quiet days\r\n",
        "linkedin <= 5\r\n",
        "\r\n",
        "# LinkedIn more popular than Facebook\r\n",
        "linkedin > facebook"
      ],
      "execution_count": null,
      "outputs": []
    },
    {
      "cell_type": "code",
      "metadata": {
        "id": "mS-_WXTD0rJu"
      },
      "source": [
        "# The social data has been created for you\r\n",
        "linkedin <- c(16, 9, 13, 5, 2, 17, 14)\r\n",
        "facebook <- c(17, 7, 5, 16, 8, 13, 14)\r\n",
        "views <- matrix(c(linkedin, facebook), nrow = 2, byrow = TRUE)\r\n",
        "\r\n",
        "# When does views equal 13?\r\n",
        "views == 13\r\n",
        "# When is views less than or equal to 14?\r\n",
        "views <= 14"
      ],
      "execution_count": null,
      "outputs": []
    },
    {
      "cell_type": "markdown",
      "metadata": {
        "id": "hHjFtAEppT4c"
      },
      "source": [
        "**Logical Operators**: There are three vectorized logical operators in R:\r\n",
        "- ! is used for not.\r\n",
        "- & is used for and.\r\n",
        "- | is used for or."
      ]
    },
    {
      "cell_type": "code",
      "metadata": {
        "id": "2TEZe5hMOzEW"
      },
      "source": [
        "linkedin <- c(16, 9, 13, 5, 2, 17, 14)\r\n",
        "linkedin > 10 & linkedin < 15"
      ],
      "execution_count": null,
      "outputs": []
    },
    {
      "cell_type": "code",
      "metadata": {
        "id": "bOZhyV9cO7E_"
      },
      "source": [
        "linkedin <- c(16, 9, 13, 5, 2, 17, 14)\r\n",
        "linkedin == 16 | linkedin == 14"
      ],
      "execution_count": null,
      "outputs": []
    },
    {
      "cell_type": "code",
      "metadata": {
        "id": "E-s5ef7vPPow"
      },
      "source": [
        "linkedin <- c(16, 9, 13, 5, 2, 17, 14)\r\n",
        "linkedin == 16 | linkedin == 14"
      ],
      "execution_count": null,
      "outputs": []
    },
    {
      "cell_type": "code",
      "metadata": {
        "id": "1kxjUAJaA48F"
      },
      "source": [
        "monday <-c(2,    31,    3,    61,   4,    12,    0)\r\n",
        "tuesday <-c(21,    13,    33,    16,   43,    23,   20)\r\n",
        "wednessday <-c(24,   18,   15,   19,   18,   22,   17)\r\n",
        "thursday <-c(25,   25,   26,   31,   24,   36 ,  37)\r\n",
        "names <- c(\"employee_1\", \"employee_2\", \"employee_3\", \"employee_4\", \"employee_5\", \"employee_6\",\"employee_7\")\r\n",
        "\r\n",
        "employees <- data.frame(names,monday, tuesday, wednessday, thursday)\r\n",
        "employees"
      ],
      "execution_count": null,
      "outputs": []
    },
    {
      "cell_type": "code",
      "metadata": {
        "id": "HQGJ6xOhBGr_"
      },
      "source": [
        "# Build a logical vector, TRUE if value in second is extreme: extremes\r\n",
        "extremes <- employees$monday > 25 | employees$wednessday <  15\r\n",
        "# Count the number of TRUEs in extremes\r\n",
        "sum(extremes)\r\n",
        "\r\n",
        "# Solve it with a one-liner\r\n",
        "sum(employees$monday > 25 | employees$wednessday < 15)"
      ],
      "execution_count": null,
      "outputs": []
    },
    {
      "cell_type": "markdown",
      "metadata": {
        "id": "MmqUaL7fTDUk"
      },
      "source": [
        "### The if and else statement\r\n",
        "The simplest form of flow control is conditional execution using if. if takes a logical value (more precisely, a logical vector of length one) and executes the next statement only if that value is **TRUE**.The else statement does not require a condition; its corresponding code is simply run if all of the preceding conditions in the control structure are FALSE. \r\n",
        "```\r\n",
        "if (condition) {\r\n",
        "  expr\r\n",
        "} else if (condition) {\r\n",
        "  expr\r\n",
        "} else {\r\n",
        "  expr\r\n",
        "}\r\n",
        "```"
      ]
    },
    {
      "cell_type": "code",
      "metadata": {
        "colab": {
          "base_uri": "https://localhost:8080/"
        },
        "id": "ds1_mT1WTp2B",
        "outputId": "6cb53c76-f1b5-4f4e-d44a-71a06d361132"
      },
      "source": [
        "# Few simple Example\r\n",
        "if(TRUE) message(\"It was true!\")\r\n",
        "if(FALSE) message(\"It wasn't true!\")"
      ],
      "execution_count": 30,
      "outputs": [
        {
          "output_type": "stream",
          "text": [
            "It was true!\n",
            "\n"
          ],
          "name": "stderr"
        }
      ]
    },
    {
      "cell_type": "code",
      "metadata": {
        "colab": {
          "base_uri": "https://localhost:8080/",
          "height": 94
        },
        "id": "Lj9V6nI4UvCB",
        "outputId": "f4b000f5-e077-4e3a-8eae-fd9582b4415a"
      },
      "source": [
        "# Missing values aren’t allowed to be passed to if; doing so throws an error:\r\n",
        "if(NA) message(\"Who knows if it was true?\")\r\n",
        "\r\n",
        "# Where you may have a missing value, you should test for it using is.na:\r\n",
        "if(is.na(NA)) message(\"The value is missing!\")"
      ],
      "execution_count": 31,
      "outputs": [
        {
          "output_type": "error",
          "ename": "ERROR",
          "evalue": "ignored",
          "traceback": [
            "Error in if (NA) message(\"Who knows if it was true?\"): missing value where TRUE/FALSE needed\nTraceback:\n"
          ]
        }
      ]
    },
    {
      "cell_type": "code",
      "metadata": {
        "id": "qV5dJtaoE2D8"
      },
      "source": [
        "# Variables related to your last day of recordings\r\n",
        "medium <- \"LinkedIn\"\r\n",
        "num_views <- 14\r\n",
        "\r\n",
        "# Examine the if statement for medium\r\n",
        "if (medium == \"LinkedIn\") {\r\n",
        "  print(\"Showing LinkedIn information\")\r\n",
        "}\r\n",
        "\r\n",
        "# Write the if statement for num_views\r\n",
        "\r\n",
        "if (num_views > 15) {\r\n",
        "  print(\"You're popular!\")\r\n",
        "}"
      ],
      "execution_count": null,
      "outputs": []
    },
    {
      "cell_type": "markdown",
      "metadata": {
        "id": "SVy-_yzWVzSq"
      },
      "source": [
        "### else Statement Example"
      ]
    },
    {
      "cell_type": "code",
      "metadata": {
        "colab": {
          "base_uri": "https://localhost:8080/"
        },
        "id": "gQhYg4LaVpq7",
        "outputId": "fcb6d0fb-0e4b-443f-a048-5c6f6969e1c5"
      },
      "source": [
        "# Variables related to your last day of recordings\r\n",
        "medium <- \"LinkedIn\"\r\n",
        "num_views <- 14\r\n",
        "\r\n",
        "# Control structure for medium\r\n",
        "if (medium == \"LinkedIn\") {\r\n",
        "  print(\"Showing LinkedIn information\")\r\n",
        "} else {\r\n",
        "    print(\"Unknown medium\")\r\n",
        "}\r\n",
        "\r\n",
        "# Control structure for num_views\r\n",
        "if (num_views > 15) {\r\n",
        "  print(\"You're popular!\")\r\n",
        "} else {\r\n",
        "    print(\"Try to be more visible!\")\r\n",
        "}"
      ],
      "execution_count": 32,
      "outputs": [
        {
          "output_type": "stream",
          "text": [
            "[1] \"Showing LinkedIn information\"\n",
            "[1] \"Try to be more visible!\"\n"
          ],
          "name": "stdout"
        }
      ]
    },
    {
      "cell_type": "code",
      "metadata": {
        "colab": {
          "base_uri": "https://localhost:8080/"
        },
        "id": "9-nF8y1zVr6T",
        "outputId": "f4a50fb8-f5a6-44ae-dc9b-25e692248e4c"
      },
      "source": [
        "# Variables related to your last day of recordings\r\n",
        "medium <- \"LinkedIn\"\r\n",
        "num_views <- 14\r\n",
        "\r\n",
        "# Control structure for medium\r\n",
        "if (medium == \"LinkedIn\") {\r\n",
        "  print(\"Showing LinkedIn information\")\r\n",
        "} else if (medium == \"Facebook\") {\r\n",
        "  # Add code to print correct string when condition is TRUE\r\n",
        "    print(\"Showing Facebook information\")\r\n",
        "} else {\r\n",
        "  print(\"Unknown medium\")\r\n",
        "}\r\n",
        "\r\n",
        "# Control structure for num_views\r\n",
        "if (num_views > 15) {\r\n",
        "  print(\"You're popular!\")\r\n",
        "} else if (num_views <= 15 & num_views > 10) {\r\n",
        "  # Add code to print correct string when condition is TRUE\r\n",
        " print(\"Your number of views is average\")\r\n",
        "} else {\r\n",
        "  print(\"Try to be more visible!\")\r\n",
        "}"
      ],
      "execution_count": 33,
      "outputs": [
        {
          "output_type": "stream",
          "text": [
            "[1] \"Showing LinkedIn information\"\n",
            "[1] \"Your number of views is average\"\n"
          ],
          "name": "stdout"
        }
      ]
    },
    {
      "cell_type": "markdown",
      "metadata": {
        "id": "ZPWqBn4eWNZm"
      },
      "source": [
        "### else if"
      ]
    },
    {
      "cell_type": "code",
      "metadata": {
        "colab": {
          "base_uri": "https://localhost:8080/"
        },
        "id": "9s0hj0G1WCIj",
        "outputId": "f9e32b29-023e-4a40-ae0b-3d6b480bd0b9"
      },
      "source": [
        "# Variables related to your last day of recordings\r\n",
        "medium <- \"LinkedIn\"\r\n",
        "num_views <- 14\r\n",
        "\r\n",
        "# Control structure for medium\r\n",
        "if (medium == \"LinkedIn\") {\r\n",
        "  print(\"Showing LinkedIn information\")\r\n",
        "} else if (medium == \"Facebook\") {\r\n",
        "  # Add code to print correct string when condition is TRUE\r\n",
        "    print(\"Showing Facebook information\")\r\n",
        "} else {\r\n",
        "  print(\"Unknown medium\")\r\n",
        "}\r\n",
        "\r\n",
        "# Control structure for num_views\r\n",
        "if (num_views > 15) {\r\n",
        "  print(\"You're popular!\")\r\n",
        "} else if (num_views <= 15 & num_views > 10) {\r\n",
        "  # Add code to print correct string when condition is TRUE\r\n",
        " print(\"Your number of views is average\")\r\n",
        "} else {\r\n",
        "  print(\"Try to be more visible!\")\r\n",
        "}"
      ],
      "execution_count": 34,
      "outputs": [
        {
          "output_type": "stream",
          "text": [
            "[1] \"Showing LinkedIn information\"\n",
            "[1] \"Your number of views is average\"\n"
          ],
          "name": "stdout"
        }
      ]
    },
    {
      "cell_type": "code",
      "metadata": {
        "id": "5_MYIZZDWZhO"
      },
      "source": [
        ""
      ],
      "execution_count": null,
      "outputs": []
    }
  ]
}