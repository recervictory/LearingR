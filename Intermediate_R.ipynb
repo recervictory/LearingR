{
  "nbformat": 4,
  "nbformat_minor": 0,
  "metadata": {
    "colab": {
      "name": "Intermediate R.ipynb",
      "provenance": [],
      "authorship_tag": "ABX9TyM/gv8ZMzxsuFnVvvpAY5AH",
      "include_colab_link": true
    },
    "kernelspec": {
      "name": "ir",
      "display_name": "R"
    }
  },
  "cells": [
    {
      "cell_type": "markdown",
      "metadata": {
        "id": "view-in-github",
        "colab_type": "text"
      },
      "source": [
        "<a href=\"https://colab.research.google.com/github/recervictory/LearingR/blob/main/Intermediate_R.ipynb\" target=\"_parent\"><img src=\"https://colab.research.google.com/assets/colab-badge.svg\" alt=\"Open In Colab\"/></a>"
      ]
    },
    {
      "cell_type": "markdown",
      "metadata": {
        "id": "Vor1-g3WroKH"
      },
      "source": [
        "# Flow Control and Loops\r\n",
        "In this chapter, you'll learn about relational operators for comparing R objects, and logical operators like \"and\" and \"or\" for combining TRUE and FALSE values. Then, you'll use this knowledge to build conditional statements.\r\n",
        "## Chapter Goals\r\n",
        "- Be able to branch the flow of execution\r\n",
        "- Be able to repeatedly execute code with loops"
      ]
    },
    {
      "cell_type": "markdown",
      "metadata": {
        "id": "J5ZPvLUup4p7"
      },
      "source": [
        "## 1: Conditionals and Control Flow\r\n"
      ]
    },
    {
      "cell_type": "markdown",
      "metadata": {
        "id": "cnXMIL5Mu94N"
      },
      "source": [
        " **Equality**: The most basic form of comparison is equality. Used syntax `==` for comparing two string, numaric, logical values."
      ]
    },
    {
      "cell_type": "code",
      "metadata": {
        "colab": {
          "base_uri": "https://localhost:8080/",
          "height": 84
        },
        "id": "qqsGlMbyrmsP",
        "outputId": "82c773d0-d45f-4fb4-d9b6-276f5999c2e1"
      },
      "source": [
        "#  Equality\r\n",
        "# Comparison of logicals\r\n",
        "TRUE == FALSE\r\n",
        "\r\n",
        "# Comparison of numerics\r\n",
        "-6 * 14 != 17 - 101\r\n",
        "\r\n",
        "# Comparison of character strings\r\n",
        "\"useR\" == \"user\"\r\n",
        "\r\n",
        "# Compare a logical with a numeric\r\n",
        "TRUE == 1"
      ],
      "execution_count": 1,
      "outputs": [
        {
          "output_type": "display_data",
          "data": {
            "text/plain": [
              "[1] FALSE"
            ],
            "text/latex": "FALSE",
            "text/markdown": "FALSE",
            "text/html": [
              "FALSE"
            ]
          },
          "metadata": {
            "tags": []
          }
        },
        {
          "output_type": "display_data",
          "data": {
            "text/plain": [
              "[1] FALSE"
            ],
            "text/latex": "FALSE",
            "text/markdown": "FALSE",
            "text/html": [
              "FALSE"
            ]
          },
          "metadata": {
            "tags": []
          }
        },
        {
          "output_type": "display_data",
          "data": {
            "text/plain": [
              "[1] FALSE"
            ],
            "text/latex": "FALSE",
            "text/markdown": "FALSE",
            "text/html": [
              "FALSE"
            ]
          },
          "metadata": {
            "tags": []
          }
        },
        {
          "output_type": "display_data",
          "data": {
            "text/plain": [
              "[1] TRUE"
            ],
            "text/latex": "TRUE",
            "text/markdown": "TRUE",
            "text/html": [
              "TRUE"
            ]
          },
          "metadata": {
            "tags": []
          }
        }
      ]
    },
    {
      "cell_type": "code",
      "metadata": {
        "id": "JtatZLNIoseO"
      },
      "source": [
        "\r\n",
        "# Comparison of numerics\r\n",
        "-6 * 5 + 2 >= -10 + 1\r\n",
        "\r\n",
        "# Comparison of character strings\r\n",
        "\"raining\" <= \"raining dogs\"\r\n",
        "\r\n",
        "# Comparison of logicals\r\n",
        "TRUE > FALSE\r\n"
      ],
      "execution_count": null,
      "outputs": []
    },
    {
      "cell_type": "markdown",
      "metadata": {
        "id": "b5js-Kk6wk2V"
      },
      "source": [
        "**Greater and less than**: Apart from equality operators, Filip also introduced the less than and greater than operators: `<` and `>`. You can also add an equal sign to express less than or equal to or greater than or equal to, respectively.\r\n"
      ]
    },
    {
      "cell_type": "code",
      "metadata": {
        "colab": {
          "base_uri": "https://localhost:8080/",
          "height": 67
        },
        "id": "vvLIpfsDwkd-",
        "outputId": "dde73d03-1dc9-44f9-d975-6a65bccf70d1"
      },
      "source": [
        "# Comparison of numerics\r\n",
        "-6 * 5 + 2 >= -10 + 1\r\n",
        "\r\n",
        "# Comparison of character strings\r\n",
        "\"raining\" <= \"raining dogs\"\r\n",
        "\r\n",
        "# Comparison of logicals\r\n",
        "TRUE > FALSE"
      ],
      "execution_count": 2,
      "outputs": [
        {
          "output_type": "display_data",
          "data": {
            "text/plain": [
              "[1] FALSE"
            ],
            "text/latex": "FALSE",
            "text/markdown": "FALSE",
            "text/html": [
              "FALSE"
            ]
          },
          "metadata": {
            "tags": []
          }
        },
        {
          "output_type": "display_data",
          "data": {
            "text/plain": [
              "[1] TRUE"
            ],
            "text/latex": "TRUE",
            "text/markdown": "TRUE",
            "text/html": [
              "TRUE"
            ]
          },
          "metadata": {
            "tags": []
          }
        },
        {
          "output_type": "display_data",
          "data": {
            "text/plain": [
              "[1] TRUE"
            ],
            "text/latex": "TRUE",
            "text/markdown": "TRUE",
            "text/html": [
              "TRUE"
            ]
          },
          "metadata": {
            "tags": []
          }
        }
      ]
    },
    {
      "cell_type": "markdown",
      "metadata": {
        "id": "YpRKP8Thw_CA"
      },
      "source": [
        "**Compare vectors**: Comparing vectors with relational operators"
      ]
    },
    {
      "cell_type": "code",
      "metadata": {
        "id": "wu2loxnhw82Q"
      },
      "source": [
        "# The linkedin and facebook vectors have already been created for you\r\n",
        "linkedin <- c(16, 9, 13, 5, 2, 17, 14)\r\n",
        "facebook <- c(17, 7, 5, 16, 8, 13, 14)\r\n",
        "\r\n",
        "# Popular days\r\n",
        "linkedin > 15\r\n",
        "# Quiet days\r\n",
        "linkedin <= 5\r\n",
        "\r\n",
        "# LinkedIn more popular than Facebook\r\n",
        "linkedin > facebook"
      ],
      "execution_count": null,
      "outputs": []
    },
    {
      "cell_type": "code",
      "metadata": {
        "colab": {
          "base_uri": "https://localhost:8080/",
          "height": 132
        },
        "id": "mS-_WXTD0rJu",
        "outputId": "cfea5b53-3247-45e2-ac57-3ee874ea9106"
      },
      "source": [
        "# The social data has been created for you\r\n",
        "linkedin <- c(16, 9, 13, 5, 2, 17, 14)\r\n",
        "facebook <- c(17, 7, 5, 16, 8, 13, 14)\r\n",
        "views <- matrix(c(linkedin, facebook), nrow = 2, byrow = TRUE)\r\n",
        "\r\n",
        "# When does views equal 13?\r\n",
        "views == 13\r\n",
        "# When is views less than or equal to 14?\r\n",
        "views <= 14"
      ],
      "execution_count": 3,
      "outputs": [
        {
          "output_type": "display_data",
          "data": {
            "text/plain": [
              "     [,1]  [,2]  [,3]  [,4]  [,5]  [,6]  [,7] \n",
              "[1,] FALSE FALSE  TRUE FALSE FALSE FALSE FALSE\n",
              "[2,] FALSE FALSE FALSE FALSE FALSE  TRUE FALSE"
            ],
            "text/latex": "A matrix: 2 × 7 of type lgl\n\\begin{tabular}{lllllll}\n\t FALSE & FALSE &  TRUE & FALSE & FALSE & FALSE & FALSE\\\\\n\t FALSE & FALSE & FALSE & FALSE & FALSE &  TRUE & FALSE\\\\\n\\end{tabular}\n",
            "text/markdown": "\nA matrix: 2 × 7 of type lgl\n\n| FALSE | FALSE |  TRUE | FALSE | FALSE | FALSE | FALSE |\n| FALSE | FALSE | FALSE | FALSE | FALSE |  TRUE | FALSE |\n\n",
            "text/html": [
              "<table>\n",
              "<caption>A matrix: 2 × 7 of type lgl</caption>\n",
              "<tbody>\n",
              "\t<tr><td>FALSE</td><td>FALSE</td><td> TRUE</td><td>FALSE</td><td>FALSE</td><td>FALSE</td><td>FALSE</td></tr>\n",
              "\t<tr><td>FALSE</td><td>FALSE</td><td>FALSE</td><td>FALSE</td><td>FALSE</td><td> TRUE</td><td>FALSE</td></tr>\n",
              "</tbody>\n",
              "</table>\n"
            ]
          },
          "metadata": {
            "tags": []
          }
        },
        {
          "output_type": "display_data",
          "data": {
            "text/plain": [
              "     [,1]  [,2] [,3] [,4]  [,5] [,6]  [,7]\n",
              "[1,] FALSE TRUE TRUE  TRUE TRUE FALSE TRUE\n",
              "[2,] FALSE TRUE TRUE FALSE TRUE  TRUE TRUE"
            ],
            "text/latex": "A matrix: 2 × 7 of type lgl\n\\begin{tabular}{lllllll}\n\t FALSE & TRUE & TRUE &  TRUE & TRUE & FALSE & TRUE\\\\\n\t FALSE & TRUE & TRUE & FALSE & TRUE &  TRUE & TRUE\\\\\n\\end{tabular}\n",
            "text/markdown": "\nA matrix: 2 × 7 of type lgl\n\n| FALSE | TRUE | TRUE |  TRUE | TRUE | FALSE | TRUE |\n| FALSE | TRUE | TRUE | FALSE | TRUE |  TRUE | TRUE |\n\n",
            "text/html": [
              "<table>\n",
              "<caption>A matrix: 2 × 7 of type lgl</caption>\n",
              "<tbody>\n",
              "\t<tr><td>FALSE</td><td>TRUE</td><td>TRUE</td><td> TRUE</td><td>TRUE</td><td>FALSE</td><td>TRUE</td></tr>\n",
              "\t<tr><td>FALSE</td><td>TRUE</td><td>TRUE</td><td>FALSE</td><td>TRUE</td><td> TRUE</td><td>TRUE</td></tr>\n",
              "</tbody>\n",
              "</table>\n"
            ]
          },
          "metadata": {
            "tags": []
          }
        }
      ]
    },
    {
      "cell_type": "markdown",
      "metadata": {
        "id": "hHjFtAEppT4c"
      },
      "source": [
        "**Logical Operators**: There are three vectorized logical operators in R:\r\n",
        "- ! is used for not.\r\n",
        "- & is used for and.\r\n",
        "- | is used for or."
      ]
    },
    {
      "cell_type": "code",
      "metadata": {
        "colab": {
          "base_uri": "https://localhost:8080/",
          "height": 33
        },
        "id": "2TEZe5hMOzEW",
        "outputId": "ddba5b14-6d9d-49ad-e7f9-d8adf669ce16"
      },
      "source": [
        "linkedin <- c(16, 9, 13, 5, 2, 17, 14)\r\n",
        "linkedin > 10 & linkedin < 15"
      ],
      "execution_count": 5,
      "outputs": [
        {
          "output_type": "display_data",
          "data": {
            "text/plain": [
              "[1] FALSE FALSE  TRUE FALSE FALSE FALSE  TRUE"
            ],
            "text/latex": "\\begin{enumerate*}\n\\item FALSE\n\\item FALSE\n\\item TRUE\n\\item FALSE\n\\item FALSE\n\\item FALSE\n\\item TRUE\n\\end{enumerate*}\n",
            "text/markdown": "1. FALSE\n2. FALSE\n3. TRUE\n4. FALSE\n5. FALSE\n6. FALSE\n7. TRUE\n\n\n",
            "text/html": [
              "<style>\n",
              ".list-inline {list-style: none; margin:0; padding: 0}\n",
              ".list-inline>li {display: inline-block}\n",
              ".list-inline>li:not(:last-child)::after {content: \"\\00b7\"; padding: 0 .5ex}\n",
              "</style>\n",
              "<ol class=list-inline><li>FALSE</li><li>FALSE</li><li>TRUE</li><li>FALSE</li><li>FALSE</li><li>FALSE</li><li>TRUE</li></ol>\n"
            ]
          },
          "metadata": {
            "tags": []
          }
        }
      ]
    },
    {
      "cell_type": "code",
      "metadata": {
        "colab": {
          "base_uri": "https://localhost:8080/",
          "height": 33
        },
        "id": "bOZhyV9cO7E_",
        "outputId": "fc3799d3-a1fc-4da5-8963-a55e361a1655"
      },
      "source": [
        "linkedin <- c(16, 9, 13, 5, 2, 17, 14)\r\n",
        "linkedin == 16 | linkedin == 14"
      ],
      "execution_count": 6,
      "outputs": [
        {
          "output_type": "display_data",
          "data": {
            "text/plain": [
              "[1]  TRUE FALSE FALSE FALSE FALSE FALSE  TRUE"
            ],
            "text/latex": "\\begin{enumerate*}\n\\item TRUE\n\\item FALSE\n\\item FALSE\n\\item FALSE\n\\item FALSE\n\\item FALSE\n\\item TRUE\n\\end{enumerate*}\n",
            "text/markdown": "1. TRUE\n2. FALSE\n3. FALSE\n4. FALSE\n5. FALSE\n6. FALSE\n7. TRUE\n\n\n",
            "text/html": [
              "<style>\n",
              ".list-inline {list-style: none; margin:0; padding: 0}\n",
              ".list-inline>li {display: inline-block}\n",
              ".list-inline>li:not(:last-child)::after {content: \"\\00b7\"; padding: 0 .5ex}\n",
              "</style>\n",
              "<ol class=list-inline><li>TRUE</li><li>FALSE</li><li>FALSE</li><li>FALSE</li><li>FALSE</li><li>FALSE</li><li>TRUE</li></ol>\n"
            ]
          },
          "metadata": {
            "tags": []
          }
        }
      ]
    },
    {
      "cell_type": "code",
      "metadata": {
        "id": "E-s5ef7vPPow"
      },
      "source": [
        "linkedin <- c(16, 9, 13, 5, 2, 17, 14)\r\n",
        "linkedin == 16 | linkedin == 14"
      ],
      "execution_count": null,
      "outputs": []
    },
    {
      "cell_type": "code",
      "metadata": {
        "colab": {
          "base_uri": "https://localhost:8080/",
          "height": 212
        },
        "id": "1kxjUAJaA48F",
        "outputId": "1d4259b5-7da7-4c5a-aecd-7e321f9c006b"
      },
      "source": [
        "monday <-c(2,    31,    3,    61,   4,    12,    0)\r\n",
        "tuesday <-c(21,    13,    33,    16,   43,    23,   20)\r\n",
        "wednessday <-c(24,   18,   15,   19,   18,   22,   17)\r\n",
        "thursday <-c(25,   25,   26,   31,   24,   36 ,  37)\r\n",
        "names <- c(\"employee_1\", \"employee_2\", \"employee_3\", \"employee_4\", \"employee_5\", \"employee_6\",\"employee_7\")\r\n",
        "\r\n",
        "employees <- data.frame(names,monday, tuesday, wednessday, thursday)\r\n",
        "employees"
      ],
      "execution_count": 23,
      "outputs": [
        {
          "output_type": "display_data",
          "data": {
            "text/plain": [
              "  names      monday tuesday wednessday thursday\n",
              "1 employee_1  2     21      24         25      \n",
              "2 employee_2 31     13      18         25      \n",
              "3 employee_3  3     33      15         26      \n",
              "4 employee_4 61     16      19         31      \n",
              "5 employee_5  4     43      18         24      \n",
              "6 employee_6 12     23      22         36      \n",
              "7 employee_7  0     20      17         37      "
            ],
            "text/latex": "A data.frame: 7 × 5\n\\begin{tabular}{lllll}\n names & monday & tuesday & wednessday & thursday\\\\\n <chr> & <dbl> & <dbl> & <dbl> & <dbl>\\\\\n\\hline\n\t employee\\_1 &  2 & 21 & 24 & 25\\\\\n\t employee\\_2 & 31 & 13 & 18 & 25\\\\\n\t employee\\_3 &  3 & 33 & 15 & 26\\\\\n\t employee\\_4 & 61 & 16 & 19 & 31\\\\\n\t employee\\_5 &  4 & 43 & 18 & 24\\\\\n\t employee\\_6 & 12 & 23 & 22 & 36\\\\\n\t employee\\_7 &  0 & 20 & 17 & 37\\\\\n\\end{tabular}\n",
            "text/markdown": "\nA data.frame: 7 × 5\n\n| names &lt;chr&gt; | monday &lt;dbl&gt; | tuesday &lt;dbl&gt; | wednessday &lt;dbl&gt; | thursday &lt;dbl&gt; |\n|---|---|---|---|---|\n| employee_1 |  2 | 21 | 24 | 25 |\n| employee_2 | 31 | 13 | 18 | 25 |\n| employee_3 |  3 | 33 | 15 | 26 |\n| employee_4 | 61 | 16 | 19 | 31 |\n| employee_5 |  4 | 43 | 18 | 24 |\n| employee_6 | 12 | 23 | 22 | 36 |\n| employee_7 |  0 | 20 | 17 | 37 |\n\n",
            "text/html": [
              "<table>\n",
              "<caption>A data.frame: 7 × 5</caption>\n",
              "<thead>\n",
              "\t<tr><th scope=col>names</th><th scope=col>monday</th><th scope=col>tuesday</th><th scope=col>wednessday</th><th scope=col>thursday</th></tr>\n",
              "\t<tr><th scope=col>&lt;chr&gt;</th><th scope=col>&lt;dbl&gt;</th><th scope=col>&lt;dbl&gt;</th><th scope=col>&lt;dbl&gt;</th><th scope=col>&lt;dbl&gt;</th></tr>\n",
              "</thead>\n",
              "<tbody>\n",
              "\t<tr><td>employee_1</td><td> 2</td><td>21</td><td>24</td><td>25</td></tr>\n",
              "\t<tr><td>employee_2</td><td>31</td><td>13</td><td>18</td><td>25</td></tr>\n",
              "\t<tr><td>employee_3</td><td> 3</td><td>33</td><td>15</td><td>26</td></tr>\n",
              "\t<tr><td>employee_4</td><td>61</td><td>16</td><td>19</td><td>31</td></tr>\n",
              "\t<tr><td>employee_5</td><td> 4</td><td>43</td><td>18</td><td>24</td></tr>\n",
              "\t<tr><td>employee_6</td><td>12</td><td>23</td><td>22</td><td>36</td></tr>\n",
              "\t<tr><td>employee_7</td><td> 0</td><td>20</td><td>17</td><td>37</td></tr>\n",
              "</tbody>\n",
              "</table>\n"
            ]
          },
          "metadata": {
            "tags": []
          }
        }
      ]
    },
    {
      "cell_type": "code",
      "metadata": {
        "colab": {
          "base_uri": "https://localhost:8080/",
          "height": 50
        },
        "id": "HQGJ6xOhBGr_",
        "outputId": "c0e652ae-c43f-42f4-da18-c89c802b23fe"
      },
      "source": [
        "# Build a logical vector, TRUE if value in second is extreme: extremes\r\n",
        "extremes <- employees$monday > 25 | employees$wednessday <  15\r\n",
        "# Count the number of TRUEs in extremes\r\n",
        "sum(extremes)\r\n",
        "\r\n",
        "# Solve it with a one-liner\r\n",
        "sum(employees$monday > 25 | employees$wednessday < 15)"
      ],
      "execution_count": 28,
      "outputs": [
        {
          "output_type": "display_data",
          "data": {
            "text/plain": [
              "[1] 2"
            ],
            "text/latex": "2",
            "text/markdown": "2",
            "text/html": [
              "2"
            ]
          },
          "metadata": {
            "tags": []
          }
        },
        {
          "output_type": "display_data",
          "data": {
            "text/plain": [
              "[1] 2"
            ],
            "text/latex": "2",
            "text/markdown": "2",
            "text/html": [
              "2"
            ]
          },
          "metadata": {
            "tags": []
          }
        }
      ]
    },
    {
      "cell_type": "code",
      "metadata": {
        "id": "qV5dJtaoE2D8"
      },
      "source": [
        ""
      ],
      "execution_count": null,
      "outputs": []
    }
  ]
}