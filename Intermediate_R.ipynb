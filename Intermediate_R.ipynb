{
  "nbformat": 4,
  "nbformat_minor": 0,
  "metadata": {
    "colab": {
      "name": "Intermediate R.ipynb",
      "provenance": [],
      "authorship_tag": "ABX9TyO2rlZcRQ1a9WEIEsRHN5vr",
      "include_colab_link": true
    },
    "kernelspec": {
      "name": "ir",
      "display_name": "R"
    }
  },
  "cells": [
    {
      "cell_type": "markdown",
      "metadata": {
        "id": "view-in-github",
        "colab_type": "text"
      },
      "source": [
        "<a href=\"https://colab.research.google.com/github/recervictory/LearingR/blob/main/Intermediate_R.ipynb\" target=\"_parent\"><img src=\"https://colab.research.google.com/assets/colab-badge.svg\" alt=\"Open In Colab\"/></a>"
      ]
    },
    {
      "cell_type": "markdown",
      "metadata": {
        "id": "Vor1-g3WroKH"
      },
      "source": [
        "# Flow Control and Loops\r\n",
        "In this chapter, you'll learn about relational operators for comparing R objects, and logical operators like \"and\" and \"or\" for combining TRUE and FALSE values. Then, you'll use this knowledge to build conditional statements.\r\n",
        "## Chapter Goals\r\n",
        "- Be able to branch the flow of execution\r\n",
        "- Be able to repeatedly execute code with loops"
      ]
    },
    {
      "cell_type": "markdown",
      "metadata": {
        "id": "J5ZPvLUup4p7"
      },
      "source": [
        "## 1: Conditionals and Control Flow\r\n"
      ]
    },
    {
      "cell_type": "markdown",
      "metadata": {
        "id": "cnXMIL5Mu94N"
      },
      "source": [
        " **Equality**: The most basic form of comparison is equality. Used syntax `==` for comparing two string, numaric, logical values."
      ]
    },
    {
      "cell_type": "code",
      "metadata": {
        "colab": {
          "base_uri": "https://localhost:8080/",
          "height": 84
        },
        "id": "qqsGlMbyrmsP",
        "outputId": "82c773d0-d45f-4fb4-d9b6-276f5999c2e1"
      },
      "source": [
        "#  Equality\r\n",
        "# Comparison of logicals\r\n",
        "TRUE == FALSE\r\n",
        "\r\n",
        "# Comparison of numerics\r\n",
        "-6 * 14 != 17 - 101\r\n",
        "\r\n",
        "# Comparison of character strings\r\n",
        "\"useR\" == \"user\"\r\n",
        "\r\n",
        "# Compare a logical with a numeric\r\n",
        "TRUE == 1"
      ],
      "execution_count": 1,
      "outputs": [
        {
          "output_type": "display_data",
          "data": {
            "text/plain": [
              "[1] FALSE"
            ],
            "text/latex": "FALSE",
            "text/markdown": "FALSE",
            "text/html": [
              "FALSE"
            ]
          },
          "metadata": {
            "tags": []
          }
        },
        {
          "output_type": "display_data",
          "data": {
            "text/plain": [
              "[1] FALSE"
            ],
            "text/latex": "FALSE",
            "text/markdown": "FALSE",
            "text/html": [
              "FALSE"
            ]
          },
          "metadata": {
            "tags": []
          }
        },
        {
          "output_type": "display_data",
          "data": {
            "text/plain": [
              "[1] FALSE"
            ],
            "text/latex": "FALSE",
            "text/markdown": "FALSE",
            "text/html": [
              "FALSE"
            ]
          },
          "metadata": {
            "tags": []
          }
        },
        {
          "output_type": "display_data",
          "data": {
            "text/plain": [
              "[1] TRUE"
            ],
            "text/latex": "TRUE",
            "text/markdown": "TRUE",
            "text/html": [
              "TRUE"
            ]
          },
          "metadata": {
            "tags": []
          }
        }
      ]
    },
    {
      "cell_type": "code",
      "metadata": {
        "id": "JtatZLNIoseO"
      },
      "source": [
        "\r\n",
        "# Comparison of numerics\r\n",
        "-6 * 5 + 2 >= -10 + 1\r\n",
        "\r\n",
        "# Comparison of character strings\r\n",
        "\"raining\" <= \"raining dogs\"\r\n",
        "\r\n",
        "# Comparison of logicals\r\n",
        "TRUE > FALSE\r\n"
      ],
      "execution_count": null,
      "outputs": []
    },
    {
      "cell_type": "markdown",
      "metadata": {
        "id": "hHjFtAEppT4c"
      },
      "source": [
        ""
      ]
    }
  ]
}