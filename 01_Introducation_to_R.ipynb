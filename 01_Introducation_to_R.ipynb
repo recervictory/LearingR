{
  "nbformat": 4,
  "nbformat_minor": 0,
  "metadata": {
    "colab": {
      "name": "01_Introducation to R.ipynb",
      "provenance": [],
      "include_colab_link": true
    },
    "kernelspec": {
      "display_name": "R",
      "language": "R",
      "name": "ir"
    },
    "language_info": {
      "codemirror_mode": "r",
      "file_extension": ".r",
      "mimetype": "text/x-r-source",
      "name": "R",
      "pygments_lexer": "r",
      "version": "3.6.1"
    }
  },
  "cells": [
    {
      "cell_type": "markdown",
      "metadata": {
        "id": "view-in-github",
        "colab_type": "text"
      },
      "source": [
        "<a href=\"https://colab.research.google.com/github/recervictory/LearingR/blob/main/01_Introducation_to_R.ipynb\" target=\"_parent\"><img src=\"https://colab.research.google.com/assets/colab-badge.svg\" alt=\"Open In Colab\"/></a>"
      ]
    },
    {
      "cell_type": "markdown",
      "metadata": {
        "id": "ql_vzQgUsgc-"
      },
      "source": [
        "# 0. R\n",
        "## What is R ?\n",
        "R refers to two things.There is R, the **programming language**, and\n",
        "R, the piece of software that you use to **run programs written in R**.\n",
        "\n",
        "## Why R ?\n",
        "- R is a free, open source language for data analysis.\n",
        "- It’s also a piece of software used to run programs written in R.\n",
        "- You can download R from http://www.r-project.org.\n",
        "- You can write R code in any text editor, but there are several IDEs that make development easier.\n",
        "\n",
        "# RUNNING AN R KERNEL IN GOOGLE COLAB\n",
        "https://colab.research.google.com/notebook#create=true&language=r\n",
        "\n",
        "\n"
      ]
    },
    {
      "cell_type": "code",
      "metadata": {
        "id": "6pwYdmaQsf7d",
        "outputId": "91556e0e-1f18-4baf-f8b9-a31599a0cc92",
        "colab": {
          "base_uri": "https://localhost:8080/",
          "height": 269
        }
      },
      "source": [
        " # GET TO KNOW THE R VERSION\n",
        " R.version"
      ],
      "execution_count": 1,
      "outputs": [
        {
          "output_type": "display_data",
          "data": {
            "text/plain": [
              "               _                           \n",
              "platform       x86_64-pc-linux-gnu         \n",
              "arch           x86_64                      \n",
              "os             linux-gnu                   \n",
              "system         x86_64, linux-gnu           \n",
              "status                                     \n",
              "major          4                           \n",
              "minor          0.3                         \n",
              "year           2020                        \n",
              "month          10                          \n",
              "day            10                          \n",
              "svn rev        79318                       \n",
              "language       R                           \n",
              "version.string R version 4.0.3 (2020-10-10)\n",
              "nickname       Bunny-Wunnies Freak Out     "
            ]
          },
          "metadata": {
            "tags": []
          }
        }
      ]
    },
    {
      "cell_type": "code",
      "metadata": {
        "id": "0ThtYESftWBc",
        "outputId": "e1870104-c3ea-423b-aa8f-4feeb77055a1",
        "colab": {
          "base_uri": "https://localhost:8080/"
        }
      },
      "source": [
        "# INSTALL PACKAGES\n",
        "install.packages('dtplyr')\n",
        "\n",
        "# Import Library\n",
        "library(dtplyr)"
      ],
      "execution_count": 3,
      "outputs": [
        {
          "output_type": "stream",
          "text": [
            "Installing package into ‘/usr/local/lib/R/site-library’\n",
            "(as ‘lib’ is unspecified)\n",
            "\n"
          ],
          "name": "stderr"
        }
      ]
    },
    {
      "cell_type": "markdown",
      "metadata": {
        "id": "wZH1dno5ilLZ"
      },
      "source": [
        "# 1. Introduction to R\n",
        "Three main data types in R\n",
        "- **Vectors (one dimensional array)**: can hold numeric, character or logical values. The elements in a vector all have the same data type.\n",
        "- **Matrices (two dimensional array)**: can hold numeric, character or logical values. The elements in a matrix all have the same data type.\n",
        "- **Data frames (two-dimensional objects)**: can hold numeric, character or logical values. Within a column all elements have the same data type, but different columns can be of different data type.\n"
      ]
    },
    {
      "cell_type": "code",
      "metadata": {
        "id": "pwB8_LugiRkg"
      },
      "source": [
        "# In \"R\" The hashtag is used to add comments\n",
        "# Calculate 4+6\n",
        "4+6"
      ],
      "execution_count": null,
      "outputs": []
    },
    {
      "cell_type": "code",
      "metadata": {
        "id": "OMVMASsPjEnP"
      },
      "source": [
        "# What can we do with R\n",
        "demo(\"graphics\")"
      ],
      "execution_count": null,
      "outputs": []
    },
    {
      "cell_type": "markdown",
      "metadata": {
        "id": "Z0D1aJZbjuO_"
      },
      "source": [
        "## 1.1 Arithmetic with R\n",
        "R use **arithmetic operators** to calculate various arithmetic function\n",
        "- Addition: +\n",
        "- Subtraction: -\n",
        "- Multiplication: *\n",
        "- Division: /\n",
        "- Exponentiation: ^\n",
        "- Modulo: %%\n"
      ]
    },
    {
      "cell_type": "code",
      "metadata": {
        "id": "ClMlGmU4jJhU"
      },
      "source": [
        "# An addition\n",
        "15 + 5\n",
        "\n",
        "# A substraction\n",
        "50 - 5\n",
        "\n",
        "# A multiplication\n",
        "4 * 5\n",
        "\n",
        "# A division\n",
        "(5 + 5)/2\n",
        "\n",
        "# Exponentiation\n",
        "2^5\n",
        "# Modulo\n",
        "17%%4"
      ],
      "execution_count": null,
      "outputs": []
    },
    {
      "cell_type": "markdown",
      "metadata": {
        "id": "cekb8J4NlgLi"
      },
      "source": [
        "## 1.2 Variable assignment\n",
        "A basic concept in (statistical) programming is called a variable. A variable allows you to store a value (e.g. 4) or an object (e.g. a function description) in R. \n",
        "Assigning Variable in R:\n",
        "\n",
        "`my_var <- 15`\n",
        "\n",
        "`num <- 4`\n"
      ]
    },
    {
      "cell_type": "code",
      "metadata": {
        "id": "bNhIBMH8k308"
      },
      "source": [
        " pi <- 3.14\n",
        " pi"
      ],
      "execution_count": null,
      "outputs": []
    },
    {
      "cell_type": "code",
      "metadata": {
        "id": "riwPBWdnmVGs"
      },
      "source": [
        "pi <- 3.141592653589793238462\n",
        "phi <- 1.61803399\n",
        "hi <- pi * phi\n",
        "hi"
      ],
      "execution_count": null,
      "outputs": []
    },
    {
      "cell_type": "markdown",
      "metadata": {
        "id": "1SXARGovnMY8"
      },
      "source": [
        "## 1.3 Basic data types in R\n",
        "R works with numerous data types. Some of the most basic types to get started are:\n",
        "\n",
        "- Decimal values like 4.5 are called **numerics**.\n",
        "- Whole numbers like 4 are called **integers**. Integers are also **numerics**.\n",
        "- Boolean values (TRUE or FALSE) are called **logical**.\n",
        "- Text (or string) values are called **characters**. For string data type we need `quotation marks` to indicate is string."
      ]
    },
    {
      "cell_type": "code",
      "metadata": {
        "id": "5gjowKb_m9H9"
      },
      "source": [
        "num <- 4.5\n",
        "my_int <- 56\n",
        "my_logical <- TRUE\n",
        "my_name <- \"R Code\"\n",
        "my_name\n",
        "my_logical"
      ],
      "execution_count": null,
      "outputs": []
    },
    {
      "cell_type": "markdown",
      "metadata": {
        "id": "mn3qoWv9o1WW"
      },
      "source": [
        "**To check the data type of of a variable we use** `class()` **fuction**"
      ]
    },
    {
      "cell_type": "code",
      "metadata": {
        "id": "MF4NS3VXoe5R"
      },
      "source": [
        "class(my_logical)\n",
        "class(my_name)\n",
        "class(my_int)\n",
        "class(num)"
      ],
      "execution_count": null,
      "outputs": []
    },
    {
      "cell_type": "markdown",
      "metadata": {
        "id": "6q8pBu1UpqP2"
      },
      "source": [
        "# 2. Working with Vectors\n"
      ]
    },
    {
      "cell_type": "markdown",
      "metadata": {
        "id": "0-Xx4cWYslQP"
      },
      "source": [
        "\n",
        "<h2 align=center>Example of Dataset</h2>\n",
        "\n",
        "This is a common example of datasets table used for data analysis.This table has one row for each movie and several columns.\n",
        "\n",
        "-   **name** - The name of the movie\n",
        "-   **year** - The year the movie was released\n",
        "-   **length_min** - The lenght of the movie in minutes\n",
        "-   **genre** - The genre of the movie\n",
        "-   **average_rating** - Average rating on Imdb\n",
        "-   **cost_millions** - The movie's production cost in millions\n",
        "-   **sequences** - The amount of sequences\n",
        "-   **foreign** - Indicative of whether the movie is foreign (1) or domestic (0)\n",
        "-   **age_restriction** - The age restriction for the movie\n",
        "    <br>\n",
        "    <br>\n",
        "\n",
        "Here's what the data looks like:\n",
        "\n",
        "<img src = \"https://ibm.box.com/shared/static/6kr8sg0n6pc40zd1xn6hjhtvy3k7cmeq.png\" width = 90% align=\"left\">\n"
      ]
    },
    {
      "cell_type": "markdown",
      "metadata": {
        "id": "Au-CsvC-s0CS"
      },
      "source": [
        "**Vectors** are **one-dimension arrays** that can hold numeric data, character data, or logical data. In other words, a vector is a simple tool to store data. \n",
        "In R, you create a vector with the **combine function** `c()`. You place the vector elements separated by a comma between the parentheses. For example:\n",
        "```\n",
        "numeric_vector <- c(1, 2, 3)\n",
        "character_vector <- c(\"a\", \"b\", \"c\")\n",
        "```"
      ]
    },
    {
      "cell_type": "code",
      "metadata": {
        "id": "asKlZZYvpaFR"
      },
      "source": [
        "numeric_vector <- c(1, 10, 49)\n",
        "character_vector <- c(\"a\", \"b\", \"c\")\n",
        "logical_vector <- c(TRUE, FALSE,FALSE)\n",
        "# print vectors\n",
        "numeric_vector\n",
        "character_vector\n",
        "logical_vector"
      ],
      "execution_count": null,
      "outputs": []
    },
    {
      "cell_type": "code",
      "metadata": {
        "id": "I_QmjbJpsBSu"
      },
      "source": [
        "# datatypes of vectors\n",
        "class(numeric_vector)\n",
        "class(logical_vector)"
      ],
      "execution_count": null,
      "outputs": []
    },
    {
      "cell_type": "markdown",
      "metadata": {
        "id": "Os0kmADcFB8f"
      },
      "source": [
        "## 2.1 Naming a vector\n",
        "With vectors, you can give **names to the elements** of a vector using the `names()` function:"
      ]
    },
    {
      "cell_type": "code",
      "metadata": {
        "id": "AFCwlzXGsUki"
      },
      "source": [
        "#Creating a year vector\n",
        "release_year <- c(1985, 1999, 2010, 2002)\n",
        "release_year\n",
        "\n",
        "#Assigning names\n",
        "names(release_year) <- c(\"The Breakfast Club\", \"American Beauty\", \"Black Swan\", \"Chicago\")\n",
        "release_year"
      ],
      "execution_count": null,
      "outputs": []
    },
    {
      "cell_type": "code",
      "metadata": {
        "id": "IDIencgNEads"
      },
      "source": [
        "# Now, you can retrieve the values based on the names:\n",
        "release_year[c(\"American Beauty\", \"Chicago\")]"
      ],
      "execution_count": null,
      "outputs": []
    },
    {
      "cell_type": "code",
      "metadata": {
        "id": "P3pehxfNFWrr"
      },
      "source": [
        "names(release_year)"
      ],
      "execution_count": null,
      "outputs": []
    },
    {
      "cell_type": "markdown",
      "metadata": {
        "id": "0zP7hQymc4IZ"
      },
      "source": [
        "## 2.2 Vector Operations\n"
      ]
    },
    {
      "cell_type": "code",
      "metadata": {
        "id": "8mhXfZMndViF"
      },
      "source": [
        "release_year <- c(1985, 1999, 2015, 1964)\n",
        "release_year\n",
        "# Adding more elements to a vector\n",
        "release_year <- c(release_year, 2016:2020)\n",
        "release_year"
      ],
      "execution_count": null,
      "outputs": []
    },
    {
      "cell_type": "code",
      "metadata": {
        "id": "Nyig2mH3dh3c"
      },
      "source": [
        "# Length of a vector\n",
        "length(release_year)"
      ],
      "execution_count": null,
      "outputs": []
    },
    {
      "cell_type": "code",
      "metadata": {
        "id": "JFNnry_edr0P"
      },
      "source": [
        "# Head and Tail of a vector\n",
        "head(release_year) #first six items\n",
        "tail(release_year) #last six items"
      ],
      "execution_count": null,
      "outputs": []
    },
    {
      "cell_type": "code",
      "metadata": {
        "id": "tCfhSg3vd77k"
      },
      "source": [
        "# Sorting a vector\n",
        "sort(release_year)"
      ],
      "execution_count": null,
      "outputs": []
    },
    {
      "cell_type": "code",
      "metadata": {
        "id": "sc4UH57AeKZ_"
      },
      "source": [
        "sort(release_year, decreasing = T)"
      ],
      "execution_count": null,
      "outputs": []
    },
    {
      "cell_type": "code",
      "metadata": {
        "id": "hQCFAT_8eQfx"
      },
      "source": [
        "# minimum and maximum values of a vector, you can use the **`min()`** and **`max()`** functions\n",
        "min(release_year)\n",
        "max(release_year)"
      ],
      "execution_count": null,
      "outputs": []
    },
    {
      "cell_type": "code",
      "metadata": {
        "id": "uWK7vQcSeVUp"
      },
      "source": [
        "# Simple Stat Vectors\n",
        "cost <- c(12.8,11,8.6,9.3,14.2,10.9)\n",
        "mean(cost)\n",
        "median(cost)\n",
        "sum(cost)\n",
        "# Summary of Vectors\n",
        "summary(cost)"
      ],
      "execution_count": null,
      "outputs": []
    },
    {
      "cell_type": "markdown",
      "metadata": {
        "id": "h3qvoyKSjgVC"
      },
      "source": [
        "## 3.3 Vector Selection"
      ]
    },
    {
      "cell_type": "code",
      "metadata": {
        "id": "hlfnW6RfgAOK"
      },
      "source": [
        "shop1 <- c(140, -50, 20, -120, 240)\n",
        "shop2 <- c(-24, -50, 100, -350, 10)\n",
        "days <- c(\"Monday\", \"Tuesday\", \"Wednesday\", \"Thursday\", \"Friday\")\n",
        "names(shop1) <- days\n",
        "names(shop2) <- days\n",
        "shop1[1] # one based index\n",
        "shop2[2]\n",
        "shop1['Friday']\n",
        "shop2[c(\"Monday\",\"Tuesday\")]"
      ],
      "execution_count": null,
      "outputs": []
    },
    {
      "cell_type": "code",
      "metadata": {
        "id": "ID4r5fqnkYdK"
      },
      "source": [
        "shop1[c(2,3,4)]\n",
        "shop2[c(2:4)]"
      ],
      "execution_count": null,
      "outputs": []
    },
    {
      "cell_type": "markdown",
      "metadata": {
        "id": "LtNjJVdBlrOB"
      },
      "source": [
        "### Selection by comparison \n",
        "By making use of comparison operators, \n",
        "The (logical) comparison operators known to R are:\n",
        "- `<` for less than\n",
        "- `>` for greater than\n",
        "- `<=` for less than or equal to\n",
        "- `>=` for greater than or equal to\n",
        "- `==` for equal to each other\n",
        "- `!=` not equal to each other\n"
      ]
    },
    {
      "cell_type": "code",
      "metadata": {
        "id": "4dHrGf-zlD4F"
      },
      "source": [
        "# logical comparison\n",
        "profit <- shop1 > 0\n",
        "profit"
      ],
      "execution_count": null,
      "outputs": []
    },
    {
      "cell_type": "code",
      "metadata": {
        "id": "KrMPIeExmfRX"
      },
      "source": [
        "# subseting\n",
        "shop1[profit]"
      ],
      "execution_count": null,
      "outputs": []
    },
    {
      "cell_type": "markdown",
      "metadata": {
        "id": "ye7yTo-RnExY"
      },
      "source": [
        "# 3. Working with Matrix\n",
        "**In R, a matrix is a collection of elements of the same data type (numeric, character, or logical) arranged into a fixed number of rows and columns.**\n",
        "You can construct a matrix in R with the `matrix()` function. Consider the following example:\n",
        "\n",
        "`matrix(1:12, byrow = TRUE, nrow = 3)`\n",
        "- The first argument is the collection of elements that R will arrange into the rows and columns of the matrix. Here, we use 1:12 which is a shortcut for c(1, 2, 3, 4, 5, 6, 7, 8, 9, 10, 11, 12).\n",
        "- The argument **byrow** indicates that the matrix is filled by the rows. If we want the matrix to be filled by the columns, we just place byrow = FALSE.\n",
        "- The third argument nrow indicates that the matrix should have three rows."
      ]
    },
    {
      "cell_type": "code",
      "metadata": {
        "id": "Evyx8o9jmpVU"
      },
      "source": [
        "# Construct a matrix with 3 rows that contain the numbers 1 up to 9\n",
        "matrix(1:12,byrow=TRUE,nrow =4)"
      ],
      "execution_count": null,
      "outputs": []
    },
    {
      "cell_type": "code",
      "metadata": {
        "id": "u_fe5VCXoA-C"
      },
      "source": [
        "# Using Vectors to construct matrix\n",
        "toy_story <- c(1995,81,8.3)\n",
        "akira <- c(1998,125,8.1)\n",
        "room <- c(2015,118,8.3)\n",
        "\n",
        "movies <- c(toy_story,akira,room)\n",
        "movies_matrix <- matrix(movies,byrow = TRUE,nrow = 3)\n",
        "movies_matrix"
      ],
      "execution_count": null,
      "outputs": []
    },
    {
      "cell_type": "markdown",
      "metadata": {
        "id": "LEUNCr1ksHK7"
      },
      "source": [
        "## 3.1 Naming a matrix\n",
        "Similar to vectors, you can add names for the rows and the columns of a matrix\n",
        "```\n",
        "rownames(my_matrix) <- row_names_vector\n",
        "colnames(my_matrix) <- col_names_vector\n",
        "```\n"
      ]
    },
    {
      "cell_type": "code",
      "metadata": {
        "id": "ak9UDLrYr5kO"
      },
      "source": [
        "rownames(movies_matrix) <- c('toy_story','akira','room')\n",
        "colnames(movies_matrix) <- c('year','length_min','rating')\n",
        "movies_matrix"
      ],
      "execution_count": null,
      "outputs": []
    },
    {
      "cell_type": "markdown",
      "metadata": {
        "id": "-FD_wBLmtsrm"
      },
      "source": [
        "## 3.2 Adding Rows and Columns to Matrix\n",
        "- `cbind()` function merges matrices and/or vectors together by column. For example: `big_matrix <- cbind(matrix1, matrix2, vector1 ...)`\n",
        "- `rbind()` function erges matrices and/or vectors together by row For example: `big_matrix <- rbind(matrix1, matrix2, vector1 ...)`"
      ]
    },
    {
      "cell_type": "code",
      "metadata": {
        "id": "EP5muUg8s44z"
      },
      "source": [
        "cost <- c(30,10.4,13)\n",
        "movies_matrix <- cbind(movies_matrix, cost)"
      ],
      "execution_count": null,
      "outputs": []
    },
    {
      "cell_type": "code",
      "metadata": {
        "id": "b25BEcHwuk4A"
      },
      "source": [
        "movies_matrix"
      ],
      "execution_count": null,
      "outputs": []
    },
    {
      "cell_type": "code",
      "metadata": {
        "id": "qdpcQk8RumDi"
      },
      "source": [
        "casino <- c(1995,178,8.2,50)\n",
        "movies_matrix <- rbind(movies_matrix,casino)"
      ],
      "execution_count": null,
      "outputs": []
    },
    {
      "cell_type": "code",
      "metadata": {
        "id": "Vu65nkqhvYd1"
      },
      "source": [
        "movies_matrix"
      ],
      "execution_count": null,
      "outputs": []
    },
    {
      "cell_type": "markdown",
      "metadata": {
        "id": "jra7hJoewg-i"
      },
      "source": [
        "## 3.3 Selection of matrix elements\n",
        "Similar to vectors, you can use the square brackets `[ ]` to select one or multiple elements from a matrix. Whereas vectors have one dimension, matrices have two dimensions. You should therefore use a comma to separate the rows you want to select from the columns. For example:\n",
        "- `my_matrix[row,col]`\n",
        "- `my_matrix[1,2]` selects the element at the first row and second column.\n",
        "- `my_matrix[1:3,2:4]` results in a matrix with the data on the rows 1, 2, 3 and columns 2, 3, 4."
      ]
    },
    {
      "cell_type": "code",
      "metadata": {
        "id": "nPbN_u2i1mfk"
      },
      "source": [
        "movies_matrix"
      ],
      "execution_count": null,
      "outputs": []
    },
    {
      "cell_type": "code",
      "metadata": {
        "id": "-QK8vZ2xvZq3"
      },
      "source": [
        "movies_matrix[2:3,1:4]"
      ],
      "execution_count": null,
      "outputs": []
    },
    {
      "cell_type": "code",
      "metadata": {
        "id": "Evy5xjumw-Fe"
      },
      "source": [
        "movies_matrix[,1]"
      ],
      "execution_count": null,
      "outputs": []
    },
    {
      "cell_type": "code",
      "metadata": {
        "id": "TOzMBXWw1kIq"
      },
      "source": [
        "movies_matrix[1,]"
      ],
      "execution_count": null,
      "outputs": []
    },
    {
      "cell_type": "markdown",
      "metadata": {
        "id": "-ETLL3lC2NtB"
      },
      "source": [
        "## 3.4 Arithmetic with matrices\n",
        "Similar to what you have learned with vectors, the standard operators like `+, -, /, *,` etc. work in an element-wise way on matrices in R.\n",
        "\n",
        "- For example, `2 * my_matrix` multiplies each element of my_matrix by two."
      ]
    },
    {
      "cell_type": "code",
      "metadata": {
        "id": "uISjdZ7U17Fy"
      },
      "source": [
        "matrix1 <- matrix(1:12,byrow=TRUE,nrow =4)\n",
        "matrix1"
      ],
      "execution_count": null,
      "outputs": []
    },
    {
      "cell_type": "code",
      "metadata": {
        "id": "CFsukzFP2zL-"
      },
      "source": [
        "matrix2 <- matrix1 /5\n",
        "matrix2"
      ],
      "execution_count": null,
      "outputs": []
    },
    {
      "cell_type": "code",
      "metadata": {
        "id": "XzEfkU5f212o"
      },
      "source": [
        "matrix1 + matrix2"
      ],
      "execution_count": null,
      "outputs": []
    },
    {
      "cell_type": "code",
      "metadata": {
        "id": "NzKPhMUU2_WJ"
      },
      "source": [
        "matrix1 * matrix2"
      ],
      "execution_count": null,
      "outputs": []
    },
    {
      "cell_type": "markdown",
      "metadata": {
        "id": "HN5mjuom3vWL"
      },
      "source": [
        "# 4. Working with Factor\n",
        "The term factor refers to a **statistical data type** used to store **categorical variables**. The difference between a categorical variable and a continuous variable is that a **categorical variable** can belong to a **limited number of categories**. A continuous variable, on the other hand, can correspond to an **infinite number of values**.\n",
        "- A good example of a categorical variable is sex. In many circumstances you can limit the sex categories to \"Male\" or \"Female\".\n",
        "\n",
        "To create factors in R, you make use of the function `factor()`. \n",
        "It is clear that there are two categories, or in R-terms 'factor levels', at work here: \"Male\" and \"Female\"."
      ]
    },
    {
      "cell_type": "code",
      "metadata": {
        "id": "MJqaxTda3chW"
      },
      "source": [
        "# Gender vector\n",
        "gender_vector <- c(\"Male\", \"Female\", \"Female\", \"Male\", \"Male\")\n",
        "\n",
        "# Convert gender_vector to a factor\n",
        "factor_gender_vector <-factor(gender_vector)\n",
        "  \n",
        "# Print out factor_gender_vector\n",
        "factor_gender_vector "
      ],
      "execution_count": null,
      "outputs": []
    },
    {
      "cell_type": "markdown",
      "metadata": {
        "id": "TAd_WEtMEAHH"
      },
      "source": [
        " ### 4.1 Types of Categorical Variable\n",
        " There are two types of categorical variables: \n",
        " \n",
        " - **Nominal categorical variable** \n",
        " - **Ordinal categorical variable**.\n",
        " \n",
        "- A nominal variable is a categorical variable without an implied order. This means that it is impossible to say that 'one is worth more than the other'. For example, think of the categorical variable animals_vector with the categories \"Elephant\", \"Giraffe\", \"Donkey\" and \"Horse\". \n",
        "- In contrast, ordinal variables do have a natural ordering. Consider for example the categorical variable temperature_vector with the categories: \"Low\", \"Medium\" and \"High\". Here it is obvious that \"Medium\" stands above \"Low\", and \"High\" stands above \"Medium\"."
      ]
    },
    {
      "cell_type": "code",
      "metadata": {
        "id": "KchzHeA_EAHI"
      },
      "source": [
        "# Animals\n",
        "animals_vector <- c(\"Elephant\", \"Giraffe\", \"Donkey\", \"Horse\")\n",
        "factor_animals_vector <- factor(animals_vector)\n",
        "factor_animals_vector\n",
        "\n",
        "# Temperature\n",
        "temperature_vector <- c(\"High\", \"Low\", \"High\",\"Low\", \"Medium\")\n",
        "factor_temperature_vector <- factor(temperature_vector, order = FALSE, levels = c(\"Low\", \"Medium\", \"High\"))\n",
        "factor_temperature_vector"
      ],
      "execution_count": null,
      "outputs": []
    },
    {
      "cell_type": "markdown",
      "metadata": {
        "id": "2jTsl3BpEAHO"
      },
      "source": [
        "## 4.2 Changing the Factors Value\n",
        "You will often want to change the factor levels to \"Male\" and \"Female\" instead of \"M\" and \"F\" for clarity.  R allows you to do this with the function `levels()`:\n",
        "> levels(factor_vector) <- c(\"name1\", \"name2\",...)"
      ]
    },
    {
      "cell_type": "code",
      "metadata": {
        "id": "EaUL1o9kEAHO"
      },
      "source": [
        "# Code to build factor_survey_vector\n",
        "survey_vector <- c(\"M\", \"F\", \"F\", \"M\", \"M\")\n",
        "factor_survey_vector <- factor(survey_vector)\n",
        "factor_survey_vector\n",
        "# Specify the levels of factor_survey_vector\n",
        "levels(factor_survey_vector) <- c(\"Female\",\"Male\")\n",
        "\n",
        "factor_survey_vector"
      ],
      "execution_count": null,
      "outputs": []
    },
    {
      "cell_type": "code",
      "metadata": {
        "id": "mjXCqt1KEAHT"
      },
      "source": [
        "survey_vector"
      ],
      "execution_count": null,
      "outputs": []
    },
    {
      "cell_type": "markdown",
      "metadata": {
        "id": "FqVCihhzEAHX"
      },
      "source": [
        "## 4.3 Summarizing a factor:\n",
        "The `summary()` will will give you a quick overview of the contents of a variable:\n",
        "> summary(my_var)"
      ]
    },
    {
      "cell_type": "code",
      "metadata": {
        "id": "hRcmeBEyEAHY"
      },
      "source": [
        "# Build factor_survey_vector with clean levels\n",
        "survey_vector <- c(\"M\", \"F\", \"F\", \"M\", \"M\")\n",
        "factor_survey_vector <- factor(survey_vector)\n",
        "levels(factor_survey_vector) <- c(\"Female\", \"Male\")\n",
        "factor_survey_vector"
      ],
      "execution_count": null,
      "outputs": []
    },
    {
      "cell_type": "code",
      "metadata": {
        "id": "xSGiQrfTEAHb"
      },
      "source": [
        "# Generate summary for survey_vector\n",
        "summary(survey_vector)"
      ],
      "execution_count": null,
      "outputs": []
    },
    {
      "cell_type": "code",
      "metadata": {
        "id": "340dpldLEAHf"
      },
      "source": [
        "# Generate summary for factor_survey_vector\n",
        "summary(factor_survey_vector)"
      ],
      "execution_count": null,
      "outputs": []
    },
    {
      "cell_type": "markdown",
      "metadata": {
        "id": "Wup__DEwEAHi"
      },
      "source": [
        "## 4.4 Ordered factors\n",
        "Sometimes we need to work with the **ordered categorical** data like (\"slow\", \"medium\", \"fast\"). In that case a categorical data needed to convert to ordinal form.  By default, the function `factor()` transforms speed_vector into an unordered factor. To create an ordered factor, you have to add two additional arguments: `ordered` and `levels`.\n",
        "\n",
        "> factor(some_vector,ordered = TRUE, levels = c(\"lev1\", \"lev2\" ...))\n"
      ]
    },
    {
      "cell_type": "code",
      "metadata": {
        "id": "jgMlAw8WEAHj"
      },
      "source": [
        "# Create speed_vector\n",
        "speed_vector <- c(\"fast\", \"slow\", \"slow\", \"fast\", \"medium\") \n",
        "\n",
        "# Convert speed_vector to ordered factor vector\n",
        "factor_speed_vector <- factor(speed_vector,ordered=TRUE,levels=c(\"slow\", \"medium\", \"fast\")) \n",
        "\n",
        "# Print factor_speed_vector\n",
        "factor_speed_vector\n",
        "summary(factor_speed_vector)"
      ],
      "execution_count": null,
      "outputs": []
    },
    {
      "cell_type": "markdown",
      "metadata": {
        "id": "I3BmnGgMEAHo"
      },
      "source": [
        "# 5. Working with Dataframe"
      ]
    },
    {
      "cell_type": "code",
      "metadata": {
        "id": "9STL_EfLEAHp"
      },
      "source": [
        "# Print out built-in R data frame\n",
        "mtcars "
      ],
      "execution_count": null,
      "outputs": []
    },
    {
      "cell_type": "markdown",
      "metadata": {
        "id": "7Jw80CjuEAHs"
      },
      "source": [
        "### 5.1 Head and Tail function\n",
        "The function head() enables you to show the first observations of a data frame. Similarly, the function tail() prints out the last observations in your data set."
      ]
    },
    {
      "cell_type": "code",
      "metadata": {
        "id": "3YcXx2y5EAHt"
      },
      "source": [
        "# Call head() on mtcars\n",
        "head(mtcars)"
      ],
      "execution_count": null,
      "outputs": []
    },
    {
      "cell_type": "code",
      "metadata": {
        "id": "y9bTmt7lEAH1"
      },
      "source": [
        "# Call tail() on mtcars\n",
        "tail(mtcars)"
      ],
      "execution_count": null,
      "outputs": []
    },
    {
      "cell_type": "markdown",
      "metadata": {
        "id": "8-915zG_EAH4"
      },
      "source": [
        "### 5.2 Dataframe structure\n",
        "Another method that is often used to get a rapid overview of your data is the function `str()`. The function `str()` shows you the structure of your data set. For a data frame it tells you:\n",
        "\n",
        "- The total number of observations (e.g. 32 car types)\n",
        "- The total number of variables (e.g. 11 car features)\n",
        "- A full list of the variables names (e.g. mpg, cyl … )\n",
        "- The data type of each variable (e.g. num)\n",
        "\n",
        "**The first observations**\n",
        "Applying the `str()` function will often be the first thing that you do when receiving a new data set or data frame. It is a great way to get more insight in your data set before diving into the real analysis"
      ]
    },
    {
      "cell_type": "code",
      "metadata": {
        "id": "c4wKqQDqEAH5"
      },
      "source": [
        "# Investigate the structure of mtcars\n",
        "str(mtcars)"
      ],
      "execution_count": null,
      "outputs": []
    },
    {
      "cell_type": "code",
      "metadata": {
        "id": "3yaCrhZZEAH9"
      },
      "source": [
        "# Investigate the structure of iris\n",
        "str(iris)"
      ],
      "execution_count": null,
      "outputs": []
    },
    {
      "cell_type": "markdown",
      "metadata": {
        "id": "ItmzIKUMEAIA"
      },
      "source": [
        "### 5.3: Creating a data frame\n",
        "We construct a data frame with the `data.frame()` function. As arguments, you pass the vectors from before: they will become the different columns of your data frame. Because every column has the same length, the vectors you pass should also have the same length. But don't forget that it is possible (and likely) that they contain different types of data."
      ]
    },
    {
      "cell_type": "code",
      "metadata": {
        "id": "c2o-m2hzEAIB"
      },
      "source": [
        "# Definition of vectors\n",
        "name <- c(\"Mercury\", \"Venus\", \"Earth\", \"Mars\", \"Jupiter\", \"Saturn\", \"Uranus\", \"Neptune\")\n",
        "type <- c(\"Terrestrial planet\", \"Terrestrial planet\", \"Terrestrial planet\", \n",
        "          \"Terrestrial planet\", \"Gas giant\", \"Gas giant\", \"Gas giant\", \"Gas giant\")\n",
        "diameter <- c(0.382, 0.949, 1, 0.532, 11.209, 9.449, 4.007, 3.883)\n",
        "rotation <- c(58.64, -243.02, 1, 1.03, 0.41, 0.43, -0.72, 0.67)\n",
        "rings <- c(FALSE, FALSE, FALSE, FALSE, TRUE, TRUE, TRUE, TRUE)\n",
        "\n",
        "# Create a data frame from the vectors\n",
        "planets_df <-data.frame(name,type,diameter,rotation,rings)"
      ],
      "execution_count": null,
      "outputs": []
    },
    {
      "cell_type": "code",
      "metadata": {
        "id": "uY2l80XHEAII"
      },
      "source": [
        "# View the dataframe\n",
        "planets_df"
      ],
      "execution_count": null,
      "outputs": []
    },
    {
      "cell_type": "code",
      "metadata": {
        "id": "7jkMRF0wEAIM"
      },
      "source": [
        "# structure of dataframe\n",
        "str(planets_df)"
      ],
      "execution_count": null,
      "outputs": []
    },
    {
      "cell_type": "code",
      "metadata": {
        "id": "HNmMhJK1EAIP"
      },
      "source": [
        "# summary of dataframe\n",
        "summary(planets_df)"
      ],
      "execution_count": null,
      "outputs": []
    },
    {
      "cell_type": "markdown",
      "metadata": {
        "id": "FmPpPxeDEwLB"
      },
      "source": [
        "## 5.4: Selection of data frame elements\n",
        "Similar to vectors and matrices, you select elements from a data frame with the help of square brackets `[ ]`. By using a comma, you can indicate what to select from the rows and the columns respectively. For example:\n",
        "\n",
        "* `my_df[1,2]` selects the value at the first row and second column in my_df.\n",
        "* `my_df[1:3,2:4]` selects rows 1, 2, 3 and columns 2, 3, 4 in my_df.\n",
        "* Sometimes you want to select all elements of a row or column. For example, `my_df[1, ]` selects all elements of the first row. Let us now apply this technique on planets_df!"
      ]
    },
    {
      "cell_type": "code",
      "metadata": {
        "id": "LlRm_Lu1EAIU"
      },
      "source": [
        "# The planets_df data frame from the previous exercise is pre-loaded\n",
        "planets_df\n",
        "# Print out diameter of of Mercury (row 1, column 3)\n",
        "planets_df[1,3]\n",
        "\n",
        "# Print out data for Mars (entire fourth row)\n",
        "planets_df[4,]"
      ],
      "execution_count": null,
      "outputs": []
    },
    {
      "cell_type": "markdown",
      "metadata": {
        "id": "hcrufEBwGAcV"
      },
      "source": [
        "### Selection using variable name\n",
        "Instead of using numerics to select elements of a data frame, you can also use the variable names to select columns of a data frame."
      ]
    },
    {
      "cell_type": "code",
      "metadata": {
        "id": "LuqIH0YpGYWn"
      },
      "source": [
        "planets_df[3]"
      ],
      "execution_count": null,
      "outputs": []
    },
    {
      "cell_type": "code",
      "metadata": {
        "id": "9DxeQLM0FndK"
      },
      "source": [
        "# planets_df[,\"diameter\"],planets_df[,3] also works\n",
        "planets_df[\"diameter\"]"
      ],
      "execution_count": null,
      "outputs": []
    },
    {
      "cell_type": "markdown",
      "metadata": {
        "id": "BCSaQu3mGfiQ"
      },
      "source": [
        "### Subseting using `$` sign.\n",
        "If your columns have names, you can use the $ sign:\n",
        "\n",
        ">dataframe$colname"
      ]
    },
    {
      "cell_type": "code",
      "metadata": {
        "id": "g3f7me2-HUJ8"
      },
      "source": [
        "# Select the rings variable from planets_df\n",
        "rings_vector <- planets_df$rings\n",
        "  \n",
        "# Print out rings_vector\n",
        "rings_vector"
      ],
      "execution_count": null,
      "outputs": []
    },
    {
      "cell_type": "code",
      "metadata": {
        "id": "NnjA90dxHenm"
      },
      "source": [
        "# Adapt the code to select all columns for planets with rings\n",
        "planets_df[rings_vector,]"
      ],
      "execution_count": null,
      "outputs": []
    },
    {
      "cell_type": "markdown",
      "metadata": {
        "id": "0M36NQAJLHUW"
      },
      "source": [
        "### Using `subset()` function\n",
        "The first argument of `subset()` specifies the data set for which you want a subset. By adding the second argument, you give R the necessary information and conditions to select the correct subset.\n",
        "> subset(my_df, subset = some_condition)\n"
      ]
    },
    {
      "cell_type": "code",
      "metadata": {
        "id": "bcZF16ueIQrt"
      },
      "source": [
        "# planets_df dataframe\n",
        "planets_df"
      ],
      "execution_count": null,
      "outputs": []
    },
    {
      "cell_type": "code",
      "metadata": {
        "id": "LgqxDF29Lw9z"
      },
      "source": [
        "# Select planets with diameter > 4\n",
        "subset(planets_df,diameter > 4)"
      ],
      "execution_count": null,
      "outputs": []
    },
    {
      "cell_type": "code",
      "metadata": {
        "id": "1Mc1awiyMFN3"
      },
      "source": [
        "# subset using logical column\n",
        "subset(planets_df, subset = rings)"
      ],
      "execution_count": null,
      "outputs": []
    },
    {
      "cell_type": "markdown",
      "metadata": {
        "id": "lA66IR7_Mhfw"
      },
      "source": [
        "### Sorting Data frame\n",
        "the `order()` function rearrange your data frame such that it starts with the smallest largest one according to your column;"
      ]
    },
    {
      "cell_type": "code",
      "metadata": {
        "id": "YqINVXFQNnok"
      },
      "source": [
        "# How order works\n",
        "a <- c(1,4,6,7,9,5)\n",
        "order(a)\n",
        "a[order(a)]"
      ],
      "execution_count": null,
      "outputs": []
    },
    {
      "cell_type": "code",
      "metadata": {
        "id": "J1F9RYZrMMKT"
      },
      "source": [
        "# planets_df is pre-loaded in your workspace\n",
        "planets_df \n",
        "# Use order() to create positions\n",
        "size <- order(planets_df$diameter) \n",
        "\n",
        "# Use size to sort planets_df\n",
        "planets_df[size,]"
      ],
      "execution_count": null,
      "outputs": []
    },
    {
      "cell_type": "markdown",
      "metadata": {
        "id": "gGGpxn0k7wl5"
      },
      "source": [
        "# 6. Working with List\n",
        "A **list** in R allows you to gather a variety of objects under one name (that is, the name of the list) in an ordered way. These objects can be **matrices, vectors, data frames, even other lists**, etc. It is not even required that these objects are related to each other in any way.\n",
        "\n",
        "## 6.1: Creating a list\n",
        "To construct a list you use the function list():\n",
        "> my_list <- list(comp1, comp2 ...)\n"
      ]
    },
    {
      "cell_type": "code",
      "metadata": {
        "id": "kAuL9vYE8HBE"
      },
      "source": [
        "# Vector with numerics from 1 up to 10\n",
        "my_vector <- 1:10 \n",
        "\n",
        "# Matrix with numerics from 1 up to 9\n",
        "my_matrix <- matrix(1:9, ncol = 3)\n",
        "\n",
        "# First 10 elements of the built-in data frame mtcars\n",
        "my_df <- mtcars[1:10,]\n",
        "\n",
        "# Construct list with these different elements:\n",
        "my_list <- list(my_vector,my_matrix,my_df)\n",
        "my_list"
      ],
      "execution_count": null,
      "outputs": []
    },
    {
      "cell_type": "markdown",
      "metadata": {
        "id": "nEJkVmVb8sML"
      },
      "source": [
        "## 3.2: Creating a named list\n",
        "Just like on your to-do list, you want to avoid not knowing or remembering what the components of your list stand for. That is why you should give names to them:\n",
        "> my_list <- list(name1 = your_comp1, name2 = your_comp2)\n",
        "\n",
        "This creates a list with components that are named name1, name2, and so on. If you want to **name your lists after you've created them**, you can use the `  names() ` function as you did with vectors. The following commands are fully equivalent to the assignment above:\n",
        "\n",
        "> my_list <- list(your_comp1, your_comp2) \\\n",
        "> names(my_list) <- c(\"name1\", \"name2\")\n"
      ]
    },
    {
      "cell_type": "code",
      "metadata": {
        "id": "R7hK6XSV8kMM"
      },
      "source": [
        "# Vector with numerics from 1 up to 10\n",
        "my_vector <- 1:10 \n",
        "\n",
        "# Matrix with numerics from 1 up to 9\n",
        "my_matrix <- matrix(1:9, ncol = 3)\n",
        "\n",
        "# First 10 elements of the built-in data frame mtcars\n",
        "my_df <- mtcars[1:10,]\n",
        "\n",
        "# Adapt list() call to give the components names\n",
        "my_list <- list(my_vector, my_matrix, my_df)\n",
        "names(my_list) <- c(\"vector\",\"matrix\",\"dataframe\")\n",
        "# Print out my_list\n",
        "my_list"
      ],
      "execution_count": null,
      "outputs": []
    },
    {
      "cell_type": "markdown",
      "metadata": {
        "id": "owd4ce53-Fby"
      },
      "source": [
        "### 3.3 Use of List in R\n"
      ]
    },
    {
      "cell_type": "code",
      "metadata": {
        "id": "rFSRBCNO9t0o"
      },
      "source": [
        "city <- \"Kolkata\"\n",
        "places <- c('New Market','Victoria Memorial','Howrah Bridge','Park Street','South Park Cemetery','Dakshineshwar Kali Temple','Belur Math','Fort William','Prinsep Ghat','Old Chinatown')\n",
        "\n",
        "# Creating dataframe\n",
        "rating <- c(4.8,5.0,4.0,3.1,3.6)\n",
        "place <- c('New Market','Dakshineshwar Kali Temple','Victoria Memorial','Victoria Memorial','Howrah Bridge')\n",
        "comment <- c('Nice Place', \"Good Temple!!\",'Must Visit','Kolkata, Attarction...','Best place near ganga!')\n",
        "city_review_df <- data.frame(place,rating,comment)\n",
        "\n",
        "# Creating R List\n",
        "city_list <- list(name = city, touristPlaces = places, review = city_review_df )"
      ],
      "execution_count": null,
      "outputs": []
    },
    {
      "cell_type": "code",
      "metadata": {
        "id": "5nr6BNm9_EmM"
      },
      "source": [
        "city_list"
      ],
      "execution_count": null,
      "outputs": []
    },
    {
      "cell_type": "markdown",
      "metadata": {
        "id": "LtiNkbykBxWY"
      },
      "source": [
        "### 3.4 Selecting elements from a list\n",
        "You can also refer to the names of the components, with `[[ ]]` or with the ` $ ` sign. Both will select the data frame representing the reviews:"
      ]
    },
    {
      "cell_type": "code",
      "metadata": {
        "id": "hGXlFN7TBgP7"
      },
      "source": [
        "city_list[['name']]\n",
        "city_list[['review']]"
      ],
      "execution_count": null,
      "outputs": []
    },
    {
      "cell_type": "code",
      "metadata": {
        "id": "fDhmT530CPW3"
      },
      "source": [
        "city_list[[1]]\n",
        "city_list[[3]]"
      ],
      "execution_count": null,
      "outputs": []
    }
  ]
}