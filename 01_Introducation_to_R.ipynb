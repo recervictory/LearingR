{
  "nbformat": 4,
  "nbformat_minor": 0,
  "metadata": {
    "colab": {
      "name": "01_Introducation to R.ipynb",
      "provenance": [],
      "include_colab_link": true
    },
    "kernelspec": {
      "display_name": "R",
      "language": "R",
      "name": "ir"
    },
    "language_info": {
      "codemirror_mode": "r",
      "file_extension": ".r",
      "mimetype": "text/x-r-source",
      "name": "R",
      "pygments_lexer": "r",
      "version": "3.6.1"
    }
  },
  "cells": [
    {
      "cell_type": "markdown",
      "metadata": {
        "id": "view-in-github",
        "colab_type": "text"
      },
      "source": [
        "<a href=\"https://colab.research.google.com/github/recervictory/LearingR/blob/main/01_Introducation_to_R.ipynb\" target=\"_parent\"><img src=\"https://colab.research.google.com/assets/colab-badge.svg\" alt=\"Open In Colab\"/></a>"
      ]
    },
    {
      "cell_type": "markdown",
      "metadata": {
        "id": "ql_vzQgUsgc-"
      },
      "source": [
        "# 0. R\n",
        "## What is R ?\n",
        "R refers to two things.There is R, the **programming language**, and\n",
        "R, the piece of software that you use to **run programs written in R**.\n",
        "\n",
        "## Why R ?\n",
        "- R is a free, open source language for data analysis.\n",
        "- It’s also a piece of software used to run programs written in R.\n",
        "- You can download R from http://www.r-project.org.\n",
        "- You can write R code in any text editor, but there are several IDEs that make development easier.\n",
        "\n",
        "# RUNNING AN R KERNEL IN GOOGLE COLAB\n",
        "https://colab.research.google.com/notebook#create=true&language=r\n",
        "\n",
        "\n"
      ]
    },
    {
      "cell_type": "code",
      "metadata": {
        "id": "6pwYdmaQsf7d",
        "outputId": "91556e0e-1f18-4baf-f8b9-a31599a0cc92",
        "colab": {
          "base_uri": "https://localhost:8080/",
          "height": 269
        }
      },
      "source": [
        " # GET TO KNOW THE R VERSION\n",
        " R.version"
      ],
      "execution_count": 1,
      "outputs": [
        {
          "output_type": "display_data",
          "data": {
            "text/plain": [
              "               _                           \n",
              "platform       x86_64-pc-linux-gnu         \n",
              "arch           x86_64                      \n",
              "os             linux-gnu                   \n",
              "system         x86_64, linux-gnu           \n",
              "status                                     \n",
              "major          4                           \n",
              "minor          0.3                         \n",
              "year           2020                        \n",
              "month          10                          \n",
              "day            10                          \n",
              "svn rev        79318                       \n",
              "language       R                           \n",
              "version.string R version 4.0.3 (2020-10-10)\n",
              "nickname       Bunny-Wunnies Freak Out     "
            ]
          },
          "metadata": {
            "tags": []
          }
        }
      ]
    },
    {
      "cell_type": "code",
      "metadata": {
        "id": "0ThtYESftWBc",
        "outputId": "e1870104-c3ea-423b-aa8f-4feeb77055a1",
        "colab": {
          "base_uri": "https://localhost:8080/"
        }
      },
      "source": [
        "# INSTALL PACKAGES\n",
        "install.packages('dtplyr')\n",
        "\n",
        "# Import Library\n",
        "library(dtplyr)"
      ],
      "execution_count": 3,
      "outputs": [
        {
          "output_type": "stream",
          "text": [
            "Installing package into ‘/usr/local/lib/R/site-library’\n",
            "(as ‘lib’ is unspecified)\n",
            "\n"
          ],
          "name": "stderr"
        }
      ]
    },
    {
      "cell_type": "markdown",
      "metadata": {
        "id": "wZH1dno5ilLZ"
      },
      "source": [
        "# 1. Introduction to R\n",
        "Three main data types in R\n",
        "- **Vectors (one dimensional array)**: can hold numeric, character or logical values. The elements in a vector all have the same data type.\n",
        "- **Matrices (two dimensional array)**: can hold numeric, character or logical values. The elements in a matrix all have the same data type.\n",
        "- **Data frames (two-dimensional objects)**: can hold numeric, character or logical values. Within a column all elements have the same data type, but different columns can be of different data type.\n"
      ]
    },
    {
      "cell_type": "code",
      "metadata": {
        "id": "pwB8_LugiRkg"
      },
      "source": [
        "# In \"R\" The hashtag is used to add comments\n",
        "# Calculate 4+6\n",
        "4+6"
      ],
      "execution_count": null,
      "outputs": []
    },
    {
      "cell_type": "code",
      "metadata": {
        "id": "OMVMASsPjEnP"
      },
      "source": [
        "# What can we do with R\n",
        "demo(\"graphics\")"
      ],
      "execution_count": null,
      "outputs": []
    },
    {
      "cell_type": "markdown",
      "metadata": {
        "id": "Z0D1aJZbjuO_"
      },
      "source": [
        "## 1.1 Arithmetic with R\n",
        "R use **arithmetic operators** to calculate various arithmetic function\n",
        "- Addition: +\n",
        "- Subtraction: -\n",
        "- Multiplication: *\n",
        "- Division: /\n",
        "- Exponentiation: ^\n",
        "- Modulo: %%\n"
      ]
    },
    {
      "cell_type": "code",
      "metadata": {
        "id": "ClMlGmU4jJhU"
      },
      "source": [
        "# An addition\n",
        "15 + 5\n",
        "\n",
        "# A substraction\n",
        "50 - 5\n",
        "\n",
        "# A multiplication\n",
        "4 * 5\n",
        "\n",
        "# A division\n",
        "(5 + 5)/2\n",
        "\n",
        "# Exponentiation\n",
        "2^5\n",
        "\n",
        "# Modulo\n",
        "17%%4"
      ],
      "execution_count": null,
      "outputs": []
    },
    {
      "cell_type": "markdown",
      "metadata": {
        "id": "cekb8J4NlgLi"
      },
      "source": [
        "## 1.2 Variable assignment\n",
        "A basic concept in (statistical) programming is called a variable. A variable allows you to store a value (e.g. 4) or an object (e.g. a function description) in R. \n",
        "Assigning Variable in R:\n",
        "\n",
        "`my_var <- 15`\n",
        "\n",
        "`num <- 4`\n"
      ]
    },
    {
      "cell_type": "code",
      "metadata": {
        "id": "bNhIBMH8k308"
      },
      "source": [
        " pi <- 3.14\n",
        " pi"
      ],
      "execution_count": null,
      "outputs": []
    },
    {
      "cell_type": "code",
      "metadata": {
        "id": "riwPBWdnmVGs"
      },
      "source": [
        "pi <- 3.141592653589793238462\n",
        "phi <- 1.61803399\n",
        "hi <- pi * phi\n",
        "hi"
      ],
      "execution_count": null,
      "outputs": []
    },
    {
      "cell_type": "markdown",
      "metadata": {
        "id": "1SXARGovnMY8"
      },
      "source": [
        "## 1.3 Basic data types in R\n",
        "R works with numerous data types. Some of the most basic types to get started are:\n",
        "\n",
        "- Decimal values like 4.5 are called **numerics**.\n",
        "- Whole numbers like 4 are called **integers**. Integers are also **numerics**.\n",
        "- Boolean values (TRUE or FALSE) are called **logical**.\n",
        "- Text (or string) values are called **characters**. For string data type we need `quotation marks` to indicate is string."
      ]
    },
    {
      "cell_type": "code",
      "metadata": {
        "id": "5gjowKb_m9H9"
      },
      "source": [
        "num <- 4.5\n",
        "my_int <- 56\n",
        "my_logical <- TRUE\n",
        "my_name <- \"R Code\"\n",
        "my_name\n",
        "my_logical"
      ],
      "execution_count": null,
      "outputs": []
    },
    {
      "cell_type": "markdown",
      "metadata": {
        "id": "mn3qoWv9o1WW"
      },
      "source": [
        "**To check the data type of of a variable we use** `class()` **fuction**"
      ]
    },
    {
      "cell_type": "code",
      "metadata": {
        "id": "MF4NS3VXoe5R"
      },
      "source": [
        "class(my_logical)\n",
        "class(my_name)\n",
        "class(my_int)\n",
        "class(num)"
      ],
      "execution_count": null,
      "outputs": []
    },
    {
      "cell_type": "markdown",
      "metadata": {
        "id": "6q8pBu1UpqP2"
      },
      "source": [
        "# 2. Working with Vectors\n"
      ]
    },
    {
      "cell_type": "markdown",
      "metadata": {
        "id": "0-Xx4cWYslQP"
      },
      "source": [
        "\n",
        "<h2 align=center>Example of Dataset</h2>\n",
        "\n",
        "This is a common example of datasets table used for data analysis.This table has one row for each movie and several columns.\n",
        "\n",
        "-   **name** - The name of the movie\n",
        "-   **year** - The year the movie was released\n",
        "-   **length_min** - The lenght of the movie in minutes\n",
        "-   **genre** - The genre of the movie\n",
        "-   **average_rating** - Average rating on Imdb\n",
        "-   **cost_millions** - The movie's production cost in millions\n",
        "-   **sequences** - The amount of sequences\n",
        "-   **foreign** - Indicative of whether the movie is foreign (1) or domestic (0)\n",
        "-   **age_restriction** - The age restriction for the movie\n",
        "    <br>\n",
        "    <br>\n",
        "\n",
        "Here's what the data looks like:\n",
        "\n",
        "<img src = \"https://ibm.box.com/shared/static/6kr8sg0n6pc40zd1xn6hjhtvy3k7cmeq.png\" width = 90% align=\"left\">\n"
      ]
    },
    {
      "cell_type": "markdown",
      "metadata": {
        "id": "Au-CsvC-s0CS"
      },
      "source": [
        "**Vectors** are **one-dimension arrays** that can hold numeric data, character data, or logical data. In other words, a vector is a simple tool to store data. \n",
        "In R, you create a vector with the **combine function** `c()`. You place the vector elements separated by a comma between the parentheses. For example:\n",
        "```\n",
        "numeric_vector <- c(1, 2, 3)\n",
        "character_vector <- c(\"a\", \"b\", \"c\")\n",
        "```"
      ]
    },
    {
      "cell_type": "code",
      "metadata": {
        "id": "asKlZZYvpaFR"
      },
      "source": [
        "numeric_vector <- c(1, 10, 49)\n",
        "character_vector <- c(\"a\", \"b\", \"c\")\n",
        "logical_vector <- c(TRUE, FALSE,FALSE)\n",
        "# print vectors\n",
        "numeric_vector\n",
        "character_vector\n",
        "logical_vector"
      ],
      "execution_count": null,
      "outputs": []
    },
    {
      "cell_type": "code",
      "metadata": {
        "id": "I_QmjbJpsBSu"
      },
      "source": [
        "# datatypes of vectors\n",
        "class(numeric_vector)\n",
        "class(logical_vector)"
      ],
      "execution_count": null,
      "outputs": []
    },
    {
      "cell_type": "code",
      "metadata": {
        "id": "_Z2fQnQr1JyW",
        "outputId": "461bd29e-dea1-45e0-935b-de6f01495733",
        "colab": {
          "base_uri": "https://localhost:8080/",
          "height": 67
        }
      },
      "source": [
        "# Creating Some Empty Vetors\n",
        "vector(\"numeric\", 5)\n",
        "vector(\"logical\", 5)\n",
        "vector(\"character\", 5)"
      ],
      "execution_count": 24,
      "outputs": [
        {
          "output_type": "display_data",
          "data": {
            "text/plain": [
              "[1] 0 0 0 0 0"
            ],
            "text/latex": "\\begin{enumerate*}\n\\item 0\n\\item 0\n\\item 0\n\\item 0\n\\item 0\n\\end{enumerate*}\n",
            "text/markdown": "1. 0\n2. 0\n3. 0\n4. 0\n5. 0\n\n\n",
            "text/html": [
              "<style>\n",
              ".list-inline {list-style: none; margin:0; padding: 0}\n",
              ".list-inline>li {display: inline-block}\n",
              ".list-inline>li:not(:last-child)::after {content: \"\\00b7\"; padding: 0 .5ex}\n",
              "</style>\n",
              "<ol class=list-inline><li>0</li><li>0</li><li>0</li><li>0</li><li>0</li></ol>\n"
            ]
          },
          "metadata": {
            "tags": []
          }
        },
        {
          "output_type": "display_data",
          "data": {
            "text/plain": [
              "[1] FALSE FALSE FALSE FALSE FALSE"
            ],
            "text/latex": "\\begin{enumerate*}\n\\item FALSE\n\\item FALSE\n\\item FALSE\n\\item FALSE\n\\item FALSE\n\\end{enumerate*}\n",
            "text/markdown": "1. FALSE\n2. FALSE\n3. FALSE\n4. FALSE\n5. FALSE\n\n\n",
            "text/html": [
              "<style>\n",
              ".list-inline {list-style: none; margin:0; padding: 0}\n",
              ".list-inline>li {display: inline-block}\n",
              ".list-inline>li:not(:last-child)::after {content: \"\\00b7\"; padding: 0 .5ex}\n",
              "</style>\n",
              "<ol class=list-inline><li>FALSE</li><li>FALSE</li><li>FALSE</li><li>FALSE</li><li>FALSE</li></ol>\n"
            ]
          },
          "metadata": {
            "tags": []
          }
        },
        {
          "output_type": "display_data",
          "data": {
            "text/plain": [
              "[1] \"\" \"\" \"\" \"\" \"\""
            ],
            "text/latex": "\\begin{enumerate*}\n\\item ''\n\\item ''\n\\item ''\n\\item ''\n\\item ''\n\\end{enumerate*}\n",
            "text/markdown": "1. ''\n2. ''\n3. ''\n4. ''\n5. ''\n\n\n",
            "text/html": [
              "<style>\n",
              ".list-inline {list-style: none; margin:0; padding: 0}\n",
              ".list-inline>li {display: inline-block}\n",
              ".list-inline>li:not(:last-child)::after {content: \"\\00b7\"; padding: 0 .5ex}\n",
              "</style>\n",
              "<ol class=list-inline><li>''</li><li>''</li><li>''</li><li>''</li><li>''</li></ol>\n"
            ]
          },
          "metadata": {
            "tags": []
          }
        }
      ]
    },
    {
      "cell_type": "markdown",
      "metadata": {
        "id": "Os0kmADcFB8f"
      },
      "source": [
        "## 2.1 Naming a vector\n",
        "With vectors, you can give **names to the elements** of a vector using the `names()` function:"
      ]
    },
    {
      "cell_type": "code",
      "metadata": {
        "id": "AFCwlzXGsUki",
        "outputId": "57da9e3a-444c-40f1-b9fb-f3be696b02f4",
        "colab": {
          "base_uri": "https://localhost:8080/",
          "height": 34
        }
      },
      "source": [
        "#Creating a year vector\n",
        "release_year <- c(1985, 1999, 2010, 2002)\n",
        "release_year"
      ],
      "execution_count": 25,
      "outputs": [
        {
          "output_type": "display_data",
          "data": {
            "text/plain": [
              "[1] 1985 1999 2010 2002"
            ],
            "text/latex": "\\begin{enumerate*}\n\\item 1985\n\\item 1999\n\\item 2010\n\\item 2002\n\\end{enumerate*}\n",
            "text/markdown": "1. 1985\n2. 1999\n3. 2010\n4. 2002\n\n\n",
            "text/html": [
              "<style>\n",
              ".list-inline {list-style: none; margin:0; padding: 0}\n",
              ".list-inline>li {display: inline-block}\n",
              ".list-inline>li:not(:last-child)::after {content: \"\\00b7\"; padding: 0 .5ex}\n",
              "</style>\n",
              "<ol class=list-inline><li>1985</li><li>1999</li><li>2010</li><li>2002</li></ol>\n"
            ]
          },
          "metadata": {
            "tags": []
          }
        }
      ]
    },
    {
      "cell_type": "code",
      "metadata": {
        "id": "Pr5tS7uoympS",
        "outputId": "1ce4ee3e-9adb-4a30-9e8e-0ea5029906d5",
        "colab": {
          "base_uri": "https://localhost:8080/",
          "height": 34
        }
      },
      "source": [
        "#Assigning names\n",
        "names(release_year) <- c(\"The Breakfast Club\", \"American Beauty\", \"Black Swan\", \"Chicago\")\n",
        "release_year"
      ],
      "execution_count": 8,
      "outputs": [
        {
          "output_type": "display_data",
          "data": {
            "text/plain": [
              "The Breakfast Club    American Beauty         Black Swan            Chicago \n",
              "              1985               1999               2010               2002 "
            ],
            "text/latex": "\\begin{description*}\n\\item[The Breakfast Club] 1985\n\\item[American Beauty] 1999\n\\item[Black Swan] 2010\n\\item[Chicago] 2002\n\\end{description*}\n",
            "text/markdown": "The Breakfast Club\n:   1985American Beauty\n:   1999Black Swan\n:   2010Chicago\n:   2002\n\n",
            "text/html": [
              "<style>\n",
              ".dl-inline {width: auto; margin:0; padding: 0}\n",
              ".dl-inline>dt, .dl-inline>dd {float: none; width: auto; display: inline-block}\n",
              ".dl-inline>dt::after {content: \":\\0020\"; padding-right: .5ex}\n",
              ".dl-inline>dt:not(:first-of-type) {padding-left: .5ex}\n",
              "</style><dl class=dl-inline><dt>The Breakfast Club</dt><dd>1985</dd><dt>American Beauty</dt><dd>1999</dd><dt>Black Swan</dt><dd>2010</dd><dt>Chicago</dt><dd>2002</dd></dl>\n"
            ]
          },
          "metadata": {
            "tags": []
          }
        }
      ]
    },
    {
      "cell_type": "code",
      "metadata": {
        "id": "IDIencgNEads",
        "outputId": "abb6344f-e45e-4ddd-afb6-442b7ce694a6",
        "colab": {
          "base_uri": "https://localhost:8080/",
          "height": 34
        }
      },
      "source": [
        "# Now, you can retrieve the values based on the names:\n",
        "release_year[c(\"American Beauty\", \"Chicago\")]"
      ],
      "execution_count": 9,
      "outputs": [
        {
          "output_type": "display_data",
          "data": {
            "text/plain": [
              "American Beauty         Chicago \n",
              "           1999            2002 "
            ],
            "text/latex": "\\begin{description*}\n\\item[American Beauty] 1999\n\\item[Chicago] 2002\n\\end{description*}\n",
            "text/markdown": "American Beauty\n:   1999Chicago\n:   2002\n\n",
            "text/html": [
              "<style>\n",
              ".dl-inline {width: auto; margin:0; padding: 0}\n",
              ".dl-inline>dt, .dl-inline>dd {float: none; width: auto; display: inline-block}\n",
              ".dl-inline>dt::after {content: \":\\0020\"; padding-right: .5ex}\n",
              ".dl-inline>dt:not(:first-of-type) {padding-left: .5ex}\n",
              "</style><dl class=dl-inline><dt>American Beauty</dt><dd>1999</dd><dt>Chicago</dt><dd>2002</dd></dl>\n"
            ]
          },
          "metadata": {
            "tags": []
          }
        }
      ]
    },
    {
      "cell_type": "code",
      "metadata": {
        "id": "P3pehxfNFWrr",
        "outputId": "51a8c13e-ed3c-4a2b-968c-2c5768a095b3",
        "colab": {
          "base_uri": "https://localhost:8080/",
          "height": 34
        }
      },
      "source": [
        "names(release_year)"
      ],
      "execution_count": 10,
      "outputs": [
        {
          "output_type": "display_data",
          "data": {
            "text/plain": [
              "[1] \"The Breakfast Club\" \"American Beauty\"    \"Black Swan\"        \n",
              "[4] \"Chicago\"           "
            ],
            "text/latex": "\\begin{enumerate*}\n\\item 'The Breakfast Club'\n\\item 'American Beauty'\n\\item 'Black Swan'\n\\item 'Chicago'\n\\end{enumerate*}\n",
            "text/markdown": "1. 'The Breakfast Club'\n2. 'American Beauty'\n3. 'Black Swan'\n4. 'Chicago'\n\n\n",
            "text/html": [
              "<style>\n",
              ".list-inline {list-style: none; margin:0; padding: 0}\n",
              ".list-inline>li {display: inline-block}\n",
              ".list-inline>li:not(:last-child)::after {content: \"\\00b7\"; padding: 0 .5ex}\n",
              "</style>\n",
              "<ol class=list-inline><li>'The Breakfast Club'</li><li>'American Beauty'</li><li>'Black Swan'</li><li>'Chicago'</li></ol>\n"
            ]
          },
          "metadata": {
            "tags": []
          }
        }
      ]
    },
    {
      "cell_type": "markdown",
      "metadata": {
        "id": "0zP7hQymc4IZ"
      },
      "source": [
        "## 2.2 Vector Operations\n"
      ]
    },
    {
      "cell_type": "code",
      "metadata": {
        "id": "8mhXfZMndViF",
        "outputId": "9c739db1-7ad4-4019-c79b-9721b255ecc2",
        "colab": {
          "base_uri": "https://localhost:8080/",
          "height": 50
        }
      },
      "source": [
        "release_year <- c(1985, 1999, 2015, 1964)\n",
        "release_year\n",
        "# Adding more elements to a vector\n",
        "release_year <- c(release_year, 2016:2020)\n",
        "release_year"
      ],
      "execution_count": 11,
      "outputs": [
        {
          "output_type": "display_data",
          "data": {
            "text/plain": [
              "[1] 1985 1999 2015 1964"
            ],
            "text/latex": "\\begin{enumerate*}\n\\item 1985\n\\item 1999\n\\item 2015\n\\item 1964\n\\end{enumerate*}\n",
            "text/markdown": "1. 1985\n2. 1999\n3. 2015\n4. 1964\n\n\n",
            "text/html": [
              "<style>\n",
              ".list-inline {list-style: none; margin:0; padding: 0}\n",
              ".list-inline>li {display: inline-block}\n",
              ".list-inline>li:not(:last-child)::after {content: \"\\00b7\"; padding: 0 .5ex}\n",
              "</style>\n",
              "<ol class=list-inline><li>1985</li><li>1999</li><li>2015</li><li>1964</li></ol>\n"
            ]
          },
          "metadata": {
            "tags": []
          }
        },
        {
          "output_type": "display_data",
          "data": {
            "text/plain": [
              "[1] 1985 1999 2015 1964 2016 2017 2018 2019 2020"
            ],
            "text/latex": "\\begin{enumerate*}\n\\item 1985\n\\item 1999\n\\item 2015\n\\item 1964\n\\item 2016\n\\item 2017\n\\item 2018\n\\item 2019\n\\item 2020\n\\end{enumerate*}\n",
            "text/markdown": "1. 1985\n2. 1999\n3. 2015\n4. 1964\n5. 2016\n6. 2017\n7. 2018\n8. 2019\n9. 2020\n\n\n",
            "text/html": [
              "<style>\n",
              ".list-inline {list-style: none; margin:0; padding: 0}\n",
              ".list-inline>li {display: inline-block}\n",
              ".list-inline>li:not(:last-child)::after {content: \"\\00b7\"; padding: 0 .5ex}\n",
              "</style>\n",
              "<ol class=list-inline><li>1985</li><li>1999</li><li>2015</li><li>1964</li><li>2016</li><li>2017</li><li>2018</li><li>2019</li><li>2020</li></ol>\n"
            ]
          },
          "metadata": {
            "tags": []
          }
        }
      ]
    },
    {
      "cell_type": "code",
      "metadata": {
        "id": "Nyig2mH3dh3c",
        "outputId": "bd5a1451-1819-4e5e-adf7-179b654182dc",
        "colab": {
          "base_uri": "https://localhost:8080/",
          "height": 34
        }
      },
      "source": [
        "# Length of a vector\n",
        "length(release_year)"
      ],
      "execution_count": 12,
      "outputs": [
        {
          "output_type": "display_data",
          "data": {
            "text/plain": [
              "[1] 9"
            ],
            "text/latex": "9",
            "text/markdown": "9",
            "text/html": [
              "9"
            ]
          },
          "metadata": {
            "tags": []
          }
        }
      ]
    },
    {
      "cell_type": "code",
      "metadata": {
        "id": "JFNnry_edr0P",
        "outputId": "cc321e72-cf69-4ce4-cf4f-8424200a250d",
        "colab": {
          "base_uri": "https://localhost:8080/",
          "height": 50
        }
      },
      "source": [
        "# Head and Tail of a vector\n",
        "head(release_year) #first six items\n",
        "tail(release_year) #last six items"
      ],
      "execution_count": 13,
      "outputs": [
        {
          "output_type": "display_data",
          "data": {
            "text/plain": [
              "[1] 1985 1999 2015 1964 2016 2017"
            ],
            "text/latex": "\\begin{enumerate*}\n\\item 1985\n\\item 1999\n\\item 2015\n\\item 1964\n\\item 2016\n\\item 2017\n\\end{enumerate*}\n",
            "text/markdown": "1. 1985\n2. 1999\n3. 2015\n4. 1964\n5. 2016\n6. 2017\n\n\n",
            "text/html": [
              "<style>\n",
              ".list-inline {list-style: none; margin:0; padding: 0}\n",
              ".list-inline>li {display: inline-block}\n",
              ".list-inline>li:not(:last-child)::after {content: \"\\00b7\"; padding: 0 .5ex}\n",
              "</style>\n",
              "<ol class=list-inline><li>1985</li><li>1999</li><li>2015</li><li>1964</li><li>2016</li><li>2017</li></ol>\n"
            ]
          },
          "metadata": {
            "tags": []
          }
        },
        {
          "output_type": "display_data",
          "data": {
            "text/plain": [
              "[1] 1964 2016 2017 2018 2019 2020"
            ],
            "text/latex": "\\begin{enumerate*}\n\\item 1964\n\\item 2016\n\\item 2017\n\\item 2018\n\\item 2019\n\\item 2020\n\\end{enumerate*}\n",
            "text/markdown": "1. 1964\n2. 2016\n3. 2017\n4. 2018\n5. 2019\n6. 2020\n\n\n",
            "text/html": [
              "<style>\n",
              ".list-inline {list-style: none; margin:0; padding: 0}\n",
              ".list-inline>li {display: inline-block}\n",
              ".list-inline>li:not(:last-child)::after {content: \"\\00b7\"; padding: 0 .5ex}\n",
              "</style>\n",
              "<ol class=list-inline><li>1964</li><li>2016</li><li>2017</li><li>2018</li><li>2019</li><li>2020</li></ol>\n"
            ]
          },
          "metadata": {
            "tags": []
          }
        }
      ]
    },
    {
      "cell_type": "code",
      "metadata": {
        "id": "tCfhSg3vd77k",
        "outputId": "b30845f6-f24d-4073-f445-160d3abd7c2f",
        "colab": {
          "base_uri": "https://localhost:8080/",
          "height": 34
        }
      },
      "source": [
        "# Sorting a vector\n",
        "sort(release_year)"
      ],
      "execution_count": 14,
      "outputs": [
        {
          "output_type": "display_data",
          "data": {
            "text/plain": [
              "[1] 1964 1985 1999 2015 2016 2017 2018 2019 2020"
            ],
            "text/latex": "\\begin{enumerate*}\n\\item 1964\n\\item 1985\n\\item 1999\n\\item 2015\n\\item 2016\n\\item 2017\n\\item 2018\n\\item 2019\n\\item 2020\n\\end{enumerate*}\n",
            "text/markdown": "1. 1964\n2. 1985\n3. 1999\n4. 2015\n5. 2016\n6. 2017\n7. 2018\n8. 2019\n9. 2020\n\n\n",
            "text/html": [
              "<style>\n",
              ".list-inline {list-style: none; margin:0; padding: 0}\n",
              ".list-inline>li {display: inline-block}\n",
              ".list-inline>li:not(:last-child)::after {content: \"\\00b7\"; padding: 0 .5ex}\n",
              "</style>\n",
              "<ol class=list-inline><li>1964</li><li>1985</li><li>1999</li><li>2015</li><li>2016</li><li>2017</li><li>2018</li><li>2019</li><li>2020</li></ol>\n"
            ]
          },
          "metadata": {
            "tags": []
          }
        }
      ]
    },
    {
      "cell_type": "code",
      "metadata": {
        "id": "sc4UH57AeKZ_",
        "outputId": "cc9500d5-7174-4f53-8719-0f4449118525",
        "colab": {
          "base_uri": "https://localhost:8080/",
          "height": 34
        }
      },
      "source": [
        "sort(release_year, decreasing = T)"
      ],
      "execution_count": 15,
      "outputs": [
        {
          "output_type": "display_data",
          "data": {
            "text/plain": [
              "[1] 2020 2019 2018 2017 2016 2015 1999 1985 1964"
            ],
            "text/latex": "\\begin{enumerate*}\n\\item 2020\n\\item 2019\n\\item 2018\n\\item 2017\n\\item 2016\n\\item 2015\n\\item 1999\n\\item 1985\n\\item 1964\n\\end{enumerate*}\n",
            "text/markdown": "1. 2020\n2. 2019\n3. 2018\n4. 2017\n5. 2016\n6. 2015\n7. 1999\n8. 1985\n9. 1964\n\n\n",
            "text/html": [
              "<style>\n",
              ".list-inline {list-style: none; margin:0; padding: 0}\n",
              ".list-inline>li {display: inline-block}\n",
              ".list-inline>li:not(:last-child)::after {content: \"\\00b7\"; padding: 0 .5ex}\n",
              "</style>\n",
              "<ol class=list-inline><li>2020</li><li>2019</li><li>2018</li><li>2017</li><li>2016</li><li>2015</li><li>1999</li><li>1985</li><li>1964</li></ol>\n"
            ]
          },
          "metadata": {
            "tags": []
          }
        }
      ]
    },
    {
      "cell_type": "code",
      "metadata": {
        "id": "hQCFAT_8eQfx",
        "outputId": "23906bcb-8bd6-49a5-f6bc-0c9835fadee8",
        "colab": {
          "base_uri": "https://localhost:8080/",
          "height": 50
        }
      },
      "source": [
        "# minimum and maximum values of a vector, you can use the **`min()`** and **`max()`** functions\n",
        "min(release_year)\n",
        "max(release_year)"
      ],
      "execution_count": 16,
      "outputs": [
        {
          "output_type": "display_data",
          "data": {
            "text/plain": [
              "[1] 1964"
            ],
            "text/latex": "1964",
            "text/markdown": "1964",
            "text/html": [
              "1964"
            ]
          },
          "metadata": {
            "tags": []
          }
        },
        {
          "output_type": "display_data",
          "data": {
            "text/plain": [
              "[1] 2020"
            ],
            "text/latex": "2020",
            "text/markdown": "2020",
            "text/html": [
              "2020"
            ]
          },
          "metadata": {
            "tags": []
          }
        }
      ]
    },
    {
      "cell_type": "code",
      "metadata": {
        "id": "uWK7vQcSeVUp",
        "outputId": "8e07ab0c-8672-4d10-cf9c-59bbc26a706e",
        "colab": {
          "base_uri": "https://localhost:8080/",
          "height": 101
        }
      },
      "source": [
        "# Simple Stat Vectors\n",
        "cost <- c(12.8,11,8.6,9.3,14.2,10.9)\n",
        "mean(cost)\n",
        "median(cost)\n",
        "sum(cost)\n",
        "# Summary of Vectors\n",
        "summary(cost)"
      ],
      "execution_count": 17,
      "outputs": [
        {
          "output_type": "display_data",
          "data": {
            "text/plain": [
              "[1] 11.13333"
            ],
            "text/latex": "11.1333333333333",
            "text/markdown": "11.1333333333333",
            "text/html": [
              "11.1333333333333"
            ]
          },
          "metadata": {
            "tags": []
          }
        },
        {
          "output_type": "display_data",
          "data": {
            "text/plain": [
              "[1] 10.95"
            ],
            "text/latex": "10.95",
            "text/markdown": "10.95",
            "text/html": [
              "10.95"
            ]
          },
          "metadata": {
            "tags": []
          }
        },
        {
          "output_type": "display_data",
          "data": {
            "text/plain": [
              "[1] 66.8"
            ],
            "text/latex": "66.8",
            "text/markdown": "66.8",
            "text/html": [
              "66.8"
            ]
          },
          "metadata": {
            "tags": []
          }
        },
        {
          "output_type": "display_data",
          "data": {
            "text/plain": [
              "   Min. 1st Qu.  Median    Mean 3rd Qu.    Max. \n",
              "   8.60    9.70   10.95   11.13   12.35   14.20 "
            ]
          },
          "metadata": {
            "tags": []
          }
        }
      ]
    },
    {
      "cell_type": "markdown",
      "metadata": {
        "id": "h3qvoyKSjgVC"
      },
      "source": [
        "## 3.3 Vector Selection\n",
        "**Impotant: R use one as Staring index.**"
      ]
    },
    {
      "cell_type": "code",
      "metadata": {
        "id": "hlfnW6RfgAOK",
        "outputId": "6e3401fb-3593-49a4-c50a-1db5646a3290",
        "colab": {
          "base_uri": "https://localhost:8080/",
          "height": 84
        }
      },
      "source": [
        "# Assigning Two Variables shop with respective sells\n",
        "shop1 <- c(140, -50, 20, -120, 240)\n",
        "shop2 <- c(-24, -50, 100, -350, 10)\n",
        "\n",
        "# Creating Name Varibale\n",
        "days <- c(\"Monday\", \"Tuesday\", \"Wednesday\", \"Thursday\", \"Friday\")\n",
        "\n",
        "#Assigning Names\n",
        "names(shop1) <- days\n",
        "names(shop2) <- days\n",
        "\n",
        "# Index Based selection\n",
        "shop1[1] # one based index\n",
        "shop2[2] \n",
        "\n",
        "# Name Based Selection\n",
        "shop1['Friday']\n",
        "shop2[c(\"Monday\",\"Tuesday\")]"
      ],
      "execution_count": 20,
      "outputs": [
        {
          "output_type": "display_data",
          "data": {
            "text/plain": [
              "Monday \n",
              "   140 "
            ],
            "text/latex": "\\textbf{Monday:} 140",
            "text/markdown": "**Monday:** 140",
            "text/html": [
              "<strong>Monday:</strong> 140"
            ]
          },
          "metadata": {
            "tags": []
          }
        },
        {
          "output_type": "display_data",
          "data": {
            "text/plain": [
              "Tuesday \n",
              "    -50 "
            ],
            "text/latex": "\\textbf{Tuesday:} -50",
            "text/markdown": "**Tuesday:** -50",
            "text/html": [
              "<strong>Tuesday:</strong> -50"
            ]
          },
          "metadata": {
            "tags": []
          }
        },
        {
          "output_type": "display_data",
          "data": {
            "text/plain": [
              "Friday \n",
              "   240 "
            ],
            "text/latex": "\\textbf{Friday:} 240",
            "text/markdown": "**Friday:** 240",
            "text/html": [
              "<strong>Friday:</strong> 240"
            ]
          },
          "metadata": {
            "tags": []
          }
        },
        {
          "output_type": "display_data",
          "data": {
            "text/plain": [
              " Monday Tuesday \n",
              "    -24     -50 "
            ],
            "text/latex": "\\begin{description*}\n\\item[Monday] -24\n\\item[Tuesday] -50\n\\end{description*}\n",
            "text/markdown": "Monday\n:   -24Tuesday\n:   -50\n\n",
            "text/html": [
              "<style>\n",
              ".dl-inline {width: auto; margin:0; padding: 0}\n",
              ".dl-inline>dt, .dl-inline>dd {float: none; width: auto; display: inline-block}\n",
              ".dl-inline>dt::after {content: \":\\0020\"; padding-right: .5ex}\n",
              ".dl-inline>dt:not(:first-of-type) {padding-left: .5ex}\n",
              "</style><dl class=dl-inline><dt>Monday</dt><dd>-24</dd><dt>Tuesday</dt><dd>-50</dd></dl>\n"
            ]
          },
          "metadata": {
            "tags": []
          }
        }
      ]
    },
    {
      "cell_type": "code",
      "metadata": {
        "id": "ID4r5fqnkYdK",
        "outputId": "c08bf53b-cd60-49f9-bade-37931c3d0360",
        "colab": {
          "base_uri": "https://localhost:8080/",
          "height": 50
        }
      },
      "source": [
        "# Selection using combine function c()\n",
        "shop1[c(2,3,4)]\n",
        "shop2[c(2:4)]"
      ],
      "execution_count": 21,
      "outputs": [
        {
          "output_type": "display_data",
          "data": {
            "text/plain": [
              "  Tuesday Wednesday  Thursday \n",
              "      -50        20      -120 "
            ],
            "text/latex": "\\begin{description*}\n\\item[Tuesday] -50\n\\item[Wednesday] 20\n\\item[Thursday] -120\n\\end{description*}\n",
            "text/markdown": "Tuesday\n:   -50Wednesday\n:   20Thursday\n:   -120\n\n",
            "text/html": [
              "<style>\n",
              ".dl-inline {width: auto; margin:0; padding: 0}\n",
              ".dl-inline>dt, .dl-inline>dd {float: none; width: auto; display: inline-block}\n",
              ".dl-inline>dt::after {content: \":\\0020\"; padding-right: .5ex}\n",
              ".dl-inline>dt:not(:first-of-type) {padding-left: .5ex}\n",
              "</style><dl class=dl-inline><dt>Tuesday</dt><dd>-50</dd><dt>Wednesday</dt><dd>20</dd><dt>Thursday</dt><dd>-120</dd></dl>\n"
            ]
          },
          "metadata": {
            "tags": []
          }
        },
        {
          "output_type": "display_data",
          "data": {
            "text/plain": [
              "  Tuesday Wednesday  Thursday \n",
              "      -50       100      -350 "
            ],
            "text/latex": "\\begin{description*}\n\\item[Tuesday] -50\n\\item[Wednesday] 100\n\\item[Thursday] -350\n\\end{description*}\n",
            "text/markdown": "Tuesday\n:   -50Wednesday\n:   100Thursday\n:   -350\n\n",
            "text/html": [
              "<style>\n",
              ".dl-inline {width: auto; margin:0; padding: 0}\n",
              ".dl-inline>dt, .dl-inline>dd {float: none; width: auto; display: inline-block}\n",
              ".dl-inline>dt::after {content: \":\\0020\"; padding-right: .5ex}\n",
              ".dl-inline>dt:not(:first-of-type) {padding-left: .5ex}\n",
              "</style><dl class=dl-inline><dt>Tuesday</dt><dd>-50</dd><dt>Wednesday</dt><dd>100</dd><dt>Thursday</dt><dd>-350</dd></dl>\n"
            ]
          },
          "metadata": {
            "tags": []
          }
        }
      ]
    },
    {
      "cell_type": "markdown",
      "metadata": {
        "id": "LtNjJVdBlrOB"
      },
      "source": [
        "### Selection by comparison \n",
        "By making use of comparison operators, \n",
        "The (logical) comparison operators known to R are:\n",
        "- `<` for less than\n",
        "- `>` for greater than\n",
        "- `<=` for less than or equal to\n",
        "- `>=` for greater than or equal to\n",
        "- `==` for equal to each other\n",
        "- `!=` not equal to each other\n"
      ]
    },
    {
      "cell_type": "code",
      "metadata": {
        "id": "4dHrGf-zlD4F",
        "outputId": "9b2c8adc-b9ac-402b-df88-c4a0d0eba19b",
        "colab": {
          "base_uri": "https://localhost:8080/",
          "height": 34
        }
      },
      "source": [
        "# logical comparison\n",
        "profit <- shop1 > 0\n",
        "profit"
      ],
      "execution_count": 22,
      "outputs": [
        {
          "output_type": "display_data",
          "data": {
            "text/plain": [
              "   Monday   Tuesday Wednesday  Thursday    Friday \n",
              "     TRUE     FALSE      TRUE     FALSE      TRUE "
            ],
            "text/latex": "\\begin{description*}\n\\item[Monday] TRUE\n\\item[Tuesday] FALSE\n\\item[Wednesday] TRUE\n\\item[Thursday] FALSE\n\\item[Friday] TRUE\n\\end{description*}\n",
            "text/markdown": "Monday\n:   TRUETuesday\n:   FALSEWednesday\n:   TRUEThursday\n:   FALSEFriday\n:   TRUE\n\n",
            "text/html": [
              "<style>\n",
              ".dl-inline {width: auto; margin:0; padding: 0}\n",
              ".dl-inline>dt, .dl-inline>dd {float: none; width: auto; display: inline-block}\n",
              ".dl-inline>dt::after {content: \":\\0020\"; padding-right: .5ex}\n",
              ".dl-inline>dt:not(:first-of-type) {padding-left: .5ex}\n",
              "</style><dl class=dl-inline><dt>Monday</dt><dd>TRUE</dd><dt>Tuesday</dt><dd>FALSE</dd><dt>Wednesday</dt><dd>TRUE</dd><dt>Thursday</dt><dd>FALSE</dd><dt>Friday</dt><dd>TRUE</dd></dl>\n"
            ]
          },
          "metadata": {
            "tags": []
          }
        }
      ]
    },
    {
      "cell_type": "code",
      "metadata": {
        "id": "KrMPIeExmfRX",
        "outputId": "b5e150f3-d8c7-4e02-864d-3269ede7114c",
        "colab": {
          "base_uri": "https://localhost:8080/",
          "height": 34
        }
      },
      "source": [
        "# subseting\n",
        "shop1[profit]"
      ],
      "execution_count": 23,
      "outputs": [
        {
          "output_type": "display_data",
          "data": {
            "text/plain": [
              "   Monday Wednesday    Friday \n",
              "      140        20       240 "
            ],
            "text/latex": "\\begin{description*}\n\\item[Monday] 140\n\\item[Wednesday] 20\n\\item[Friday] 240\n\\end{description*}\n",
            "text/markdown": "Monday\n:   140Wednesday\n:   20Friday\n:   240\n\n",
            "text/html": [
              "<style>\n",
              ".dl-inline {width: auto; margin:0; padding: 0}\n",
              ".dl-inline>dt, .dl-inline>dd {float: none; width: auto; display: inline-block}\n",
              ".dl-inline>dt::after {content: \":\\0020\"; padding-right: .5ex}\n",
              ".dl-inline>dt:not(:first-of-type) {padding-left: .5ex}\n",
              "</style><dl class=dl-inline><dt>Monday</dt><dd>140</dd><dt>Wednesday</dt><dd>20</dd><dt>Friday</dt><dd>240</dd></dl>\n"
            ]
          },
          "metadata": {
            "tags": []
          }
        }
      ]
    },
    {
      "cell_type": "markdown",
      "metadata": {
        "id": "ye7yTo-RnExY"
      },
      "source": [
        "# 3. Working with Matrix\n",
        "**In R, a matrix is a collection of elements of the same data type (numeric, character, or logical) arranged into a fixed number of rows and columns.**\n",
        "You can construct a matrix in R with the `matrix()` function. Consider the following example:\n",
        "\n",
        "`matrix(1:12, byrow = TRUE, nrow = 3)`\n",
        "- The first argument is the collection of elements that R will arrange into the rows and columns of the matrix. Here, we use 1:12 which is a shortcut for c(1, 2, 3, 4, 5, 6, 7, 8, 9, 10, 11, 12).\n",
        "- The argument **byrow** indicates that the matrix is filled by the rows. If we want the matrix to be filled by the columns, we just place byrow = FALSE.\n",
        "- The third argument nrow indicates that the matrix should have three rows."
      ]
    },
    {
      "cell_type": "code",
      "metadata": {
        "id": "Evyx8o9jmpVU",
        "outputId": "e70b002d-9eb7-4104-84f0-47fedc57e217",
        "colab": {
          "base_uri": "https://localhost:8080/",
          "height": 149
        }
      },
      "source": [
        "# Construct a matrix with 3 rows that contain the numbers 1 up to 9\n",
        "matrix(1:12,byrow=TRUE,nrow =4)"
      ],
      "execution_count": 35,
      "outputs": [
        {
          "output_type": "display_data",
          "data": {
            "text/plain": [
              "     [,1] [,2] [,3]\n",
              "[1,]  1    2    3  \n",
              "[2,]  4    5    6  \n",
              "[3,]  7    8    9  \n",
              "[4,] 10   11   12  "
            ],
            "text/latex": "A matrix: 4 × 3 of type int\n\\begin{tabular}{lll}\n\t  1 &  2 &  3\\\\\n\t  4 &  5 &  6\\\\\n\t  7 &  8 &  9\\\\\n\t 10 & 11 & 12\\\\\n\\end{tabular}\n",
            "text/markdown": "\nA matrix: 4 × 3 of type int\n\n|  1 |  2 |  3 |\n|  4 |  5 |  6 |\n|  7 |  8 |  9 |\n| 10 | 11 | 12 |\n\n",
            "text/html": [
              "<table>\n",
              "<caption>A matrix: 4 × 3 of type int</caption>\n",
              "<tbody>\n",
              "\t<tr><td> 1</td><td> 2</td><td> 3</td></tr>\n",
              "\t<tr><td> 4</td><td> 5</td><td> 6</td></tr>\n",
              "\t<tr><td> 7</td><td> 8</td><td> 9</td></tr>\n",
              "\t<tr><td>10</td><td>11</td><td>12</td></tr>\n",
              "</tbody>\n",
              "</table>\n"
            ]
          },
          "metadata": {
            "tags": []
          }
        }
      ]
    },
    {
      "cell_type": "code",
      "metadata": {
        "id": "u_fe5VCXoA-C",
        "outputId": "4bc5bf85-8a14-4a8a-e056-ab3ff90939e3",
        "colab": {
          "base_uri": "https://localhost:8080/",
          "height": 112
        }
      },
      "source": [
        "# Using Vectors to construct matrix\n",
        "\n",
        "# Creating Vectors\n",
        "toy_story <- c(1995,81,8.3)\n",
        "akira <- c(1998,125,8.1)\n",
        "room <- c(2015,118,8.3)\n",
        "\n",
        "# Creating Matrix\n",
        "movies <- c(toy_story,akira,room)\n",
        "movies_matrix <- matrix(movies,byrow = TRUE,nrow = 3)\n",
        "movies_matrix"
      ],
      "execution_count": 34,
      "outputs": [
        {
          "output_type": "display_data",
          "data": {
            "text/plain": [
              "     [,1] [,2] [,3]\n",
              "[1,] 1995  81  8.3 \n",
              "[2,] 1998 125  8.1 \n",
              "[3,] 2015 118  8.3 "
            ],
            "text/latex": "A matrix: 3 × 3 of type dbl\n\\begin{tabular}{lll}\n\t 1995 &  81 & 8.3\\\\\n\t 1998 & 125 & 8.1\\\\\n\t 2015 & 118 & 8.3\\\\\n\\end{tabular}\n",
            "text/markdown": "\nA matrix: 3 × 3 of type dbl\n\n| 1995 |  81 | 8.3 |\n| 1998 | 125 | 8.1 |\n| 2015 | 118 | 8.3 |\n\n",
            "text/html": [
              "<table>\n",
              "<caption>A matrix: 3 × 3 of type dbl</caption>\n",
              "<tbody>\n",
              "\t<tr><td>1995</td><td> 81</td><td>8.3</td></tr>\n",
              "\t<tr><td>1998</td><td>125</td><td>8.1</td></tr>\n",
              "\t<tr><td>2015</td><td>118</td><td>8.3</td></tr>\n",
              "</tbody>\n",
              "</table>\n"
            ]
          },
          "metadata": {
            "tags": []
          }
        }
      ]
    },
    {
      "cell_type": "markdown",
      "metadata": {
        "id": "LEUNCr1ksHK7"
      },
      "source": [
        "## 3.1 Naming a matrix\n",
        "Similar to vectors, you can add names for the rows and the columns of a matrix\n",
        "```\n",
        "rownames(my_matrix) <- row_names_vector\n",
        "colnames(my_matrix) <- col_names_vector\n",
        "```\n"
      ]
    },
    {
      "cell_type": "code",
      "metadata": {
        "id": "ak9UDLrYr5kO",
        "outputId": "b786da99-3838-49d2-accf-0f4e9e143802",
        "colab": {
          "base_uri": "https://localhost:8080/",
          "height": 115
        }
      },
      "source": [
        "rownames(movies_matrix) <- c('toy_story','akira','room')\n",
        "colnames(movies_matrix) <- c('year','length_min','rating')\n",
        "movies_matrix"
      ],
      "execution_count": 36,
      "outputs": [
        {
          "output_type": "display_data",
          "data": {
            "text/plain": [
              "          year length_min rating\n",
              "toy_story 1995  81        8.3   \n",
              "akira     1998 125        8.1   \n",
              "room      2015 118        8.3   "
            ],
            "text/latex": "A matrix: 3 × 3 of type dbl\n\\begin{tabular}{r|lll}\n  & year & length\\_min & rating\\\\\n\\hline\n\ttoy\\_story & 1995 &  81 & 8.3\\\\\n\takira & 1998 & 125 & 8.1\\\\\n\troom & 2015 & 118 & 8.3\\\\\n\\end{tabular}\n",
            "text/markdown": "\nA matrix: 3 × 3 of type dbl\n\n| <!--/--> | year | length_min | rating |\n|---|---|---|---|\n| toy_story | 1995 |  81 | 8.3 |\n| akira | 1998 | 125 | 8.1 |\n| room | 2015 | 118 | 8.3 |\n\n",
            "text/html": [
              "<table>\n",
              "<caption>A matrix: 3 × 3 of type dbl</caption>\n",
              "<thead>\n",
              "\t<tr><th></th><th scope=col>year</th><th scope=col>length_min</th><th scope=col>rating</th></tr>\n",
              "</thead>\n",
              "<tbody>\n",
              "\t<tr><th scope=row>toy_story</th><td>1995</td><td> 81</td><td>8.3</td></tr>\n",
              "\t<tr><th scope=row>akira</th><td>1998</td><td>125</td><td>8.1</td></tr>\n",
              "\t<tr><th scope=row>room</th><td>2015</td><td>118</td><td>8.3</td></tr>\n",
              "</tbody>\n",
              "</table>\n"
            ]
          },
          "metadata": {
            "tags": []
          }
        }
      ]
    },
    {
      "cell_type": "markdown",
      "metadata": {
        "id": "-FD_wBLmtsrm"
      },
      "source": [
        "## 3.2 Adding Rows and Columns to Matrix\n",
        "- `cbind()` function merges matrices and/or vectors together by column. For example: `big_matrix <- cbind(matrix1, matrix2, vector1 ...)`\n",
        "- `rbind()` function merges matrices and/or vectors together by row For example: `big_matrix <- rbind(matrix1, matrix2, vector1 ...)`"
      ]
    },
    {
      "cell_type": "code",
      "metadata": {
        "id": "EP5muUg8s44z"
      },
      "source": [
        "# Merging vector as a Column\n",
        "cost <- c(30,10.4,13)\n",
        "movies_matrix <- cbind(movies_matrix, cost)"
      ],
      "execution_count": 37,
      "outputs": []
    },
    {
      "cell_type": "code",
      "metadata": {
        "id": "b25BEcHwuk4A",
        "outputId": "8df9d34d-d88c-4404-9b2d-e440fc14a58e",
        "colab": {
          "base_uri": "https://localhost:8080/",
          "height": 115
        }
      },
      "source": [
        "movies_matrix"
      ],
      "execution_count": 38,
      "outputs": [
        {
          "output_type": "display_data",
          "data": {
            "text/plain": [
              "          year length_min rating cost\n",
              "toy_story 1995  81        8.3    30.0\n",
              "akira     1998 125        8.1    10.4\n",
              "room      2015 118        8.3    13.0"
            ],
            "text/latex": "A matrix: 3 × 4 of type dbl\n\\begin{tabular}{r|llll}\n  & year & length\\_min & rating & cost\\\\\n\\hline\n\ttoy\\_story & 1995 &  81 & 8.3 & 30.0\\\\\n\takira & 1998 & 125 & 8.1 & 10.4\\\\\n\troom & 2015 & 118 & 8.3 & 13.0\\\\\n\\end{tabular}\n",
            "text/markdown": "\nA matrix: 3 × 4 of type dbl\n\n| <!--/--> | year | length_min | rating | cost |\n|---|---|---|---|---|\n| toy_story | 1995 |  81 | 8.3 | 30.0 |\n| akira | 1998 | 125 | 8.1 | 10.4 |\n| room | 2015 | 118 | 8.3 | 13.0 |\n\n",
            "text/html": [
              "<table>\n",
              "<caption>A matrix: 3 × 4 of type dbl</caption>\n",
              "<thead>\n",
              "\t<tr><th></th><th scope=col>year</th><th scope=col>length_min</th><th scope=col>rating</th><th scope=col>cost</th></tr>\n",
              "</thead>\n",
              "<tbody>\n",
              "\t<tr><th scope=row>toy_story</th><td>1995</td><td> 81</td><td>8.3</td><td>30.0</td></tr>\n",
              "\t<tr><th scope=row>akira</th><td>1998</td><td>125</td><td>8.1</td><td>10.4</td></tr>\n",
              "\t<tr><th scope=row>room</th><td>2015</td><td>118</td><td>8.3</td><td>13.0</td></tr>\n",
              "</tbody>\n",
              "</table>\n"
            ]
          },
          "metadata": {
            "tags": []
          }
        }
      ]
    },
    {
      "cell_type": "code",
      "metadata": {
        "id": "qdpcQk8RumDi"
      },
      "source": [
        "# Maring new Row from vector\n",
        "casino <- c(1995,178,8.2,50)\n",
        "movies_matrix <- rbind(movies_matrix,casino)"
      ],
      "execution_count": 39,
      "outputs": []
    },
    {
      "cell_type": "code",
      "metadata": {
        "id": "Vu65nkqhvYd1",
        "outputId": "9543bff7-5278-4bb8-9f40-760b90ae3bd0",
        "colab": {
          "base_uri": "https://localhost:8080/",
          "height": 135
        }
      },
      "source": [
        "movies_matrix"
      ],
      "execution_count": 40,
      "outputs": [
        {
          "output_type": "display_data",
          "data": {
            "text/plain": [
              "          year length_min rating cost\n",
              "toy_story 1995  81        8.3    30.0\n",
              "akira     1998 125        8.1    10.4\n",
              "room      2015 118        8.3    13.0\n",
              "casino    1995 178        8.2    50.0"
            ],
            "text/latex": "A matrix: 4 × 4 of type dbl\n\\begin{tabular}{r|llll}\n  & year & length\\_min & rating & cost\\\\\n\\hline\n\ttoy\\_story & 1995 &  81 & 8.3 & 30.0\\\\\n\takira & 1998 & 125 & 8.1 & 10.4\\\\\n\troom & 2015 & 118 & 8.3 & 13.0\\\\\n\tcasino & 1995 & 178 & 8.2 & 50.0\\\\\n\\end{tabular}\n",
            "text/markdown": "\nA matrix: 4 × 4 of type dbl\n\n| <!--/--> | year | length_min | rating | cost |\n|---|---|---|---|---|\n| toy_story | 1995 |  81 | 8.3 | 30.0 |\n| akira | 1998 | 125 | 8.1 | 10.4 |\n| room | 2015 | 118 | 8.3 | 13.0 |\n| casino | 1995 | 178 | 8.2 | 50.0 |\n\n",
            "text/html": [
              "<table>\n",
              "<caption>A matrix: 4 × 4 of type dbl</caption>\n",
              "<thead>\n",
              "\t<tr><th></th><th scope=col>year</th><th scope=col>length_min</th><th scope=col>rating</th><th scope=col>cost</th></tr>\n",
              "</thead>\n",
              "<tbody>\n",
              "\t<tr><th scope=row>toy_story</th><td>1995</td><td> 81</td><td>8.3</td><td>30.0</td></tr>\n",
              "\t<tr><th scope=row>akira</th><td>1998</td><td>125</td><td>8.1</td><td>10.4</td></tr>\n",
              "\t<tr><th scope=row>room</th><td>2015</td><td>118</td><td>8.3</td><td>13.0</td></tr>\n",
              "\t<tr><th scope=row>casino</th><td>1995</td><td>178</td><td>8.2</td><td>50.0</td></tr>\n",
              "</tbody>\n",
              "</table>\n"
            ]
          },
          "metadata": {
            "tags": []
          }
        }
      ]
    },
    {
      "cell_type": "markdown",
      "metadata": {
        "id": "jra7hJoewg-i"
      },
      "source": [
        "## 3.3 Selection of matrix elements\n",
        "Similar to vectors, you can use the square brackets `[ ]` to select one or multiple elements from a matrix. Whereas vectors have one dimension, matrices have two dimensions. You should therefore use a comma to separate the rows you want to select from the columns. For example:\n",
        "- `my_matrix[row,col]`\n",
        "- `my_matrix[1,2]` selects the element at the first row and second column.\n",
        "- `my_matrix[1:3,2:4]` results in a matrix with the data on the rows 1, 2, 3 and columns 2, 3, 4."
      ]
    },
    {
      "cell_type": "code",
      "metadata": {
        "id": "nPbN_u2i1mfk",
        "outputId": "fccd5f5b-67a5-4a95-9ae7-0bf99dea71d2",
        "colab": {
          "base_uri": "https://localhost:8080/",
          "height": 135
        }
      },
      "source": [
        "movies_matrix"
      ],
      "execution_count": 41,
      "outputs": [
        {
          "output_type": "display_data",
          "data": {
            "text/plain": [
              "          year length_min rating cost\n",
              "toy_story 1995  81        8.3    30.0\n",
              "akira     1998 125        8.1    10.4\n",
              "room      2015 118        8.3    13.0\n",
              "casino    1995 178        8.2    50.0"
            ],
            "text/latex": "A matrix: 4 × 4 of type dbl\n\\begin{tabular}{r|llll}\n  & year & length\\_min & rating & cost\\\\\n\\hline\n\ttoy\\_story & 1995 &  81 & 8.3 & 30.0\\\\\n\takira & 1998 & 125 & 8.1 & 10.4\\\\\n\troom & 2015 & 118 & 8.3 & 13.0\\\\\n\tcasino & 1995 & 178 & 8.2 & 50.0\\\\\n\\end{tabular}\n",
            "text/markdown": "\nA matrix: 4 × 4 of type dbl\n\n| <!--/--> | year | length_min | rating | cost |\n|---|---|---|---|---|\n| toy_story | 1995 |  81 | 8.3 | 30.0 |\n| akira | 1998 | 125 | 8.1 | 10.4 |\n| room | 2015 | 118 | 8.3 | 13.0 |\n| casino | 1995 | 178 | 8.2 | 50.0 |\n\n",
            "text/html": [
              "<table>\n",
              "<caption>A matrix: 4 × 4 of type dbl</caption>\n",
              "<thead>\n",
              "\t<tr><th></th><th scope=col>year</th><th scope=col>length_min</th><th scope=col>rating</th><th scope=col>cost</th></tr>\n",
              "</thead>\n",
              "<tbody>\n",
              "\t<tr><th scope=row>toy_story</th><td>1995</td><td> 81</td><td>8.3</td><td>30.0</td></tr>\n",
              "\t<tr><th scope=row>akira</th><td>1998</td><td>125</td><td>8.1</td><td>10.4</td></tr>\n",
              "\t<tr><th scope=row>room</th><td>2015</td><td>118</td><td>8.3</td><td>13.0</td></tr>\n",
              "\t<tr><th scope=row>casino</th><td>1995</td><td>178</td><td>8.2</td><td>50.0</td></tr>\n",
              "</tbody>\n",
              "</table>\n"
            ]
          },
          "metadata": {
            "tags": []
          }
        }
      ]
    },
    {
      "cell_type": "code",
      "metadata": {
        "id": "-QK8vZ2xvZq3",
        "outputId": "1c94c49b-b416-4cf0-8c1d-6ad8d9c70293",
        "colab": {
          "base_uri": "https://localhost:8080/",
          "height": 95
        }
      },
      "source": [
        "movies_matrix[2:3,1:4]"
      ],
      "execution_count": 42,
      "outputs": [
        {
          "output_type": "display_data",
          "data": {
            "text/plain": [
              "      year length_min rating cost\n",
              "akira 1998 125        8.1    10.4\n",
              "room  2015 118        8.3    13.0"
            ],
            "text/latex": "A matrix: 2 × 4 of type dbl\n\\begin{tabular}{r|llll}\n  & year & length\\_min & rating & cost\\\\\n\\hline\n\takira & 1998 & 125 & 8.1 & 10.4\\\\\n\troom & 2015 & 118 & 8.3 & 13.0\\\\\n\\end{tabular}\n",
            "text/markdown": "\nA matrix: 2 × 4 of type dbl\n\n| <!--/--> | year | length_min | rating | cost |\n|---|---|---|---|---|\n| akira | 1998 | 125 | 8.1 | 10.4 |\n| room | 2015 | 118 | 8.3 | 13.0 |\n\n",
            "text/html": [
              "<table>\n",
              "<caption>A matrix: 2 × 4 of type dbl</caption>\n",
              "<thead>\n",
              "\t<tr><th></th><th scope=col>year</th><th scope=col>length_min</th><th scope=col>rating</th><th scope=col>cost</th></tr>\n",
              "</thead>\n",
              "<tbody>\n",
              "\t<tr><th scope=row>akira</th><td>1998</td><td>125</td><td>8.1</td><td>10.4</td></tr>\n",
              "\t<tr><th scope=row>room</th><td>2015</td><td>118</td><td>8.3</td><td>13.0</td></tr>\n",
              "</tbody>\n",
              "</table>\n"
            ]
          },
          "metadata": {
            "tags": []
          }
        }
      ]
    },
    {
      "cell_type": "code",
      "metadata": {
        "id": "Evy5xjumw-Fe",
        "outputId": "57ddcebb-1713-4db4-83eb-0b98347a21f1",
        "colab": {
          "base_uri": "https://localhost:8080/",
          "height": 34
        }
      },
      "source": [
        "movies_matrix[,1] # selects all elements of the first column."
      ],
      "execution_count": 43,
      "outputs": [
        {
          "output_type": "display_data",
          "data": {
            "text/plain": [
              "toy_story     akira      room    casino \n",
              "     1995      1998      2015      1995 "
            ],
            "text/latex": "\\begin{description*}\n\\item[toy\\textbackslash{}\\_story] 1995\n\\item[akira] 1998\n\\item[room] 2015\n\\item[casino] 1995\n\\end{description*}\n",
            "text/markdown": "toy_story\n:   1995akira\n:   1998room\n:   2015casino\n:   1995\n\n",
            "text/html": [
              "<style>\n",
              ".dl-inline {width: auto; margin:0; padding: 0}\n",
              ".dl-inline>dt, .dl-inline>dd {float: none; width: auto; display: inline-block}\n",
              ".dl-inline>dt::after {content: \":\\0020\"; padding-right: .5ex}\n",
              ".dl-inline>dt:not(:first-of-type) {padding-left: .5ex}\n",
              "</style><dl class=dl-inline><dt>toy_story</dt><dd>1995</dd><dt>akira</dt><dd>1998</dd><dt>room</dt><dd>2015</dd><dt>casino</dt><dd>1995</dd></dl>\n"
            ]
          },
          "metadata": {
            "tags": []
          }
        }
      ]
    },
    {
      "cell_type": "code",
      "metadata": {
        "id": "TOzMBXWw1kIq",
        "outputId": "f8790fae-0102-4b58-869c-3f75ba4074cd",
        "colab": {
          "base_uri": "https://localhost:8080/",
          "height": 34
        }
      },
      "source": [
        "movies_matrix[1,] # selects all elements of the first row."
      ],
      "execution_count": 44,
      "outputs": [
        {
          "output_type": "display_data",
          "data": {
            "text/plain": [
              "      year length_min     rating       cost \n",
              "    1995.0       81.0        8.3       30.0 "
            ],
            "text/latex": "\\begin{description*}\n\\item[year] 1995\n\\item[length\\textbackslash{}\\_min] 81\n\\item[rating] 8.3\n\\item[cost] 30\n\\end{description*}\n",
            "text/markdown": "year\n:   1995length_min\n:   81rating\n:   8.3cost\n:   30\n\n",
            "text/html": [
              "<style>\n",
              ".dl-inline {width: auto; margin:0; padding: 0}\n",
              ".dl-inline>dt, .dl-inline>dd {float: none; width: auto; display: inline-block}\n",
              ".dl-inline>dt::after {content: \":\\0020\"; padding-right: .5ex}\n",
              ".dl-inline>dt:not(:first-of-type) {padding-left: .5ex}\n",
              "</style><dl class=dl-inline><dt>year</dt><dd>1995</dd><dt>length_min</dt><dd>81</dd><dt>rating</dt><dd>8.3</dd><dt>cost</dt><dd>30</dd></dl>\n"
            ]
          },
          "metadata": {
            "tags": []
          }
        }
      ]
    },
    {
      "cell_type": "markdown",
      "metadata": {
        "id": "-ETLL3lC2NtB"
      },
      "source": [
        "## 3.4 Arithmetic with matrices\n",
        "Similar to what you have learned with vectors, the standard operators like `+, -, /, *,` etc. work in an element-wise way on matrices in R.\n",
        "\n",
        "- For example, `2 * my_matrix` multiplies each element of my_matrix by two."
      ]
    },
    {
      "cell_type": "code",
      "metadata": {
        "id": "uISjdZ7U17Fy",
        "outputId": "6ae4deab-1221-4635-a6ba-df7f6245ab1b",
        "colab": {
          "base_uri": "https://localhost:8080/",
          "height": 149
        }
      },
      "source": [
        "matrix1 <- matrix(1:12,byrow=TRUE,nrow =4)\n",
        "matrix1"
      ],
      "execution_count": 45,
      "outputs": [
        {
          "output_type": "display_data",
          "data": {
            "text/plain": [
              "     [,1] [,2] [,3]\n",
              "[1,]  1    2    3  \n",
              "[2,]  4    5    6  \n",
              "[3,]  7    8    9  \n",
              "[4,] 10   11   12  "
            ],
            "text/latex": "A matrix: 4 × 3 of type int\n\\begin{tabular}{lll}\n\t  1 &  2 &  3\\\\\n\t  4 &  5 &  6\\\\\n\t  7 &  8 &  9\\\\\n\t 10 & 11 & 12\\\\\n\\end{tabular}\n",
            "text/markdown": "\nA matrix: 4 × 3 of type int\n\n|  1 |  2 |  3 |\n|  4 |  5 |  6 |\n|  7 |  8 |  9 |\n| 10 | 11 | 12 |\n\n",
            "text/html": [
              "<table>\n",
              "<caption>A matrix: 4 × 3 of type int</caption>\n",
              "<tbody>\n",
              "\t<tr><td> 1</td><td> 2</td><td> 3</td></tr>\n",
              "\t<tr><td> 4</td><td> 5</td><td> 6</td></tr>\n",
              "\t<tr><td> 7</td><td> 8</td><td> 9</td></tr>\n",
              "\t<tr><td>10</td><td>11</td><td>12</td></tr>\n",
              "</tbody>\n",
              "</table>\n"
            ]
          },
          "metadata": {
            "tags": []
          }
        }
      ]
    },
    {
      "cell_type": "code",
      "metadata": {
        "id": "CFsukzFP2zL-",
        "outputId": "452ac91b-1196-4d36-9199-2be97ed8c3de",
        "colab": {
          "base_uri": "https://localhost:8080/",
          "height": 149
        }
      },
      "source": [
        "matrix2 <- matrix1 /5\n",
        "matrix2"
      ],
      "execution_count": 46,
      "outputs": [
        {
          "output_type": "display_data",
          "data": {
            "text/plain": [
              "     [,1] [,2] [,3]\n",
              "[1,] 0.2  0.4  0.6 \n",
              "[2,] 0.8  1.0  1.2 \n",
              "[3,] 1.4  1.6  1.8 \n",
              "[4,] 2.0  2.2  2.4 "
            ],
            "text/latex": "A matrix: 4 × 3 of type dbl\n\\begin{tabular}{lll}\n\t 0.2 & 0.4 & 0.6\\\\\n\t 0.8 & 1.0 & 1.2\\\\\n\t 1.4 & 1.6 & 1.8\\\\\n\t 2.0 & 2.2 & 2.4\\\\\n\\end{tabular}\n",
            "text/markdown": "\nA matrix: 4 × 3 of type dbl\n\n| 0.2 | 0.4 | 0.6 |\n| 0.8 | 1.0 | 1.2 |\n| 1.4 | 1.6 | 1.8 |\n| 2.0 | 2.2 | 2.4 |\n\n",
            "text/html": [
              "<table>\n",
              "<caption>A matrix: 4 × 3 of type dbl</caption>\n",
              "<tbody>\n",
              "\t<tr><td>0.2</td><td>0.4</td><td>0.6</td></tr>\n",
              "\t<tr><td>0.8</td><td>1.0</td><td>1.2</td></tr>\n",
              "\t<tr><td>1.4</td><td>1.6</td><td>1.8</td></tr>\n",
              "\t<tr><td>2.0</td><td>2.2</td><td>2.4</td></tr>\n",
              "</tbody>\n",
              "</table>\n"
            ]
          },
          "metadata": {
            "tags": []
          }
        }
      ]
    },
    {
      "cell_type": "code",
      "metadata": {
        "id": "XzEfkU5f212o",
        "outputId": "f8500edb-7027-4a32-82a1-04ebce4aee79",
        "colab": {
          "base_uri": "https://localhost:8080/",
          "height": 132
        }
      },
      "source": [
        "matrix1 + matrix2"
      ],
      "execution_count": 47,
      "outputs": [
        {
          "output_type": "display_data",
          "data": {
            "text/plain": [
              "     [,1] [,2] [,3]\n",
              "[1,]  1.2  2.4  3.6\n",
              "[2,]  4.8  6.0  7.2\n",
              "[3,]  8.4  9.6 10.8\n",
              "[4,] 12.0 13.2 14.4"
            ],
            "text/latex": "A matrix: 4 × 3 of type dbl\n\\begin{tabular}{lll}\n\t  1.2 &  2.4 &  3.6\\\\\n\t  4.8 &  6.0 &  7.2\\\\\n\t  8.4 &  9.6 & 10.8\\\\\n\t 12.0 & 13.2 & 14.4\\\\\n\\end{tabular}\n",
            "text/markdown": "\nA matrix: 4 × 3 of type dbl\n\n|  1.2 |  2.4 |  3.6 |\n|  4.8 |  6.0 |  7.2 |\n|  8.4 |  9.6 | 10.8 |\n| 12.0 | 13.2 | 14.4 |\n\n",
            "text/html": [
              "<table>\n",
              "<caption>A matrix: 4 × 3 of type dbl</caption>\n",
              "<tbody>\n",
              "\t<tr><td> 1.2</td><td> 2.4</td><td> 3.6</td></tr>\n",
              "\t<tr><td> 4.8</td><td> 6.0</td><td> 7.2</td></tr>\n",
              "\t<tr><td> 8.4</td><td> 9.6</td><td>10.8</td></tr>\n",
              "\t<tr><td>12.0</td><td>13.2</td><td>14.4</td></tr>\n",
              "</tbody>\n",
              "</table>\n"
            ]
          },
          "metadata": {
            "tags": []
          }
        }
      ]
    },
    {
      "cell_type": "code",
      "metadata": {
        "id": "NzKPhMUU2_WJ",
        "outputId": "299ac926-433f-49ed-ab72-98801ba1f92d",
        "colab": {
          "base_uri": "https://localhost:8080/",
          "height": 132
        }
      },
      "source": [
        "matrix1 * matrix2"
      ],
      "execution_count": 48,
      "outputs": [
        {
          "output_type": "display_data",
          "data": {
            "text/plain": [
              "     [,1] [,2] [,3]\n",
              "[1,]  0.2  0.8  1.8\n",
              "[2,]  3.2  5.0  7.2\n",
              "[3,]  9.8 12.8 16.2\n",
              "[4,] 20.0 24.2 28.8"
            ],
            "text/latex": "A matrix: 4 × 3 of type dbl\n\\begin{tabular}{lll}\n\t  0.2 &  0.8 &  1.8\\\\\n\t  3.2 &  5.0 &  7.2\\\\\n\t  9.8 & 12.8 & 16.2\\\\\n\t 20.0 & 24.2 & 28.8\\\\\n\\end{tabular}\n",
            "text/markdown": "\nA matrix: 4 × 3 of type dbl\n\n|  0.2 |  0.8 |  1.8 |\n|  3.2 |  5.0 |  7.2 |\n|  9.8 | 12.8 | 16.2 |\n| 20.0 | 24.2 | 28.8 |\n\n",
            "text/html": [
              "<table>\n",
              "<caption>A matrix: 4 × 3 of type dbl</caption>\n",
              "<tbody>\n",
              "\t<tr><td> 0.2</td><td> 0.8</td><td> 1.8</td></tr>\n",
              "\t<tr><td> 3.2</td><td> 5.0</td><td> 7.2</td></tr>\n",
              "\t<tr><td> 9.8</td><td>12.8</td><td>16.2</td></tr>\n",
              "\t<tr><td>20.0</td><td>24.2</td><td>28.8</td></tr>\n",
              "</tbody>\n",
              "</table>\n"
            ]
          },
          "metadata": {
            "tags": []
          }
        }
      ]
    },
    {
      "cell_type": "markdown",
      "metadata": {
        "id": "HN5mjuom3vWL"
      },
      "source": [
        "# 4. Working with Factor\n",
        "The term factor refers to a **statistical data type** used to store **categorical variables**. The difference between a categorical variable and a continuous variable is that a **categorical variable** can belong to a **limited number of categories**. A continuous variable, on the other hand, can correspond to an **infinite number of values**.\n",
        "- A good example of a categorical variable is sex. In many circumstances you can limit the sex categories to \"Male\" or \"Female\".\n",
        "\n",
        "To create factors in R, you make use of the function `factor()`. \n",
        "It is clear that there are two categories, or in R-terms 'factor levels', at work here: \"Male\" and \"Female\"."
      ]
    },
    {
      "cell_type": "code",
      "metadata": {
        "id": "MJqaxTda3chW",
        "outputId": "cbb631fd-04ae-41cb-d084-1f64d42a70f5",
        "colab": {
          "base_uri": "https://localhost:8080/",
          "height": 67
        }
      },
      "source": [
        "# Gender vector\n",
        "gender_vector <- c(\"Male\", \"Female\", \"Female\", \"Male\", \"Male\")\n",
        "\n",
        "# Convert gender_vector to a factor\n",
        "factor_gender_vector <-factor(gender_vector)\n",
        "  \n",
        "# Print out factor_gender_vector\n",
        "factor_gender_vector "
      ],
      "execution_count": 49,
      "outputs": [
        {
          "output_type": "display_data",
          "data": {
            "text/plain": [
              "[1] Male   Female Female Male   Male  \n",
              "Levels: Female Male"
            ],
            "text/latex": "\\begin{enumerate*}\n\\item Male\n\\item Female\n\\item Female\n\\item Male\n\\item Male\n\\end{enumerate*}\n\n\\emph{Levels}: \\begin{enumerate*}\n\\item 'Female'\n\\item 'Male'\n\\end{enumerate*}\n",
            "text/markdown": "1. Male\n2. Female\n3. Female\n4. Male\n5. Male\n\n\n\n**Levels**: 1. 'Female'\n2. 'Male'\n\n\n",
            "text/html": [
              "<style>\n",
              ".list-inline {list-style: none; margin:0; padding: 0}\n",
              ".list-inline>li {display: inline-block}\n",
              ".list-inline>li:not(:last-child)::after {content: \"\\00b7\"; padding: 0 .5ex}\n",
              "</style>\n",
              "<ol class=list-inline><li>Male</li><li>Female</li><li>Female</li><li>Male</li><li>Male</li></ol>\n",
              "\n",
              "<details>\n",
              "\t<summary style=display:list-item;cursor:pointer>\n",
              "\t\t<strong>Levels</strong>:\n",
              "\t</summary>\n",
              "\t<style>\n",
              "\t.list-inline {list-style: none; margin:0; padding: 0}\n",
              "\t.list-inline>li {display: inline-block}\n",
              "\t.list-inline>li:not(:last-child)::after {content: \"\\00b7\"; padding: 0 .5ex}\n",
              "\t</style>\n",
              "\t<ol class=list-inline><li>'Female'</li><li>'Male'</li></ol>\n",
              "</details>"
            ]
          },
          "metadata": {
            "tags": []
          }
        }
      ]
    },
    {
      "cell_type": "markdown",
      "metadata": {
        "id": "TAd_WEtMEAHH"
      },
      "source": [
        " ### 4.1 Types of Categorical Variable\n",
        " There are two types of categorical variables: \n",
        " \n",
        " - **Nominal categorical variable** \n",
        " - **Ordinal categorical variable**.\n",
        " \n",
        "- A nominal variable is a categorical variable without an **implied order**. This means that it is impossible to say that **'one is worth more than the other'**. For example, think of the categorical variable animals_vector with the categories \"Elephant\", \"Giraffe\", \"Donkey\" and \"Horse\". \n",
        "- In contrast, ordinal variables do have a **natural ordering**. Consider for example the categorical variable temperature_vector with the categories: \"Low\", \"Medium\" and \"High\". Here it is obvious that \"Medium\" stands above \"Low\", and \"High\" stands above \"Medium\"."
      ]
    },
    {
      "cell_type": "code",
      "metadata": {
        "id": "KchzHeA_EAHI",
        "outputId": "53833e2a-10d8-45d6-a0a7-a38aa5f18db6",
        "colab": {
          "base_uri": "https://localhost:8080/",
          "height": 118
        }
      },
      "source": [
        "# Animals\n",
        "animals_vector <- c(\"Elephant\", \"Giraffe\", \"Donkey\", \"Horse\")\n",
        "factor_animals_vector <- factor(animals_vector)\n",
        "factor_animals_vector\n",
        "\n",
        "# Temperature\n",
        "temperature_vector <- c(\"High\", \"Low\", \"High\",\"Low\", \"Medium\")\n",
        "factor_temperature_vector <- factor(temperature_vector, order = FALSE, levels = c(\"Low\", \"Medium\", \"High\"))\n",
        "factor_temperature_vector"
      ],
      "execution_count": 50,
      "outputs": [
        {
          "output_type": "display_data",
          "data": {
            "text/plain": [
              "[1] Elephant Giraffe  Donkey   Horse   \n",
              "Levels: Donkey Elephant Giraffe Horse"
            ],
            "text/latex": "\\begin{enumerate*}\n\\item Elephant\n\\item Giraffe\n\\item Donkey\n\\item Horse\n\\end{enumerate*}\n\n\\emph{Levels}: \\begin{enumerate*}\n\\item 'Donkey'\n\\item 'Elephant'\n\\item 'Giraffe'\n\\item 'Horse'\n\\end{enumerate*}\n",
            "text/markdown": "1. Elephant\n2. Giraffe\n3. Donkey\n4. Horse\n\n\n\n**Levels**: 1. 'Donkey'\n2. 'Elephant'\n3. 'Giraffe'\n4. 'Horse'\n\n\n",
            "text/html": [
              "<style>\n",
              ".list-inline {list-style: none; margin:0; padding: 0}\n",
              ".list-inline>li {display: inline-block}\n",
              ".list-inline>li:not(:last-child)::after {content: \"\\00b7\"; padding: 0 .5ex}\n",
              "</style>\n",
              "<ol class=list-inline><li>Elephant</li><li>Giraffe</li><li>Donkey</li><li>Horse</li></ol>\n",
              "\n",
              "<details>\n",
              "\t<summary style=display:list-item;cursor:pointer>\n",
              "\t\t<strong>Levels</strong>:\n",
              "\t</summary>\n",
              "\t<style>\n",
              "\t.list-inline {list-style: none; margin:0; padding: 0}\n",
              "\t.list-inline>li {display: inline-block}\n",
              "\t.list-inline>li:not(:last-child)::after {content: \"\\00b7\"; padding: 0 .5ex}\n",
              "\t</style>\n",
              "\t<ol class=list-inline><li>'Donkey'</li><li>'Elephant'</li><li>'Giraffe'</li><li>'Horse'</li></ol>\n",
              "</details>"
            ]
          },
          "metadata": {
            "tags": []
          }
        },
        {
          "output_type": "display_data",
          "data": {
            "text/plain": [
              "[1] High   Low    High   Low    Medium\n",
              "Levels: Low Medium High"
            ],
            "text/latex": "\\begin{enumerate*}\n\\item High\n\\item Low\n\\item High\n\\item Low\n\\item Medium\n\\end{enumerate*}\n\n\\emph{Levels}: \\begin{enumerate*}\n\\item 'Low'\n\\item 'Medium'\n\\item 'High'\n\\end{enumerate*}\n",
            "text/markdown": "1. High\n2. Low\n3. High\n4. Low\n5. Medium\n\n\n\n**Levels**: 1. 'Low'\n2. 'Medium'\n3. 'High'\n\n\n",
            "text/html": [
              "<style>\n",
              ".list-inline {list-style: none; margin:0; padding: 0}\n",
              ".list-inline>li {display: inline-block}\n",
              ".list-inline>li:not(:last-child)::after {content: \"\\00b7\"; padding: 0 .5ex}\n",
              "</style>\n",
              "<ol class=list-inline><li>High</li><li>Low</li><li>High</li><li>Low</li><li>Medium</li></ol>\n",
              "\n",
              "<details>\n",
              "\t<summary style=display:list-item;cursor:pointer>\n",
              "\t\t<strong>Levels</strong>:\n",
              "\t</summary>\n",
              "\t<style>\n",
              "\t.list-inline {list-style: none; margin:0; padding: 0}\n",
              "\t.list-inline>li {display: inline-block}\n",
              "\t.list-inline>li:not(:last-child)::after {content: \"\\00b7\"; padding: 0 .5ex}\n",
              "\t</style>\n",
              "\t<ol class=list-inline><li>'Low'</li><li>'Medium'</li><li>'High'</li></ol>\n",
              "</details>"
            ]
          },
          "metadata": {
            "tags": []
          }
        }
      ]
    },
    {
      "cell_type": "markdown",
      "metadata": {
        "id": "2jTsl3BpEAHO"
      },
      "source": [
        "## 4.2 Changing the Factors Value\n",
        "You will often want to change the factor levels to \"Male\" and \"Female\" instead of \"M\" and \"F\" for clarity.  R allows you to do this with the function `levels()`:\n",
        "> levels(factor_vector) <- c(\"name1\", \"name2\",...)"
      ]
    },
    {
      "cell_type": "code",
      "metadata": {
        "id": "EaUL1o9kEAHO",
        "outputId": "420f7ab3-eb63-41e0-aba5-62e0f3d7a105",
        "colab": {
          "base_uri": "https://localhost:8080/",
          "height": 118
        }
      },
      "source": [
        "# Code to build factor_survey_vector\n",
        "survey_vector <- c(\"M\", \"F\", \"F\", \"M\", \"M\")\n",
        "factor_survey_vector <- factor(survey_vector)\n",
        "factor_survey_vector\n",
        "# Specify the levels of factor_survey_vector\n",
        "levels(factor_survey_vector) <- c(\"Female\",\"Male\")\n",
        "\n",
        "factor_survey_vector"
      ],
      "execution_count": 51,
      "outputs": [
        {
          "output_type": "display_data",
          "data": {
            "text/plain": [
              "[1] M F F M M\n",
              "Levels: F M"
            ],
            "text/latex": "\\begin{enumerate*}\n\\item M\n\\item F\n\\item F\n\\item M\n\\item M\n\\end{enumerate*}\n\n\\emph{Levels}: \\begin{enumerate*}\n\\item 'F'\n\\item 'M'\n\\end{enumerate*}\n",
            "text/markdown": "1. M\n2. F\n3. F\n4. M\n5. M\n\n\n\n**Levels**: 1. 'F'\n2. 'M'\n\n\n",
            "text/html": [
              "<style>\n",
              ".list-inline {list-style: none; margin:0; padding: 0}\n",
              ".list-inline>li {display: inline-block}\n",
              ".list-inline>li:not(:last-child)::after {content: \"\\00b7\"; padding: 0 .5ex}\n",
              "</style>\n",
              "<ol class=list-inline><li>M</li><li>F</li><li>F</li><li>M</li><li>M</li></ol>\n",
              "\n",
              "<details>\n",
              "\t<summary style=display:list-item;cursor:pointer>\n",
              "\t\t<strong>Levels</strong>:\n",
              "\t</summary>\n",
              "\t<style>\n",
              "\t.list-inline {list-style: none; margin:0; padding: 0}\n",
              "\t.list-inline>li {display: inline-block}\n",
              "\t.list-inline>li:not(:last-child)::after {content: \"\\00b7\"; padding: 0 .5ex}\n",
              "\t</style>\n",
              "\t<ol class=list-inline><li>'F'</li><li>'M'</li></ol>\n",
              "</details>"
            ]
          },
          "metadata": {
            "tags": []
          }
        },
        {
          "output_type": "display_data",
          "data": {
            "text/plain": [
              "[1] Male   Female Female Male   Male  \n",
              "Levels: Female Male"
            ],
            "text/latex": "\\begin{enumerate*}\n\\item Male\n\\item Female\n\\item Female\n\\item Male\n\\item Male\n\\end{enumerate*}\n\n\\emph{Levels}: \\begin{enumerate*}\n\\item 'Female'\n\\item 'Male'\n\\end{enumerate*}\n",
            "text/markdown": "1. Male\n2. Female\n3. Female\n4. Male\n5. Male\n\n\n\n**Levels**: 1. 'Female'\n2. 'Male'\n\n\n",
            "text/html": [
              "<style>\n",
              ".list-inline {list-style: none; margin:0; padding: 0}\n",
              ".list-inline>li {display: inline-block}\n",
              ".list-inline>li:not(:last-child)::after {content: \"\\00b7\"; padding: 0 .5ex}\n",
              "</style>\n",
              "<ol class=list-inline><li>Male</li><li>Female</li><li>Female</li><li>Male</li><li>Male</li></ol>\n",
              "\n",
              "<details>\n",
              "\t<summary style=display:list-item;cursor:pointer>\n",
              "\t\t<strong>Levels</strong>:\n",
              "\t</summary>\n",
              "\t<style>\n",
              "\t.list-inline {list-style: none; margin:0; padding: 0}\n",
              "\t.list-inline>li {display: inline-block}\n",
              "\t.list-inline>li:not(:last-child)::after {content: \"\\00b7\"; padding: 0 .5ex}\n",
              "\t</style>\n",
              "\t<ol class=list-inline><li>'Female'</li><li>'Male'</li></ol>\n",
              "</details>"
            ]
          },
          "metadata": {
            "tags": []
          }
        }
      ]
    },
    {
      "cell_type": "code",
      "metadata": {
        "id": "mjXCqt1KEAHT",
        "outputId": "89da9cb3-1bd3-48c9-da2d-fac6cdb27d76",
        "colab": {
          "base_uri": "https://localhost:8080/",
          "height": 34
        }
      },
      "source": [
        "survey_vector"
      ],
      "execution_count": 52,
      "outputs": [
        {
          "output_type": "display_data",
          "data": {
            "text/plain": [
              "[1] \"M\" \"F\" \"F\" \"M\" \"M\""
            ],
            "text/latex": "\\begin{enumerate*}\n\\item 'M'\n\\item 'F'\n\\item 'F'\n\\item 'M'\n\\item 'M'\n\\end{enumerate*}\n",
            "text/markdown": "1. 'M'\n2. 'F'\n3. 'F'\n4. 'M'\n5. 'M'\n\n\n",
            "text/html": [
              "<style>\n",
              ".list-inline {list-style: none; margin:0; padding: 0}\n",
              ".list-inline>li {display: inline-block}\n",
              ".list-inline>li:not(:last-child)::after {content: \"\\00b7\"; padding: 0 .5ex}\n",
              "</style>\n",
              "<ol class=list-inline><li>'M'</li><li>'F'</li><li>'F'</li><li>'M'</li><li>'M'</li></ol>\n"
            ]
          },
          "metadata": {
            "tags": []
          }
        }
      ]
    },
    {
      "cell_type": "markdown",
      "metadata": {
        "id": "FqVCihhzEAHX"
      },
      "source": [
        "## 4.3 Summarizing a factor:\n",
        "The `summary()` will will give you a quick overview of the contents of a variable:\n",
        "> summary(my_var)"
      ]
    },
    {
      "cell_type": "code",
      "metadata": {
        "id": "hRcmeBEyEAHY",
        "outputId": "44e26725-c90c-4f78-910f-b2a3a8910b8b",
        "colab": {
          "base_uri": "https://localhost:8080/",
          "height": 67
        }
      },
      "source": [
        "# Build factor_survey_vector with clean levels\n",
        "survey_vector <- c(\"M\", \"F\", \"F\", \"M\", \"M\")\n",
        "factor_survey_vector <- factor(survey_vector)\n",
        "levels(factor_survey_vector) <- c(\"Female\", \"Male\")\n",
        "factor_survey_vector"
      ],
      "execution_count": 53,
      "outputs": [
        {
          "output_type": "display_data",
          "data": {
            "text/plain": [
              "[1] Male   Female Female Male   Male  \n",
              "Levels: Female Male"
            ],
            "text/latex": "\\begin{enumerate*}\n\\item Male\n\\item Female\n\\item Female\n\\item Male\n\\item Male\n\\end{enumerate*}\n\n\\emph{Levels}: \\begin{enumerate*}\n\\item 'Female'\n\\item 'Male'\n\\end{enumerate*}\n",
            "text/markdown": "1. Male\n2. Female\n3. Female\n4. Male\n5. Male\n\n\n\n**Levels**: 1. 'Female'\n2. 'Male'\n\n\n",
            "text/html": [
              "<style>\n",
              ".list-inline {list-style: none; margin:0; padding: 0}\n",
              ".list-inline>li {display: inline-block}\n",
              ".list-inline>li:not(:last-child)::after {content: \"\\00b7\"; padding: 0 .5ex}\n",
              "</style>\n",
              "<ol class=list-inline><li>Male</li><li>Female</li><li>Female</li><li>Male</li><li>Male</li></ol>\n",
              "\n",
              "<details>\n",
              "\t<summary style=display:list-item;cursor:pointer>\n",
              "\t\t<strong>Levels</strong>:\n",
              "\t</summary>\n",
              "\t<style>\n",
              "\t.list-inline {list-style: none; margin:0; padding: 0}\n",
              "\t.list-inline>li {display: inline-block}\n",
              "\t.list-inline>li:not(:last-child)::after {content: \"\\00b7\"; padding: 0 .5ex}\n",
              "\t</style>\n",
              "\t<ol class=list-inline><li>'Female'</li><li>'Male'</li></ol>\n",
              "</details>"
            ]
          },
          "metadata": {
            "tags": []
          }
        }
      ]
    },
    {
      "cell_type": "code",
      "metadata": {
        "id": "xSGiQrfTEAHb",
        "outputId": "f8bb6a49-0241-469d-cbc1-f8fa1ecfd1a2",
        "colab": {
          "base_uri": "https://localhost:8080/",
          "height": 50
        }
      },
      "source": [
        "# Generate summary for survey_vector\n",
        "summary(survey_vector)"
      ],
      "execution_count": 54,
      "outputs": [
        {
          "output_type": "display_data",
          "data": {
            "text/plain": [
              "   Length     Class      Mode \n",
              "        5 character character "
            ]
          },
          "metadata": {
            "tags": []
          }
        }
      ]
    },
    {
      "cell_type": "code",
      "metadata": {
        "id": "340dpldLEAHf",
        "outputId": "129308a9-6f5a-475a-9000-4fc8b7a3bfb2",
        "colab": {
          "base_uri": "https://localhost:8080/",
          "height": 34
        }
      },
      "source": [
        "# Generate summary for factor_survey_vector\n",
        "summary(factor_survey_vector)"
      ],
      "execution_count": 55,
      "outputs": [
        {
          "output_type": "display_data",
          "data": {
            "text/plain": [
              "Female   Male \n",
              "     2      3 "
            ],
            "text/latex": "\\begin{description*}\n\\item[Female] 2\n\\item[Male] 3\n\\end{description*}\n",
            "text/markdown": "Female\n:   2Male\n:   3\n\n",
            "text/html": [
              "<style>\n",
              ".dl-inline {width: auto; margin:0; padding: 0}\n",
              ".dl-inline>dt, .dl-inline>dd {float: none; width: auto; display: inline-block}\n",
              ".dl-inline>dt::after {content: \":\\0020\"; padding-right: .5ex}\n",
              ".dl-inline>dt:not(:first-of-type) {padding-left: .5ex}\n",
              "</style><dl class=dl-inline><dt>Female</dt><dd>2</dd><dt>Male</dt><dd>3</dd></dl>\n"
            ]
          },
          "metadata": {
            "tags": []
          }
        }
      ]
    },
    {
      "cell_type": "markdown",
      "metadata": {
        "id": "Wup__DEwEAHi"
      },
      "source": [
        "## 4.4 Ordered factors\n",
        "Sometimes we need to work with the **ordered categorical** data like (\"slow\", \"medium\", \"fast\"). In that case a categorical data needed to convert to ordinal form.  By default, the function `factor()` transforms speed_vector into an unordered factor. To create an ordered factor, you have to add two additional arguments: `ordered` and `levels`.\n",
        "\n",
        "> factor(some_vector,ordered = TRUE, levels = c(\"lev1\", \"lev2\" ...))\n"
      ]
    },
    {
      "cell_type": "code",
      "metadata": {
        "id": "jgMlAw8WEAHj",
        "outputId": "b28d2812-af19-4475-e704-a16e80e64ac6",
        "colab": {
          "base_uri": "https://localhost:8080/",
          "height": 84
        }
      },
      "source": [
        "# Create speed_vector\n",
        "speed_vector <- c(\"fast\", \"slow\", \"slow\", \"fast\", \"medium\") \n",
        "\n",
        "# Convert speed_vector to ordered factor vector\n",
        "factor_speed_vector <- factor(speed_vector,ordered=TRUE,levels=c(\"slow\", \"medium\", \"fast\")) \n",
        "\n",
        "# Print factor_speed_vector\n",
        "factor_speed_vector\n",
        "summary(factor_speed_vector)"
      ],
      "execution_count": 56,
      "outputs": [
        {
          "output_type": "display_data",
          "data": {
            "text/plain": [
              "[1] fast   slow   slow   fast   medium\n",
              "Levels: slow < medium < fast"
            ],
            "text/latex": "\\begin{enumerate*}\n\\item fast\n\\item slow\n\\item slow\n\\item fast\n\\item medium\n\\end{enumerate*}\n\n\\emph{Levels}: \\begin{enumerate*}\n\\item 'slow'\n\\item 'medium'\n\\item 'fast'\n\\end{enumerate*}\n",
            "text/markdown": "1. fast\n2. slow\n3. slow\n4. fast\n5. medium\n\n\n\n**Levels**: 1. 'slow'\n2. 'medium'\n3. 'fast'\n\n\n",
            "text/html": [
              "<style>\n",
              ".list-inline {list-style: none; margin:0; padding: 0}\n",
              ".list-inline>li {display: inline-block}\n",
              ".list-inline>li:not(:last-child)::after {content: \"\\00b7\"; padding: 0 .5ex}\n",
              "</style>\n",
              "<ol class=list-inline><li>fast</li><li>slow</li><li>slow</li><li>fast</li><li>medium</li></ol>\n",
              "\n",
              "<details>\n",
              "\t<summary style=display:list-item;cursor:pointer>\n",
              "\t\t<strong>Levels</strong>:\n",
              "\t</summary>\n",
              "\t<style>\n",
              "\t.list-inline {list-style: none; margin:0; padding: 0}\n",
              "\t.list-inline>li {display: inline-block}\n",
              "\t.list-inline>li:not(:last-child)::after {content: \"\\00b7\"; padding: 0 .5ex}\n",
              "\t</style>\n",
              "\t<ol class=list-inline><li>'slow'</li><li>'medium'</li><li>'fast'</li></ol>\n",
              "</details>"
            ]
          },
          "metadata": {
            "tags": []
          }
        },
        {
          "output_type": "display_data",
          "data": {
            "text/plain": [
              "  slow medium   fast \n",
              "     2      1      2 "
            ],
            "text/latex": "\\begin{description*}\n\\item[slow] 2\n\\item[medium] 1\n\\item[fast] 2\n\\end{description*}\n",
            "text/markdown": "slow\n:   2medium\n:   1fast\n:   2\n\n",
            "text/html": [
              "<style>\n",
              ".dl-inline {width: auto; margin:0; padding: 0}\n",
              ".dl-inline>dt, .dl-inline>dd {float: none; width: auto; display: inline-block}\n",
              ".dl-inline>dt::after {content: \":\\0020\"; padding-right: .5ex}\n",
              ".dl-inline>dt:not(:first-of-type) {padding-left: .5ex}\n",
              "</style><dl class=dl-inline><dt>slow</dt><dd>2</dd><dt>medium</dt><dd>1</dd><dt>fast</dt><dd>2</dd></dl>\n"
            ]
          },
          "metadata": {
            "tags": []
          }
        }
      ]
    },
    {
      "cell_type": "markdown",
      "metadata": {
        "id": "I3BmnGgMEAHo"
      },
      "source": [
        "# 5. Working with Dataframe"
      ]
    },
    {
      "cell_type": "code",
      "metadata": {
        "id": "9STL_EfLEAHp",
        "outputId": "05e9efbd-2192-4e90-8ba6-97239e6c452b",
        "colab": {
          "base_uri": "https://localhost:8080/",
          "height": 715
        }
      },
      "source": [
        "# Print out built-in R data frame\n",
        "mtcars "
      ],
      "execution_count": 57,
      "outputs": [
        {
          "output_type": "display_data",
          "data": {
            "text/plain": [
              "                    mpg  cyl disp  hp  drat wt    qsec  vs am gear carb\n",
              "Mazda RX4           21.0 6   160.0 110 3.90 2.620 16.46 0  1  4    4   \n",
              "Mazda RX4 Wag       21.0 6   160.0 110 3.90 2.875 17.02 0  1  4    4   \n",
              "Datsun 710          22.8 4   108.0  93 3.85 2.320 18.61 1  1  4    1   \n",
              "Hornet 4 Drive      21.4 6   258.0 110 3.08 3.215 19.44 1  0  3    1   \n",
              "Hornet Sportabout   18.7 8   360.0 175 3.15 3.440 17.02 0  0  3    2   \n",
              "Valiant             18.1 6   225.0 105 2.76 3.460 20.22 1  0  3    1   \n",
              "Duster 360          14.3 8   360.0 245 3.21 3.570 15.84 0  0  3    4   \n",
              "Merc 240D           24.4 4   146.7  62 3.69 3.190 20.00 1  0  4    2   \n",
              "Merc 230            22.8 4   140.8  95 3.92 3.150 22.90 1  0  4    2   \n",
              "Merc 280            19.2 6   167.6 123 3.92 3.440 18.30 1  0  4    4   \n",
              "Merc 280C           17.8 6   167.6 123 3.92 3.440 18.90 1  0  4    4   \n",
              "Merc 450SE          16.4 8   275.8 180 3.07 4.070 17.40 0  0  3    3   \n",
              "Merc 450SL          17.3 8   275.8 180 3.07 3.730 17.60 0  0  3    3   \n",
              "Merc 450SLC         15.2 8   275.8 180 3.07 3.780 18.00 0  0  3    3   \n",
              "Cadillac Fleetwood  10.4 8   472.0 205 2.93 5.250 17.98 0  0  3    4   \n",
              "Lincoln Continental 10.4 8   460.0 215 3.00 5.424 17.82 0  0  3    4   \n",
              "Chrysler Imperial   14.7 8   440.0 230 3.23 5.345 17.42 0  0  3    4   \n",
              "Fiat 128            32.4 4    78.7  66 4.08 2.200 19.47 1  1  4    1   \n",
              "Honda Civic         30.4 4    75.7  52 4.93 1.615 18.52 1  1  4    2   \n",
              "Toyota Corolla      33.9 4    71.1  65 4.22 1.835 19.90 1  1  4    1   \n",
              "Toyota Corona       21.5 4   120.1  97 3.70 2.465 20.01 1  0  3    1   \n",
              "Dodge Challenger    15.5 8   318.0 150 2.76 3.520 16.87 0  0  3    2   \n",
              "AMC Javelin         15.2 8   304.0 150 3.15 3.435 17.30 0  0  3    2   \n",
              "Camaro Z28          13.3 8   350.0 245 3.73 3.840 15.41 0  0  3    4   \n",
              "Pontiac Firebird    19.2 8   400.0 175 3.08 3.845 17.05 0  0  3    2   \n",
              "Fiat X1-9           27.3 4    79.0  66 4.08 1.935 18.90 1  1  4    1   \n",
              "Porsche 914-2       26.0 4   120.3  91 4.43 2.140 16.70 0  1  5    2   \n",
              "Lotus Europa        30.4 4    95.1 113 3.77 1.513 16.90 1  1  5    2   \n",
              "Ford Pantera L      15.8 8   351.0 264 4.22 3.170 14.50 0  1  5    4   \n",
              "Ferrari Dino        19.7 6   145.0 175 3.62 2.770 15.50 0  1  5    6   \n",
              "Maserati Bora       15.0 8   301.0 335 3.54 3.570 14.60 0  1  5    8   \n",
              "Volvo 142E          21.4 4   121.0 109 4.11 2.780 18.60 1  1  4    2   "
            ],
            "text/latex": "A data.frame: 32 × 11\n\\begin{tabular}{r|lllllllllll}\n  & mpg & cyl & disp & hp & drat & wt & qsec & vs & am & gear & carb\\\\\n  & <dbl> & <dbl> & <dbl> & <dbl> & <dbl> & <dbl> & <dbl> & <dbl> & <dbl> & <dbl> & <dbl>\\\\\n\\hline\n\tMazda RX4 & 21.0 & 6 & 160.0 & 110 & 3.90 & 2.620 & 16.46 & 0 & 1 & 4 & 4\\\\\n\tMazda RX4 Wag & 21.0 & 6 & 160.0 & 110 & 3.90 & 2.875 & 17.02 & 0 & 1 & 4 & 4\\\\\n\tDatsun 710 & 22.8 & 4 & 108.0 &  93 & 3.85 & 2.320 & 18.61 & 1 & 1 & 4 & 1\\\\\n\tHornet 4 Drive & 21.4 & 6 & 258.0 & 110 & 3.08 & 3.215 & 19.44 & 1 & 0 & 3 & 1\\\\\n\tHornet Sportabout & 18.7 & 8 & 360.0 & 175 & 3.15 & 3.440 & 17.02 & 0 & 0 & 3 & 2\\\\\n\tValiant & 18.1 & 6 & 225.0 & 105 & 2.76 & 3.460 & 20.22 & 1 & 0 & 3 & 1\\\\\n\tDuster 360 & 14.3 & 8 & 360.0 & 245 & 3.21 & 3.570 & 15.84 & 0 & 0 & 3 & 4\\\\\n\tMerc 240D & 24.4 & 4 & 146.7 &  62 & 3.69 & 3.190 & 20.00 & 1 & 0 & 4 & 2\\\\\n\tMerc 230 & 22.8 & 4 & 140.8 &  95 & 3.92 & 3.150 & 22.90 & 1 & 0 & 4 & 2\\\\\n\tMerc 280 & 19.2 & 6 & 167.6 & 123 & 3.92 & 3.440 & 18.30 & 1 & 0 & 4 & 4\\\\\n\tMerc 280C & 17.8 & 6 & 167.6 & 123 & 3.92 & 3.440 & 18.90 & 1 & 0 & 4 & 4\\\\\n\tMerc 450SE & 16.4 & 8 & 275.8 & 180 & 3.07 & 4.070 & 17.40 & 0 & 0 & 3 & 3\\\\\n\tMerc 450SL & 17.3 & 8 & 275.8 & 180 & 3.07 & 3.730 & 17.60 & 0 & 0 & 3 & 3\\\\\n\tMerc 450SLC & 15.2 & 8 & 275.8 & 180 & 3.07 & 3.780 & 18.00 & 0 & 0 & 3 & 3\\\\\n\tCadillac Fleetwood & 10.4 & 8 & 472.0 & 205 & 2.93 & 5.250 & 17.98 & 0 & 0 & 3 & 4\\\\\n\tLincoln Continental & 10.4 & 8 & 460.0 & 215 & 3.00 & 5.424 & 17.82 & 0 & 0 & 3 & 4\\\\\n\tChrysler Imperial & 14.7 & 8 & 440.0 & 230 & 3.23 & 5.345 & 17.42 & 0 & 0 & 3 & 4\\\\\n\tFiat 128 & 32.4 & 4 &  78.7 &  66 & 4.08 & 2.200 & 19.47 & 1 & 1 & 4 & 1\\\\\n\tHonda Civic & 30.4 & 4 &  75.7 &  52 & 4.93 & 1.615 & 18.52 & 1 & 1 & 4 & 2\\\\\n\tToyota Corolla & 33.9 & 4 &  71.1 &  65 & 4.22 & 1.835 & 19.90 & 1 & 1 & 4 & 1\\\\\n\tToyota Corona & 21.5 & 4 & 120.1 &  97 & 3.70 & 2.465 & 20.01 & 1 & 0 & 3 & 1\\\\\n\tDodge Challenger & 15.5 & 8 & 318.0 & 150 & 2.76 & 3.520 & 16.87 & 0 & 0 & 3 & 2\\\\\n\tAMC Javelin & 15.2 & 8 & 304.0 & 150 & 3.15 & 3.435 & 17.30 & 0 & 0 & 3 & 2\\\\\n\tCamaro Z28 & 13.3 & 8 & 350.0 & 245 & 3.73 & 3.840 & 15.41 & 0 & 0 & 3 & 4\\\\\n\tPontiac Firebird & 19.2 & 8 & 400.0 & 175 & 3.08 & 3.845 & 17.05 & 0 & 0 & 3 & 2\\\\\n\tFiat X1-9 & 27.3 & 4 &  79.0 &  66 & 4.08 & 1.935 & 18.90 & 1 & 1 & 4 & 1\\\\\n\tPorsche 914-2 & 26.0 & 4 & 120.3 &  91 & 4.43 & 2.140 & 16.70 & 0 & 1 & 5 & 2\\\\\n\tLotus Europa & 30.4 & 4 &  95.1 & 113 & 3.77 & 1.513 & 16.90 & 1 & 1 & 5 & 2\\\\\n\tFord Pantera L & 15.8 & 8 & 351.0 & 264 & 4.22 & 3.170 & 14.50 & 0 & 1 & 5 & 4\\\\\n\tFerrari Dino & 19.7 & 6 & 145.0 & 175 & 3.62 & 2.770 & 15.50 & 0 & 1 & 5 & 6\\\\\n\tMaserati Bora & 15.0 & 8 & 301.0 & 335 & 3.54 & 3.570 & 14.60 & 0 & 1 & 5 & 8\\\\\n\tVolvo 142E & 21.4 & 4 & 121.0 & 109 & 4.11 & 2.780 & 18.60 & 1 & 1 & 4 & 2\\\\\n\\end{tabular}\n",
            "text/markdown": "\nA data.frame: 32 × 11\n\n| <!--/--> | mpg &lt;dbl&gt; | cyl &lt;dbl&gt; | disp &lt;dbl&gt; | hp &lt;dbl&gt; | drat &lt;dbl&gt; | wt &lt;dbl&gt; | qsec &lt;dbl&gt; | vs &lt;dbl&gt; | am &lt;dbl&gt; | gear &lt;dbl&gt; | carb &lt;dbl&gt; |\n|---|---|---|---|---|---|---|---|---|---|---|---|\n| Mazda RX4 | 21.0 | 6 | 160.0 | 110 | 3.90 | 2.620 | 16.46 | 0 | 1 | 4 | 4 |\n| Mazda RX4 Wag | 21.0 | 6 | 160.0 | 110 | 3.90 | 2.875 | 17.02 | 0 | 1 | 4 | 4 |\n| Datsun 710 | 22.8 | 4 | 108.0 |  93 | 3.85 | 2.320 | 18.61 | 1 | 1 | 4 | 1 |\n| Hornet 4 Drive | 21.4 | 6 | 258.0 | 110 | 3.08 | 3.215 | 19.44 | 1 | 0 | 3 | 1 |\n| Hornet Sportabout | 18.7 | 8 | 360.0 | 175 | 3.15 | 3.440 | 17.02 | 0 | 0 | 3 | 2 |\n| Valiant | 18.1 | 6 | 225.0 | 105 | 2.76 | 3.460 | 20.22 | 1 | 0 | 3 | 1 |\n| Duster 360 | 14.3 | 8 | 360.0 | 245 | 3.21 | 3.570 | 15.84 | 0 | 0 | 3 | 4 |\n| Merc 240D | 24.4 | 4 | 146.7 |  62 | 3.69 | 3.190 | 20.00 | 1 | 0 | 4 | 2 |\n| Merc 230 | 22.8 | 4 | 140.8 |  95 | 3.92 | 3.150 | 22.90 | 1 | 0 | 4 | 2 |\n| Merc 280 | 19.2 | 6 | 167.6 | 123 | 3.92 | 3.440 | 18.30 | 1 | 0 | 4 | 4 |\n| Merc 280C | 17.8 | 6 | 167.6 | 123 | 3.92 | 3.440 | 18.90 | 1 | 0 | 4 | 4 |\n| Merc 450SE | 16.4 | 8 | 275.8 | 180 | 3.07 | 4.070 | 17.40 | 0 | 0 | 3 | 3 |\n| Merc 450SL | 17.3 | 8 | 275.8 | 180 | 3.07 | 3.730 | 17.60 | 0 | 0 | 3 | 3 |\n| Merc 450SLC | 15.2 | 8 | 275.8 | 180 | 3.07 | 3.780 | 18.00 | 0 | 0 | 3 | 3 |\n| Cadillac Fleetwood | 10.4 | 8 | 472.0 | 205 | 2.93 | 5.250 | 17.98 | 0 | 0 | 3 | 4 |\n| Lincoln Continental | 10.4 | 8 | 460.0 | 215 | 3.00 | 5.424 | 17.82 | 0 | 0 | 3 | 4 |\n| Chrysler Imperial | 14.7 | 8 | 440.0 | 230 | 3.23 | 5.345 | 17.42 | 0 | 0 | 3 | 4 |\n| Fiat 128 | 32.4 | 4 |  78.7 |  66 | 4.08 | 2.200 | 19.47 | 1 | 1 | 4 | 1 |\n| Honda Civic | 30.4 | 4 |  75.7 |  52 | 4.93 | 1.615 | 18.52 | 1 | 1 | 4 | 2 |\n| Toyota Corolla | 33.9 | 4 |  71.1 |  65 | 4.22 | 1.835 | 19.90 | 1 | 1 | 4 | 1 |\n| Toyota Corona | 21.5 | 4 | 120.1 |  97 | 3.70 | 2.465 | 20.01 | 1 | 0 | 3 | 1 |\n| Dodge Challenger | 15.5 | 8 | 318.0 | 150 | 2.76 | 3.520 | 16.87 | 0 | 0 | 3 | 2 |\n| AMC Javelin | 15.2 | 8 | 304.0 | 150 | 3.15 | 3.435 | 17.30 | 0 | 0 | 3 | 2 |\n| Camaro Z28 | 13.3 | 8 | 350.0 | 245 | 3.73 | 3.840 | 15.41 | 0 | 0 | 3 | 4 |\n| Pontiac Firebird | 19.2 | 8 | 400.0 | 175 | 3.08 | 3.845 | 17.05 | 0 | 0 | 3 | 2 |\n| Fiat X1-9 | 27.3 | 4 |  79.0 |  66 | 4.08 | 1.935 | 18.90 | 1 | 1 | 4 | 1 |\n| Porsche 914-2 | 26.0 | 4 | 120.3 |  91 | 4.43 | 2.140 | 16.70 | 0 | 1 | 5 | 2 |\n| Lotus Europa | 30.4 | 4 |  95.1 | 113 | 3.77 | 1.513 | 16.90 | 1 | 1 | 5 | 2 |\n| Ford Pantera L | 15.8 | 8 | 351.0 | 264 | 4.22 | 3.170 | 14.50 | 0 | 1 | 5 | 4 |\n| Ferrari Dino | 19.7 | 6 | 145.0 | 175 | 3.62 | 2.770 | 15.50 | 0 | 1 | 5 | 6 |\n| Maserati Bora | 15.0 | 8 | 301.0 | 335 | 3.54 | 3.570 | 14.60 | 0 | 1 | 5 | 8 |\n| Volvo 142E | 21.4 | 4 | 121.0 | 109 | 4.11 | 2.780 | 18.60 | 1 | 1 | 4 | 2 |\n\n",
            "text/html": [
              "<table>\n",
              "<caption>A data.frame: 32 × 11</caption>\n",
              "<thead>\n",
              "\t<tr><th></th><th scope=col>mpg</th><th scope=col>cyl</th><th scope=col>disp</th><th scope=col>hp</th><th scope=col>drat</th><th scope=col>wt</th><th scope=col>qsec</th><th scope=col>vs</th><th scope=col>am</th><th scope=col>gear</th><th scope=col>carb</th></tr>\n",
              "\t<tr><th></th><th scope=col>&lt;dbl&gt;</th><th scope=col>&lt;dbl&gt;</th><th scope=col>&lt;dbl&gt;</th><th scope=col>&lt;dbl&gt;</th><th scope=col>&lt;dbl&gt;</th><th scope=col>&lt;dbl&gt;</th><th scope=col>&lt;dbl&gt;</th><th scope=col>&lt;dbl&gt;</th><th scope=col>&lt;dbl&gt;</th><th scope=col>&lt;dbl&gt;</th><th scope=col>&lt;dbl&gt;</th></tr>\n",
              "</thead>\n",
              "<tbody>\n",
              "\t<tr><th scope=row>Mazda RX4</th><td>21.0</td><td>6</td><td>160.0</td><td>110</td><td>3.90</td><td>2.620</td><td>16.46</td><td>0</td><td>1</td><td>4</td><td>4</td></tr>\n",
              "\t<tr><th scope=row>Mazda RX4 Wag</th><td>21.0</td><td>6</td><td>160.0</td><td>110</td><td>3.90</td><td>2.875</td><td>17.02</td><td>0</td><td>1</td><td>4</td><td>4</td></tr>\n",
              "\t<tr><th scope=row>Datsun 710</th><td>22.8</td><td>4</td><td>108.0</td><td> 93</td><td>3.85</td><td>2.320</td><td>18.61</td><td>1</td><td>1</td><td>4</td><td>1</td></tr>\n",
              "\t<tr><th scope=row>Hornet 4 Drive</th><td>21.4</td><td>6</td><td>258.0</td><td>110</td><td>3.08</td><td>3.215</td><td>19.44</td><td>1</td><td>0</td><td>3</td><td>1</td></tr>\n",
              "\t<tr><th scope=row>Hornet Sportabout</th><td>18.7</td><td>8</td><td>360.0</td><td>175</td><td>3.15</td><td>3.440</td><td>17.02</td><td>0</td><td>0</td><td>3</td><td>2</td></tr>\n",
              "\t<tr><th scope=row>Valiant</th><td>18.1</td><td>6</td><td>225.0</td><td>105</td><td>2.76</td><td>3.460</td><td>20.22</td><td>1</td><td>0</td><td>3</td><td>1</td></tr>\n",
              "\t<tr><th scope=row>Duster 360</th><td>14.3</td><td>8</td><td>360.0</td><td>245</td><td>3.21</td><td>3.570</td><td>15.84</td><td>0</td><td>0</td><td>3</td><td>4</td></tr>\n",
              "\t<tr><th scope=row>Merc 240D</th><td>24.4</td><td>4</td><td>146.7</td><td> 62</td><td>3.69</td><td>3.190</td><td>20.00</td><td>1</td><td>0</td><td>4</td><td>2</td></tr>\n",
              "\t<tr><th scope=row>Merc 230</th><td>22.8</td><td>4</td><td>140.8</td><td> 95</td><td>3.92</td><td>3.150</td><td>22.90</td><td>1</td><td>0</td><td>4</td><td>2</td></tr>\n",
              "\t<tr><th scope=row>Merc 280</th><td>19.2</td><td>6</td><td>167.6</td><td>123</td><td>3.92</td><td>3.440</td><td>18.30</td><td>1</td><td>0</td><td>4</td><td>4</td></tr>\n",
              "\t<tr><th scope=row>Merc 280C</th><td>17.8</td><td>6</td><td>167.6</td><td>123</td><td>3.92</td><td>3.440</td><td>18.90</td><td>1</td><td>0</td><td>4</td><td>4</td></tr>\n",
              "\t<tr><th scope=row>Merc 450SE</th><td>16.4</td><td>8</td><td>275.8</td><td>180</td><td>3.07</td><td>4.070</td><td>17.40</td><td>0</td><td>0</td><td>3</td><td>3</td></tr>\n",
              "\t<tr><th scope=row>Merc 450SL</th><td>17.3</td><td>8</td><td>275.8</td><td>180</td><td>3.07</td><td>3.730</td><td>17.60</td><td>0</td><td>0</td><td>3</td><td>3</td></tr>\n",
              "\t<tr><th scope=row>Merc 450SLC</th><td>15.2</td><td>8</td><td>275.8</td><td>180</td><td>3.07</td><td>3.780</td><td>18.00</td><td>0</td><td>0</td><td>3</td><td>3</td></tr>\n",
              "\t<tr><th scope=row>Cadillac Fleetwood</th><td>10.4</td><td>8</td><td>472.0</td><td>205</td><td>2.93</td><td>5.250</td><td>17.98</td><td>0</td><td>0</td><td>3</td><td>4</td></tr>\n",
              "\t<tr><th scope=row>Lincoln Continental</th><td>10.4</td><td>8</td><td>460.0</td><td>215</td><td>3.00</td><td>5.424</td><td>17.82</td><td>0</td><td>0</td><td>3</td><td>4</td></tr>\n",
              "\t<tr><th scope=row>Chrysler Imperial</th><td>14.7</td><td>8</td><td>440.0</td><td>230</td><td>3.23</td><td>5.345</td><td>17.42</td><td>0</td><td>0</td><td>3</td><td>4</td></tr>\n",
              "\t<tr><th scope=row>Fiat 128</th><td>32.4</td><td>4</td><td> 78.7</td><td> 66</td><td>4.08</td><td>2.200</td><td>19.47</td><td>1</td><td>1</td><td>4</td><td>1</td></tr>\n",
              "\t<tr><th scope=row>Honda Civic</th><td>30.4</td><td>4</td><td> 75.7</td><td> 52</td><td>4.93</td><td>1.615</td><td>18.52</td><td>1</td><td>1</td><td>4</td><td>2</td></tr>\n",
              "\t<tr><th scope=row>Toyota Corolla</th><td>33.9</td><td>4</td><td> 71.1</td><td> 65</td><td>4.22</td><td>1.835</td><td>19.90</td><td>1</td><td>1</td><td>4</td><td>1</td></tr>\n",
              "\t<tr><th scope=row>Toyota Corona</th><td>21.5</td><td>4</td><td>120.1</td><td> 97</td><td>3.70</td><td>2.465</td><td>20.01</td><td>1</td><td>0</td><td>3</td><td>1</td></tr>\n",
              "\t<tr><th scope=row>Dodge Challenger</th><td>15.5</td><td>8</td><td>318.0</td><td>150</td><td>2.76</td><td>3.520</td><td>16.87</td><td>0</td><td>0</td><td>3</td><td>2</td></tr>\n",
              "\t<tr><th scope=row>AMC Javelin</th><td>15.2</td><td>8</td><td>304.0</td><td>150</td><td>3.15</td><td>3.435</td><td>17.30</td><td>0</td><td>0</td><td>3</td><td>2</td></tr>\n",
              "\t<tr><th scope=row>Camaro Z28</th><td>13.3</td><td>8</td><td>350.0</td><td>245</td><td>3.73</td><td>3.840</td><td>15.41</td><td>0</td><td>0</td><td>3</td><td>4</td></tr>\n",
              "\t<tr><th scope=row>Pontiac Firebird</th><td>19.2</td><td>8</td><td>400.0</td><td>175</td><td>3.08</td><td>3.845</td><td>17.05</td><td>0</td><td>0</td><td>3</td><td>2</td></tr>\n",
              "\t<tr><th scope=row>Fiat X1-9</th><td>27.3</td><td>4</td><td> 79.0</td><td> 66</td><td>4.08</td><td>1.935</td><td>18.90</td><td>1</td><td>1</td><td>4</td><td>1</td></tr>\n",
              "\t<tr><th scope=row>Porsche 914-2</th><td>26.0</td><td>4</td><td>120.3</td><td> 91</td><td>4.43</td><td>2.140</td><td>16.70</td><td>0</td><td>1</td><td>5</td><td>2</td></tr>\n",
              "\t<tr><th scope=row>Lotus Europa</th><td>30.4</td><td>4</td><td> 95.1</td><td>113</td><td>3.77</td><td>1.513</td><td>16.90</td><td>1</td><td>1</td><td>5</td><td>2</td></tr>\n",
              "\t<tr><th scope=row>Ford Pantera L</th><td>15.8</td><td>8</td><td>351.0</td><td>264</td><td>4.22</td><td>3.170</td><td>14.50</td><td>0</td><td>1</td><td>5</td><td>4</td></tr>\n",
              "\t<tr><th scope=row>Ferrari Dino</th><td>19.7</td><td>6</td><td>145.0</td><td>175</td><td>3.62</td><td>2.770</td><td>15.50</td><td>0</td><td>1</td><td>5</td><td>6</td></tr>\n",
              "\t<tr><th scope=row>Maserati Bora</th><td>15.0</td><td>8</td><td>301.0</td><td>335</td><td>3.54</td><td>3.570</td><td>14.60</td><td>0</td><td>1</td><td>5</td><td>8</td></tr>\n",
              "\t<tr><th scope=row>Volvo 142E</th><td>21.4</td><td>4</td><td>121.0</td><td>109</td><td>4.11</td><td>2.780</td><td>18.60</td><td>1</td><td>1</td><td>4</td><td>2</td></tr>\n",
              "</tbody>\n",
              "</table>\n"
            ]
          },
          "metadata": {
            "tags": []
          }
        }
      ]
    },
    {
      "cell_type": "markdown",
      "metadata": {
        "id": "7Jw80CjuEAHs"
      },
      "source": [
        "### 5.1 Head and Tail function\n",
        "The function head() enables you to show the first observations of a data frame. Similarly, the function tail() prints out the last observations in your data set."
      ]
    },
    {
      "cell_type": "code",
      "metadata": {
        "id": "3YcXx2y5EAHt",
        "outputId": "32e9220f-1517-4137-89b9-f2d7c4a94513",
        "colab": {
          "base_uri": "https://localhost:8080/",
          "height": 195
        }
      },
      "source": [
        "# Call head() on mtcars\n",
        "head(mtcars)"
      ],
      "execution_count": 58,
      "outputs": [
        {
          "output_type": "display_data",
          "data": {
            "text/plain": [
              "                  mpg  cyl disp hp  drat wt    qsec  vs am gear carb\n",
              "Mazda RX4         21.0 6   160  110 3.90 2.620 16.46 0  1  4    4   \n",
              "Mazda RX4 Wag     21.0 6   160  110 3.90 2.875 17.02 0  1  4    4   \n",
              "Datsun 710        22.8 4   108   93 3.85 2.320 18.61 1  1  4    1   \n",
              "Hornet 4 Drive    21.4 6   258  110 3.08 3.215 19.44 1  0  3    1   \n",
              "Hornet Sportabout 18.7 8   360  175 3.15 3.440 17.02 0  0  3    2   \n",
              "Valiant           18.1 6   225  105 2.76 3.460 20.22 1  0  3    1   "
            ],
            "text/latex": "A data.frame: 6 × 11\n\\begin{tabular}{r|lllllllllll}\n  & mpg & cyl & disp & hp & drat & wt & qsec & vs & am & gear & carb\\\\\n  & <dbl> & <dbl> & <dbl> & <dbl> & <dbl> & <dbl> & <dbl> & <dbl> & <dbl> & <dbl> & <dbl>\\\\\n\\hline\n\tMazda RX4 & 21.0 & 6 & 160 & 110 & 3.90 & 2.620 & 16.46 & 0 & 1 & 4 & 4\\\\\n\tMazda RX4 Wag & 21.0 & 6 & 160 & 110 & 3.90 & 2.875 & 17.02 & 0 & 1 & 4 & 4\\\\\n\tDatsun 710 & 22.8 & 4 & 108 &  93 & 3.85 & 2.320 & 18.61 & 1 & 1 & 4 & 1\\\\\n\tHornet 4 Drive & 21.4 & 6 & 258 & 110 & 3.08 & 3.215 & 19.44 & 1 & 0 & 3 & 1\\\\\n\tHornet Sportabout & 18.7 & 8 & 360 & 175 & 3.15 & 3.440 & 17.02 & 0 & 0 & 3 & 2\\\\\n\tValiant & 18.1 & 6 & 225 & 105 & 2.76 & 3.460 & 20.22 & 1 & 0 & 3 & 1\\\\\n\\end{tabular}\n",
            "text/markdown": "\nA data.frame: 6 × 11\n\n| <!--/--> | mpg &lt;dbl&gt; | cyl &lt;dbl&gt; | disp &lt;dbl&gt; | hp &lt;dbl&gt; | drat &lt;dbl&gt; | wt &lt;dbl&gt; | qsec &lt;dbl&gt; | vs &lt;dbl&gt; | am &lt;dbl&gt; | gear &lt;dbl&gt; | carb &lt;dbl&gt; |\n|---|---|---|---|---|---|---|---|---|---|---|---|\n| Mazda RX4 | 21.0 | 6 | 160 | 110 | 3.90 | 2.620 | 16.46 | 0 | 1 | 4 | 4 |\n| Mazda RX4 Wag | 21.0 | 6 | 160 | 110 | 3.90 | 2.875 | 17.02 | 0 | 1 | 4 | 4 |\n| Datsun 710 | 22.8 | 4 | 108 |  93 | 3.85 | 2.320 | 18.61 | 1 | 1 | 4 | 1 |\n| Hornet 4 Drive | 21.4 | 6 | 258 | 110 | 3.08 | 3.215 | 19.44 | 1 | 0 | 3 | 1 |\n| Hornet Sportabout | 18.7 | 8 | 360 | 175 | 3.15 | 3.440 | 17.02 | 0 | 0 | 3 | 2 |\n| Valiant | 18.1 | 6 | 225 | 105 | 2.76 | 3.460 | 20.22 | 1 | 0 | 3 | 1 |\n\n",
            "text/html": [
              "<table>\n",
              "<caption>A data.frame: 6 × 11</caption>\n",
              "<thead>\n",
              "\t<tr><th></th><th scope=col>mpg</th><th scope=col>cyl</th><th scope=col>disp</th><th scope=col>hp</th><th scope=col>drat</th><th scope=col>wt</th><th scope=col>qsec</th><th scope=col>vs</th><th scope=col>am</th><th scope=col>gear</th><th scope=col>carb</th></tr>\n",
              "\t<tr><th></th><th scope=col>&lt;dbl&gt;</th><th scope=col>&lt;dbl&gt;</th><th scope=col>&lt;dbl&gt;</th><th scope=col>&lt;dbl&gt;</th><th scope=col>&lt;dbl&gt;</th><th scope=col>&lt;dbl&gt;</th><th scope=col>&lt;dbl&gt;</th><th scope=col>&lt;dbl&gt;</th><th scope=col>&lt;dbl&gt;</th><th scope=col>&lt;dbl&gt;</th><th scope=col>&lt;dbl&gt;</th></tr>\n",
              "</thead>\n",
              "<tbody>\n",
              "\t<tr><th scope=row>Mazda RX4</th><td>21.0</td><td>6</td><td>160</td><td>110</td><td>3.90</td><td>2.620</td><td>16.46</td><td>0</td><td>1</td><td>4</td><td>4</td></tr>\n",
              "\t<tr><th scope=row>Mazda RX4 Wag</th><td>21.0</td><td>6</td><td>160</td><td>110</td><td>3.90</td><td>2.875</td><td>17.02</td><td>0</td><td>1</td><td>4</td><td>4</td></tr>\n",
              "\t<tr><th scope=row>Datsun 710</th><td>22.8</td><td>4</td><td>108</td><td> 93</td><td>3.85</td><td>2.320</td><td>18.61</td><td>1</td><td>1</td><td>4</td><td>1</td></tr>\n",
              "\t<tr><th scope=row>Hornet 4 Drive</th><td>21.4</td><td>6</td><td>258</td><td>110</td><td>3.08</td><td>3.215</td><td>19.44</td><td>1</td><td>0</td><td>3</td><td>1</td></tr>\n",
              "\t<tr><th scope=row>Hornet Sportabout</th><td>18.7</td><td>8</td><td>360</td><td>175</td><td>3.15</td><td>3.440</td><td>17.02</td><td>0</td><td>0</td><td>3</td><td>2</td></tr>\n",
              "\t<tr><th scope=row>Valiant</th><td>18.1</td><td>6</td><td>225</td><td>105</td><td>2.76</td><td>3.460</td><td>20.22</td><td>1</td><td>0</td><td>3</td><td>1</td></tr>\n",
              "</tbody>\n",
              "</table>\n"
            ]
          },
          "metadata": {
            "tags": []
          }
        }
      ]
    },
    {
      "cell_type": "code",
      "metadata": {
        "id": "y9bTmt7lEAH1",
        "outputId": "37b60220-5fec-4037-f6e2-ace29d4140c4",
        "colab": {
          "base_uri": "https://localhost:8080/",
          "height": 195
        }
      },
      "source": [
        "# Call tail() on mtcars\n",
        "tail(mtcars)"
      ],
      "execution_count": 59,
      "outputs": [
        {
          "output_type": "display_data",
          "data": {
            "text/plain": [
              "               mpg  cyl disp  hp  drat wt    qsec vs am gear carb\n",
              "Porsche 914-2  26.0 4   120.3  91 4.43 2.140 16.7 0  1  5    2   \n",
              "Lotus Europa   30.4 4    95.1 113 3.77 1.513 16.9 1  1  5    2   \n",
              "Ford Pantera L 15.8 8   351.0 264 4.22 3.170 14.5 0  1  5    4   \n",
              "Ferrari Dino   19.7 6   145.0 175 3.62 2.770 15.5 0  1  5    6   \n",
              "Maserati Bora  15.0 8   301.0 335 3.54 3.570 14.6 0  1  5    8   \n",
              "Volvo 142E     21.4 4   121.0 109 4.11 2.780 18.6 1  1  4    2   "
            ],
            "text/latex": "A data.frame: 6 × 11\n\\begin{tabular}{r|lllllllllll}\n  & mpg & cyl & disp & hp & drat & wt & qsec & vs & am & gear & carb\\\\\n  & <dbl> & <dbl> & <dbl> & <dbl> & <dbl> & <dbl> & <dbl> & <dbl> & <dbl> & <dbl> & <dbl>\\\\\n\\hline\n\tPorsche 914-2 & 26.0 & 4 & 120.3 &  91 & 4.43 & 2.140 & 16.7 & 0 & 1 & 5 & 2\\\\\n\tLotus Europa & 30.4 & 4 &  95.1 & 113 & 3.77 & 1.513 & 16.9 & 1 & 1 & 5 & 2\\\\\n\tFord Pantera L & 15.8 & 8 & 351.0 & 264 & 4.22 & 3.170 & 14.5 & 0 & 1 & 5 & 4\\\\\n\tFerrari Dino & 19.7 & 6 & 145.0 & 175 & 3.62 & 2.770 & 15.5 & 0 & 1 & 5 & 6\\\\\n\tMaserati Bora & 15.0 & 8 & 301.0 & 335 & 3.54 & 3.570 & 14.6 & 0 & 1 & 5 & 8\\\\\n\tVolvo 142E & 21.4 & 4 & 121.0 & 109 & 4.11 & 2.780 & 18.6 & 1 & 1 & 4 & 2\\\\\n\\end{tabular}\n",
            "text/markdown": "\nA data.frame: 6 × 11\n\n| <!--/--> | mpg &lt;dbl&gt; | cyl &lt;dbl&gt; | disp &lt;dbl&gt; | hp &lt;dbl&gt; | drat &lt;dbl&gt; | wt &lt;dbl&gt; | qsec &lt;dbl&gt; | vs &lt;dbl&gt; | am &lt;dbl&gt; | gear &lt;dbl&gt; | carb &lt;dbl&gt; |\n|---|---|---|---|---|---|---|---|---|---|---|---|\n| Porsche 914-2 | 26.0 | 4 | 120.3 |  91 | 4.43 | 2.140 | 16.7 | 0 | 1 | 5 | 2 |\n| Lotus Europa | 30.4 | 4 |  95.1 | 113 | 3.77 | 1.513 | 16.9 | 1 | 1 | 5 | 2 |\n| Ford Pantera L | 15.8 | 8 | 351.0 | 264 | 4.22 | 3.170 | 14.5 | 0 | 1 | 5 | 4 |\n| Ferrari Dino | 19.7 | 6 | 145.0 | 175 | 3.62 | 2.770 | 15.5 | 0 | 1 | 5 | 6 |\n| Maserati Bora | 15.0 | 8 | 301.0 | 335 | 3.54 | 3.570 | 14.6 | 0 | 1 | 5 | 8 |\n| Volvo 142E | 21.4 | 4 | 121.0 | 109 | 4.11 | 2.780 | 18.6 | 1 | 1 | 4 | 2 |\n\n",
            "text/html": [
              "<table>\n",
              "<caption>A data.frame: 6 × 11</caption>\n",
              "<thead>\n",
              "\t<tr><th></th><th scope=col>mpg</th><th scope=col>cyl</th><th scope=col>disp</th><th scope=col>hp</th><th scope=col>drat</th><th scope=col>wt</th><th scope=col>qsec</th><th scope=col>vs</th><th scope=col>am</th><th scope=col>gear</th><th scope=col>carb</th></tr>\n",
              "\t<tr><th></th><th scope=col>&lt;dbl&gt;</th><th scope=col>&lt;dbl&gt;</th><th scope=col>&lt;dbl&gt;</th><th scope=col>&lt;dbl&gt;</th><th scope=col>&lt;dbl&gt;</th><th scope=col>&lt;dbl&gt;</th><th scope=col>&lt;dbl&gt;</th><th scope=col>&lt;dbl&gt;</th><th scope=col>&lt;dbl&gt;</th><th scope=col>&lt;dbl&gt;</th><th scope=col>&lt;dbl&gt;</th></tr>\n",
              "</thead>\n",
              "<tbody>\n",
              "\t<tr><th scope=row>Porsche 914-2</th><td>26.0</td><td>4</td><td>120.3</td><td> 91</td><td>4.43</td><td>2.140</td><td>16.7</td><td>0</td><td>1</td><td>5</td><td>2</td></tr>\n",
              "\t<tr><th scope=row>Lotus Europa</th><td>30.4</td><td>4</td><td> 95.1</td><td>113</td><td>3.77</td><td>1.513</td><td>16.9</td><td>1</td><td>1</td><td>5</td><td>2</td></tr>\n",
              "\t<tr><th scope=row>Ford Pantera L</th><td>15.8</td><td>8</td><td>351.0</td><td>264</td><td>4.22</td><td>3.170</td><td>14.5</td><td>0</td><td>1</td><td>5</td><td>4</td></tr>\n",
              "\t<tr><th scope=row>Ferrari Dino</th><td>19.7</td><td>6</td><td>145.0</td><td>175</td><td>3.62</td><td>2.770</td><td>15.5</td><td>0</td><td>1</td><td>5</td><td>6</td></tr>\n",
              "\t<tr><th scope=row>Maserati Bora</th><td>15.0</td><td>8</td><td>301.0</td><td>335</td><td>3.54</td><td>3.570</td><td>14.6</td><td>0</td><td>1</td><td>5</td><td>8</td></tr>\n",
              "\t<tr><th scope=row>Volvo 142E</th><td>21.4</td><td>4</td><td>121.0</td><td>109</td><td>4.11</td><td>2.780</td><td>18.6</td><td>1</td><td>1</td><td>4</td><td>2</td></tr>\n",
              "</tbody>\n",
              "</table>\n"
            ]
          },
          "metadata": {
            "tags": []
          }
        }
      ]
    },
    {
      "cell_type": "markdown",
      "metadata": {
        "id": "8-915zG_EAH4"
      },
      "source": [
        "### 5.2 Dataframe structure\n",
        "Another method that is often used to get a rapid overview of your data is the function `str()`. The function `str()` shows you the structure of your data set. For a data frame it tells you:\n",
        "\n",
        "- The total number of observations (e.g. 32 car types)\n",
        "- The total number of variables (e.g. 11 car features)\n",
        "- A full list of the variables names (e.g. mpg, cyl … )\n",
        "- The data type of each variable (e.g. num)\n",
        "\n",
        "**The first observations**\n",
        "Applying the `str()` function will often be the first thing that you do when receiving a new data set or data frame. It is a great way to get more insight in your data set before diving into the real analysis"
      ]
    },
    {
      "cell_type": "code",
      "metadata": {
        "id": "c4wKqQDqEAH5",
        "outputId": "e5180c03-bb3c-438f-db44-0a076e743c6a",
        "colab": {
          "base_uri": "https://localhost:8080/"
        }
      },
      "source": [
        "# Investigate the structure of mtcars\n",
        "str(mtcars)"
      ],
      "execution_count": 60,
      "outputs": [
        {
          "output_type": "stream",
          "text": [
            "'data.frame':\t32 obs. of  11 variables:\n",
            " $ mpg : num  21 21 22.8 21.4 18.7 18.1 14.3 24.4 22.8 19.2 ...\n",
            " $ cyl : num  6 6 4 6 8 6 8 4 4 6 ...\n",
            " $ disp: num  160 160 108 258 360 ...\n",
            " $ hp  : num  110 110 93 110 175 105 245 62 95 123 ...\n",
            " $ drat: num  3.9 3.9 3.85 3.08 3.15 2.76 3.21 3.69 3.92 3.92 ...\n",
            " $ wt  : num  2.62 2.88 2.32 3.21 3.44 ...\n",
            " $ qsec: num  16.5 17 18.6 19.4 17 ...\n",
            " $ vs  : num  0 0 1 1 0 1 0 1 1 1 ...\n",
            " $ am  : num  1 1 1 0 0 0 0 0 0 0 ...\n",
            " $ gear: num  4 4 4 3 3 3 3 4 4 4 ...\n",
            " $ carb: num  4 4 1 1 2 1 4 2 2 4 ...\n"
          ],
          "name": "stdout"
        }
      ]
    },
    {
      "cell_type": "code",
      "metadata": {
        "id": "3yaCrhZZEAH9",
        "outputId": "a4796a16-229d-40d6-edcf-5cb6f1546dbc",
        "colab": {
          "base_uri": "https://localhost:8080/"
        }
      },
      "source": [
        "# Investigate the structure of iris\n",
        "str(iris)"
      ],
      "execution_count": 61,
      "outputs": [
        {
          "output_type": "stream",
          "text": [
            "'data.frame':\t150 obs. of  5 variables:\n",
            " $ Sepal.Length: num  5.1 4.9 4.7 4.6 5 5.4 4.6 5 4.4 4.9 ...\n",
            " $ Sepal.Width : num  3.5 3 3.2 3.1 3.6 3.9 3.4 3.4 2.9 3.1 ...\n",
            " $ Petal.Length: num  1.4 1.4 1.3 1.5 1.4 1.7 1.4 1.5 1.4 1.5 ...\n",
            " $ Petal.Width : num  0.2 0.2 0.2 0.2 0.2 0.4 0.3 0.2 0.2 0.1 ...\n",
            " $ Species     : Factor w/ 3 levels \"setosa\",\"versicolor\",..: 1 1 1 1 1 1 1 1 1 1 ...\n"
          ],
          "name": "stdout"
        }
      ]
    },
    {
      "cell_type": "markdown",
      "metadata": {
        "id": "ItmzIKUMEAIA"
      },
      "source": [
        "### 5.3: Creating a data frame\n",
        "We construct a data frame with the `data.frame()` function. As arguments, you pass the vectors from before: they will become the different columns of your data frame. Because every column has the same length, the vectors you pass should also have the same length. But don't forget that it is possible (and likely) that they contain different types of data."
      ]
    },
    {
      "cell_type": "code",
      "metadata": {
        "id": "c2o-m2hzEAIB"
      },
      "source": [
        "# Definition of vectors\n",
        "name <- c(\"Mercury\", \"Venus\", \"Earth\", \"Mars\", \"Jupiter\", \"Saturn\", \"Uranus\", \"Neptune\")\n",
        "type <- c(\"Terrestrial planet\", \"Terrestrial planet\", \"Terrestrial planet\", \n",
        "          \"Terrestrial planet\", \"Gas giant\", \"Gas giant\", \"Gas giant\", \"Gas giant\")\n",
        "diameter <- c(0.382, 0.949, 1, 0.532, 11.209, 9.449, 4.007, 3.883)\n",
        "rotation <- c(58.64, -243.02, 1, 1.03, 0.41, 0.43, -0.72, 0.67)\n",
        "rings <- c(FALSE, FALSE, FALSE, FALSE, TRUE, TRUE, TRUE, TRUE)\n",
        "\n",
        "# Create a data frame from the vectors\n",
        "planets_df <-data.frame(name,type,diameter,rotation,rings)"
      ],
      "execution_count": 62,
      "outputs": []
    },
    {
      "cell_type": "code",
      "metadata": {
        "id": "uY2l80XHEAII",
        "outputId": "ea3b01ed-0ca6-42bf-9267-4db6c13a5a63",
        "colab": {
          "base_uri": "https://localhost:8080/",
          "height": 235
        }
      },
      "source": [
        "# View the dataframe\n",
        "planets_df"
      ],
      "execution_count": 63,
      "outputs": [
        {
          "output_type": "display_data",
          "data": {
            "text/plain": [
              "  name    type               diameter rotation rings\n",
              "1 Mercury Terrestrial planet  0.382     58.64  FALSE\n",
              "2 Venus   Terrestrial planet  0.949   -243.02  FALSE\n",
              "3 Earth   Terrestrial planet  1.000      1.00  FALSE\n",
              "4 Mars    Terrestrial planet  0.532      1.03  FALSE\n",
              "5 Jupiter Gas giant          11.209      0.41   TRUE\n",
              "6 Saturn  Gas giant           9.449      0.43   TRUE\n",
              "7 Uranus  Gas giant           4.007     -0.72   TRUE\n",
              "8 Neptune Gas giant           3.883      0.67   TRUE"
            ],
            "text/latex": "A data.frame: 8 × 5\n\\begin{tabular}{lllll}\n name & type & diameter & rotation & rings\\\\\n <chr> & <chr> & <dbl> & <dbl> & <lgl>\\\\\n\\hline\n\t Mercury & Terrestrial planet &  0.382 &   58.64 & FALSE\\\\\n\t Venus   & Terrestrial planet &  0.949 & -243.02 & FALSE\\\\\n\t Earth   & Terrestrial planet &  1.000 &    1.00 & FALSE\\\\\n\t Mars    & Terrestrial planet &  0.532 &    1.03 & FALSE\\\\\n\t Jupiter & Gas giant          & 11.209 &    0.41 &  TRUE\\\\\n\t Saturn  & Gas giant          &  9.449 &    0.43 &  TRUE\\\\\n\t Uranus  & Gas giant          &  4.007 &   -0.72 &  TRUE\\\\\n\t Neptune & Gas giant          &  3.883 &    0.67 &  TRUE\\\\\n\\end{tabular}\n",
            "text/markdown": "\nA data.frame: 8 × 5\n\n| name &lt;chr&gt; | type &lt;chr&gt; | diameter &lt;dbl&gt; | rotation &lt;dbl&gt; | rings &lt;lgl&gt; |\n|---|---|---|---|---|\n| Mercury | Terrestrial planet |  0.382 |   58.64 | FALSE |\n| Venus   | Terrestrial planet |  0.949 | -243.02 | FALSE |\n| Earth   | Terrestrial planet |  1.000 |    1.00 | FALSE |\n| Mars    | Terrestrial planet |  0.532 |    1.03 | FALSE |\n| Jupiter | Gas giant          | 11.209 |    0.41 |  TRUE |\n| Saturn  | Gas giant          |  9.449 |    0.43 |  TRUE |\n| Uranus  | Gas giant          |  4.007 |   -0.72 |  TRUE |\n| Neptune | Gas giant          |  3.883 |    0.67 |  TRUE |\n\n",
            "text/html": [
              "<table>\n",
              "<caption>A data.frame: 8 × 5</caption>\n",
              "<thead>\n",
              "\t<tr><th scope=col>name</th><th scope=col>type</th><th scope=col>diameter</th><th scope=col>rotation</th><th scope=col>rings</th></tr>\n",
              "\t<tr><th scope=col>&lt;chr&gt;</th><th scope=col>&lt;chr&gt;</th><th scope=col>&lt;dbl&gt;</th><th scope=col>&lt;dbl&gt;</th><th scope=col>&lt;lgl&gt;</th></tr>\n",
              "</thead>\n",
              "<tbody>\n",
              "\t<tr><td>Mercury</td><td>Terrestrial planet</td><td> 0.382</td><td>  58.64</td><td>FALSE</td></tr>\n",
              "\t<tr><td>Venus  </td><td>Terrestrial planet</td><td> 0.949</td><td>-243.02</td><td>FALSE</td></tr>\n",
              "\t<tr><td>Earth  </td><td>Terrestrial planet</td><td> 1.000</td><td>   1.00</td><td>FALSE</td></tr>\n",
              "\t<tr><td>Mars   </td><td>Terrestrial planet</td><td> 0.532</td><td>   1.03</td><td>FALSE</td></tr>\n",
              "\t<tr><td>Jupiter</td><td>Gas giant         </td><td>11.209</td><td>   0.41</td><td> TRUE</td></tr>\n",
              "\t<tr><td>Saturn </td><td>Gas giant         </td><td> 9.449</td><td>   0.43</td><td> TRUE</td></tr>\n",
              "\t<tr><td>Uranus </td><td>Gas giant         </td><td> 4.007</td><td>  -0.72</td><td> TRUE</td></tr>\n",
              "\t<tr><td>Neptune</td><td>Gas giant         </td><td> 3.883</td><td>   0.67</td><td> TRUE</td></tr>\n",
              "</tbody>\n",
              "</table>\n"
            ]
          },
          "metadata": {
            "tags": []
          }
        }
      ]
    },
    {
      "cell_type": "code",
      "metadata": {
        "id": "7jkMRF0wEAIM",
        "outputId": "be792eb0-e7cc-429a-f113-0d9eb8878a30",
        "colab": {
          "base_uri": "https://localhost:8080/"
        }
      },
      "source": [
        "# structure of dataframe\n",
        "str(planets_df)"
      ],
      "execution_count": 64,
      "outputs": [
        {
          "output_type": "stream",
          "text": [
            "'data.frame':\t8 obs. of  5 variables:\n",
            " $ name    : chr  \"Mercury\" \"Venus\" \"Earth\" \"Mars\" ...\n",
            " $ type    : chr  \"Terrestrial planet\" \"Terrestrial planet\" \"Terrestrial planet\" \"Terrestrial planet\" ...\n",
            " $ diameter: num  0.382 0.949 1 0.532 11.209 ...\n",
            " $ rotation: num  58.64 -243.02 1 1.03 0.41 ...\n",
            " $ rings   : logi  FALSE FALSE FALSE FALSE TRUE TRUE ...\n"
          ],
          "name": "stdout"
        }
      ]
    },
    {
      "cell_type": "code",
      "metadata": {
        "id": "HNmMhJK1EAIP",
        "outputId": "9fcc8744-e2ac-486d-bf4c-4ce3a346d00d",
        "colab": {
          "base_uri": "https://localhost:8080/",
          "height": 252
        }
      },
      "source": [
        "# summary of dataframe\n",
        "summary(planets_df)"
      ],
      "execution_count": 65,
      "outputs": [
        {
          "output_type": "display_data",
          "data": {
            "text/plain": [
              "     name               type              diameter          rotation        \n",
              " Length:8           Length:8           Min.   : 0.3820   Min.   :-243.0200  \n",
              " Class :character   Class :character   1st Qu.: 0.8448   1st Qu.:   0.1275  \n",
              " Mode  :character   Mode  :character   Median : 2.4415   Median :   0.5500  \n",
              "                                       Mean   : 3.9264   Mean   : -22.6950  \n",
              "                                       3rd Qu.: 5.3675   3rd Qu.:   1.0075  \n",
              "                                       Max.   :11.2090   Max.   :  58.6400  \n",
              "   rings        \n",
              " Mode :logical  \n",
              " FALSE:4        \n",
              " TRUE :4        \n",
              "                \n",
              "                \n",
              "                "
            ]
          },
          "metadata": {
            "tags": []
          }
        }
      ]
    },
    {
      "cell_type": "markdown",
      "metadata": {
        "id": "FmPpPxeDEwLB"
      },
      "source": [
        "## 5.4: Selection of data frame elements\n",
        "Similar to vectors and matrices, you select elements from a data frame with the help of square brackets `[ ]`. By using a comma, you can indicate what to select from the rows and the columns respectively. For example:\n",
        "\n",
        "* `my_df[1,2]` selects the value at the first row and second column in my_df.\n",
        "* `my_df[1:3,2:4]` selects rows 1, 2, 3 and columns 2, 3, 4 in my_df.\n",
        "* Sometimes you want to select all elements of a row or column. For example, `my_df[1, ]` selects all elements of the first row. Let us now apply this technique on planets_df!"
      ]
    },
    {
      "cell_type": "code",
      "metadata": {
        "id": "LlRm_Lu1EAIU",
        "outputId": "d4ca8174-92e8-4ec0-e970-63df21b2d8c0",
        "colab": {
          "base_uri": "https://localhost:8080/",
          "height": 330
        }
      },
      "source": [
        "# The planets_df data frame from the previous exercise is pre-loaded\n",
        "planets_df\n",
        "# Print out diameter of of Mercury (row 1, column 3)\n",
        "planets_df[1,3]\n",
        "\n",
        "# Print out data for Mars (entire fourth row)\n",
        "planets_df[4,]"
      ],
      "execution_count": 66,
      "outputs": [
        {
          "output_type": "display_data",
          "data": {
            "text/plain": [
              "  name    type               diameter rotation rings\n",
              "1 Mercury Terrestrial planet  0.382     58.64  FALSE\n",
              "2 Venus   Terrestrial planet  0.949   -243.02  FALSE\n",
              "3 Earth   Terrestrial planet  1.000      1.00  FALSE\n",
              "4 Mars    Terrestrial planet  0.532      1.03  FALSE\n",
              "5 Jupiter Gas giant          11.209      0.41   TRUE\n",
              "6 Saturn  Gas giant           9.449      0.43   TRUE\n",
              "7 Uranus  Gas giant           4.007     -0.72   TRUE\n",
              "8 Neptune Gas giant           3.883      0.67   TRUE"
            ],
            "text/latex": "A data.frame: 8 × 5\n\\begin{tabular}{lllll}\n name & type & diameter & rotation & rings\\\\\n <chr> & <chr> & <dbl> & <dbl> & <lgl>\\\\\n\\hline\n\t Mercury & Terrestrial planet &  0.382 &   58.64 & FALSE\\\\\n\t Venus   & Terrestrial planet &  0.949 & -243.02 & FALSE\\\\\n\t Earth   & Terrestrial planet &  1.000 &    1.00 & FALSE\\\\\n\t Mars    & Terrestrial planet &  0.532 &    1.03 & FALSE\\\\\n\t Jupiter & Gas giant          & 11.209 &    0.41 &  TRUE\\\\\n\t Saturn  & Gas giant          &  9.449 &    0.43 &  TRUE\\\\\n\t Uranus  & Gas giant          &  4.007 &   -0.72 &  TRUE\\\\\n\t Neptune & Gas giant          &  3.883 &    0.67 &  TRUE\\\\\n\\end{tabular}\n",
            "text/markdown": "\nA data.frame: 8 × 5\n\n| name &lt;chr&gt; | type &lt;chr&gt; | diameter &lt;dbl&gt; | rotation &lt;dbl&gt; | rings &lt;lgl&gt; |\n|---|---|---|---|---|\n| Mercury | Terrestrial planet |  0.382 |   58.64 | FALSE |\n| Venus   | Terrestrial planet |  0.949 | -243.02 | FALSE |\n| Earth   | Terrestrial planet |  1.000 |    1.00 | FALSE |\n| Mars    | Terrestrial planet |  0.532 |    1.03 | FALSE |\n| Jupiter | Gas giant          | 11.209 |    0.41 |  TRUE |\n| Saturn  | Gas giant          |  9.449 |    0.43 |  TRUE |\n| Uranus  | Gas giant          |  4.007 |   -0.72 |  TRUE |\n| Neptune | Gas giant          |  3.883 |    0.67 |  TRUE |\n\n",
            "text/html": [
              "<table>\n",
              "<caption>A data.frame: 8 × 5</caption>\n",
              "<thead>\n",
              "\t<tr><th scope=col>name</th><th scope=col>type</th><th scope=col>diameter</th><th scope=col>rotation</th><th scope=col>rings</th></tr>\n",
              "\t<tr><th scope=col>&lt;chr&gt;</th><th scope=col>&lt;chr&gt;</th><th scope=col>&lt;dbl&gt;</th><th scope=col>&lt;dbl&gt;</th><th scope=col>&lt;lgl&gt;</th></tr>\n",
              "</thead>\n",
              "<tbody>\n",
              "\t<tr><td>Mercury</td><td>Terrestrial planet</td><td> 0.382</td><td>  58.64</td><td>FALSE</td></tr>\n",
              "\t<tr><td>Venus  </td><td>Terrestrial planet</td><td> 0.949</td><td>-243.02</td><td>FALSE</td></tr>\n",
              "\t<tr><td>Earth  </td><td>Terrestrial planet</td><td> 1.000</td><td>   1.00</td><td>FALSE</td></tr>\n",
              "\t<tr><td>Mars   </td><td>Terrestrial planet</td><td> 0.532</td><td>   1.03</td><td>FALSE</td></tr>\n",
              "\t<tr><td>Jupiter</td><td>Gas giant         </td><td>11.209</td><td>   0.41</td><td> TRUE</td></tr>\n",
              "\t<tr><td>Saturn </td><td>Gas giant         </td><td> 9.449</td><td>   0.43</td><td> TRUE</td></tr>\n",
              "\t<tr><td>Uranus </td><td>Gas giant         </td><td> 4.007</td><td>  -0.72</td><td> TRUE</td></tr>\n",
              "\t<tr><td>Neptune</td><td>Gas giant         </td><td> 3.883</td><td>   0.67</td><td> TRUE</td></tr>\n",
              "</tbody>\n",
              "</table>\n"
            ]
          },
          "metadata": {
            "tags": []
          }
        },
        {
          "output_type": "display_data",
          "data": {
            "text/plain": [
              "[1] 0.382"
            ],
            "text/latex": "0.382",
            "text/markdown": "0.382",
            "text/html": [
              "0.382"
            ]
          },
          "metadata": {
            "tags": []
          }
        },
        {
          "output_type": "display_data",
          "data": {
            "text/plain": [
              "  name type               diameter rotation rings\n",
              "4 Mars Terrestrial planet 0.532    1.03     FALSE"
            ],
            "text/latex": "A data.frame: 1 × 5\n\\begin{tabular}{r|lllll}\n  & name & type & diameter & rotation & rings\\\\\n  & <chr> & <chr> & <dbl> & <dbl> & <lgl>\\\\\n\\hline\n\t4 & Mars & Terrestrial planet & 0.532 & 1.03 & FALSE\\\\\n\\end{tabular}\n",
            "text/markdown": "\nA data.frame: 1 × 5\n\n| <!--/--> | name &lt;chr&gt; | type &lt;chr&gt; | diameter &lt;dbl&gt; | rotation &lt;dbl&gt; | rings &lt;lgl&gt; |\n|---|---|---|---|---|---|\n| 4 | Mars | Terrestrial planet | 0.532 | 1.03 | FALSE |\n\n",
            "text/html": [
              "<table>\n",
              "<caption>A data.frame: 1 × 5</caption>\n",
              "<thead>\n",
              "\t<tr><th></th><th scope=col>name</th><th scope=col>type</th><th scope=col>diameter</th><th scope=col>rotation</th><th scope=col>rings</th></tr>\n",
              "\t<tr><th></th><th scope=col>&lt;chr&gt;</th><th scope=col>&lt;chr&gt;</th><th scope=col>&lt;dbl&gt;</th><th scope=col>&lt;dbl&gt;</th><th scope=col>&lt;lgl&gt;</th></tr>\n",
              "</thead>\n",
              "<tbody>\n",
              "\t<tr><th scope=row>4</th><td>Mars</td><td>Terrestrial planet</td><td>0.532</td><td>1.03</td><td>FALSE</td></tr>\n",
              "</tbody>\n",
              "</table>\n"
            ]
          },
          "metadata": {
            "tags": []
          }
        }
      ]
    },
    {
      "cell_type": "markdown",
      "metadata": {
        "id": "hcrufEBwGAcV"
      },
      "source": [
        "### Selection using variable name\n",
        "Instead of using numerics to select elements of a data frame, you can also use the variable names to select columns of a data frame."
      ]
    },
    {
      "cell_type": "code",
      "metadata": {
        "id": "LuqIH0YpGYWn",
        "outputId": "67c3391f-1094-462c-bd64-c83728966cc6",
        "colab": {
          "base_uri": "https://localhost:8080/",
          "height": 269
        }
      },
      "source": [
        "planets_df[3]"
      ],
      "execution_count": 67,
      "outputs": [
        {
          "output_type": "display_data",
          "data": {
            "text/plain": [
              "  diameter\n",
              "1  0.382  \n",
              "2  0.949  \n",
              "3  1.000  \n",
              "4  0.532  \n",
              "5 11.209  \n",
              "6  9.449  \n",
              "7  4.007  \n",
              "8  3.883  "
            ],
            "text/latex": "A data.frame: 8 × 1\n\\begin{tabular}{l}\n diameter\\\\\n <dbl>\\\\\n\\hline\n\t  0.382\\\\\n\t  0.949\\\\\n\t  1.000\\\\\n\t  0.532\\\\\n\t 11.209\\\\\n\t  9.449\\\\\n\t  4.007\\\\\n\t  3.883\\\\\n\\end{tabular}\n",
            "text/markdown": "\nA data.frame: 8 × 1\n\n| diameter &lt;dbl&gt; |\n|---|\n|  0.382 |\n|  0.949 |\n|  1.000 |\n|  0.532 |\n| 11.209 |\n|  9.449 |\n|  4.007 |\n|  3.883 |\n\n",
            "text/html": [
              "<table>\n",
              "<caption>A data.frame: 8 × 1</caption>\n",
              "<thead>\n",
              "\t<tr><th scope=col>diameter</th></tr>\n",
              "\t<tr><th scope=col>&lt;dbl&gt;</th></tr>\n",
              "</thead>\n",
              "<tbody>\n",
              "\t<tr><td> 0.382</td></tr>\n",
              "\t<tr><td> 0.949</td></tr>\n",
              "\t<tr><td> 1.000</td></tr>\n",
              "\t<tr><td> 0.532</td></tr>\n",
              "\t<tr><td>11.209</td></tr>\n",
              "\t<tr><td> 9.449</td></tr>\n",
              "\t<tr><td> 4.007</td></tr>\n",
              "\t<tr><td> 3.883</td></tr>\n",
              "</tbody>\n",
              "</table>\n"
            ]
          },
          "metadata": {
            "tags": []
          }
        }
      ]
    },
    {
      "cell_type": "code",
      "metadata": {
        "id": "9DxeQLM0FndK",
        "outputId": "a6aa1d98-b503-4c2e-f244-103e92e58441",
        "colab": {
          "base_uri": "https://localhost:8080/",
          "height": 269
        }
      },
      "source": [
        "# planets_df[,\"diameter\"],planets_df[,3] also works\n",
        "planets_df[\"diameter\"]"
      ],
      "execution_count": 68,
      "outputs": [
        {
          "output_type": "display_data",
          "data": {
            "text/plain": [
              "  diameter\n",
              "1  0.382  \n",
              "2  0.949  \n",
              "3  1.000  \n",
              "4  0.532  \n",
              "5 11.209  \n",
              "6  9.449  \n",
              "7  4.007  \n",
              "8  3.883  "
            ],
            "text/latex": "A data.frame: 8 × 1\n\\begin{tabular}{l}\n diameter\\\\\n <dbl>\\\\\n\\hline\n\t  0.382\\\\\n\t  0.949\\\\\n\t  1.000\\\\\n\t  0.532\\\\\n\t 11.209\\\\\n\t  9.449\\\\\n\t  4.007\\\\\n\t  3.883\\\\\n\\end{tabular}\n",
            "text/markdown": "\nA data.frame: 8 × 1\n\n| diameter &lt;dbl&gt; |\n|---|\n|  0.382 |\n|  0.949 |\n|  1.000 |\n|  0.532 |\n| 11.209 |\n|  9.449 |\n|  4.007 |\n|  3.883 |\n\n",
            "text/html": [
              "<table>\n",
              "<caption>A data.frame: 8 × 1</caption>\n",
              "<thead>\n",
              "\t<tr><th scope=col>diameter</th></tr>\n",
              "\t<tr><th scope=col>&lt;dbl&gt;</th></tr>\n",
              "</thead>\n",
              "<tbody>\n",
              "\t<tr><td> 0.382</td></tr>\n",
              "\t<tr><td> 0.949</td></tr>\n",
              "\t<tr><td> 1.000</td></tr>\n",
              "\t<tr><td> 0.532</td></tr>\n",
              "\t<tr><td>11.209</td></tr>\n",
              "\t<tr><td> 9.449</td></tr>\n",
              "\t<tr><td> 4.007</td></tr>\n",
              "\t<tr><td> 3.883</td></tr>\n",
              "</tbody>\n",
              "</table>\n"
            ]
          },
          "metadata": {
            "tags": []
          }
        }
      ]
    },
    {
      "cell_type": "markdown",
      "metadata": {
        "id": "BCSaQu3mGfiQ"
      },
      "source": [
        "### Subseting using `$` sign.\n",
        "If your columns have names, you can use the $ sign:\n",
        "\n",
        ">dataframe$colname"
      ]
    },
    {
      "cell_type": "code",
      "metadata": {
        "id": "g3f7me2-HUJ8",
        "outputId": "156bd568-6f32-4aa5-db15-32a0a8aeeb53",
        "colab": {
          "base_uri": "https://localhost:8080/",
          "height": 34
        }
      },
      "source": [
        "# Select the rings variable from planets_df\n",
        "rings_vector <- planets_df$rings\n",
        "  \n",
        "# Print out rings_vector\n",
        "rings_vector"
      ],
      "execution_count": 69,
      "outputs": [
        {
          "output_type": "display_data",
          "data": {
            "text/plain": [
              "[1] FALSE FALSE FALSE FALSE  TRUE  TRUE  TRUE  TRUE"
            ],
            "text/latex": "\\begin{enumerate*}\n\\item FALSE\n\\item FALSE\n\\item FALSE\n\\item FALSE\n\\item TRUE\n\\item TRUE\n\\item TRUE\n\\item TRUE\n\\end{enumerate*}\n",
            "text/markdown": "1. FALSE\n2. FALSE\n3. FALSE\n4. FALSE\n5. TRUE\n6. TRUE\n7. TRUE\n8. TRUE\n\n\n",
            "text/html": [
              "<style>\n",
              ".list-inline {list-style: none; margin:0; padding: 0}\n",
              ".list-inline>li {display: inline-block}\n",
              ".list-inline>li:not(:last-child)::after {content: \"\\00b7\"; padding: 0 .5ex}\n",
              "</style>\n",
              "<ol class=list-inline><li>FALSE</li><li>FALSE</li><li>FALSE</li><li>FALSE</li><li>TRUE</li><li>TRUE</li><li>TRUE</li><li>TRUE</li></ol>\n"
            ]
          },
          "metadata": {
            "tags": []
          }
        }
      ]
    },
    {
      "cell_type": "code",
      "metadata": {
        "id": "NnjA90dxHenm",
        "outputId": "63f36bb3-4ba2-44ea-f5b2-f93072b6dee6",
        "colab": {
          "base_uri": "https://localhost:8080/",
          "height": 155
        }
      },
      "source": [
        "# Adapt the code to select all columns for planets with rings\n",
        "planets_df[rings_vector,]"
      ],
      "execution_count": 70,
      "outputs": [
        {
          "output_type": "display_data",
          "data": {
            "text/plain": [
              "  name    type      diameter rotation rings\n",
              "5 Jupiter Gas giant 11.209    0.41    TRUE \n",
              "6 Saturn  Gas giant  9.449    0.43    TRUE \n",
              "7 Uranus  Gas giant  4.007   -0.72    TRUE \n",
              "8 Neptune Gas giant  3.883    0.67    TRUE "
            ],
            "text/latex": "A data.frame: 4 × 5\n\\begin{tabular}{r|lllll}\n  & name & type & diameter & rotation & rings\\\\\n  & <chr> & <chr> & <dbl> & <dbl> & <lgl>\\\\\n\\hline\n\t5 & Jupiter & Gas giant & 11.209 &  0.41 & TRUE\\\\\n\t6 & Saturn  & Gas giant &  9.449 &  0.43 & TRUE\\\\\n\t7 & Uranus  & Gas giant &  4.007 & -0.72 & TRUE\\\\\n\t8 & Neptune & Gas giant &  3.883 &  0.67 & TRUE\\\\\n\\end{tabular}\n",
            "text/markdown": "\nA data.frame: 4 × 5\n\n| <!--/--> | name &lt;chr&gt; | type &lt;chr&gt; | diameter &lt;dbl&gt; | rotation &lt;dbl&gt; | rings &lt;lgl&gt; |\n|---|---|---|---|---|---|\n| 5 | Jupiter | Gas giant | 11.209 |  0.41 | TRUE |\n| 6 | Saturn  | Gas giant |  9.449 |  0.43 | TRUE |\n| 7 | Uranus  | Gas giant |  4.007 | -0.72 | TRUE |\n| 8 | Neptune | Gas giant |  3.883 |  0.67 | TRUE |\n\n",
            "text/html": [
              "<table>\n",
              "<caption>A data.frame: 4 × 5</caption>\n",
              "<thead>\n",
              "\t<tr><th></th><th scope=col>name</th><th scope=col>type</th><th scope=col>diameter</th><th scope=col>rotation</th><th scope=col>rings</th></tr>\n",
              "\t<tr><th></th><th scope=col>&lt;chr&gt;</th><th scope=col>&lt;chr&gt;</th><th scope=col>&lt;dbl&gt;</th><th scope=col>&lt;dbl&gt;</th><th scope=col>&lt;lgl&gt;</th></tr>\n",
              "</thead>\n",
              "<tbody>\n",
              "\t<tr><th scope=row>5</th><td>Jupiter</td><td>Gas giant</td><td>11.209</td><td> 0.41</td><td>TRUE</td></tr>\n",
              "\t<tr><th scope=row>6</th><td>Saturn </td><td>Gas giant</td><td> 9.449</td><td> 0.43</td><td>TRUE</td></tr>\n",
              "\t<tr><th scope=row>7</th><td>Uranus </td><td>Gas giant</td><td> 4.007</td><td>-0.72</td><td>TRUE</td></tr>\n",
              "\t<tr><th scope=row>8</th><td>Neptune</td><td>Gas giant</td><td> 3.883</td><td> 0.67</td><td>TRUE</td></tr>\n",
              "</tbody>\n",
              "</table>\n"
            ]
          },
          "metadata": {
            "tags": []
          }
        }
      ]
    },
    {
      "cell_type": "markdown",
      "metadata": {
        "id": "0M36NQAJLHUW"
      },
      "source": [
        "### Using `subset()` function\n",
        "The first argument of `subset()` specifies the data set for which you want a subset. By adding the second argument, you give R the necessary information and conditions to select the correct subset.\n",
        "> subset(my_df, subset = some_condition)\n"
      ]
    },
    {
      "cell_type": "code",
      "metadata": {
        "id": "bcZF16ueIQrt",
        "outputId": "d087e8d1-10f2-4468-8fa4-e7b55bf101f3",
        "colab": {
          "base_uri": "https://localhost:8080/",
          "height": 235
        }
      },
      "source": [
        "# planets_df dataframe\n",
        "planets_df"
      ],
      "execution_count": 71,
      "outputs": [
        {
          "output_type": "display_data",
          "data": {
            "text/plain": [
              "  name    type               diameter rotation rings\n",
              "1 Mercury Terrestrial planet  0.382     58.64  FALSE\n",
              "2 Venus   Terrestrial planet  0.949   -243.02  FALSE\n",
              "3 Earth   Terrestrial planet  1.000      1.00  FALSE\n",
              "4 Mars    Terrestrial planet  0.532      1.03  FALSE\n",
              "5 Jupiter Gas giant          11.209      0.41   TRUE\n",
              "6 Saturn  Gas giant           9.449      0.43   TRUE\n",
              "7 Uranus  Gas giant           4.007     -0.72   TRUE\n",
              "8 Neptune Gas giant           3.883      0.67   TRUE"
            ],
            "text/latex": "A data.frame: 8 × 5\n\\begin{tabular}{lllll}\n name & type & diameter & rotation & rings\\\\\n <chr> & <chr> & <dbl> & <dbl> & <lgl>\\\\\n\\hline\n\t Mercury & Terrestrial planet &  0.382 &   58.64 & FALSE\\\\\n\t Venus   & Terrestrial planet &  0.949 & -243.02 & FALSE\\\\\n\t Earth   & Terrestrial planet &  1.000 &    1.00 & FALSE\\\\\n\t Mars    & Terrestrial planet &  0.532 &    1.03 & FALSE\\\\\n\t Jupiter & Gas giant          & 11.209 &    0.41 &  TRUE\\\\\n\t Saturn  & Gas giant          &  9.449 &    0.43 &  TRUE\\\\\n\t Uranus  & Gas giant          &  4.007 &   -0.72 &  TRUE\\\\\n\t Neptune & Gas giant          &  3.883 &    0.67 &  TRUE\\\\\n\\end{tabular}\n",
            "text/markdown": "\nA data.frame: 8 × 5\n\n| name &lt;chr&gt; | type &lt;chr&gt; | diameter &lt;dbl&gt; | rotation &lt;dbl&gt; | rings &lt;lgl&gt; |\n|---|---|---|---|---|\n| Mercury | Terrestrial planet |  0.382 |   58.64 | FALSE |\n| Venus   | Terrestrial planet |  0.949 | -243.02 | FALSE |\n| Earth   | Terrestrial planet |  1.000 |    1.00 | FALSE |\n| Mars    | Terrestrial planet |  0.532 |    1.03 | FALSE |\n| Jupiter | Gas giant          | 11.209 |    0.41 |  TRUE |\n| Saturn  | Gas giant          |  9.449 |    0.43 |  TRUE |\n| Uranus  | Gas giant          |  4.007 |   -0.72 |  TRUE |\n| Neptune | Gas giant          |  3.883 |    0.67 |  TRUE |\n\n",
            "text/html": [
              "<table>\n",
              "<caption>A data.frame: 8 × 5</caption>\n",
              "<thead>\n",
              "\t<tr><th scope=col>name</th><th scope=col>type</th><th scope=col>diameter</th><th scope=col>rotation</th><th scope=col>rings</th></tr>\n",
              "\t<tr><th scope=col>&lt;chr&gt;</th><th scope=col>&lt;chr&gt;</th><th scope=col>&lt;dbl&gt;</th><th scope=col>&lt;dbl&gt;</th><th scope=col>&lt;lgl&gt;</th></tr>\n",
              "</thead>\n",
              "<tbody>\n",
              "\t<tr><td>Mercury</td><td>Terrestrial planet</td><td> 0.382</td><td>  58.64</td><td>FALSE</td></tr>\n",
              "\t<tr><td>Venus  </td><td>Terrestrial planet</td><td> 0.949</td><td>-243.02</td><td>FALSE</td></tr>\n",
              "\t<tr><td>Earth  </td><td>Terrestrial planet</td><td> 1.000</td><td>   1.00</td><td>FALSE</td></tr>\n",
              "\t<tr><td>Mars   </td><td>Terrestrial planet</td><td> 0.532</td><td>   1.03</td><td>FALSE</td></tr>\n",
              "\t<tr><td>Jupiter</td><td>Gas giant         </td><td>11.209</td><td>   0.41</td><td> TRUE</td></tr>\n",
              "\t<tr><td>Saturn </td><td>Gas giant         </td><td> 9.449</td><td>   0.43</td><td> TRUE</td></tr>\n",
              "\t<tr><td>Uranus </td><td>Gas giant         </td><td> 4.007</td><td>  -0.72</td><td> TRUE</td></tr>\n",
              "\t<tr><td>Neptune</td><td>Gas giant         </td><td> 3.883</td><td>   0.67</td><td> TRUE</td></tr>\n",
              "</tbody>\n",
              "</table>\n"
            ]
          },
          "metadata": {
            "tags": []
          }
        }
      ]
    },
    {
      "cell_type": "code",
      "metadata": {
        "id": "LgqxDF29Lw9z",
        "outputId": "3bbedbeb-781f-4eea-febc-b1c2ce7f3704",
        "colab": {
          "base_uri": "https://localhost:8080/",
          "height": 135
        }
      },
      "source": [
        "# Select planets with diameter > 4\n",
        "subset(planets_df,diameter > 4)"
      ],
      "execution_count": 72,
      "outputs": [
        {
          "output_type": "display_data",
          "data": {
            "text/plain": [
              "  name    type      diameter rotation rings\n",
              "5 Jupiter Gas giant 11.209    0.41    TRUE \n",
              "6 Saturn  Gas giant  9.449    0.43    TRUE \n",
              "7 Uranus  Gas giant  4.007   -0.72    TRUE "
            ],
            "text/latex": "A data.frame: 3 × 5\n\\begin{tabular}{r|lllll}\n  & name & type & diameter & rotation & rings\\\\\n  & <chr> & <chr> & <dbl> & <dbl> & <lgl>\\\\\n\\hline\n\t5 & Jupiter & Gas giant & 11.209 &  0.41 & TRUE\\\\\n\t6 & Saturn  & Gas giant &  9.449 &  0.43 & TRUE\\\\\n\t7 & Uranus  & Gas giant &  4.007 & -0.72 & TRUE\\\\\n\\end{tabular}\n",
            "text/markdown": "\nA data.frame: 3 × 5\n\n| <!--/--> | name &lt;chr&gt; | type &lt;chr&gt; | diameter &lt;dbl&gt; | rotation &lt;dbl&gt; | rings &lt;lgl&gt; |\n|---|---|---|---|---|---|\n| 5 | Jupiter | Gas giant | 11.209 |  0.41 | TRUE |\n| 6 | Saturn  | Gas giant |  9.449 |  0.43 | TRUE |\n| 7 | Uranus  | Gas giant |  4.007 | -0.72 | TRUE |\n\n",
            "text/html": [
              "<table>\n",
              "<caption>A data.frame: 3 × 5</caption>\n",
              "<thead>\n",
              "\t<tr><th></th><th scope=col>name</th><th scope=col>type</th><th scope=col>diameter</th><th scope=col>rotation</th><th scope=col>rings</th></tr>\n",
              "\t<tr><th></th><th scope=col>&lt;chr&gt;</th><th scope=col>&lt;chr&gt;</th><th scope=col>&lt;dbl&gt;</th><th scope=col>&lt;dbl&gt;</th><th scope=col>&lt;lgl&gt;</th></tr>\n",
              "</thead>\n",
              "<tbody>\n",
              "\t<tr><th scope=row>5</th><td>Jupiter</td><td>Gas giant</td><td>11.209</td><td> 0.41</td><td>TRUE</td></tr>\n",
              "\t<tr><th scope=row>6</th><td>Saturn </td><td>Gas giant</td><td> 9.449</td><td> 0.43</td><td>TRUE</td></tr>\n",
              "\t<tr><th scope=row>7</th><td>Uranus </td><td>Gas giant</td><td> 4.007</td><td>-0.72</td><td>TRUE</td></tr>\n",
              "</tbody>\n",
              "</table>\n"
            ]
          },
          "metadata": {
            "tags": []
          }
        }
      ]
    },
    {
      "cell_type": "code",
      "metadata": {
        "id": "1Mc1awiyMFN3",
        "outputId": "a6df104e-4197-4e75-f0d5-541a288dafd7",
        "colab": {
          "base_uri": "https://localhost:8080/",
          "height": 155
        }
      },
      "source": [
        "# subset using logical column\n",
        "subset(planets_df, subset = rings)"
      ],
      "execution_count": 73,
      "outputs": [
        {
          "output_type": "display_data",
          "data": {
            "text/plain": [
              "  name    type      diameter rotation rings\n",
              "5 Jupiter Gas giant 11.209    0.41    TRUE \n",
              "6 Saturn  Gas giant  9.449    0.43    TRUE \n",
              "7 Uranus  Gas giant  4.007   -0.72    TRUE \n",
              "8 Neptune Gas giant  3.883    0.67    TRUE "
            ],
            "text/latex": "A data.frame: 4 × 5\n\\begin{tabular}{r|lllll}\n  & name & type & diameter & rotation & rings\\\\\n  & <chr> & <chr> & <dbl> & <dbl> & <lgl>\\\\\n\\hline\n\t5 & Jupiter & Gas giant & 11.209 &  0.41 & TRUE\\\\\n\t6 & Saturn  & Gas giant &  9.449 &  0.43 & TRUE\\\\\n\t7 & Uranus  & Gas giant &  4.007 & -0.72 & TRUE\\\\\n\t8 & Neptune & Gas giant &  3.883 &  0.67 & TRUE\\\\\n\\end{tabular}\n",
            "text/markdown": "\nA data.frame: 4 × 5\n\n| <!--/--> | name &lt;chr&gt; | type &lt;chr&gt; | diameter &lt;dbl&gt; | rotation &lt;dbl&gt; | rings &lt;lgl&gt; |\n|---|---|---|---|---|---|\n| 5 | Jupiter | Gas giant | 11.209 |  0.41 | TRUE |\n| 6 | Saturn  | Gas giant |  9.449 |  0.43 | TRUE |\n| 7 | Uranus  | Gas giant |  4.007 | -0.72 | TRUE |\n| 8 | Neptune | Gas giant |  3.883 |  0.67 | TRUE |\n\n",
            "text/html": [
              "<table>\n",
              "<caption>A data.frame: 4 × 5</caption>\n",
              "<thead>\n",
              "\t<tr><th></th><th scope=col>name</th><th scope=col>type</th><th scope=col>diameter</th><th scope=col>rotation</th><th scope=col>rings</th></tr>\n",
              "\t<tr><th></th><th scope=col>&lt;chr&gt;</th><th scope=col>&lt;chr&gt;</th><th scope=col>&lt;dbl&gt;</th><th scope=col>&lt;dbl&gt;</th><th scope=col>&lt;lgl&gt;</th></tr>\n",
              "</thead>\n",
              "<tbody>\n",
              "\t<tr><th scope=row>5</th><td>Jupiter</td><td>Gas giant</td><td>11.209</td><td> 0.41</td><td>TRUE</td></tr>\n",
              "\t<tr><th scope=row>6</th><td>Saturn </td><td>Gas giant</td><td> 9.449</td><td> 0.43</td><td>TRUE</td></tr>\n",
              "\t<tr><th scope=row>7</th><td>Uranus </td><td>Gas giant</td><td> 4.007</td><td>-0.72</td><td>TRUE</td></tr>\n",
              "\t<tr><th scope=row>8</th><td>Neptune</td><td>Gas giant</td><td> 3.883</td><td> 0.67</td><td>TRUE</td></tr>\n",
              "</tbody>\n",
              "</table>\n"
            ]
          },
          "metadata": {
            "tags": []
          }
        }
      ]
    },
    {
      "cell_type": "markdown",
      "metadata": {
        "id": "lA66IR7_Mhfw"
      },
      "source": [
        "### Sorting Data frame\n",
        "the `order()` function rearrange your data frame such that it starts with the smallest largest one according to your column;"
      ]
    },
    {
      "cell_type": "code",
      "metadata": {
        "id": "YqINVXFQNnok",
        "outputId": "a2802a0d-edd2-45ec-c04f-28eb17dad1da",
        "colab": {
          "base_uri": "https://localhost:8080/",
          "height": 50
        }
      },
      "source": [
        "# How order works\n",
        "a <- c(1,4,6,7,9,5)\n",
        "order(a)\n",
        "a[order(a)]"
      ],
      "execution_count": 74,
      "outputs": [
        {
          "output_type": "display_data",
          "data": {
            "text/plain": [
              "[1] 1 2 6 3 4 5"
            ],
            "text/latex": "\\begin{enumerate*}\n\\item 1\n\\item 2\n\\item 6\n\\item 3\n\\item 4\n\\item 5\n\\end{enumerate*}\n",
            "text/markdown": "1. 1\n2. 2\n3. 6\n4. 3\n5. 4\n6. 5\n\n\n",
            "text/html": [
              "<style>\n",
              ".list-inline {list-style: none; margin:0; padding: 0}\n",
              ".list-inline>li {display: inline-block}\n",
              ".list-inline>li:not(:last-child)::after {content: \"\\00b7\"; padding: 0 .5ex}\n",
              "</style>\n",
              "<ol class=list-inline><li>1</li><li>2</li><li>6</li><li>3</li><li>4</li><li>5</li></ol>\n"
            ]
          },
          "metadata": {
            "tags": []
          }
        },
        {
          "output_type": "display_data",
          "data": {
            "text/plain": [
              "[1] 1 4 5 6 7 9"
            ],
            "text/latex": "\\begin{enumerate*}\n\\item 1\n\\item 4\n\\item 5\n\\item 6\n\\item 7\n\\item 9\n\\end{enumerate*}\n",
            "text/markdown": "1. 1\n2. 4\n3. 5\n4. 6\n5. 7\n6. 9\n\n\n",
            "text/html": [
              "<style>\n",
              ".list-inline {list-style: none; margin:0; padding: 0}\n",
              ".list-inline>li {display: inline-block}\n",
              ".list-inline>li:not(:last-child)::after {content: \"\\00b7\"; padding: 0 .5ex}\n",
              "</style>\n",
              "<ol class=list-inline><li>1</li><li>4</li><li>5</li><li>6</li><li>7</li><li>9</li></ol>\n"
            ]
          },
          "metadata": {
            "tags": []
          }
        }
      ]
    },
    {
      "cell_type": "code",
      "metadata": {
        "id": "J1F9RYZrMMKT",
        "outputId": "77cadd63-406d-4c18-97fa-b1631a416b9c",
        "colab": {
          "base_uri": "https://localhost:8080/",
          "height": 454
        }
      },
      "source": [
        "# planets_df is pre-loaded in your workspace\n",
        "planets_df \n",
        "# Use order() to create positions\n",
        "size <- order(planets_df$diameter) \n",
        "\n",
        "# Use size to sort planets_df\n",
        "planets_df[size,]"
      ],
      "execution_count": 75,
      "outputs": [
        {
          "output_type": "display_data",
          "data": {
            "text/plain": [
              "  name    type               diameter rotation rings\n",
              "1 Mercury Terrestrial planet  0.382     58.64  FALSE\n",
              "2 Venus   Terrestrial planet  0.949   -243.02  FALSE\n",
              "3 Earth   Terrestrial planet  1.000      1.00  FALSE\n",
              "4 Mars    Terrestrial planet  0.532      1.03  FALSE\n",
              "5 Jupiter Gas giant          11.209      0.41   TRUE\n",
              "6 Saturn  Gas giant           9.449      0.43   TRUE\n",
              "7 Uranus  Gas giant           4.007     -0.72   TRUE\n",
              "8 Neptune Gas giant           3.883      0.67   TRUE"
            ],
            "text/latex": "A data.frame: 8 × 5\n\\begin{tabular}{lllll}\n name & type & diameter & rotation & rings\\\\\n <chr> & <chr> & <dbl> & <dbl> & <lgl>\\\\\n\\hline\n\t Mercury & Terrestrial planet &  0.382 &   58.64 & FALSE\\\\\n\t Venus   & Terrestrial planet &  0.949 & -243.02 & FALSE\\\\\n\t Earth   & Terrestrial planet &  1.000 &    1.00 & FALSE\\\\\n\t Mars    & Terrestrial planet &  0.532 &    1.03 & FALSE\\\\\n\t Jupiter & Gas giant          & 11.209 &    0.41 &  TRUE\\\\\n\t Saturn  & Gas giant          &  9.449 &    0.43 &  TRUE\\\\\n\t Uranus  & Gas giant          &  4.007 &   -0.72 &  TRUE\\\\\n\t Neptune & Gas giant          &  3.883 &    0.67 &  TRUE\\\\\n\\end{tabular}\n",
            "text/markdown": "\nA data.frame: 8 × 5\n\n| name &lt;chr&gt; | type &lt;chr&gt; | diameter &lt;dbl&gt; | rotation &lt;dbl&gt; | rings &lt;lgl&gt; |\n|---|---|---|---|---|\n| Mercury | Terrestrial planet |  0.382 |   58.64 | FALSE |\n| Venus   | Terrestrial planet |  0.949 | -243.02 | FALSE |\n| Earth   | Terrestrial planet |  1.000 |    1.00 | FALSE |\n| Mars    | Terrestrial planet |  0.532 |    1.03 | FALSE |\n| Jupiter | Gas giant          | 11.209 |    0.41 |  TRUE |\n| Saturn  | Gas giant          |  9.449 |    0.43 |  TRUE |\n| Uranus  | Gas giant          |  4.007 |   -0.72 |  TRUE |\n| Neptune | Gas giant          |  3.883 |    0.67 |  TRUE |\n\n",
            "text/html": [
              "<table>\n",
              "<caption>A data.frame: 8 × 5</caption>\n",
              "<thead>\n",
              "\t<tr><th scope=col>name</th><th scope=col>type</th><th scope=col>diameter</th><th scope=col>rotation</th><th scope=col>rings</th></tr>\n",
              "\t<tr><th scope=col>&lt;chr&gt;</th><th scope=col>&lt;chr&gt;</th><th scope=col>&lt;dbl&gt;</th><th scope=col>&lt;dbl&gt;</th><th scope=col>&lt;lgl&gt;</th></tr>\n",
              "</thead>\n",
              "<tbody>\n",
              "\t<tr><td>Mercury</td><td>Terrestrial planet</td><td> 0.382</td><td>  58.64</td><td>FALSE</td></tr>\n",
              "\t<tr><td>Venus  </td><td>Terrestrial planet</td><td> 0.949</td><td>-243.02</td><td>FALSE</td></tr>\n",
              "\t<tr><td>Earth  </td><td>Terrestrial planet</td><td> 1.000</td><td>   1.00</td><td>FALSE</td></tr>\n",
              "\t<tr><td>Mars   </td><td>Terrestrial planet</td><td> 0.532</td><td>   1.03</td><td>FALSE</td></tr>\n",
              "\t<tr><td>Jupiter</td><td>Gas giant         </td><td>11.209</td><td>   0.41</td><td> TRUE</td></tr>\n",
              "\t<tr><td>Saturn </td><td>Gas giant         </td><td> 9.449</td><td>   0.43</td><td> TRUE</td></tr>\n",
              "\t<tr><td>Uranus </td><td>Gas giant         </td><td> 4.007</td><td>  -0.72</td><td> TRUE</td></tr>\n",
              "\t<tr><td>Neptune</td><td>Gas giant         </td><td> 3.883</td><td>   0.67</td><td> TRUE</td></tr>\n",
              "</tbody>\n",
              "</table>\n"
            ]
          },
          "metadata": {
            "tags": []
          }
        },
        {
          "output_type": "display_data",
          "data": {
            "text/plain": [
              "  name    type               diameter rotation rings\n",
              "1 Mercury Terrestrial planet  0.382     58.64  FALSE\n",
              "4 Mars    Terrestrial planet  0.532      1.03  FALSE\n",
              "2 Venus   Terrestrial planet  0.949   -243.02  FALSE\n",
              "3 Earth   Terrestrial planet  1.000      1.00  FALSE\n",
              "8 Neptune Gas giant           3.883      0.67   TRUE\n",
              "7 Uranus  Gas giant           4.007     -0.72   TRUE\n",
              "6 Saturn  Gas giant           9.449      0.43   TRUE\n",
              "5 Jupiter Gas giant          11.209      0.41   TRUE"
            ],
            "text/latex": "A data.frame: 8 × 5\n\\begin{tabular}{r|lllll}\n  & name & type & diameter & rotation & rings\\\\\n  & <chr> & <chr> & <dbl> & <dbl> & <lgl>\\\\\n\\hline\n\t1 & Mercury & Terrestrial planet &  0.382 &   58.64 & FALSE\\\\\n\t4 & Mars    & Terrestrial planet &  0.532 &    1.03 & FALSE\\\\\n\t2 & Venus   & Terrestrial planet &  0.949 & -243.02 & FALSE\\\\\n\t3 & Earth   & Terrestrial planet &  1.000 &    1.00 & FALSE\\\\\n\t8 & Neptune & Gas giant          &  3.883 &    0.67 &  TRUE\\\\\n\t7 & Uranus  & Gas giant          &  4.007 &   -0.72 &  TRUE\\\\\n\t6 & Saturn  & Gas giant          &  9.449 &    0.43 &  TRUE\\\\\n\t5 & Jupiter & Gas giant          & 11.209 &    0.41 &  TRUE\\\\\n\\end{tabular}\n",
            "text/markdown": "\nA data.frame: 8 × 5\n\n| <!--/--> | name &lt;chr&gt; | type &lt;chr&gt; | diameter &lt;dbl&gt; | rotation &lt;dbl&gt; | rings &lt;lgl&gt; |\n|---|---|---|---|---|---|\n| 1 | Mercury | Terrestrial planet |  0.382 |   58.64 | FALSE |\n| 4 | Mars    | Terrestrial planet |  0.532 |    1.03 | FALSE |\n| 2 | Venus   | Terrestrial planet |  0.949 | -243.02 | FALSE |\n| 3 | Earth   | Terrestrial planet |  1.000 |    1.00 | FALSE |\n| 8 | Neptune | Gas giant          |  3.883 |    0.67 |  TRUE |\n| 7 | Uranus  | Gas giant          |  4.007 |   -0.72 |  TRUE |\n| 6 | Saturn  | Gas giant          |  9.449 |    0.43 |  TRUE |\n| 5 | Jupiter | Gas giant          | 11.209 |    0.41 |  TRUE |\n\n",
            "text/html": [
              "<table>\n",
              "<caption>A data.frame: 8 × 5</caption>\n",
              "<thead>\n",
              "\t<tr><th></th><th scope=col>name</th><th scope=col>type</th><th scope=col>diameter</th><th scope=col>rotation</th><th scope=col>rings</th></tr>\n",
              "\t<tr><th></th><th scope=col>&lt;chr&gt;</th><th scope=col>&lt;chr&gt;</th><th scope=col>&lt;dbl&gt;</th><th scope=col>&lt;dbl&gt;</th><th scope=col>&lt;lgl&gt;</th></tr>\n",
              "</thead>\n",
              "<tbody>\n",
              "\t<tr><th scope=row>1</th><td>Mercury</td><td>Terrestrial planet</td><td> 0.382</td><td>  58.64</td><td>FALSE</td></tr>\n",
              "\t<tr><th scope=row>4</th><td>Mars   </td><td>Terrestrial planet</td><td> 0.532</td><td>   1.03</td><td>FALSE</td></tr>\n",
              "\t<tr><th scope=row>2</th><td>Venus  </td><td>Terrestrial planet</td><td> 0.949</td><td>-243.02</td><td>FALSE</td></tr>\n",
              "\t<tr><th scope=row>3</th><td>Earth  </td><td>Terrestrial planet</td><td> 1.000</td><td>   1.00</td><td>FALSE</td></tr>\n",
              "\t<tr><th scope=row>8</th><td>Neptune</td><td>Gas giant         </td><td> 3.883</td><td>   0.67</td><td> TRUE</td></tr>\n",
              "\t<tr><th scope=row>7</th><td>Uranus </td><td>Gas giant         </td><td> 4.007</td><td>  -0.72</td><td> TRUE</td></tr>\n",
              "\t<tr><th scope=row>6</th><td>Saturn </td><td>Gas giant         </td><td> 9.449</td><td>   0.43</td><td> TRUE</td></tr>\n",
              "\t<tr><th scope=row>5</th><td>Jupiter</td><td>Gas giant         </td><td>11.209</td><td>   0.41</td><td> TRUE</td></tr>\n",
              "</tbody>\n",
              "</table>\n"
            ]
          },
          "metadata": {
            "tags": []
          }
        }
      ]
    },
    {
      "cell_type": "markdown",
      "metadata": {
        "id": "gGGpxn0k7wl5"
      },
      "source": [
        "# 6. Working with List\n",
        "A **list** in R allows you to gather a variety of objects under one name (that is, the name of the list) in an ordered way. These objects can be **matrices, vectors, data frames, even other lists**, etc. It is not even required that these objects are related to each other in any way.\n",
        "\n",
        "## 6.1: Creating a list\n",
        "To construct a list you use the function list():\n",
        "> my_list <- list(comp1, comp2 ...)\n"
      ]
    },
    {
      "cell_type": "code",
      "metadata": {
        "id": "kAuL9vYE8HBE",
        "outputId": "0553d692-08ec-42ab-c1db-8a067928f100",
        "colab": {
          "base_uri": "https://localhost:8080/",
          "height": 482
        }
      },
      "source": [
        "# Vector with numerics from 1 up to 10\n",
        "my_vector <- 1:10 \n",
        "\n",
        "# Matrix with numerics from 1 up to 9\n",
        "my_matrix <- matrix(1:9, ncol = 3)\n",
        "\n",
        "# First 10 elements of the built-in data frame mtcars\n",
        "my_df <- mtcars[1:10,]\n",
        "\n",
        "# Construct list with these different elements:\n",
        "my_list <- list(my_vector,my_matrix,my_df)\n",
        "my_list"
      ],
      "execution_count": 76,
      "outputs": [
        {
          "output_type": "display_data",
          "data": {
            "text/plain": [
              "[[1]]\n",
              " [1]  1  2  3  4  5  6  7  8  9 10\n",
              "\n",
              "[[2]]\n",
              "     [,1] [,2] [,3]\n",
              "[1,]    1    4    7\n",
              "[2,]    2    5    8\n",
              "[3,]    3    6    9\n",
              "\n",
              "[[3]]\n",
              "                   mpg cyl  disp  hp drat    wt  qsec vs am gear carb\n",
              "Mazda RX4         21.0   6 160.0 110 3.90 2.620 16.46  0  1    4    4\n",
              "Mazda RX4 Wag     21.0   6 160.0 110 3.90 2.875 17.02  0  1    4    4\n",
              "Datsun 710        22.8   4 108.0  93 3.85 2.320 18.61  1  1    4    1\n",
              "Hornet 4 Drive    21.4   6 258.0 110 3.08 3.215 19.44  1  0    3    1\n",
              "Hornet Sportabout 18.7   8 360.0 175 3.15 3.440 17.02  0  0    3    2\n",
              "Valiant           18.1   6 225.0 105 2.76 3.460 20.22  1  0    3    1\n",
              "Duster 360        14.3   8 360.0 245 3.21 3.570 15.84  0  0    3    4\n",
              "Merc 240D         24.4   4 146.7  62 3.69 3.190 20.00  1  0    4    2\n",
              "Merc 230          22.8   4 140.8  95 3.92 3.150 22.90  1  0    4    2\n",
              "Merc 280          19.2   6 167.6 123 3.92 3.440 18.30  1  0    4    4\n"
            ],
            "text/latex": "\\begin{enumerate}\n\\item \\begin{enumerate*}\n\\item 1\n\\item 2\n\\item 3\n\\item 4\n\\item 5\n\\item 6\n\\item 7\n\\item 8\n\\item 9\n\\item 10\n\\end{enumerate*}\n\n\\item A matrix: 3 × 3 of type int\n\\begin{tabular}{lll}\n\t 1 & 4 & 7\\\\\n\t 2 & 5 & 8\\\\\n\t 3 & 6 & 9\\\\\n\\end{tabular}\n\n\\item A data.frame: 10 × 11\n\\begin{tabular}{r|lllllllllll}\n  & mpg & cyl & disp & hp & drat & wt & qsec & vs & am & gear & carb\\\\\n  & <dbl> & <dbl> & <dbl> & <dbl> & <dbl> & <dbl> & <dbl> & <dbl> & <dbl> & <dbl> & <dbl>\\\\\n\\hline\n\tMazda RX4 & 21.0 & 6 & 160.0 & 110 & 3.90 & 2.620 & 16.46 & 0 & 1 & 4 & 4\\\\\n\tMazda RX4 Wag & 21.0 & 6 & 160.0 & 110 & 3.90 & 2.875 & 17.02 & 0 & 1 & 4 & 4\\\\\n\tDatsun 710 & 22.8 & 4 & 108.0 &  93 & 3.85 & 2.320 & 18.61 & 1 & 1 & 4 & 1\\\\\n\tHornet 4 Drive & 21.4 & 6 & 258.0 & 110 & 3.08 & 3.215 & 19.44 & 1 & 0 & 3 & 1\\\\\n\tHornet Sportabout & 18.7 & 8 & 360.0 & 175 & 3.15 & 3.440 & 17.02 & 0 & 0 & 3 & 2\\\\\n\tValiant & 18.1 & 6 & 225.0 & 105 & 2.76 & 3.460 & 20.22 & 1 & 0 & 3 & 1\\\\\n\tDuster 360 & 14.3 & 8 & 360.0 & 245 & 3.21 & 3.570 & 15.84 & 0 & 0 & 3 & 4\\\\\n\tMerc 240D & 24.4 & 4 & 146.7 &  62 & 3.69 & 3.190 & 20.00 & 1 & 0 & 4 & 2\\\\\n\tMerc 230 & 22.8 & 4 & 140.8 &  95 & 3.92 & 3.150 & 22.90 & 1 & 0 & 4 & 2\\\\\n\tMerc 280 & 19.2 & 6 & 167.6 & 123 & 3.92 & 3.440 & 18.30 & 1 & 0 & 4 & 4\\\\\n\\end{tabular}\n\n\\end{enumerate}\n",
            "text/markdown": "1. 1. 1\n2. 2\n3. 3\n4. 4\n5. 5\n6. 6\n7. 7\n8. 8\n9. 9\n10. 10\n\n\n\n2. \nA matrix: 3 × 3 of type int\n\n| 1 | 4 | 7 |\n| 2 | 5 | 8 |\n| 3 | 6 | 9 |\n\n\n3. \nA data.frame: 10 × 11\n\n| <!--/--> | mpg &lt;dbl&gt; | cyl &lt;dbl&gt; | disp &lt;dbl&gt; | hp &lt;dbl&gt; | drat &lt;dbl&gt; | wt &lt;dbl&gt; | qsec &lt;dbl&gt; | vs &lt;dbl&gt; | am &lt;dbl&gt; | gear &lt;dbl&gt; | carb &lt;dbl&gt; |\n|---|---|---|---|---|---|---|---|---|---|---|---|\n| Mazda RX4 | 21.0 | 6 | 160.0 | 110 | 3.90 | 2.620 | 16.46 | 0 | 1 | 4 | 4 |\n| Mazda RX4 Wag | 21.0 | 6 | 160.0 | 110 | 3.90 | 2.875 | 17.02 | 0 | 1 | 4 | 4 |\n| Datsun 710 | 22.8 | 4 | 108.0 |  93 | 3.85 | 2.320 | 18.61 | 1 | 1 | 4 | 1 |\n| Hornet 4 Drive | 21.4 | 6 | 258.0 | 110 | 3.08 | 3.215 | 19.44 | 1 | 0 | 3 | 1 |\n| Hornet Sportabout | 18.7 | 8 | 360.0 | 175 | 3.15 | 3.440 | 17.02 | 0 | 0 | 3 | 2 |\n| Valiant | 18.1 | 6 | 225.0 | 105 | 2.76 | 3.460 | 20.22 | 1 | 0 | 3 | 1 |\n| Duster 360 | 14.3 | 8 | 360.0 | 245 | 3.21 | 3.570 | 15.84 | 0 | 0 | 3 | 4 |\n| Merc 240D | 24.4 | 4 | 146.7 |  62 | 3.69 | 3.190 | 20.00 | 1 | 0 | 4 | 2 |\n| Merc 230 | 22.8 | 4 | 140.8 |  95 | 3.92 | 3.150 | 22.90 | 1 | 0 | 4 | 2 |\n| Merc 280 | 19.2 | 6 | 167.6 | 123 | 3.92 | 3.440 | 18.30 | 1 | 0 | 4 | 4 |\n\n\n\n\n",
            "text/html": [
              "<ol>\n",
              "\t<li><style>\n",
              ".list-inline {list-style: none; margin:0; padding: 0}\n",
              ".list-inline>li {display: inline-block}\n",
              ".list-inline>li:not(:last-child)::after {content: \"\\00b7\"; padding: 0 .5ex}\n",
              "</style>\n",
              "<ol class=list-inline><li>1</li><li>2</li><li>3</li><li>4</li><li>5</li><li>6</li><li>7</li><li>8</li><li>9</li><li>10</li></ol>\n",
              "</li>\n",
              "\t<li><table>\n",
              "<caption>A matrix: 3 × 3 of type int</caption>\n",
              "<tbody>\n",
              "\t<tr><td>1</td><td>4</td><td>7</td></tr>\n",
              "\t<tr><td>2</td><td>5</td><td>8</td></tr>\n",
              "\t<tr><td>3</td><td>6</td><td>9</td></tr>\n",
              "</tbody>\n",
              "</table>\n",
              "</li>\n",
              "\t<li><table>\n",
              "<caption>A data.frame: 10 × 11</caption>\n",
              "<thead>\n",
              "\t<tr><th></th><th scope=col>mpg</th><th scope=col>cyl</th><th scope=col>disp</th><th scope=col>hp</th><th scope=col>drat</th><th scope=col>wt</th><th scope=col>qsec</th><th scope=col>vs</th><th scope=col>am</th><th scope=col>gear</th><th scope=col>carb</th></tr>\n",
              "\t<tr><th></th><th scope=col>&lt;dbl&gt;</th><th scope=col>&lt;dbl&gt;</th><th scope=col>&lt;dbl&gt;</th><th scope=col>&lt;dbl&gt;</th><th scope=col>&lt;dbl&gt;</th><th scope=col>&lt;dbl&gt;</th><th scope=col>&lt;dbl&gt;</th><th scope=col>&lt;dbl&gt;</th><th scope=col>&lt;dbl&gt;</th><th scope=col>&lt;dbl&gt;</th><th scope=col>&lt;dbl&gt;</th></tr>\n",
              "</thead>\n",
              "<tbody>\n",
              "\t<tr><th scope=row>Mazda RX4</th><td>21.0</td><td>6</td><td>160.0</td><td>110</td><td>3.90</td><td>2.620</td><td>16.46</td><td>0</td><td>1</td><td>4</td><td>4</td></tr>\n",
              "\t<tr><th scope=row>Mazda RX4 Wag</th><td>21.0</td><td>6</td><td>160.0</td><td>110</td><td>3.90</td><td>2.875</td><td>17.02</td><td>0</td><td>1</td><td>4</td><td>4</td></tr>\n",
              "\t<tr><th scope=row>Datsun 710</th><td>22.8</td><td>4</td><td>108.0</td><td> 93</td><td>3.85</td><td>2.320</td><td>18.61</td><td>1</td><td>1</td><td>4</td><td>1</td></tr>\n",
              "\t<tr><th scope=row>Hornet 4 Drive</th><td>21.4</td><td>6</td><td>258.0</td><td>110</td><td>3.08</td><td>3.215</td><td>19.44</td><td>1</td><td>0</td><td>3</td><td>1</td></tr>\n",
              "\t<tr><th scope=row>Hornet Sportabout</th><td>18.7</td><td>8</td><td>360.0</td><td>175</td><td>3.15</td><td>3.440</td><td>17.02</td><td>0</td><td>0</td><td>3</td><td>2</td></tr>\n",
              "\t<tr><th scope=row>Valiant</th><td>18.1</td><td>6</td><td>225.0</td><td>105</td><td>2.76</td><td>3.460</td><td>20.22</td><td>1</td><td>0</td><td>3</td><td>1</td></tr>\n",
              "\t<tr><th scope=row>Duster 360</th><td>14.3</td><td>8</td><td>360.0</td><td>245</td><td>3.21</td><td>3.570</td><td>15.84</td><td>0</td><td>0</td><td>3</td><td>4</td></tr>\n",
              "\t<tr><th scope=row>Merc 240D</th><td>24.4</td><td>4</td><td>146.7</td><td> 62</td><td>3.69</td><td>3.190</td><td>20.00</td><td>1</td><td>0</td><td>4</td><td>2</td></tr>\n",
              "\t<tr><th scope=row>Merc 230</th><td>22.8</td><td>4</td><td>140.8</td><td> 95</td><td>3.92</td><td>3.150</td><td>22.90</td><td>1</td><td>0</td><td>4</td><td>2</td></tr>\n",
              "\t<tr><th scope=row>Merc 280</th><td>19.2</td><td>6</td><td>167.6</td><td>123</td><td>3.92</td><td>3.440</td><td>18.30</td><td>1</td><td>0</td><td>4</td><td>4</td></tr>\n",
              "</tbody>\n",
              "</table>\n",
              "</li>\n",
              "</ol>\n"
            ]
          },
          "metadata": {
            "tags": []
          }
        }
      ]
    },
    {
      "cell_type": "markdown",
      "metadata": {
        "id": "nEJkVmVb8sML"
      },
      "source": [
        "## 3.2: Creating a named list\n",
        "Just like on your to-do list, you want to avoid not knowing or remembering what the components of your list stand for. That is why you should give names to them:\n",
        "> my_list <- list(name1 = your_comp1, name2 = your_comp2)\n",
        "\n",
        "This creates a list with components that are named name1, name2, and so on. If you want to **name your lists after you've created them**, you can use the `  names() ` function as you did with vectors. The following commands are fully equivalent to the assignment above:\n",
        "\n",
        "> my_list <- list(your_comp1, your_comp2) \\\n",
        "> names(my_list) <- c(\"name1\", \"name2\")\n"
      ]
    },
    {
      "cell_type": "code",
      "metadata": {
        "id": "R7hK6XSV8kMM"
      },
      "source": [
        "# Vector with numerics from 1 up to 10\n",
        "my_vector <- 1:10 \n",
        "\n",
        "# Matrix with numerics from 1 up to 9\n",
        "my_matrix <- matrix(1:9, ncol = 3)\n",
        "\n",
        "# First 10 elements of the built-in data frame mtcars\n",
        "my_df <- mtcars[1:10,]\n",
        "\n",
        "# Adapt list() call to give the components names\n",
        "my_list <- list(my_vector, my_matrix, my_df)\n",
        "names(my_list) <- c(\"vector\",\"matrix\",\"dataframe\")\n",
        "# Print out my_list\n",
        "my_list"
      ],
      "execution_count": null,
      "outputs": []
    },
    {
      "cell_type": "markdown",
      "metadata": {
        "id": "owd4ce53-Fby"
      },
      "source": [
        "### 3.3 Use of List in R\n"
      ]
    },
    {
      "cell_type": "code",
      "metadata": {
        "id": "rFSRBCNO9t0o"
      },
      "source": [
        "city <- \"Kolkata\"\n",
        "places <- c('New Market','Victoria Memorial','Howrah Bridge','Park Street','South Park Cemetery','Dakshineshwar Kali Temple','Belur Math','Fort William','Prinsep Ghat','Old Chinatown')\n",
        "\n",
        "# Creating dataframe\n",
        "rating <- c(4.8,5.0,4.0,3.1,3.6)\n",
        "place <- c('New Market','Dakshineshwar Kali Temple','Victoria Memorial','Victoria Memorial','Howrah Bridge')\n",
        "comment <- c('Nice Place', \"Good Temple!!\",'Must Visit','Kolkata, Attarction...','Best place near ganga!')\n",
        "city_review_df <- data.frame(place,rating,comment)\n",
        "\n",
        "# Creating R List\n",
        "city_list <- list(name = city, touristPlaces = places, review = city_review_df )"
      ],
      "execution_count": null,
      "outputs": []
    },
    {
      "cell_type": "code",
      "metadata": {
        "id": "5nr6BNm9_EmM"
      },
      "source": [
        "city_list"
      ],
      "execution_count": null,
      "outputs": []
    },
    {
      "cell_type": "markdown",
      "metadata": {
        "id": "LtiNkbykBxWY"
      },
      "source": [
        "### 3.4 Selecting elements from a list\n",
        "You can also refer to the names of the components, with `[[ ]]` or with the ` $ ` sign. Both will select the data frame representing the reviews:"
      ]
    },
    {
      "cell_type": "code",
      "metadata": {
        "id": "hGXlFN7TBgP7"
      },
      "source": [
        "city_list[['name']]\n",
        "city_list[['review']]"
      ],
      "execution_count": null,
      "outputs": []
    },
    {
      "cell_type": "code",
      "metadata": {
        "id": "fDhmT530CPW3"
      },
      "source": [
        "city_list[[1]]\n",
        "city_list[[3]]"
      ],
      "execution_count": null,
      "outputs": []
    }
  ]
}