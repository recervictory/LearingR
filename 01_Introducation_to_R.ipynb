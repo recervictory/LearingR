{
  "nbformat": 4,
  "nbformat_minor": 0,
  "metadata": {
    "colab": {
      "name": "01_Introducation to R.ipynb",
      "provenance": [],
      "authorship_tag": "ABX9TyMAsW3j3s7uVctBMoY9CRcW",
      "include_colab_link": true
    },
    "kernelspec": {
      "name": "ir",
      "display_name": "R"
    }
  },
  "cells": [
    {
      "cell_type": "markdown",
      "metadata": {
        "id": "view-in-github",
        "colab_type": "text"
      },
      "source": [
        "<a href=\"https://colab.research.google.com/github/recervictory/LearingR/blob/main/01_Introducation_to_R.ipynb\" target=\"_parent\"><img src=\"https://colab.research.google.com/assets/colab-badge.svg\" alt=\"Open In Colab\"/></a>"
      ]
    },
    {
      "cell_type": "markdown",
      "metadata": {
        "id": "wZH1dno5ilLZ"
      },
      "source": [
        "# 1. Introduction to R\n"
      ]
    },
    {
      "cell_type": "code",
      "metadata": {
        "id": "pwB8_LugiRkg"
      },
      "source": [
        "# In \"R\" The hashtag is used to add comments\n",
        "# Calculate 4+6\n",
        "4+6\n"
      ],
      "execution_count": null,
      "outputs": []
    },
    {
      "cell_type": "code",
      "metadata": {
        "id": "OMVMASsPjEnP"
      },
      "source": [
        "# What can we do with R\n",
        "demo(\"graphics\")"
      ],
      "execution_count": null,
      "outputs": []
    },
    {
      "cell_type": "markdown",
      "metadata": {
        "id": "Z0D1aJZbjuO_"
      },
      "source": [
        "## 1.1 Arithmetic with R\n",
        "R use **arithmetic operators** to calculate various arithmetic function\n",
        "- Addition: +\n",
        "- Subtraction: -\n",
        "- Multiplication: *\n",
        "- Division: /\n",
        "- Exponentiation: ^\n",
        "- Modulo: %%\n"
      ]
    },
    {
      "cell_type": "code",
      "metadata": {
        "id": "ClMlGmU4jJhU"
      },
      "source": [
        "# An addition\n",
        "15 + 5\n",
        "\n",
        "# A substraction\n",
        "50 - 5\n",
        "\n",
        "# A multiplication\n",
        "4 * 5\n",
        "\n",
        "# A division\n",
        "(5 + 5)/2\n",
        "\n",
        "# Exponentiation\n",
        "2^5\n",
        "# Modulo\n",
        "17%%4"
      ],
      "execution_count": null,
      "outputs": []
    },
    {
      "cell_type": "markdown",
      "metadata": {
        "id": "cekb8J4NlgLi"
      },
      "source": [
        "## 1.2 Variable assignment\n",
        "A basic concept in (statistical) programming is called a variable. A variable allows you to store a value (e.g. 4) or an object (e.g. a function description) in R. \n",
        "Assigning Variable in R:\n",
        "\n",
        "`my_var <- 15`\n",
        "\n",
        "`num <- 4`\n"
      ]
    },
    {
      "cell_type": "code",
      "metadata": {
        "id": "bNhIBMH8k308"
      },
      "source": [
        " pi <- 3.14\n",
        " pi"
      ],
      "execution_count": null,
      "outputs": []
    },
    {
      "cell_type": "code",
      "metadata": {
        "id": "riwPBWdnmVGs"
      },
      "source": [
        "pi <- 3.141592653589793238462\n",
        "phi <- 1.61803399\n",
        "hi <- pi * phi\n",
        "hi"
      ],
      "execution_count": null,
      "outputs": []
    },
    {
      "cell_type": "markdown",
      "metadata": {
        "id": "1SXARGovnMY8"
      },
      "source": [
        "## 1.3 Basic data types in R\n",
        "R works with numerous data types. Some of the most basic types to get started are:\n",
        "\n",
        "- Decimal values like 4.5 are called **numerics**.\n",
        "- Whole numbers like 4 are called **integers**. Integers are also **numerics**.\n",
        "- Boolean values (TRUE or FALSE) are called **logical**.\n",
        "- Text (or string) values are called **characters**. For string data type we need `quotation marks` to indicate is string."
      ]
    },
    {
      "cell_type": "code",
      "metadata": {
        "id": "5gjowKb_m9H9"
      },
      "source": [
        "num <- 4.5\n",
        "my_int <- 56\n",
        "my_logical <- TRUE\n",
        "my_name <- \"R Code\"\n",
        "my_name\n",
        "my_logical"
      ],
      "execution_count": null,
      "outputs": []
    },
    {
      "cell_type": "markdown",
      "metadata": {
        "id": "mn3qoWv9o1WW"
      },
      "source": [
        "**To check the data type of of a variable we use** `class()` **fuction**"
      ]
    },
    {
      "cell_type": "code",
      "metadata": {
        "id": "MF4NS3VXoe5R"
      },
      "source": [
        "class(my_logical)\n",
        "class(my_name)\n",
        "class(my_int)\n",
        "class(num)"
      ],
      "execution_count": null,
      "outputs": []
    },
    {
      "cell_type": "markdown",
      "metadata": {
        "id": "6q8pBu1UpqP2"
      },
      "source": [
        "# 2. Working with Vectors\n"
      ]
    },
    {
      "cell_type": "markdown",
      "metadata": {
        "id": "0-Xx4cWYslQP"
      },
      "source": [
        "\n",
        "<h2 align=center>Example of Dataset</h2>\n",
        "\n",
        "This is a common example of datasets table used for data analysis.This table has one row for each movie and several columns.\n",
        "\n",
        "-   **name** - The name of the movie\n",
        "-   **year** - The year the movie was released\n",
        "-   **length_min** - The lenght of the movie in minutes\n",
        "-   **genre** - The genre of the movie\n",
        "-   **average_rating** - Average rating on Imdb\n",
        "-   **cost_millions** - The movie's production cost in millions\n",
        "-   **sequences** - The amount of sequences\n",
        "-   **foreign** - Indicative of whether the movie is foreign (1) or domestic (0)\n",
        "-   **age_restriction** - The age restriction for the movie\n",
        "    <br>\n",
        "    <br>\n",
        "\n",
        "Here's what the data looks like:\n",
        "\n",
        "<img src = \"https://ibm.box.com/shared/static/6kr8sg0n6pc40zd1xn6hjhtvy3k7cmeq.png\" width = 90% align=\"left\">\n"
      ]
    },
    {
      "cell_type": "markdown",
      "metadata": {
        "id": "Au-CsvC-s0CS"
      },
      "source": [
        "**Vectors** are **one-dimension arrays** that can hold numeric data, character data, or logical data. In other words, a vector is a simple tool to store data. \n",
        "In R, you create a vector with the **combine function** `c()`. You place the vector elements separated by a comma between the parentheses. For example:\n",
        "```\n",
        "numeric_vector <- c(1, 2, 3)\n",
        "character_vector <- c(\"a\", \"b\", \"c\")\n",
        "```"
      ]
    },
    {
      "cell_type": "code",
      "metadata": {
        "id": "asKlZZYvpaFR"
      },
      "source": [
        "numeric_vector <- c(1, 10, 49)\n",
        "character_vector <- c(\"a\", \"b\", \"c\")\n",
        "logical_vector <- c(TRUE, FALSE,FALSE)\n",
        "# print vectors\n",
        "numeric_vector\n",
        "character_vector\n",
        "logical_vector"
      ],
      "execution_count": null,
      "outputs": []
    },
    {
      "cell_type": "code",
      "metadata": {
        "id": "I_QmjbJpsBSu"
      },
      "source": [
        "# datatypes of vectors\n",
        "class(numeric_vector)\n",
        "class(logical_vector)"
      ],
      "execution_count": null,
      "outputs": []
    },
    {
      "cell_type": "markdown",
      "metadata": {
        "id": "Os0kmADcFB8f"
      },
      "source": [
        "## 2.1 Naming a vector\n",
        "With vectors, you can give **names to the elements** of a vector using the `names()` function:"
      ]
    },
    {
      "cell_type": "code",
      "metadata": {
        "id": "AFCwlzXGsUki"
      },
      "source": [
        "#Creating a year vector\n",
        "release_year <- c(1985, 1999, 2010, 2002)\n",
        "release_year\n",
        "\n",
        "#Assigning names\n",
        "names(release_year) <- c(\"The Breakfast Club\", \"American Beauty\", \"Black Swan\", \"Chicago\")\n",
        "release_year"
      ],
      "execution_count": null,
      "outputs": []
    },
    {
      "cell_type": "code",
      "metadata": {
        "id": "IDIencgNEads"
      },
      "source": [
        "# Now, you can retrieve the values based on the names:\n",
        "release_year[c(\"American Beauty\", \"Chicago\")]"
      ],
      "execution_count": null,
      "outputs": []
    },
    {
      "cell_type": "code",
      "metadata": {
        "id": "P3pehxfNFWrr"
      },
      "source": [
        "names(release_year)"
      ],
      "execution_count": null,
      "outputs": []
    },
    {
      "cell_type": "markdown",
      "metadata": {
        "id": "0zP7hQymc4IZ"
      },
      "source": [
        "## 2.2 Vector Operations\n"
      ]
    },
    {
      "cell_type": "code",
      "metadata": {
        "id": "8mhXfZMndViF"
      },
      "source": [
        "release_year <- c(1985, 1999, 2015, 1964)\n",
        "release_year\n",
        "# Adding more elements to a vector\n",
        "release_year <- c(release_year, 2016:2020)\n",
        "release_year"
      ],
      "execution_count": null,
      "outputs": []
    },
    {
      "cell_type": "code",
      "metadata": {
        "id": "Nyig2mH3dh3c"
      },
      "source": [
        "# Length of a vector\n",
        "length(release_year)"
      ],
      "execution_count": null,
      "outputs": []
    },
    {
      "cell_type": "code",
      "metadata": {
        "id": "JFNnry_edr0P"
      },
      "source": [
        "# Head and Tail of a vector\n",
        "head(release_year) #first six items\n",
        "tail(release_year) #last six items"
      ],
      "execution_count": null,
      "outputs": []
    },
    {
      "cell_type": "code",
      "metadata": {
        "id": "tCfhSg3vd77k"
      },
      "source": [
        "# Sorting a vector\n",
        "sort(release_year)"
      ],
      "execution_count": null,
      "outputs": []
    },
    {
      "cell_type": "code",
      "metadata": {
        "id": "sc4UH57AeKZ_"
      },
      "source": [
        "sort(release_year, decreasing = T)"
      ],
      "execution_count": null,
      "outputs": []
    },
    {
      "cell_type": "code",
      "metadata": {
        "id": "hQCFAT_8eQfx"
      },
      "source": [
        "# minimum and maximum values of a vector, you can use the **`min()`** and **`max()`** functions\n",
        "min(release_year)\n",
        "max(release_year)"
      ],
      "execution_count": null,
      "outputs": []
    },
    {
      "cell_type": "code",
      "metadata": {
        "id": "uWK7vQcSeVUp"
      },
      "source": [
        "# Simple Stat Vectors\n",
        "cost <- c(12.8,11,8.6,9.3,14.2,10.9)\n",
        "mean(cost)\n",
        "median(cost)\n",
        "sum(cost)\n",
        "# Summary of Vectors\n",
        "summary(cost)"
      ],
      "execution_count": null,
      "outputs": []
    },
    {
      "cell_type": "code",
      "metadata": {
        "id": "hlfnW6RfgAOK"
      },
      "source": [
        ""
      ],
      "execution_count": null,
      "outputs": []
    }
  ]
}