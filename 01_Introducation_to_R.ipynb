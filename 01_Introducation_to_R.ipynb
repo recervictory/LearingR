{
  "nbformat": 4,
  "nbformat_minor": 0,
  "metadata": {
    "colab": {
      "name": "01_Introducation to R.ipynb",
      "provenance": [],
      "authorship_tag": "ABX9TyN2EJC3pEfLEyU0EDU6qQYb",
      "include_colab_link": true
    },
    "kernelspec": {
      "name": "ir",
      "display_name": "R"
    }
  },
  "cells": [
    {
      "cell_type": "markdown",
      "metadata": {
        "id": "view-in-github",
        "colab_type": "text"
      },
      "source": [
        "<a href=\"https://colab.research.google.com/github/recervictory/LearingR/blob/main/01_Introducation_to_R.ipynb\" target=\"_parent\"><img src=\"https://colab.research.google.com/assets/colab-badge.svg\" alt=\"Open In Colab\"/></a>"
      ]
    },
    {
      "cell_type": "markdown",
      "metadata": {
        "id": "wZH1dno5ilLZ"
      },
      "source": [
        "# 1. Introduction to R\n"
      ]
    },
    {
      "cell_type": "code",
      "metadata": {
        "id": "pwB8_LugiRkg"
      },
      "source": [
        "# In \"R\" The hashtag is used to add comments\n",
        "# Calculate 4+6\n",
        "4+6"
      ],
      "execution_count": null,
      "outputs": []
    },
    {
      "cell_type": "code",
      "metadata": {
        "id": "OMVMASsPjEnP"
      },
      "source": [
        "# What can we do with R\n",
        "demo(\"graphics\")"
      ],
      "execution_count": null,
      "outputs": []
    },
    {
      "cell_type": "markdown",
      "metadata": {
        "id": "Z0D1aJZbjuO_"
      },
      "source": [
        "## 1.1 Arithmetic with R\n",
        "R use **arithmetic operators** to calculate various arithmetic function\n",
        "- Addition: +\n",
        "- Subtraction: -\n",
        "- Multiplication: *\n",
        "- Division: /\n",
        "- Exponentiation: ^\n",
        "- Modulo: %%\n"
      ]
    },
    {
      "cell_type": "code",
      "metadata": {
        "id": "ClMlGmU4jJhU"
      },
      "source": [
        "# An addition\n",
        "15 + 5\n",
        "\n",
        "# A substraction\n",
        "50 - 5\n",
        "\n",
        "# A multiplication\n",
        "4 * 5\n",
        "\n",
        "# A division\n",
        "(5 + 5)/2\n",
        "\n",
        "# Exponentiation\n",
        "2^5\n",
        "# Modulo\n",
        "17%%4"
      ],
      "execution_count": null,
      "outputs": []
    },
    {
      "cell_type": "markdown",
      "metadata": {
        "id": "cekb8J4NlgLi"
      },
      "source": [
        "## 1.2 Variable assignment\n",
        "A basic concept in (statistical) programming is called a variable. A variable allows you to store a value (e.g. 4) or an object (e.g. a function description) in R. \n",
        "Assigning Variable in R:\n",
        "\n",
        "`my_var <- 15`\n",
        "\n",
        "`num <- 4`\n"
      ]
    },
    {
      "cell_type": "code",
      "metadata": {
        "id": "bNhIBMH8k308"
      },
      "source": [
        " pi <- 3.14\n",
        " pi"
      ],
      "execution_count": null,
      "outputs": []
    },
    {
      "cell_type": "code",
      "metadata": {
        "id": "riwPBWdnmVGs"
      },
      "source": [
        "pi <- 3.141592653589793238462\n",
        "phi <- 1.61803399\n",
        "hi <- pi * phi\n",
        "hi"
      ],
      "execution_count": null,
      "outputs": []
    },
    {
      "cell_type": "markdown",
      "metadata": {
        "id": "1SXARGovnMY8"
      },
      "source": [
        "## 1.3 Basic data types in R\n",
        "R works with numerous data types. Some of the most basic types to get started are:\n",
        "\n",
        "- Decimal values like 4.5 are called **numerics**.\n",
        "- Whole numbers like 4 are called **integers**. Integers are also **numerics**.\n",
        "- Boolean values (TRUE or FALSE) are called **logical**.\n",
        "- Text (or string) values are called **characters**. For string data type we need `quotation marks` to indicate is string."
      ]
    },
    {
      "cell_type": "code",
      "metadata": {
        "id": "5gjowKb_m9H9"
      },
      "source": [
        "num <- 4.5\n",
        "my_int <- 56\n",
        "my_logical <- TRUE\n",
        "my_name <- \"R Code\"\n",
        "my_name\n",
        "my_logical"
      ],
      "execution_count": null,
      "outputs": []
    },
    {
      "cell_type": "markdown",
      "metadata": {
        "id": "mn3qoWv9o1WW"
      },
      "source": [
        "**To check the data type of of a variable we use** `class()` **fuction**"
      ]
    },
    {
      "cell_type": "code",
      "metadata": {
        "id": "MF4NS3VXoe5R"
      },
      "source": [
        "class(my_logical)\n",
        "class(my_name)\n",
        "class(my_int)\n",
        "class(num)"
      ],
      "execution_count": null,
      "outputs": []
    },
    {
      "cell_type": "markdown",
      "metadata": {
        "id": "6q8pBu1UpqP2"
      },
      "source": [
        "# 2. Working with Vectors\n"
      ]
    },
    {
      "cell_type": "markdown",
      "metadata": {
        "id": "0-Xx4cWYslQP"
      },
      "source": [
        "\n",
        "<h2 align=center>Example of Dataset</h2>\n",
        "\n",
        "This is a common example of datasets table used for data analysis.This table has one row for each movie and several columns.\n",
        "\n",
        "-   **name** - The name of the movie\n",
        "-   **year** - The year the movie was released\n",
        "-   **length_min** - The lenght of the movie in minutes\n",
        "-   **genre** - The genre of the movie\n",
        "-   **average_rating** - Average rating on Imdb\n",
        "-   **cost_millions** - The movie's production cost in millions\n",
        "-   **sequences** - The amount of sequences\n",
        "-   **foreign** - Indicative of whether the movie is foreign (1) or domestic (0)\n",
        "-   **age_restriction** - The age restriction for the movie\n",
        "    <br>\n",
        "    <br>\n",
        "\n",
        "Here's what the data looks like:\n",
        "\n",
        "<img src = \"https://ibm.box.com/shared/static/6kr8sg0n6pc40zd1xn6hjhtvy3k7cmeq.png\" width = 90% align=\"left\">\n"
      ]
    },
    {
      "cell_type": "markdown",
      "metadata": {
        "id": "Au-CsvC-s0CS"
      },
      "source": [
        "**Vectors** are **one-dimension arrays** that can hold numeric data, character data, or logical data. In other words, a vector is a simple tool to store data. \n",
        "In R, you create a vector with the **combine function** `c()`. You place the vector elements separated by a comma between the parentheses. For example:\n",
        "```\n",
        "numeric_vector <- c(1, 2, 3)\n",
        "character_vector <- c(\"a\", \"b\", \"c\")\n",
        "```"
      ]
    },
    {
      "cell_type": "code",
      "metadata": {
        "id": "asKlZZYvpaFR"
      },
      "source": [
        "numeric_vector <- c(1, 10, 49)\n",
        "character_vector <- c(\"a\", \"b\", \"c\")\n",
        "logical_vector <- c(TRUE, FALSE,FALSE)\n",
        "# print vectors\n",
        "numeric_vector\n",
        "character_vector\n",
        "logical_vector"
      ],
      "execution_count": null,
      "outputs": []
    },
    {
      "cell_type": "code",
      "metadata": {
        "id": "I_QmjbJpsBSu"
      },
      "source": [
        "# datatypes of vectors\n",
        "class(numeric_vector)\n",
        "class(logical_vector)"
      ],
      "execution_count": null,
      "outputs": []
    },
    {
      "cell_type": "markdown",
      "metadata": {
        "id": "Os0kmADcFB8f"
      },
      "source": [
        "## 2.1 Naming a vector\n",
        "With vectors, you can give **names to the elements** of a vector using the `names()` function:"
      ]
    },
    {
      "cell_type": "code",
      "metadata": {
        "id": "AFCwlzXGsUki"
      },
      "source": [
        "#Creating a year vector\n",
        "release_year <- c(1985, 1999, 2010, 2002)\n",
        "release_year\n",
        "\n",
        "#Assigning names\n",
        "names(release_year) <- c(\"The Breakfast Club\", \"American Beauty\", \"Black Swan\", \"Chicago\")\n",
        "release_year"
      ],
      "execution_count": null,
      "outputs": []
    },
    {
      "cell_type": "code",
      "metadata": {
        "id": "IDIencgNEads"
      },
      "source": [
        "# Now, you can retrieve the values based on the names:\n",
        "release_year[c(\"American Beauty\", \"Chicago\")]"
      ],
      "execution_count": null,
      "outputs": []
    },
    {
      "cell_type": "code",
      "metadata": {
        "id": "P3pehxfNFWrr"
      },
      "source": [
        "names(release_year)"
      ],
      "execution_count": null,
      "outputs": []
    },
    {
      "cell_type": "markdown",
      "metadata": {
        "id": "0zP7hQymc4IZ"
      },
      "source": [
        "## 2.2 Vector Operations\n"
      ]
    },
    {
      "cell_type": "code",
      "metadata": {
        "id": "8mhXfZMndViF"
      },
      "source": [
        "release_year <- c(1985, 1999, 2015, 1964)\n",
        "release_year\n",
        "# Adding more elements to a vector\n",
        "release_year <- c(release_year, 2016:2020)\n",
        "release_year"
      ],
      "execution_count": null,
      "outputs": []
    },
    {
      "cell_type": "code",
      "metadata": {
        "id": "Nyig2mH3dh3c"
      },
      "source": [
        "# Length of a vector\n",
        "length(release_year)"
      ],
      "execution_count": null,
      "outputs": []
    },
    {
      "cell_type": "code",
      "metadata": {
        "id": "JFNnry_edr0P"
      },
      "source": [
        "# Head and Tail of a vector\n",
        "head(release_year) #first six items\n",
        "tail(release_year) #last six items"
      ],
      "execution_count": null,
      "outputs": []
    },
    {
      "cell_type": "code",
      "metadata": {
        "id": "tCfhSg3vd77k"
      },
      "source": [
        "# Sorting a vector\n",
        "sort(release_year)"
      ],
      "execution_count": null,
      "outputs": []
    },
    {
      "cell_type": "code",
      "metadata": {
        "id": "sc4UH57AeKZ_"
      },
      "source": [
        "sort(release_year, decreasing = T)"
      ],
      "execution_count": null,
      "outputs": []
    },
    {
      "cell_type": "code",
      "metadata": {
        "id": "hQCFAT_8eQfx"
      },
      "source": [
        "# minimum and maximum values of a vector, you can use the **`min()`** and **`max()`** functions\n",
        "min(release_year)\n",
        "max(release_year)"
      ],
      "execution_count": null,
      "outputs": []
    },
    {
      "cell_type": "code",
      "metadata": {
        "id": "uWK7vQcSeVUp"
      },
      "source": [
        "# Simple Stat Vectors\n",
        "cost <- c(12.8,11,8.6,9.3,14.2,10.9)\n",
        "mean(cost)\n",
        "median(cost)\n",
        "sum(cost)\n",
        "# Summary of Vectors\n",
        "summary(cost)"
      ],
      "execution_count": null,
      "outputs": []
    },
    {
      "cell_type": "markdown",
      "metadata": {
        "id": "h3qvoyKSjgVC"
      },
      "source": [
        "## 3.3 Vector Selection"
      ]
    },
    {
      "cell_type": "code",
      "metadata": {
        "id": "hlfnW6RfgAOK",
        "outputId": "4cb43c39-26ce-4b54-b870-d6d44afa976c",
        "colab": {
          "base_uri": "https://localhost:8080/",
          "height": 85
        }
      },
      "source": [
        "shop1 <- c(140, -50, 20, -120, 240)\n",
        "shop2 <- c(-24, -50, 100, -350, 10)\n",
        "days <- c(\"Monday\", \"Tuesday\", \"Wednesday\", \"Thursday\", \"Friday\")\n",
        "names(shop1) <- days\n",
        "names(shop2) <- days\n",
        "shop1[1] # one based index\n",
        "shop2[2]\n",
        "shop1['Friday']\n",
        "shop2[c(\"Monday\",\"Tuesday\")]"
      ],
      "execution_count": 13,
      "outputs": [
        {
          "output_type": "display_data",
          "data": {
            "text/plain": [
              "Monday \n",
              "   140 "
            ],
            "text/latex": "\\textbf{Monday:} 140",
            "text/markdown": "**Monday:** 140",
            "text/html": [
              "<strong>Monday:</strong> 140"
            ]
          },
          "metadata": {
            "tags": []
          }
        },
        {
          "output_type": "display_data",
          "data": {
            "text/plain": [
              "Tuesday \n",
              "    -50 "
            ],
            "text/latex": "\\textbf{Tuesday:} -50",
            "text/markdown": "**Tuesday:** -50",
            "text/html": [
              "<strong>Tuesday:</strong> -50"
            ]
          },
          "metadata": {
            "tags": []
          }
        },
        {
          "output_type": "display_data",
          "data": {
            "text/plain": [
              "Friday \n",
              "   240 "
            ],
            "text/latex": "\\textbf{Friday:} 240",
            "text/markdown": "**Friday:** 240",
            "text/html": [
              "<strong>Friday:</strong> 240"
            ]
          },
          "metadata": {
            "tags": []
          }
        },
        {
          "output_type": "display_data",
          "data": {
            "text/plain": [
              " Monday Tuesday \n",
              "    -24     -50 "
            ],
            "text/latex": "\\begin{description*}\n\\item[Monday] -24\n\\item[Tuesday] -50\n\\end{description*}\n",
            "text/markdown": "Monday\n:   -24Tuesday\n:   -50\n\n",
            "text/html": [
              "<style>\n",
              ".dl-inline {width: auto; margin:0; padding: 0}\n",
              ".dl-inline>dt, .dl-inline>dd {float: none; width: auto; display: inline-block}\n",
              ".dl-inline>dt::after {content: \":\\0020\"; padding-right: .5ex}\n",
              ".dl-inline>dt:not(:first-of-type) {padding-left: .5ex}\n",
              "</style><dl class=dl-inline><dt>Monday</dt><dd>-24</dd><dt>Tuesday</dt><dd>-50</dd></dl>\n"
            ]
          },
          "metadata": {
            "tags": []
          }
        }
      ]
    },
    {
      "cell_type": "code",
      "metadata": {
        "id": "ID4r5fqnkYdK",
        "outputId": "98d64857-8102-4065-e418-f6ad6d25179c",
        "colab": {
          "base_uri": "https://localhost:8080/",
          "height": 51
        }
      },
      "source": [
        "shop1[c(2,3,4)]\n",
        "shop2[c(2:4)]"
      ],
      "execution_count": 12,
      "outputs": [
        {
          "output_type": "display_data",
          "data": {
            "text/plain": [
              "  Tuesday Wednesday  Thursday \n",
              "      -50        20      -120 "
            ],
            "text/latex": "\\begin{description*}\n\\item[Tuesday] -50\n\\item[Wednesday] 20\n\\item[Thursday] -120\n\\end{description*}\n",
            "text/markdown": "Tuesday\n:   -50Wednesday\n:   20Thursday\n:   -120\n\n",
            "text/html": [
              "<style>\n",
              ".dl-inline {width: auto; margin:0; padding: 0}\n",
              ".dl-inline>dt, .dl-inline>dd {float: none; width: auto; display: inline-block}\n",
              ".dl-inline>dt::after {content: \":\\0020\"; padding-right: .5ex}\n",
              ".dl-inline>dt:not(:first-of-type) {padding-left: .5ex}\n",
              "</style><dl class=dl-inline><dt>Tuesday</dt><dd>-50</dd><dt>Wednesday</dt><dd>20</dd><dt>Thursday</dt><dd>-120</dd></dl>\n"
            ]
          },
          "metadata": {
            "tags": []
          }
        },
        {
          "output_type": "display_data",
          "data": {
            "text/plain": [
              "  Tuesday Wednesday  Thursday \n",
              "      -50       100      -350 "
            ],
            "text/latex": "\\begin{description*}\n\\item[Tuesday] -50\n\\item[Wednesday] 100\n\\item[Thursday] -350\n\\end{description*}\n",
            "text/markdown": "Tuesday\n:   -50Wednesday\n:   100Thursday\n:   -350\n\n",
            "text/html": [
              "<style>\n",
              ".dl-inline {width: auto; margin:0; padding: 0}\n",
              ".dl-inline>dt, .dl-inline>dd {float: none; width: auto; display: inline-block}\n",
              ".dl-inline>dt::after {content: \":\\0020\"; padding-right: .5ex}\n",
              ".dl-inline>dt:not(:first-of-type) {padding-left: .5ex}\n",
              "</style><dl class=dl-inline><dt>Tuesday</dt><dd>-50</dd><dt>Wednesday</dt><dd>100</dd><dt>Thursday</dt><dd>-350</dd></dl>\n"
            ]
          },
          "metadata": {
            "tags": []
          }
        }
      ]
    },
    {
      "cell_type": "markdown",
      "metadata": {
        "id": "LtNjJVdBlrOB"
      },
      "source": [
        "### Selection by comparison \n",
        "By making use of comparison operators, \n",
        "The (logical) comparison operators known to R are:\n",
        "- `<` for less than\n",
        "- `>` for greater than\n",
        "- `<=` for less than or equal to\n",
        "- `>=` for greater than or equal to\n",
        "- `==` for equal to each other\n",
        "- `!=` not equal to each other\n"
      ]
    },
    {
      "cell_type": "code",
      "metadata": {
        "id": "4dHrGf-zlD4F",
        "outputId": "174cfa1c-1e42-4fca-dcb6-09c1727d9f36",
        "colab": {
          "base_uri": "https://localhost:8080/",
          "height": 34
        }
      },
      "source": [
        "# logical comparison\n",
        "profit <- shop1 > 0\n",
        "profit"
      ],
      "execution_count": 14,
      "outputs": [
        {
          "output_type": "display_data",
          "data": {
            "text/plain": [
              "   Monday   Tuesday Wednesday  Thursday    Friday \n",
              "     TRUE     FALSE      TRUE     FALSE      TRUE "
            ],
            "text/latex": "\\begin{description*}\n\\item[Monday] TRUE\n\\item[Tuesday] FALSE\n\\item[Wednesday] TRUE\n\\item[Thursday] FALSE\n\\item[Friday] TRUE\n\\end{description*}\n",
            "text/markdown": "Monday\n:   TRUETuesday\n:   FALSEWednesday\n:   TRUEThursday\n:   FALSEFriday\n:   TRUE\n\n",
            "text/html": [
              "<style>\n",
              ".dl-inline {width: auto; margin:0; padding: 0}\n",
              ".dl-inline>dt, .dl-inline>dd {float: none; width: auto; display: inline-block}\n",
              ".dl-inline>dt::after {content: \":\\0020\"; padding-right: .5ex}\n",
              ".dl-inline>dt:not(:first-of-type) {padding-left: .5ex}\n",
              "</style><dl class=dl-inline><dt>Monday</dt><dd>TRUE</dd><dt>Tuesday</dt><dd>FALSE</dd><dt>Wednesday</dt><dd>TRUE</dd><dt>Thursday</dt><dd>FALSE</dd><dt>Friday</dt><dd>TRUE</dd></dl>\n"
            ]
          },
          "metadata": {
            "tags": []
          }
        }
      ]
    },
    {
      "cell_type": "code",
      "metadata": {
        "id": "KrMPIeExmfRX",
        "outputId": "cd8f564d-1b64-4bd9-ea96-ddb66c24a56c",
        "colab": {
          "base_uri": "https://localhost:8080/",
          "height": 34
        }
      },
      "source": [
        "# subseting\n",
        "shop1[profit]"
      ],
      "execution_count": 15,
      "outputs": [
        {
          "output_type": "display_data",
          "data": {
            "text/plain": [
              "   Monday Wednesday    Friday \n",
              "      140        20       240 "
            ],
            "text/latex": "\\begin{description*}\n\\item[Monday] 140\n\\item[Wednesday] 20\n\\item[Friday] 240\n\\end{description*}\n",
            "text/markdown": "Monday\n:   140Wednesday\n:   20Friday\n:   240\n\n",
            "text/html": [
              "<style>\n",
              ".dl-inline {width: auto; margin:0; padding: 0}\n",
              ".dl-inline>dt, .dl-inline>dd {float: none; width: auto; display: inline-block}\n",
              ".dl-inline>dt::after {content: \":\\0020\"; padding-right: .5ex}\n",
              ".dl-inline>dt:not(:first-of-type) {padding-left: .5ex}\n",
              "</style><dl class=dl-inline><dt>Monday</dt><dd>140</dd><dt>Wednesday</dt><dd>20</dd><dt>Friday</dt><dd>240</dd></dl>\n"
            ]
          },
          "metadata": {
            "tags": []
          }
        }
      ]
    },
    {
      "cell_type": "markdown",
      "metadata": {
        "id": "ye7yTo-RnExY"
      },
      "source": [
        "# 3. Working with Matrix\n",
        "**In R, a matrix is a collection of elements of the same data type (numeric, character, or logical) arranged into a fixed number of rows and columns.**\n",
        "You can construct a matrix in R with the `matrix()` function. Consider the following example:\n",
        "\n",
        "`matrix(1:12, byrow = TRUE, nrow = 3)`\n",
        "- The first argument is the collection of elements that R will arrange into the rows and columns of the matrix. Here, we use 1:12 which is a shortcut for c(1, 2, 3, 4, 5, 6, 7, 8, 9, 10, 11, 12).\n",
        "- The argument **byrow** indicates that the matrix is filled by the rows. If we want the matrix to be filled by the columns, we just place byrow = FALSE.\n",
        "- The third argument nrow indicates that the matrix should have three rows."
      ]
    },
    {
      "cell_type": "code",
      "metadata": {
        "id": "Evyx8o9jmpVU",
        "outputId": "1359aeb5-57f9-4a8c-aabc-753c1b0fc6f2",
        "colab": {
          "base_uri": "https://localhost:8080/",
          "height": 154
        }
      },
      "source": [
        "# Construct a matrix with 3 rows that contain the numbers 1 up to 9\n",
        "matrix(1:12,byrow=TRUE,nrow =4)"
      ],
      "execution_count": 20,
      "outputs": [
        {
          "output_type": "display_data",
          "data": {
            "text/plain": [
              "     [,1] [,2] [,3]\n",
              "[1,]  1    2    3  \n",
              "[2,]  4    5    6  \n",
              "[3,]  7    8    9  \n",
              "[4,] 10   11   12  "
            ],
            "text/latex": "A matrix: 4 × 3 of type int\n\\begin{tabular}{lll}\n\t  1 &  2 &  3\\\\\n\t  4 &  5 &  6\\\\\n\t  7 &  8 &  9\\\\\n\t 10 & 11 & 12\\\\\n\\end{tabular}\n",
            "text/markdown": "\nA matrix: 4 × 3 of type int\n\n|  1 |  2 |  3 |\n|  4 |  5 |  6 |\n|  7 |  8 |  9 |\n| 10 | 11 | 12 |\n\n",
            "text/html": [
              "<table>\n",
              "<caption>A matrix: 4 × 3 of type int</caption>\n",
              "<tbody>\n",
              "\t<tr><td> 1</td><td> 2</td><td> 3</td></tr>\n",
              "\t<tr><td> 4</td><td> 5</td><td> 6</td></tr>\n",
              "\t<tr><td> 7</td><td> 8</td><td> 9</td></tr>\n",
              "\t<tr><td>10</td><td>11</td><td>12</td></tr>\n",
              "</tbody>\n",
              "</table>\n"
            ]
          },
          "metadata": {
            "tags": []
          }
        }
      ]
    },
    {
      "cell_type": "code",
      "metadata": {
        "id": "u_fe5VCXoA-C",
        "outputId": "1b0bd621-1c30-4707-ebf0-c76365c4e347",
        "colab": {
          "base_uri": "https://localhost:8080/",
          "height": 116
        }
      },
      "source": [
        "# Using Vectors to construct matrix\n",
        "toy_story <- c(1995,81,8.3)\n",
        "akira <- c(1998,125,8.1)\n",
        "room <- c(2015,118,8.3)\n",
        "\n",
        "movies <- c(toy_story,akira,room)\n",
        "movies_matrix <- matrix(movies,byrow = TRUE,nrow = 3)\n",
        "movies_matrix"
      ],
      "execution_count": 22,
      "outputs": [
        {
          "output_type": "display_data",
          "data": {
            "text/plain": [
              "     [,1] [,2] [,3]\n",
              "[1,] 1995  81  8.3 \n",
              "[2,] 1998 125  8.1 \n",
              "[3,] 2015 118  8.3 "
            ],
            "text/latex": "A matrix: 3 × 3 of type dbl\n\\begin{tabular}{lll}\n\t 1995 &  81 & 8.3\\\\\n\t 1998 & 125 & 8.1\\\\\n\t 2015 & 118 & 8.3\\\\\n\\end{tabular}\n",
            "text/markdown": "\nA matrix: 3 × 3 of type dbl\n\n| 1995 |  81 | 8.3 |\n| 1998 | 125 | 8.1 |\n| 2015 | 118 | 8.3 |\n\n",
            "text/html": [
              "<table>\n",
              "<caption>A matrix: 3 × 3 of type dbl</caption>\n",
              "<tbody>\n",
              "\t<tr><td>1995</td><td> 81</td><td>8.3</td></tr>\n",
              "\t<tr><td>1998</td><td>125</td><td>8.1</td></tr>\n",
              "\t<tr><td>2015</td><td>118</td><td>8.3</td></tr>\n",
              "</tbody>\n",
              "</table>\n"
            ]
          },
          "metadata": {
            "tags": []
          }
        }
      ]
    },
    {
      "cell_type": "markdown",
      "metadata": {
        "id": "LEUNCr1ksHK7"
      },
      "source": [
        "## 3.1 Naming a matrix\n",
        "Similar to vectors, you can add names for the rows and the columns of a matrix\n",
        "```\n",
        "rownames(my_matrix) <- row_names_vector\n",
        "colnames(my_matrix) <- col_names_vector\n",
        "```\n"
      ]
    },
    {
      "cell_type": "code",
      "metadata": {
        "id": "ak9UDLrYr5kO",
        "outputId": "80b19444-e01c-49d8-95aa-2d4c1d28ade4",
        "colab": {
          "base_uri": "https://localhost:8080/",
          "height": 120
        }
      },
      "source": [
        "rownames(movies_matrix) <- c('toy_story','akira','room')\n",
        "colnames(movies_matrix) <- c('year','length_min','rating')\n",
        "movies_matrix"
      ],
      "execution_count": 25,
      "outputs": [
        {
          "output_type": "display_data",
          "data": {
            "text/plain": [
              "          year length_min rating\n",
              "toy_story 1995  81        8.3   \n",
              "akira     1998 125        8.1   \n",
              "room      2015 118        8.3   "
            ],
            "text/latex": "A matrix: 3 × 3 of type dbl\n\\begin{tabular}{r|lll}\n  & year & length\\_min & rating\\\\\n\\hline\n\ttoy\\_story & 1995 &  81 & 8.3\\\\\n\takira & 1998 & 125 & 8.1\\\\\n\troom & 2015 & 118 & 8.3\\\\\n\\end{tabular}\n",
            "text/markdown": "\nA matrix: 3 × 3 of type dbl\n\n| <!--/--> | year | length_min | rating |\n|---|---|---|---|\n| toy_story | 1995 |  81 | 8.3 |\n| akira | 1998 | 125 | 8.1 |\n| room | 2015 | 118 | 8.3 |\n\n",
            "text/html": [
              "<table>\n",
              "<caption>A matrix: 3 × 3 of type dbl</caption>\n",
              "<thead>\n",
              "\t<tr><th></th><th scope=col>year</th><th scope=col>length_min</th><th scope=col>rating</th></tr>\n",
              "</thead>\n",
              "<tbody>\n",
              "\t<tr><th scope=row>toy_story</th><td>1995</td><td> 81</td><td>8.3</td></tr>\n",
              "\t<tr><th scope=row>akira</th><td>1998</td><td>125</td><td>8.1</td></tr>\n",
              "\t<tr><th scope=row>room</th><td>2015</td><td>118</td><td>8.3</td></tr>\n",
              "</tbody>\n",
              "</table>\n"
            ]
          },
          "metadata": {
            "tags": []
          }
        }
      ]
    },
    {
      "cell_type": "markdown",
      "metadata": {
        "id": "-FD_wBLmtsrm"
      },
      "source": [
        "## 3.2 Adding Rows and Columns to Matrix\n",
        "- `cbind()` function merges matrices and/or vectors together by column. For example: `big_matrix <- cbind(matrix1, matrix2, vector1 ...)`\n",
        "- `rbind()` function erges matrices and/or vectors together by row For example: `big_matrix <- rbind(matrix1, matrix2, vector1 ...)`"
      ]
    },
    {
      "cell_type": "code",
      "metadata": {
        "id": "EP5muUg8s44z"
      },
      "source": [
        "cost <- c(30,10.4,13)\n",
        "movies_matrix <- cbind(movies_matrix, cost)"
      ],
      "execution_count": 26,
      "outputs": []
    },
    {
      "cell_type": "code",
      "metadata": {
        "id": "b25BEcHwuk4A",
        "outputId": "5e213849-adc8-4053-d897-d4eba7230db0",
        "colab": {
          "base_uri": "https://localhost:8080/",
          "height": 120
        }
      },
      "source": [
        "movies_matrix"
      ],
      "execution_count": 27,
      "outputs": [
        {
          "output_type": "display_data",
          "data": {
            "text/plain": [
              "          year length_min rating cost\n",
              "toy_story 1995  81        8.3    30.0\n",
              "akira     1998 125        8.1    10.4\n",
              "room      2015 118        8.3    13.0"
            ],
            "text/latex": "A matrix: 3 × 4 of type dbl\n\\begin{tabular}{r|llll}\n  & year & length\\_min & rating & cost\\\\\n\\hline\n\ttoy\\_story & 1995 &  81 & 8.3 & 30.0\\\\\n\takira & 1998 & 125 & 8.1 & 10.4\\\\\n\troom & 2015 & 118 & 8.3 & 13.0\\\\\n\\end{tabular}\n",
            "text/markdown": "\nA matrix: 3 × 4 of type dbl\n\n| <!--/--> | year | length_min | rating | cost |\n|---|---|---|---|---|\n| toy_story | 1995 |  81 | 8.3 | 30.0 |\n| akira | 1998 | 125 | 8.1 | 10.4 |\n| room | 2015 | 118 | 8.3 | 13.0 |\n\n",
            "text/html": [
              "<table>\n",
              "<caption>A matrix: 3 × 4 of type dbl</caption>\n",
              "<thead>\n",
              "\t<tr><th></th><th scope=col>year</th><th scope=col>length_min</th><th scope=col>rating</th><th scope=col>cost</th></tr>\n",
              "</thead>\n",
              "<tbody>\n",
              "\t<tr><th scope=row>toy_story</th><td>1995</td><td> 81</td><td>8.3</td><td>30.0</td></tr>\n",
              "\t<tr><th scope=row>akira</th><td>1998</td><td>125</td><td>8.1</td><td>10.4</td></tr>\n",
              "\t<tr><th scope=row>room</th><td>2015</td><td>118</td><td>8.3</td><td>13.0</td></tr>\n",
              "</tbody>\n",
              "</table>\n"
            ]
          },
          "metadata": {
            "tags": []
          }
        }
      ]
    },
    {
      "cell_type": "code",
      "metadata": {
        "id": "qdpcQk8RumDi"
      },
      "source": [
        "casino <- c(1995,178,8.2,50)\n",
        "movies_matrix <- rbind(movies_matrix,casino)"
      ],
      "execution_count": 28,
      "outputs": []
    },
    {
      "cell_type": "code",
      "metadata": {
        "id": "Vu65nkqhvYd1",
        "outputId": "d020a256-1a64-4c98-aff7-2819f9398f9e",
        "colab": {
          "base_uri": "https://localhost:8080/",
          "height": 141
        }
      },
      "source": [
        "movies_matrix"
      ],
      "execution_count": 29,
      "outputs": [
        {
          "output_type": "display_data",
          "data": {
            "text/plain": [
              "          year length_min rating cost\n",
              "toy_story 1995  81        8.3    30.0\n",
              "akira     1998 125        8.1    10.4\n",
              "room      2015 118        8.3    13.0\n",
              "casino    1995 178        8.2    50.0"
            ],
            "text/latex": "A matrix: 4 × 4 of type dbl\n\\begin{tabular}{r|llll}\n  & year & length\\_min & rating & cost\\\\\n\\hline\n\ttoy\\_story & 1995 &  81 & 8.3 & 30.0\\\\\n\takira & 1998 & 125 & 8.1 & 10.4\\\\\n\troom & 2015 & 118 & 8.3 & 13.0\\\\\n\tcasino & 1995 & 178 & 8.2 & 50.0\\\\\n\\end{tabular}\n",
            "text/markdown": "\nA matrix: 4 × 4 of type dbl\n\n| <!--/--> | year | length_min | rating | cost |\n|---|---|---|---|---|\n| toy_story | 1995 |  81 | 8.3 | 30.0 |\n| akira | 1998 | 125 | 8.1 | 10.4 |\n| room | 2015 | 118 | 8.3 | 13.0 |\n| casino | 1995 | 178 | 8.2 | 50.0 |\n\n",
            "text/html": [
              "<table>\n",
              "<caption>A matrix: 4 × 4 of type dbl</caption>\n",
              "<thead>\n",
              "\t<tr><th></th><th scope=col>year</th><th scope=col>length_min</th><th scope=col>rating</th><th scope=col>cost</th></tr>\n",
              "</thead>\n",
              "<tbody>\n",
              "\t<tr><th scope=row>toy_story</th><td>1995</td><td> 81</td><td>8.3</td><td>30.0</td></tr>\n",
              "\t<tr><th scope=row>akira</th><td>1998</td><td>125</td><td>8.1</td><td>10.4</td></tr>\n",
              "\t<tr><th scope=row>room</th><td>2015</td><td>118</td><td>8.3</td><td>13.0</td></tr>\n",
              "\t<tr><th scope=row>casino</th><td>1995</td><td>178</td><td>8.2</td><td>50.0</td></tr>\n",
              "</tbody>\n",
              "</table>\n"
            ]
          },
          "metadata": {
            "tags": []
          }
        }
      ]
    },
    {
      "cell_type": "markdown",
      "metadata": {
        "id": "jra7hJoewg-i"
      },
      "source": [
        "## 3.3 Selection of matrix elements\n",
        "Similar to vectors, you can use the square brackets `[ ]` to select one or multiple elements from a matrix. Whereas vectors have one dimension, matrices have two dimensions. You should therefore use a comma to separate the rows you want to select from the columns. For example:\n",
        "- `my_matrix[col,row]`\n",
        "- `my_matrix[1,2]` selects the element at the first row and second column.\n",
        "- `my_matrix[1:3,2:4]` results in a matrix with the data on the rows 1, 2, 3 and columns 2, 3, 4."
      ]
    },
    {
      "cell_type": "code",
      "metadata": {
        "id": "nPbN_u2i1mfk",
        "outputId": "39b4620b-0641-49d4-c99c-b7d3cf000074",
        "colab": {
          "base_uri": "https://localhost:8080/",
          "height": 141
        }
      },
      "source": [
        "movies_matrix"
      ],
      "execution_count": 37,
      "outputs": [
        {
          "output_type": "display_data",
          "data": {
            "text/plain": [
              "          year length_min rating cost\n",
              "toy_story 1995  81        8.3    30.0\n",
              "akira     1998 125        8.1    10.4\n",
              "room      2015 118        8.3    13.0\n",
              "casino    1995 178        8.2    50.0"
            ],
            "text/latex": "A matrix: 4 × 4 of type dbl\n\\begin{tabular}{r|llll}\n  & year & length\\_min & rating & cost\\\\\n\\hline\n\ttoy\\_story & 1995 &  81 & 8.3 & 30.0\\\\\n\takira & 1998 & 125 & 8.1 & 10.4\\\\\n\troom & 2015 & 118 & 8.3 & 13.0\\\\\n\tcasino & 1995 & 178 & 8.2 & 50.0\\\\\n\\end{tabular}\n",
            "text/markdown": "\nA matrix: 4 × 4 of type dbl\n\n| <!--/--> | year | length_min | rating | cost |\n|---|---|---|---|---|\n| toy_story | 1995 |  81 | 8.3 | 30.0 |\n| akira | 1998 | 125 | 8.1 | 10.4 |\n| room | 2015 | 118 | 8.3 | 13.0 |\n| casino | 1995 | 178 | 8.2 | 50.0 |\n\n",
            "text/html": [
              "<table>\n",
              "<caption>A matrix: 4 × 4 of type dbl</caption>\n",
              "<thead>\n",
              "\t<tr><th></th><th scope=col>year</th><th scope=col>length_min</th><th scope=col>rating</th><th scope=col>cost</th></tr>\n",
              "</thead>\n",
              "<tbody>\n",
              "\t<tr><th scope=row>toy_story</th><td>1995</td><td> 81</td><td>8.3</td><td>30.0</td></tr>\n",
              "\t<tr><th scope=row>akira</th><td>1998</td><td>125</td><td>8.1</td><td>10.4</td></tr>\n",
              "\t<tr><th scope=row>room</th><td>2015</td><td>118</td><td>8.3</td><td>13.0</td></tr>\n",
              "\t<tr><th scope=row>casino</th><td>1995</td><td>178</td><td>8.2</td><td>50.0</td></tr>\n",
              "</tbody>\n",
              "</table>\n"
            ]
          },
          "metadata": {
            "tags": []
          }
        }
      ]
    },
    {
      "cell_type": "code",
      "metadata": {
        "id": "-QK8vZ2xvZq3",
        "outputId": "9a1e2fce-24c3-4793-97fb-d6595589798a",
        "colab": {
          "base_uri": "https://localhost:8080/",
          "height": 99
        }
      },
      "source": [
        "movies_matrix[2:3,1:4]"
      ],
      "execution_count": 35,
      "outputs": [
        {
          "output_type": "display_data",
          "data": {
            "text/plain": [
              "      year length_min rating cost\n",
              "akira 1998 125        8.1    10.4\n",
              "room  2015 118        8.3    13.0"
            ],
            "text/latex": "A matrix: 2 × 4 of type dbl\n\\begin{tabular}{r|llll}\n  & year & length\\_min & rating & cost\\\\\n\\hline\n\takira & 1998 & 125 & 8.1 & 10.4\\\\\n\troom & 2015 & 118 & 8.3 & 13.0\\\\\n\\end{tabular}\n",
            "text/markdown": "\nA matrix: 2 × 4 of type dbl\n\n| <!--/--> | year | length_min | rating | cost |\n|---|---|---|---|---|\n| akira | 1998 | 125 | 8.1 | 10.4 |\n| room | 2015 | 118 | 8.3 | 13.0 |\n\n",
            "text/html": [
              "<table>\n",
              "<caption>A matrix: 2 × 4 of type dbl</caption>\n",
              "<thead>\n",
              "\t<tr><th></th><th scope=col>year</th><th scope=col>length_min</th><th scope=col>rating</th><th scope=col>cost</th></tr>\n",
              "</thead>\n",
              "<tbody>\n",
              "\t<tr><th scope=row>akira</th><td>1998</td><td>125</td><td>8.1</td><td>10.4</td></tr>\n",
              "\t<tr><th scope=row>room</th><td>2015</td><td>118</td><td>8.3</td><td>13.0</td></tr>\n",
              "</tbody>\n",
              "</table>\n"
            ]
          },
          "metadata": {
            "tags": []
          }
        }
      ]
    },
    {
      "cell_type": "code",
      "metadata": {
        "id": "Evy5xjumw-Fe",
        "outputId": "6c319ae7-4499-455d-9040-3c3f27571427",
        "colab": {
          "base_uri": "https://localhost:8080/",
          "height": 34
        }
      },
      "source": [
        "movies_matrix[,1]"
      ],
      "execution_count": 41,
      "outputs": [
        {
          "output_type": "display_data",
          "data": {
            "text/plain": [
              "toy_story     akira      room    casino \n",
              "     1995      1998      2015      1995 "
            ],
            "text/latex": "\\begin{description*}\n\\item[toy\\textbackslash{}\\_story] 1995\n\\item[akira] 1998\n\\item[room] 2015\n\\item[casino] 1995\n\\end{description*}\n",
            "text/markdown": "toy_story\n:   1995akira\n:   1998room\n:   2015casino\n:   1995\n\n",
            "text/html": [
              "<style>\n",
              ".dl-inline {width: auto; margin:0; padding: 0}\n",
              ".dl-inline>dt, .dl-inline>dd {float: none; width: auto; display: inline-block}\n",
              ".dl-inline>dt::after {content: \":\\0020\"; padding-right: .5ex}\n",
              ".dl-inline>dt:not(:first-of-type) {padding-left: .5ex}\n",
              "</style><dl class=dl-inline><dt>toy_story</dt><dd>1995</dd><dt>akira</dt><dd>1998</dd><dt>room</dt><dd>2015</dd><dt>casino</dt><dd>1995</dd></dl>\n"
            ]
          },
          "metadata": {
            "tags": []
          }
        }
      ]
    },
    {
      "cell_type": "code",
      "metadata": {
        "id": "TOzMBXWw1kIq",
        "outputId": "b30a7a26-07b1-42c6-e64a-cc114ffd8792",
        "colab": {
          "base_uri": "https://localhost:8080/",
          "height": 34
        }
      },
      "source": [
        "movies_matrix[1,]"
      ],
      "execution_count": 42,
      "outputs": [
        {
          "output_type": "display_data",
          "data": {
            "text/plain": [
              "      year length_min     rating       cost \n",
              "    1995.0       81.0        8.3       30.0 "
            ],
            "text/latex": "\\begin{description*}\n\\item[year] 1995\n\\item[length\\textbackslash{}\\_min] 81\n\\item[rating] 8.3\n\\item[cost] 30\n\\end{description*}\n",
            "text/markdown": "year\n:   1995length_min\n:   81rating\n:   8.3cost\n:   30\n\n",
            "text/html": [
              "<style>\n",
              ".dl-inline {width: auto; margin:0; padding: 0}\n",
              ".dl-inline>dt, .dl-inline>dd {float: none; width: auto; display: inline-block}\n",
              ".dl-inline>dt::after {content: \":\\0020\"; padding-right: .5ex}\n",
              ".dl-inline>dt:not(:first-of-type) {padding-left: .5ex}\n",
              "</style><dl class=dl-inline><dt>year</dt><dd>1995</dd><dt>length_min</dt><dd>81</dd><dt>rating</dt><dd>8.3</dd><dt>cost</dt><dd>30</dd></dl>\n"
            ]
          },
          "metadata": {
            "tags": []
          }
        }
      ]
    },
    {
      "cell_type": "markdown",
      "metadata": {
        "id": "-ETLL3lC2NtB"
      },
      "source": [
        "## 3.4 Arithmetic with matrices\n",
        "Similar to what you have learned with vectors, the standard operators like `+, -, /, *,` etc. work in an element-wise way on matrices in R.\n",
        "\n",
        "- For example, `2 * my_matrix` multiplies each element of my_matrix by two."
      ]
    },
    {
      "cell_type": "code",
      "metadata": {
        "id": "uISjdZ7U17Fy",
        "outputId": "6d832a5e-d0aa-49a5-997e-b2aee92d5726",
        "colab": {
          "base_uri": "https://localhost:8080/",
          "height": 154
        }
      },
      "source": [
        "matrix1 <- matrix(1:12,byrow=TRUE,nrow =4)\n",
        "matrix1"
      ],
      "execution_count": 43,
      "outputs": [
        {
          "output_type": "display_data",
          "data": {
            "text/plain": [
              "     [,1] [,2] [,3]\n",
              "[1,]  1    2    3  \n",
              "[2,]  4    5    6  \n",
              "[3,]  7    8    9  \n",
              "[4,] 10   11   12  "
            ],
            "text/latex": "A matrix: 4 × 3 of type int\n\\begin{tabular}{lll}\n\t  1 &  2 &  3\\\\\n\t  4 &  5 &  6\\\\\n\t  7 &  8 &  9\\\\\n\t 10 & 11 & 12\\\\\n\\end{tabular}\n",
            "text/markdown": "\nA matrix: 4 × 3 of type int\n\n|  1 |  2 |  3 |\n|  4 |  5 |  6 |\n|  7 |  8 |  9 |\n| 10 | 11 | 12 |\n\n",
            "text/html": [
              "<table>\n",
              "<caption>A matrix: 4 × 3 of type int</caption>\n",
              "<tbody>\n",
              "\t<tr><td> 1</td><td> 2</td><td> 3</td></tr>\n",
              "\t<tr><td> 4</td><td> 5</td><td> 6</td></tr>\n",
              "\t<tr><td> 7</td><td> 8</td><td> 9</td></tr>\n",
              "\t<tr><td>10</td><td>11</td><td>12</td></tr>\n",
              "</tbody>\n",
              "</table>\n"
            ]
          },
          "metadata": {
            "tags": []
          }
        }
      ]
    },
    {
      "cell_type": "code",
      "metadata": {
        "id": "CFsukzFP2zL-",
        "outputId": "1b26669f-c7ae-4346-81d1-55c7ca3c2552",
        "colab": {
          "base_uri": "https://localhost:8080/",
          "height": 154
        }
      },
      "source": [
        "matrix2 <- matrix1 /5\n",
        "matrix2"
      ],
      "execution_count": 49,
      "outputs": [
        {
          "output_type": "display_data",
          "data": {
            "text/plain": [
              "     [,1] [,2] [,3]\n",
              "[1,] 0.2  0.4  0.6 \n",
              "[2,] 0.8  1.0  1.2 \n",
              "[3,] 1.4  1.6  1.8 \n",
              "[4,] 2.0  2.2  2.4 "
            ],
            "text/latex": "A matrix: 4 × 3 of type dbl\n\\begin{tabular}{lll}\n\t 0.2 & 0.4 & 0.6\\\\\n\t 0.8 & 1.0 & 1.2\\\\\n\t 1.4 & 1.6 & 1.8\\\\\n\t 2.0 & 2.2 & 2.4\\\\\n\\end{tabular}\n",
            "text/markdown": "\nA matrix: 4 × 3 of type dbl\n\n| 0.2 | 0.4 | 0.6 |\n| 0.8 | 1.0 | 1.2 |\n| 1.4 | 1.6 | 1.8 |\n| 2.0 | 2.2 | 2.4 |\n\n",
            "text/html": [
              "<table>\n",
              "<caption>A matrix: 4 × 3 of type dbl</caption>\n",
              "<tbody>\n",
              "\t<tr><td>0.2</td><td>0.4</td><td>0.6</td></tr>\n",
              "\t<tr><td>0.8</td><td>1.0</td><td>1.2</td></tr>\n",
              "\t<tr><td>1.4</td><td>1.6</td><td>1.8</td></tr>\n",
              "\t<tr><td>2.0</td><td>2.2</td><td>2.4</td></tr>\n",
              "</tbody>\n",
              "</table>\n"
            ]
          },
          "metadata": {
            "tags": []
          }
        }
      ]
    },
    {
      "cell_type": "code",
      "metadata": {
        "id": "XzEfkU5f212o",
        "outputId": "cde0bf81-d856-4f8f-8145-2a66f1d7cb00",
        "colab": {
          "base_uri": "https://localhost:8080/",
          "height": 137
        }
      },
      "source": [
        "matrix1 + matrix2"
      ],
      "execution_count": 50,
      "outputs": [
        {
          "output_type": "display_data",
          "data": {
            "text/plain": [
              "     [,1] [,2] [,3]\n",
              "[1,]  1.2  2.4  3.6\n",
              "[2,]  4.8  6.0  7.2\n",
              "[3,]  8.4  9.6 10.8\n",
              "[4,] 12.0 13.2 14.4"
            ],
            "text/latex": "A matrix: 4 × 3 of type dbl\n\\begin{tabular}{lll}\n\t  1.2 &  2.4 &  3.6\\\\\n\t  4.8 &  6.0 &  7.2\\\\\n\t  8.4 &  9.6 & 10.8\\\\\n\t 12.0 & 13.2 & 14.4\\\\\n\\end{tabular}\n",
            "text/markdown": "\nA matrix: 4 × 3 of type dbl\n\n|  1.2 |  2.4 |  3.6 |\n|  4.8 |  6.0 |  7.2 |\n|  8.4 |  9.6 | 10.8 |\n| 12.0 | 13.2 | 14.4 |\n\n",
            "text/html": [
              "<table>\n",
              "<caption>A matrix: 4 × 3 of type dbl</caption>\n",
              "<tbody>\n",
              "\t<tr><td> 1.2</td><td> 2.4</td><td> 3.6</td></tr>\n",
              "\t<tr><td> 4.8</td><td> 6.0</td><td> 7.2</td></tr>\n",
              "\t<tr><td> 8.4</td><td> 9.6</td><td>10.8</td></tr>\n",
              "\t<tr><td>12.0</td><td>13.2</td><td>14.4</td></tr>\n",
              "</tbody>\n",
              "</table>\n"
            ]
          },
          "metadata": {
            "tags": []
          }
        }
      ]
    },
    {
      "cell_type": "code",
      "metadata": {
        "id": "NzKPhMUU2_WJ",
        "outputId": "72931daa-1d46-47aa-da17-97be1de0eee0",
        "colab": {
          "base_uri": "https://localhost:8080/",
          "height": 137
        }
      },
      "source": [
        "matrix1 * matrix2"
      ],
      "execution_count": 51,
      "outputs": [
        {
          "output_type": "display_data",
          "data": {
            "text/plain": [
              "     [,1] [,2] [,3]\n",
              "[1,]  0.2  0.8  1.8\n",
              "[2,]  3.2  5.0  7.2\n",
              "[3,]  9.8 12.8 16.2\n",
              "[4,] 20.0 24.2 28.8"
            ],
            "text/latex": "A matrix: 4 × 3 of type dbl\n\\begin{tabular}{lll}\n\t  0.2 &  0.8 &  1.8\\\\\n\t  3.2 &  5.0 &  7.2\\\\\n\t  9.8 & 12.8 & 16.2\\\\\n\t 20.0 & 24.2 & 28.8\\\\\n\\end{tabular}\n",
            "text/markdown": "\nA matrix: 4 × 3 of type dbl\n\n|  0.2 |  0.8 |  1.8 |\n|  3.2 |  5.0 |  7.2 |\n|  9.8 | 12.8 | 16.2 |\n| 20.0 | 24.2 | 28.8 |\n\n",
            "text/html": [
              "<table>\n",
              "<caption>A matrix: 4 × 3 of type dbl</caption>\n",
              "<tbody>\n",
              "\t<tr><td> 0.2</td><td> 0.8</td><td> 1.8</td></tr>\n",
              "\t<tr><td> 3.2</td><td> 5.0</td><td> 7.2</td></tr>\n",
              "\t<tr><td> 9.8</td><td>12.8</td><td>16.2</td></tr>\n",
              "\t<tr><td>20.0</td><td>24.2</td><td>28.8</td></tr>\n",
              "</tbody>\n",
              "</table>\n"
            ]
          },
          "metadata": {
            "tags": []
          }
        }
      ]
    },
    {
      "cell_type": "markdown",
      "metadata": {
        "id": "HN5mjuom3vWL"
      },
      "source": [
        "# 4. Working with Factor\n",
        "The term factor refers to a **statistical data type** used to store **categorical variables**. The difference between a categorical variable and a continuous variable is that a **categorical variable** can belong to a **limited number of categories**. A continuous variable, on the other hand, can correspond to an **infinite number of values**.\n",
        "- A good example of a categorical variable is sex. In many circumstances you can limit the sex categories to \"Male\" or \"Female\"."
      ]
    },
    {
      "cell_type": "code",
      "metadata": {
        "id": "MJqaxTda3chW"
      },
      "source": [
        ""
      ],
      "execution_count": null,
      "outputs": []
    }
  ]
}