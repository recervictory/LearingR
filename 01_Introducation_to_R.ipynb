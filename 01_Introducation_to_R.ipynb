{
  "nbformat": 4,
  "nbformat_minor": 0,
  "metadata": {
    "colab": {
      "name": "01_Introducation to R.ipynb",
      "provenance": [],
      "include_colab_link": true
    },
    "kernelspec": {
      "display_name": "R",
      "language": "R",
      "name": "ir"
    },
    "language_info": {
      "codemirror_mode": "r",
      "file_extension": ".r",
      "mimetype": "text/x-r-source",
      "name": "R",
      "pygments_lexer": "r",
      "version": "3.6.1"
    }
  },
  "cells": [
    {
      "cell_type": "markdown",
      "metadata": {
        "id": "view-in-github",
        "colab_type": "text"
      },
      "source": [
        "<a href=\"https://colab.research.google.com/github/recervictory/LearingR/blob/main/01_Introducation_to_R.ipynb\" target=\"_parent\"><img src=\"https://colab.research.google.com/assets/colab-badge.svg\" alt=\"Open In Colab\"/></a>"
      ]
    },
    {
      "cell_type": "markdown",
      "metadata": {
        "id": "wZH1dno5ilLZ"
      },
      "source": [
        "# 1. Introduction to R\n",
        "Three main data types in R\n",
        "- **Vectors (one dimensional array)**: can hold numeric, character or logical values. The elements in a vector all have the same data type.\n",
        "- **Matrices (two dimensional array)**: can hold numeric, character or logical values. The elements in a matrix all have the same data type.\n",
        "- **Data frames (two-dimensional objects)**: can hold numeric, character or logical values. Within a column all elements have the same data type, but different columns can be of different data type.\n"
      ]
    },
    {
      "cell_type": "code",
      "metadata": {
        "id": "pwB8_LugiRkg"
      },
      "source": [
        "# In \"R\" The hashtag is used to add comments\n",
        "# Calculate 4+6\n",
        "4+6"
      ],
      "execution_count": null,
      "outputs": []
    },
    {
      "cell_type": "code",
      "metadata": {
        "id": "OMVMASsPjEnP"
      },
      "source": [
        "# What can we do with R\n",
        "demo(\"graphics\")"
      ],
      "execution_count": null,
      "outputs": []
    },
    {
      "cell_type": "markdown",
      "metadata": {
        "id": "Z0D1aJZbjuO_"
      },
      "source": [
        "## 1.1 Arithmetic with R\n",
        "R use **arithmetic operators** to calculate various arithmetic function\n",
        "- Addition: +\n",
        "- Subtraction: -\n",
        "- Multiplication: *\n",
        "- Division: /\n",
        "- Exponentiation: ^\n",
        "- Modulo: %%\n"
      ]
    },
    {
      "cell_type": "code",
      "metadata": {
        "id": "ClMlGmU4jJhU"
      },
      "source": [
        "# An addition\n",
        "15 + 5\n",
        "\n",
        "# A substraction\n",
        "50 - 5\n",
        "\n",
        "# A multiplication\n",
        "4 * 5\n",
        "\n",
        "# A division\n",
        "(5 + 5)/2\n",
        "\n",
        "# Exponentiation\n",
        "2^5\n",
        "# Modulo\n",
        "17%%4"
      ],
      "execution_count": null,
      "outputs": []
    },
    {
      "cell_type": "markdown",
      "metadata": {
        "id": "cekb8J4NlgLi"
      },
      "source": [
        "## 1.2 Variable assignment\n",
        "A basic concept in (statistical) programming is called a variable. A variable allows you to store a value (e.g. 4) or an object (e.g. a function description) in R. \n",
        "Assigning Variable in R:\n",
        "\n",
        "`my_var <- 15`\n",
        "\n",
        "`num <- 4`\n"
      ]
    },
    {
      "cell_type": "code",
      "metadata": {
        "id": "bNhIBMH8k308"
      },
      "source": [
        " pi <- 3.14\n",
        " pi"
      ],
      "execution_count": null,
      "outputs": []
    },
    {
      "cell_type": "code",
      "metadata": {
        "id": "riwPBWdnmVGs"
      },
      "source": [
        "pi <- 3.141592653589793238462\n",
        "phi <- 1.61803399\n",
        "hi <- pi * phi\n",
        "hi"
      ],
      "execution_count": null,
      "outputs": []
    },
    {
      "cell_type": "markdown",
      "metadata": {
        "id": "1SXARGovnMY8"
      },
      "source": [
        "## 1.3 Basic data types in R\n",
        "R works with numerous data types. Some of the most basic types to get started are:\n",
        "\n",
        "- Decimal values like 4.5 are called **numerics**.\n",
        "- Whole numbers like 4 are called **integers**. Integers are also **numerics**.\n",
        "- Boolean values (TRUE or FALSE) are called **logical**.\n",
        "- Text (or string) values are called **characters**. For string data type we need `quotation marks` to indicate is string."
      ]
    },
    {
      "cell_type": "code",
      "metadata": {
        "id": "5gjowKb_m9H9"
      },
      "source": [
        "num <- 4.5\n",
        "my_int <- 56\n",
        "my_logical <- TRUE\n",
        "my_name <- \"R Code\"\n",
        "my_name\n",
        "my_logical"
      ],
      "execution_count": null,
      "outputs": []
    },
    {
      "cell_type": "markdown",
      "metadata": {
        "id": "mn3qoWv9o1WW"
      },
      "source": [
        "**To check the data type of of a variable we use** `class()` **fuction**"
      ]
    },
    {
      "cell_type": "code",
      "metadata": {
        "id": "MF4NS3VXoe5R"
      },
      "source": [
        "class(my_logical)\n",
        "class(my_name)\n",
        "class(my_int)\n",
        "class(num)"
      ],
      "execution_count": null,
      "outputs": []
    },
    {
      "cell_type": "markdown",
      "metadata": {
        "id": "6q8pBu1UpqP2"
      },
      "source": [
        "# 2. Working with Vectors\n"
      ]
    },
    {
      "cell_type": "markdown",
      "metadata": {
        "id": "0-Xx4cWYslQP"
      },
      "source": [
        "\n",
        "<h2 align=center>Example of Dataset</h2>\n",
        "\n",
        "This is a common example of datasets table used for data analysis.This table has one row for each movie and several columns.\n",
        "\n",
        "-   **name** - The name of the movie\n",
        "-   **year** - The year the movie was released\n",
        "-   **length_min** - The lenght of the movie in minutes\n",
        "-   **genre** - The genre of the movie\n",
        "-   **average_rating** - Average rating on Imdb\n",
        "-   **cost_millions** - The movie's production cost in millions\n",
        "-   **sequences** - The amount of sequences\n",
        "-   **foreign** - Indicative of whether the movie is foreign (1) or domestic (0)\n",
        "-   **age_restriction** - The age restriction for the movie\n",
        "    <br>\n",
        "    <br>\n",
        "\n",
        "Here's what the data looks like:\n",
        "\n",
        "<img src = \"https://ibm.box.com/shared/static/6kr8sg0n6pc40zd1xn6hjhtvy3k7cmeq.png\" width = 90% align=\"left\">\n"
      ]
    },
    {
      "cell_type": "markdown",
      "metadata": {
        "id": "Au-CsvC-s0CS"
      },
      "source": [
        "**Vectors** are **one-dimension arrays** that can hold numeric data, character data, or logical data. In other words, a vector is a simple tool to store data. \n",
        "In R, you create a vector with the **combine function** `c()`. You place the vector elements separated by a comma between the parentheses. For example:\n",
        "```\n",
        "numeric_vector <- c(1, 2, 3)\n",
        "character_vector <- c(\"a\", \"b\", \"c\")\n",
        "```"
      ]
    },
    {
      "cell_type": "code",
      "metadata": {
        "id": "asKlZZYvpaFR"
      },
      "source": [
        "numeric_vector <- c(1, 10, 49)\n",
        "character_vector <- c(\"a\", \"b\", \"c\")\n",
        "logical_vector <- c(TRUE, FALSE,FALSE)\n",
        "# print vectors\n",
        "numeric_vector\n",
        "character_vector\n",
        "logical_vector"
      ],
      "execution_count": null,
      "outputs": []
    },
    {
      "cell_type": "code",
      "metadata": {
        "id": "I_QmjbJpsBSu"
      },
      "source": [
        "# datatypes of vectors\n",
        "class(numeric_vector)\n",
        "class(logical_vector)"
      ],
      "execution_count": null,
      "outputs": []
    },
    {
      "cell_type": "markdown",
      "metadata": {
        "id": "Os0kmADcFB8f"
      },
      "source": [
        "## 2.1 Naming a vector\n",
        "With vectors, you can give **names to the elements** of a vector using the `names()` function:"
      ]
    },
    {
      "cell_type": "code",
      "metadata": {
        "id": "AFCwlzXGsUki"
      },
      "source": [
        "#Creating a year vector\n",
        "release_year <- c(1985, 1999, 2010, 2002)\n",
        "release_year\n",
        "\n",
        "#Assigning names\n",
        "names(release_year) <- c(\"The Breakfast Club\", \"American Beauty\", \"Black Swan\", \"Chicago\")\n",
        "release_year"
      ],
      "execution_count": null,
      "outputs": []
    },
    {
      "cell_type": "code",
      "metadata": {
        "id": "IDIencgNEads"
      },
      "source": [
        "# Now, you can retrieve the values based on the names:\n",
        "release_year[c(\"American Beauty\", \"Chicago\")]"
      ],
      "execution_count": null,
      "outputs": []
    },
    {
      "cell_type": "code",
      "metadata": {
        "id": "P3pehxfNFWrr"
      },
      "source": [
        "names(release_year)"
      ],
      "execution_count": null,
      "outputs": []
    },
    {
      "cell_type": "markdown",
      "metadata": {
        "id": "0zP7hQymc4IZ"
      },
      "source": [
        "## 2.2 Vector Operations\n"
      ]
    },
    {
      "cell_type": "code",
      "metadata": {
        "id": "8mhXfZMndViF"
      },
      "source": [
        "release_year <- c(1985, 1999, 2015, 1964)\n",
        "release_year\n",
        "# Adding more elements to a vector\n",
        "release_year <- c(release_year, 2016:2020)\n",
        "release_year"
      ],
      "execution_count": null,
      "outputs": []
    },
    {
      "cell_type": "code",
      "metadata": {
        "id": "Nyig2mH3dh3c"
      },
      "source": [
        "# Length of a vector\n",
        "length(release_year)"
      ],
      "execution_count": null,
      "outputs": []
    },
    {
      "cell_type": "code",
      "metadata": {
        "id": "JFNnry_edr0P"
      },
      "source": [
        "# Head and Tail of a vector\n",
        "head(release_year) #first six items\n",
        "tail(release_year) #last six items"
      ],
      "execution_count": null,
      "outputs": []
    },
    {
      "cell_type": "code",
      "metadata": {
        "id": "tCfhSg3vd77k"
      },
      "source": [
        "# Sorting a vector\n",
        "sort(release_year)"
      ],
      "execution_count": null,
      "outputs": []
    },
    {
      "cell_type": "code",
      "metadata": {
        "id": "sc4UH57AeKZ_"
      },
      "source": [
        "sort(release_year, decreasing = T)"
      ],
      "execution_count": null,
      "outputs": []
    },
    {
      "cell_type": "code",
      "metadata": {
        "id": "hQCFAT_8eQfx"
      },
      "source": [
        "# minimum and maximum values of a vector, you can use the **`min()`** and **`max()`** functions\n",
        "min(release_year)\n",
        "max(release_year)"
      ],
      "execution_count": null,
      "outputs": []
    },
    {
      "cell_type": "code",
      "metadata": {
        "id": "uWK7vQcSeVUp"
      },
      "source": [
        "# Simple Stat Vectors\n",
        "cost <- c(12.8,11,8.6,9.3,14.2,10.9)\n",
        "mean(cost)\n",
        "median(cost)\n",
        "sum(cost)\n",
        "# Summary of Vectors\n",
        "summary(cost)"
      ],
      "execution_count": null,
      "outputs": []
    },
    {
      "cell_type": "markdown",
      "metadata": {
        "id": "h3qvoyKSjgVC"
      },
      "source": [
        "## 3.3 Vector Selection"
      ]
    },
    {
      "cell_type": "code",
      "metadata": {
        "id": "hlfnW6RfgAOK"
      },
      "source": [
        "shop1 <- c(140, -50, 20, -120, 240)\n",
        "shop2 <- c(-24, -50, 100, -350, 10)\n",
        "days <- c(\"Monday\", \"Tuesday\", \"Wednesday\", \"Thursday\", \"Friday\")\n",
        "names(shop1) <- days\n",
        "names(shop2) <- days\n",
        "shop1[1] # one based index\n",
        "shop2[2]\n",
        "shop1['Friday']\n",
        "shop2[c(\"Monday\",\"Tuesday\")]"
      ],
      "execution_count": null,
      "outputs": []
    },
    {
      "cell_type": "code",
      "metadata": {
        "id": "ID4r5fqnkYdK"
      },
      "source": [
        "shop1[c(2,3,4)]\n",
        "shop2[c(2:4)]"
      ],
      "execution_count": null,
      "outputs": []
    },
    {
      "cell_type": "markdown",
      "metadata": {
        "id": "LtNjJVdBlrOB"
      },
      "source": [
        "### Selection by comparison \n",
        "By making use of comparison operators, \n",
        "The (logical) comparison operators known to R are:\n",
        "- `<` for less than\n",
        "- `>` for greater than\n",
        "- `<=` for less than or equal to\n",
        "- `>=` for greater than or equal to\n",
        "- `==` for equal to each other\n",
        "- `!=` not equal to each other\n"
      ]
    },
    {
      "cell_type": "code",
      "metadata": {
        "id": "4dHrGf-zlD4F"
      },
      "source": [
        "# logical comparison\n",
        "profit <- shop1 > 0\n",
        "profit"
      ],
      "execution_count": null,
      "outputs": []
    },
    {
      "cell_type": "code",
      "metadata": {
        "id": "KrMPIeExmfRX"
      },
      "source": [
        "# subseting\n",
        "shop1[profit]"
      ],
      "execution_count": null,
      "outputs": []
    },
    {
      "cell_type": "markdown",
      "metadata": {
        "id": "ye7yTo-RnExY"
      },
      "source": [
        "# 3. Working with Matrix\n",
        "**In R, a matrix is a collection of elements of the same data type (numeric, character, or logical) arranged into a fixed number of rows and columns.**\n",
        "You can construct a matrix in R with the `matrix()` function. Consider the following example:\n",
        "\n",
        "`matrix(1:12, byrow = TRUE, nrow = 3)`\n",
        "- The first argument is the collection of elements that R will arrange into the rows and columns of the matrix. Here, we use 1:12 which is a shortcut for c(1, 2, 3, 4, 5, 6, 7, 8, 9, 10, 11, 12).\n",
        "- The argument **byrow** indicates that the matrix is filled by the rows. If we want the matrix to be filled by the columns, we just place byrow = FALSE.\n",
        "- The third argument nrow indicates that the matrix should have three rows."
      ]
    },
    {
      "cell_type": "code",
      "metadata": {
        "id": "Evyx8o9jmpVU"
      },
      "source": [
        "# Construct a matrix with 3 rows that contain the numbers 1 up to 9\n",
        "matrix(1:12,byrow=TRUE,nrow =4)"
      ],
      "execution_count": null,
      "outputs": []
    },
    {
      "cell_type": "code",
      "metadata": {
        "id": "u_fe5VCXoA-C"
      },
      "source": [
        "# Using Vectors to construct matrix\n",
        "toy_story <- c(1995,81,8.3)\n",
        "akira <- c(1998,125,8.1)\n",
        "room <- c(2015,118,8.3)\n",
        "\n",
        "movies <- c(toy_story,akira,room)\n",
        "movies_matrix <- matrix(movies,byrow = TRUE,nrow = 3)\n",
        "movies_matrix"
      ],
      "execution_count": null,
      "outputs": []
    },
    {
      "cell_type": "markdown",
      "metadata": {
        "id": "LEUNCr1ksHK7"
      },
      "source": [
        "## 3.1 Naming a matrix\n",
        "Similar to vectors, you can add names for the rows and the columns of a matrix\n",
        "```\n",
        "rownames(my_matrix) <- row_names_vector\n",
        "colnames(my_matrix) <- col_names_vector\n",
        "```\n"
      ]
    },
    {
      "cell_type": "code",
      "metadata": {
        "id": "ak9UDLrYr5kO"
      },
      "source": [
        "rownames(movies_matrix) <- c('toy_story','akira','room')\n",
        "colnames(movies_matrix) <- c('year','length_min','rating')\n",
        "movies_matrix"
      ],
      "execution_count": null,
      "outputs": []
    },
    {
      "cell_type": "markdown",
      "metadata": {
        "id": "-FD_wBLmtsrm"
      },
      "source": [
        "## 3.2 Adding Rows and Columns to Matrix\n",
        "- `cbind()` function merges matrices and/or vectors together by column. For example: `big_matrix <- cbind(matrix1, matrix2, vector1 ...)`\n",
        "- `rbind()` function erges matrices and/or vectors together by row For example: `big_matrix <- rbind(matrix1, matrix2, vector1 ...)`"
      ]
    },
    {
      "cell_type": "code",
      "metadata": {
        "id": "EP5muUg8s44z"
      },
      "source": [
        "cost <- c(30,10.4,13)\n",
        "movies_matrix <- cbind(movies_matrix, cost)"
      ],
      "execution_count": null,
      "outputs": []
    },
    {
      "cell_type": "code",
      "metadata": {
        "id": "b25BEcHwuk4A"
      },
      "source": [
        "movies_matrix"
      ],
      "execution_count": null,
      "outputs": []
    },
    {
      "cell_type": "code",
      "metadata": {
        "id": "qdpcQk8RumDi"
      },
      "source": [
        "casino <- c(1995,178,8.2,50)\n",
        "movies_matrix <- rbind(movies_matrix,casino)"
      ],
      "execution_count": null,
      "outputs": []
    },
    {
      "cell_type": "code",
      "metadata": {
        "id": "Vu65nkqhvYd1"
      },
      "source": [
        "movies_matrix"
      ],
      "execution_count": null,
      "outputs": []
    },
    {
      "cell_type": "markdown",
      "metadata": {
        "id": "jra7hJoewg-i"
      },
      "source": [
        "## 3.3 Selection of matrix elements\n",
        "Similar to vectors, you can use the square brackets `[ ]` to select one or multiple elements from a matrix. Whereas vectors have one dimension, matrices have two dimensions. You should therefore use a comma to separate the rows you want to select from the columns. For example:\n",
        "- `my_matrix[row,col]`\n",
        "- `my_matrix[1,2]` selects the element at the first row and second column.\n",
        "- `my_matrix[1:3,2:4]` results in a matrix with the data on the rows 1, 2, 3 and columns 2, 3, 4."
      ]
    },
    {
      "cell_type": "code",
      "metadata": {
        "id": "nPbN_u2i1mfk"
      },
      "source": [
        "movies_matrix"
      ],
      "execution_count": null,
      "outputs": []
    },
    {
      "cell_type": "code",
      "metadata": {
        "id": "-QK8vZ2xvZq3"
      },
      "source": [
        "movies_matrix[2:3,1:4]"
      ],
      "execution_count": null,
      "outputs": []
    },
    {
      "cell_type": "code",
      "metadata": {
        "id": "Evy5xjumw-Fe"
      },
      "source": [
        "movies_matrix[,1]"
      ],
      "execution_count": null,
      "outputs": []
    },
    {
      "cell_type": "code",
      "metadata": {
        "id": "TOzMBXWw1kIq"
      },
      "source": [
        "movies_matrix[1,]"
      ],
      "execution_count": null,
      "outputs": []
    },
    {
      "cell_type": "markdown",
      "metadata": {
        "id": "-ETLL3lC2NtB"
      },
      "source": [
        "## 3.4 Arithmetic with matrices\n",
        "Similar to what you have learned with vectors, the standard operators like `+, -, /, *,` etc. work in an element-wise way on matrices in R.\n",
        "\n",
        "- For example, `2 * my_matrix` multiplies each element of my_matrix by two."
      ]
    },
    {
      "cell_type": "code",
      "metadata": {
        "id": "uISjdZ7U17Fy"
      },
      "source": [
        "matrix1 <- matrix(1:12,byrow=TRUE,nrow =4)\n",
        "matrix1"
      ],
      "execution_count": null,
      "outputs": []
    },
    {
      "cell_type": "code",
      "metadata": {
        "id": "CFsukzFP2zL-"
      },
      "source": [
        "matrix2 <- matrix1 /5\n",
        "matrix2"
      ],
      "execution_count": null,
      "outputs": []
    },
    {
      "cell_type": "code",
      "metadata": {
        "id": "XzEfkU5f212o"
      },
      "source": [
        "matrix1 + matrix2"
      ],
      "execution_count": null,
      "outputs": []
    },
    {
      "cell_type": "code",
      "metadata": {
        "id": "NzKPhMUU2_WJ"
      },
      "source": [
        "matrix1 * matrix2"
      ],
      "execution_count": null,
      "outputs": []
    },
    {
      "cell_type": "markdown",
      "metadata": {
        "id": "HN5mjuom3vWL"
      },
      "source": [
        "# 4. Working with Factor\n",
        "The term factor refers to a **statistical data type** used to store **categorical variables**. The difference between a categorical variable and a continuous variable is that a **categorical variable** can belong to a **limited number of categories**. A continuous variable, on the other hand, can correspond to an **infinite number of values**.\n",
        "- A good example of a categorical variable is sex. In many circumstances you can limit the sex categories to \"Male\" or \"Female\".\n",
        "\n",
        "To create factors in R, you make use of the function `factor()`. \n",
        "It is clear that there are two categories, or in R-terms 'factor levels', at work here: \"Male\" and \"Female\"."
      ]
    },
    {
      "cell_type": "code",
      "metadata": {
        "id": "MJqaxTda3chW"
      },
      "source": [
        "# Gender vector\n",
        "gender_vector <- c(\"Male\", \"Female\", \"Female\", \"Male\", \"Male\")\n",
        "\n",
        "# Convert gender_vector to a factor\n",
        "factor_gender_vector <-factor(gender_vector)\n",
        "  \n",
        "# Print out factor_gender_vector\n",
        "factor_gender_vector "
      ],
      "execution_count": null,
      "outputs": []
    },
    {
      "cell_type": "markdown",
      "metadata": {
        "id": "TAd_WEtMEAHH"
      },
      "source": [
        " ### 4.1 Types of Categorical Variable\n",
        " There are two types of categorical variables: \n",
        " \n",
        " - **Nominal categorical variable** \n",
        " - **Ordinal categorical variable**.\n",
        " \n",
        "- A nominal variable is a categorical variable without an implied order. This means that it is impossible to say that 'one is worth more than the other'. For example, think of the categorical variable animals_vector with the categories \"Elephant\", \"Giraffe\", \"Donkey\" and \"Horse\". \n",
        "- In contrast, ordinal variables do have a natural ordering. Consider for example the categorical variable temperature_vector with the categories: \"Low\", \"Medium\" and \"High\". Here it is obvious that \"Medium\" stands above \"Low\", and \"High\" stands above \"Medium\"."
      ]
    },
    {
      "cell_type": "code",
      "metadata": {
        "id": "KchzHeA_EAHI"
      },
      "source": [
        "# Animals\n",
        "animals_vector <- c(\"Elephant\", \"Giraffe\", \"Donkey\", \"Horse\")\n",
        "factor_animals_vector <- factor(animals_vector)\n",
        "factor_animals_vector\n",
        "\n",
        "# Temperature\n",
        "temperature_vector <- c(\"High\", \"Low\", \"High\",\"Low\", \"Medium\")\n",
        "factor_temperature_vector <- factor(temperature_vector, order = FALSE, levels = c(\"Low\", \"Medium\", \"High\"))\n",
        "factor_temperature_vector"
      ],
      "execution_count": null,
      "outputs": []
    },
    {
      "cell_type": "markdown",
      "metadata": {
        "id": "2jTsl3BpEAHO"
      },
      "source": [
        "## 4.2 Changing the Factors Value\n",
        "You will often want to change the factor levels to \"Male\" and \"Female\" instead of \"M\" and \"F\" for clarity.  R allows you to do this with the function `levels()`:\n",
        "> levels(factor_vector) <- c(\"name1\", \"name2\",...)"
      ]
    },
    {
      "cell_type": "code",
      "metadata": {
        "id": "EaUL1o9kEAHO"
      },
      "source": [
        "# Code to build factor_survey_vector\n",
        "survey_vector <- c(\"M\", \"F\", \"F\", \"M\", \"M\")\n",
        "factor_survey_vector <- factor(survey_vector)\n",
        "factor_survey_vector\n",
        "# Specify the levels of factor_survey_vector\n",
        "levels(factor_survey_vector) <- c(\"Female\",\"Male\")\n",
        "\n",
        "factor_survey_vector"
      ],
      "execution_count": null,
      "outputs": []
    },
    {
      "cell_type": "code",
      "metadata": {
        "id": "mjXCqt1KEAHT"
      },
      "source": [
        "survey_vector"
      ],
      "execution_count": null,
      "outputs": []
    },
    {
      "cell_type": "markdown",
      "metadata": {
        "id": "FqVCihhzEAHX"
      },
      "source": [
        "## 4.3 Summarizing a factor:\n",
        "The `summary()` will will give you a quick overview of the contents of a variable:\n",
        "> summary(my_var)"
      ]
    },
    {
      "cell_type": "code",
      "metadata": {
        "id": "hRcmeBEyEAHY"
      },
      "source": [
        "# Build factor_survey_vector with clean levels\n",
        "survey_vector <- c(\"M\", \"F\", \"F\", \"M\", \"M\")\n",
        "factor_survey_vector <- factor(survey_vector)\n",
        "levels(factor_survey_vector) <- c(\"Female\", \"Male\")\n",
        "factor_survey_vector"
      ],
      "execution_count": null,
      "outputs": []
    },
    {
      "cell_type": "code",
      "metadata": {
        "id": "xSGiQrfTEAHb"
      },
      "source": [
        "# Generate summary for survey_vector\n",
        "summary(survey_vector)"
      ],
      "execution_count": null,
      "outputs": []
    },
    {
      "cell_type": "code",
      "metadata": {
        "id": "340dpldLEAHf"
      },
      "source": [
        "# Generate summary for factor_survey_vector\n",
        "summary(factor_survey_vector)"
      ],
      "execution_count": null,
      "outputs": []
    },
    {
      "cell_type": "markdown",
      "metadata": {
        "id": "Wup__DEwEAHi"
      },
      "source": [
        "## 4.4 Ordered factors\n",
        "Sometimes we need to work with the **ordered categorical** data like (\"slow\", \"medium\", \"fast\"). In that case a categorical data needed to convert to ordinal form.  By default, the function `factor()` transforms speed_vector into an unordered factor. To create an ordered factor, you have to add two additional arguments: `ordered` and `levels`.\n",
        "\n",
        "> factor(some_vector,ordered = TRUE, levels = c(\"lev1\", \"lev2\" ...))\n"
      ]
    },
    {
      "cell_type": "code",
      "metadata": {
        "id": "jgMlAw8WEAHj"
      },
      "source": [
        "# Create speed_vector\n",
        "speed_vector <- c(\"fast\", \"slow\", \"slow\", \"fast\", \"medium\") \n",
        "\n",
        "# Convert speed_vector to ordered factor vector\n",
        "factor_speed_vector <- factor(speed_vector,ordered=TRUE,levels=c(\"slow\", \"medium\", \"fast\")) \n",
        "\n",
        "# Print factor_speed_vector\n",
        "factor_speed_vector\n",
        "summary(factor_speed_vector)"
      ],
      "execution_count": null,
      "outputs": []
    },
    {
      "cell_type": "markdown",
      "metadata": {
        "id": "I3BmnGgMEAHo"
      },
      "source": [
        "# 5. Working with Dataframe"
      ]
    },
    {
      "cell_type": "code",
      "metadata": {
        "id": "9STL_EfLEAHp"
      },
      "source": [
        "# Print out built-in R data frame\n",
        "mtcars "
      ],
      "execution_count": null,
      "outputs": []
    },
    {
      "cell_type": "markdown",
      "metadata": {
        "id": "7Jw80CjuEAHs"
      },
      "source": [
        "### 5.1 Head and Tail function\n",
        "The function head() enables you to show the first observations of a data frame. Similarly, the function tail() prints out the last observations in your data set."
      ]
    },
    {
      "cell_type": "code",
      "metadata": {
        "id": "3YcXx2y5EAHt"
      },
      "source": [
        "# Call head() on mtcars\n",
        "head(mtcars)"
      ],
      "execution_count": null,
      "outputs": []
    },
    {
      "cell_type": "code",
      "metadata": {
        "id": "y9bTmt7lEAH1"
      },
      "source": [
        "# Call tail() on mtcars\n",
        "tail(mtcars)"
      ],
      "execution_count": null,
      "outputs": []
    },
    {
      "cell_type": "markdown",
      "metadata": {
        "id": "8-915zG_EAH4"
      },
      "source": [
        "### 5.2 Dataframe structure\n",
        "Another method that is often used to get a rapid overview of your data is the function `str()`. The function `str()` shows you the structure of your data set. For a data frame it tells you:\n",
        "\n",
        "- The total number of observations (e.g. 32 car types)\n",
        "- The total number of variables (e.g. 11 car features)\n",
        "- A full list of the variables names (e.g. mpg, cyl … )\n",
        "- The data type of each variable (e.g. num)\n",
        "\n",
        "**The first observations**\n",
        "Applying the `str()` function will often be the first thing that you do when receiving a new data set or data frame. It is a great way to get more insight in your data set before diving into the real analysis"
      ]
    },
    {
      "cell_type": "code",
      "metadata": {
        "id": "c4wKqQDqEAH5"
      },
      "source": [
        "# Investigate the structure of mtcars\n",
        "str(mtcars)"
      ],
      "execution_count": null,
      "outputs": []
    },
    {
      "cell_type": "code",
      "metadata": {
        "id": "3yaCrhZZEAH9"
      },
      "source": [
        "# Investigate the structure of iris\n",
        "str(iris)"
      ],
      "execution_count": null,
      "outputs": []
    },
    {
      "cell_type": "markdown",
      "metadata": {
        "id": "ItmzIKUMEAIA"
      },
      "source": [
        "### 5.3: Creating a data frame\n",
        "We construct a data frame with the `data.frame()` function. As arguments, you pass the vectors from before: they will become the different columns of your data frame. Because every column has the same length, the vectors you pass should also have the same length. But don't forget that it is possible (and likely) that they contain different types of data."
      ]
    },
    {
      "cell_type": "code",
      "metadata": {
        "id": "c2o-m2hzEAIB"
      },
      "source": [
        "# Definition of vectors\n",
        "name <- c(\"Mercury\", \"Venus\", \"Earth\", \"Mars\", \"Jupiter\", \"Saturn\", \"Uranus\", \"Neptune\")\n",
        "type <- c(\"Terrestrial planet\", \"Terrestrial planet\", \"Terrestrial planet\", \n",
        "          \"Terrestrial planet\", \"Gas giant\", \"Gas giant\", \"Gas giant\", \"Gas giant\")\n",
        "diameter <- c(0.382, 0.949, 1, 0.532, 11.209, 9.449, 4.007, 3.883)\n",
        "rotation <- c(58.64, -243.02, 1, 1.03, 0.41, 0.43, -0.72, 0.67)\n",
        "rings <- c(FALSE, FALSE, FALSE, FALSE, TRUE, TRUE, TRUE, TRUE)\n",
        "\n",
        "# Create a data frame from the vectors\n",
        "planets_df <-data.frame(name,type,diameter,rotation,rings)"
      ],
      "execution_count": null,
      "outputs": []
    },
    {
      "cell_type": "code",
      "metadata": {
        "id": "uY2l80XHEAII"
      },
      "source": [
        "# View the dataframe\n",
        "planets_df"
      ],
      "execution_count": null,
      "outputs": []
    },
    {
      "cell_type": "code",
      "metadata": {
        "id": "7jkMRF0wEAIM"
      },
      "source": [
        "# structure of dataframe\n",
        "str(planets_df)"
      ],
      "execution_count": null,
      "outputs": []
    },
    {
      "cell_type": "code",
      "metadata": {
        "id": "HNmMhJK1EAIP"
      },
      "source": [
        "# summary of dataframe\n",
        "summary(planets_df)"
      ],
      "execution_count": null,
      "outputs": []
    },
    {
      "cell_type": "markdown",
      "metadata": {
        "id": "FmPpPxeDEwLB"
      },
      "source": [
        "## 5.4: Selection of data frame elements\n",
        "Similar to vectors and matrices, you select elements from a data frame with the help of square brackets `[ ]`. By using a comma, you can indicate what to select from the rows and the columns respectively. For example:\n",
        "\n",
        "* `my_df[1,2]` selects the value at the first row and second column in my_df.\n",
        "* `my_df[1:3,2:4]` selects rows 1, 2, 3 and columns 2, 3, 4 in my_df.\n",
        "* Sometimes you want to select all elements of a row or column. For example, `my_df[1, ]` selects all elements of the first row. Let us now apply this technique on planets_df!"
      ]
    },
    {
      "cell_type": "code",
      "metadata": {
        "id": "LlRm_Lu1EAIU",
        "outputId": "95dda93a-caea-4c52-8d04-24f1fd020470",
        "colab": {
          "base_uri": "https://localhost:8080/",
          "height": 330
        }
      },
      "source": [
        "# The planets_df data frame from the previous exercise is pre-loaded\n",
        "planets_df\n",
        "# Print out diameter of of Mercury (row 1, column 3)\n",
        "planets_df[1,3]\n",
        "\n",
        "# Print out data for Mars (entire fourth row)\n",
        "planets_df[4,]"
      ],
      "execution_count": null,
      "outputs": [
        {
          "output_type": "display_data",
          "data": {
            "text/plain": [
              "  name    type               diameter rotation rings\n",
              "1 Mercury Terrestrial planet  0.382     58.64  FALSE\n",
              "2 Venus   Terrestrial planet  0.949   -243.02  FALSE\n",
              "3 Earth   Terrestrial planet  1.000      1.00  FALSE\n",
              "4 Mars    Terrestrial planet  0.532      1.03  FALSE\n",
              "5 Jupiter Gas giant          11.209      0.41   TRUE\n",
              "6 Saturn  Gas giant           9.449      0.43   TRUE\n",
              "7 Uranus  Gas giant           4.007     -0.72   TRUE\n",
              "8 Neptune Gas giant           3.883      0.67   TRUE"
            ],
            "text/latex": "A data.frame: 8 × 5\n\\begin{tabular}{lllll}\n name & type & diameter & rotation & rings\\\\\n <chr> & <chr> & <dbl> & <dbl> & <lgl>\\\\\n\\hline\n\t Mercury & Terrestrial planet &  0.382 &   58.64 & FALSE\\\\\n\t Venus   & Terrestrial planet &  0.949 & -243.02 & FALSE\\\\\n\t Earth   & Terrestrial planet &  1.000 &    1.00 & FALSE\\\\\n\t Mars    & Terrestrial planet &  0.532 &    1.03 & FALSE\\\\\n\t Jupiter & Gas giant          & 11.209 &    0.41 &  TRUE\\\\\n\t Saturn  & Gas giant          &  9.449 &    0.43 &  TRUE\\\\\n\t Uranus  & Gas giant          &  4.007 &   -0.72 &  TRUE\\\\\n\t Neptune & Gas giant          &  3.883 &    0.67 &  TRUE\\\\\n\\end{tabular}\n",
            "text/markdown": "\nA data.frame: 8 × 5\n\n| name &lt;chr&gt; | type &lt;chr&gt; | diameter &lt;dbl&gt; | rotation &lt;dbl&gt; | rings &lt;lgl&gt; |\n|---|---|---|---|---|\n| Mercury | Terrestrial planet |  0.382 |   58.64 | FALSE |\n| Venus   | Terrestrial planet |  0.949 | -243.02 | FALSE |\n| Earth   | Terrestrial planet |  1.000 |    1.00 | FALSE |\n| Mars    | Terrestrial planet |  0.532 |    1.03 | FALSE |\n| Jupiter | Gas giant          | 11.209 |    0.41 |  TRUE |\n| Saturn  | Gas giant          |  9.449 |    0.43 |  TRUE |\n| Uranus  | Gas giant          |  4.007 |   -0.72 |  TRUE |\n| Neptune | Gas giant          |  3.883 |    0.67 |  TRUE |\n\n",
            "text/html": [
              "<table>\n",
              "<caption>A data.frame: 8 × 5</caption>\n",
              "<thead>\n",
              "\t<tr><th scope=col>name</th><th scope=col>type</th><th scope=col>diameter</th><th scope=col>rotation</th><th scope=col>rings</th></tr>\n",
              "\t<tr><th scope=col>&lt;chr&gt;</th><th scope=col>&lt;chr&gt;</th><th scope=col>&lt;dbl&gt;</th><th scope=col>&lt;dbl&gt;</th><th scope=col>&lt;lgl&gt;</th></tr>\n",
              "</thead>\n",
              "<tbody>\n",
              "\t<tr><td>Mercury</td><td>Terrestrial planet</td><td> 0.382</td><td>  58.64</td><td>FALSE</td></tr>\n",
              "\t<tr><td>Venus  </td><td>Terrestrial planet</td><td> 0.949</td><td>-243.02</td><td>FALSE</td></tr>\n",
              "\t<tr><td>Earth  </td><td>Terrestrial planet</td><td> 1.000</td><td>   1.00</td><td>FALSE</td></tr>\n",
              "\t<tr><td>Mars   </td><td>Terrestrial planet</td><td> 0.532</td><td>   1.03</td><td>FALSE</td></tr>\n",
              "\t<tr><td>Jupiter</td><td>Gas giant         </td><td>11.209</td><td>   0.41</td><td> TRUE</td></tr>\n",
              "\t<tr><td>Saturn </td><td>Gas giant         </td><td> 9.449</td><td>   0.43</td><td> TRUE</td></tr>\n",
              "\t<tr><td>Uranus </td><td>Gas giant         </td><td> 4.007</td><td>  -0.72</td><td> TRUE</td></tr>\n",
              "\t<tr><td>Neptune</td><td>Gas giant         </td><td> 3.883</td><td>   0.67</td><td> TRUE</td></tr>\n",
              "</tbody>\n",
              "</table>\n"
            ]
          },
          "metadata": {
            "tags": []
          }
        },
        {
          "output_type": "display_data",
          "data": {
            "text/plain": [
              "[1] 0.382"
            ],
            "text/latex": "0.382",
            "text/markdown": "0.382",
            "text/html": [
              "0.382"
            ]
          },
          "metadata": {
            "tags": []
          }
        },
        {
          "output_type": "display_data",
          "data": {
            "text/plain": [
              "  name type               diameter rotation rings\n",
              "4 Mars Terrestrial planet 0.532    1.03     FALSE"
            ],
            "text/latex": "A data.frame: 1 × 5\n\\begin{tabular}{r|lllll}\n  & name & type & diameter & rotation & rings\\\\\n  & <chr> & <chr> & <dbl> & <dbl> & <lgl>\\\\\n\\hline\n\t4 & Mars & Terrestrial planet & 0.532 & 1.03 & FALSE\\\\\n\\end{tabular}\n",
            "text/markdown": "\nA data.frame: 1 × 5\n\n| <!--/--> | name &lt;chr&gt; | type &lt;chr&gt; | diameter &lt;dbl&gt; | rotation &lt;dbl&gt; | rings &lt;lgl&gt; |\n|---|---|---|---|---|---|\n| 4 | Mars | Terrestrial planet | 0.532 | 1.03 | FALSE |\n\n",
            "text/html": [
              "<table>\n",
              "<caption>A data.frame: 1 × 5</caption>\n",
              "<thead>\n",
              "\t<tr><th></th><th scope=col>name</th><th scope=col>type</th><th scope=col>diameter</th><th scope=col>rotation</th><th scope=col>rings</th></tr>\n",
              "\t<tr><th></th><th scope=col>&lt;chr&gt;</th><th scope=col>&lt;chr&gt;</th><th scope=col>&lt;dbl&gt;</th><th scope=col>&lt;dbl&gt;</th><th scope=col>&lt;lgl&gt;</th></tr>\n",
              "</thead>\n",
              "<tbody>\n",
              "\t<tr><th scope=row>4</th><td>Mars</td><td>Terrestrial planet</td><td>0.532</td><td>1.03</td><td>FALSE</td></tr>\n",
              "</tbody>\n",
              "</table>\n"
            ]
          },
          "metadata": {
            "tags": []
          }
        }
      ]
    },
    {
      "cell_type": "markdown",
      "metadata": {
        "id": "hcrufEBwGAcV"
      },
      "source": [
        "### Selection using variable name\n",
        "Instead of using numerics to select elements of a data frame, you can also use the variable names to select columns of a data frame."
      ]
    },
    {
      "cell_type": "code",
      "metadata": {
        "id": "LuqIH0YpGYWn",
        "outputId": "fab25368-9128-4a3c-944d-f039a3da6ed3",
        "colab": {
          "base_uri": "https://localhost:8080/",
          "height": 269
        }
      },
      "source": [
        "planets_df[3]"
      ],
      "execution_count": null,
      "outputs": [
        {
          "output_type": "display_data",
          "data": {
            "text/plain": [
              "  diameter\n",
              "1  0.382  \n",
              "2  0.949  \n",
              "3  1.000  \n",
              "4  0.532  \n",
              "5 11.209  \n",
              "6  9.449  \n",
              "7  4.007  \n",
              "8  3.883  "
            ],
            "text/latex": "A data.frame: 8 × 1\n\\begin{tabular}{l}\n diameter\\\\\n <dbl>\\\\\n\\hline\n\t  0.382\\\\\n\t  0.949\\\\\n\t  1.000\\\\\n\t  0.532\\\\\n\t 11.209\\\\\n\t  9.449\\\\\n\t  4.007\\\\\n\t  3.883\\\\\n\\end{tabular}\n",
            "text/markdown": "\nA data.frame: 8 × 1\n\n| diameter &lt;dbl&gt; |\n|---|\n|  0.382 |\n|  0.949 |\n|  1.000 |\n|  0.532 |\n| 11.209 |\n|  9.449 |\n|  4.007 |\n|  3.883 |\n\n",
            "text/html": [
              "<table>\n",
              "<caption>A data.frame: 8 × 1</caption>\n",
              "<thead>\n",
              "\t<tr><th scope=col>diameter</th></tr>\n",
              "\t<tr><th scope=col>&lt;dbl&gt;</th></tr>\n",
              "</thead>\n",
              "<tbody>\n",
              "\t<tr><td> 0.382</td></tr>\n",
              "\t<tr><td> 0.949</td></tr>\n",
              "\t<tr><td> 1.000</td></tr>\n",
              "\t<tr><td> 0.532</td></tr>\n",
              "\t<tr><td>11.209</td></tr>\n",
              "\t<tr><td> 9.449</td></tr>\n",
              "\t<tr><td> 4.007</td></tr>\n",
              "\t<tr><td> 3.883</td></tr>\n",
              "</tbody>\n",
              "</table>\n"
            ]
          },
          "metadata": {
            "tags": []
          }
        }
      ]
    },
    {
      "cell_type": "code",
      "metadata": {
        "id": "9DxeQLM0FndK",
        "outputId": "235d2ea8-4316-4540-844f-fe1e0bcb88fb",
        "colab": {
          "base_uri": "https://localhost:8080/",
          "height": 269
        }
      },
      "source": [
        "# planets_df[,\"diameter\"],planets_df[,3] also works\n",
        "planets_df[\"diameter\"]"
      ],
      "execution_count": null,
      "outputs": [
        {
          "output_type": "display_data",
          "data": {
            "text/plain": [
              "  diameter\n",
              "1  0.382  \n",
              "2  0.949  \n",
              "3  1.000  \n",
              "4  0.532  \n",
              "5 11.209  \n",
              "6  9.449  \n",
              "7  4.007  \n",
              "8  3.883  "
            ],
            "text/latex": "A data.frame: 8 × 1\n\\begin{tabular}{l}\n diameter\\\\\n <dbl>\\\\\n\\hline\n\t  0.382\\\\\n\t  0.949\\\\\n\t  1.000\\\\\n\t  0.532\\\\\n\t 11.209\\\\\n\t  9.449\\\\\n\t  4.007\\\\\n\t  3.883\\\\\n\\end{tabular}\n",
            "text/markdown": "\nA data.frame: 8 × 1\n\n| diameter &lt;dbl&gt; |\n|---|\n|  0.382 |\n|  0.949 |\n|  1.000 |\n|  0.532 |\n| 11.209 |\n|  9.449 |\n|  4.007 |\n|  3.883 |\n\n",
            "text/html": [
              "<table>\n",
              "<caption>A data.frame: 8 × 1</caption>\n",
              "<thead>\n",
              "\t<tr><th scope=col>diameter</th></tr>\n",
              "\t<tr><th scope=col>&lt;dbl&gt;</th></tr>\n",
              "</thead>\n",
              "<tbody>\n",
              "\t<tr><td> 0.382</td></tr>\n",
              "\t<tr><td> 0.949</td></tr>\n",
              "\t<tr><td> 1.000</td></tr>\n",
              "\t<tr><td> 0.532</td></tr>\n",
              "\t<tr><td>11.209</td></tr>\n",
              "\t<tr><td> 9.449</td></tr>\n",
              "\t<tr><td> 4.007</td></tr>\n",
              "\t<tr><td> 3.883</td></tr>\n",
              "</tbody>\n",
              "</table>\n"
            ]
          },
          "metadata": {
            "tags": []
          }
        }
      ]
    },
    {
      "cell_type": "markdown",
      "metadata": {
        "id": "BCSaQu3mGfiQ"
      },
      "source": [
        "### Subseting using `$` sign.\n",
        "If your columns have names, you can use the $ sign:\n",
        "\n",
        ">dataframe$colname"
      ]
    },
    {
      "cell_type": "code",
      "metadata": {
        "id": "g3f7me2-HUJ8",
        "outputId": "44de1a8f-2b81-4c39-faf0-8bfabc9d35ac",
        "colab": {
          "base_uri": "https://localhost:8080/",
          "height": 34
        }
      },
      "source": [
        "# Select the rings variable from planets_df\n",
        "rings_vector <- planets_df$rings\n",
        "  \n",
        "# Print out rings_vector\n",
        "rings_vector"
      ],
      "execution_count": null,
      "outputs": [
        {
          "output_type": "display_data",
          "data": {
            "text/plain": [
              "[1] FALSE FALSE FALSE FALSE  TRUE  TRUE  TRUE  TRUE"
            ],
            "text/latex": "\\begin{enumerate*}\n\\item FALSE\n\\item FALSE\n\\item FALSE\n\\item FALSE\n\\item TRUE\n\\item TRUE\n\\item TRUE\n\\item TRUE\n\\end{enumerate*}\n",
            "text/markdown": "1. FALSE\n2. FALSE\n3. FALSE\n4. FALSE\n5. TRUE\n6. TRUE\n7. TRUE\n8. TRUE\n\n\n",
            "text/html": [
              "<style>\n",
              ".list-inline {list-style: none; margin:0; padding: 0}\n",
              ".list-inline>li {display: inline-block}\n",
              ".list-inline>li:not(:last-child)::after {content: \"\\00b7\"; padding: 0 .5ex}\n",
              "</style>\n",
              "<ol class=list-inline><li>FALSE</li><li>FALSE</li><li>FALSE</li><li>FALSE</li><li>TRUE</li><li>TRUE</li><li>TRUE</li><li>TRUE</li></ol>\n"
            ]
          },
          "metadata": {
            "tags": []
          }
        }
      ]
    },
    {
      "cell_type": "code",
      "metadata": {
        "id": "NnjA90dxHenm",
        "outputId": "5f0b0349-38da-47ec-923e-5f029110980b",
        "colab": {
          "base_uri": "https://localhost:8080/",
          "height": 155
        }
      },
      "source": [
        "# Adapt the code to select all columns for planets with rings\n",
        "planets_df[rings_vector,]"
      ],
      "execution_count": null,
      "outputs": [
        {
          "output_type": "display_data",
          "data": {
            "text/plain": [
              "  name    type      diameter rotation rings\n",
              "5 Jupiter Gas giant 11.209    0.41    TRUE \n",
              "6 Saturn  Gas giant  9.449    0.43    TRUE \n",
              "7 Uranus  Gas giant  4.007   -0.72    TRUE \n",
              "8 Neptune Gas giant  3.883    0.67    TRUE "
            ],
            "text/latex": "A data.frame: 4 × 5\n\\begin{tabular}{r|lllll}\n  & name & type & diameter & rotation & rings\\\\\n  & <chr> & <chr> & <dbl> & <dbl> & <lgl>\\\\\n\\hline\n\t5 & Jupiter & Gas giant & 11.209 &  0.41 & TRUE\\\\\n\t6 & Saturn  & Gas giant &  9.449 &  0.43 & TRUE\\\\\n\t7 & Uranus  & Gas giant &  4.007 & -0.72 & TRUE\\\\\n\t8 & Neptune & Gas giant &  3.883 &  0.67 & TRUE\\\\\n\\end{tabular}\n",
            "text/markdown": "\nA data.frame: 4 × 5\n\n| <!--/--> | name &lt;chr&gt; | type &lt;chr&gt; | diameter &lt;dbl&gt; | rotation &lt;dbl&gt; | rings &lt;lgl&gt; |\n|---|---|---|---|---|---|\n| 5 | Jupiter | Gas giant | 11.209 |  0.41 | TRUE |\n| 6 | Saturn  | Gas giant |  9.449 |  0.43 | TRUE |\n| 7 | Uranus  | Gas giant |  4.007 | -0.72 | TRUE |\n| 8 | Neptune | Gas giant |  3.883 |  0.67 | TRUE |\n\n",
            "text/html": [
              "<table>\n",
              "<caption>A data.frame: 4 × 5</caption>\n",
              "<thead>\n",
              "\t<tr><th></th><th scope=col>name</th><th scope=col>type</th><th scope=col>diameter</th><th scope=col>rotation</th><th scope=col>rings</th></tr>\n",
              "\t<tr><th></th><th scope=col>&lt;chr&gt;</th><th scope=col>&lt;chr&gt;</th><th scope=col>&lt;dbl&gt;</th><th scope=col>&lt;dbl&gt;</th><th scope=col>&lt;lgl&gt;</th></tr>\n",
              "</thead>\n",
              "<tbody>\n",
              "\t<tr><th scope=row>5</th><td>Jupiter</td><td>Gas giant</td><td>11.209</td><td> 0.41</td><td>TRUE</td></tr>\n",
              "\t<tr><th scope=row>6</th><td>Saturn </td><td>Gas giant</td><td> 9.449</td><td> 0.43</td><td>TRUE</td></tr>\n",
              "\t<tr><th scope=row>7</th><td>Uranus </td><td>Gas giant</td><td> 4.007</td><td>-0.72</td><td>TRUE</td></tr>\n",
              "\t<tr><th scope=row>8</th><td>Neptune</td><td>Gas giant</td><td> 3.883</td><td> 0.67</td><td>TRUE</td></tr>\n",
              "</tbody>\n",
              "</table>\n"
            ]
          },
          "metadata": {
            "tags": []
          }
        }
      ]
    },
    {
      "cell_type": "markdown",
      "metadata": {
        "id": "0M36NQAJLHUW"
      },
      "source": [
        "### Using `subset()` function\n",
        "The first argument of `subset()` specifies the data set for which you want a subset. By adding the second argument, you give R the necessary information and conditions to select the correct subset.\n",
        "> subset(my_df, subset = some_condition)\n"
      ]
    },
    {
      "cell_type": "code",
      "metadata": {
        "id": "bcZF16ueIQrt",
        "outputId": "ed0c072d-9429-4a3f-c581-07e1fa24b459",
        "colab": {
          "base_uri": "https://localhost:8080/",
          "height": 235
        }
      },
      "source": [
        "# planets_df dataframe\n",
        "planets_df"
      ],
      "execution_count": null,
      "outputs": [
        {
          "output_type": "display_data",
          "data": {
            "text/plain": [
              "  name    type               diameter rotation rings\n",
              "1 Mercury Terrestrial planet  0.382     58.64  FALSE\n",
              "2 Venus   Terrestrial planet  0.949   -243.02  FALSE\n",
              "3 Earth   Terrestrial planet  1.000      1.00  FALSE\n",
              "4 Mars    Terrestrial planet  0.532      1.03  FALSE\n",
              "5 Jupiter Gas giant          11.209      0.41   TRUE\n",
              "6 Saturn  Gas giant           9.449      0.43   TRUE\n",
              "7 Uranus  Gas giant           4.007     -0.72   TRUE\n",
              "8 Neptune Gas giant           3.883      0.67   TRUE"
            ],
            "text/latex": "A data.frame: 8 × 5\n\\begin{tabular}{lllll}\n name & type & diameter & rotation & rings\\\\\n <chr> & <chr> & <dbl> & <dbl> & <lgl>\\\\\n\\hline\n\t Mercury & Terrestrial planet &  0.382 &   58.64 & FALSE\\\\\n\t Venus   & Terrestrial planet &  0.949 & -243.02 & FALSE\\\\\n\t Earth   & Terrestrial planet &  1.000 &    1.00 & FALSE\\\\\n\t Mars    & Terrestrial planet &  0.532 &    1.03 & FALSE\\\\\n\t Jupiter & Gas giant          & 11.209 &    0.41 &  TRUE\\\\\n\t Saturn  & Gas giant          &  9.449 &    0.43 &  TRUE\\\\\n\t Uranus  & Gas giant          &  4.007 &   -0.72 &  TRUE\\\\\n\t Neptune & Gas giant          &  3.883 &    0.67 &  TRUE\\\\\n\\end{tabular}\n",
            "text/markdown": "\nA data.frame: 8 × 5\n\n| name &lt;chr&gt; | type &lt;chr&gt; | diameter &lt;dbl&gt; | rotation &lt;dbl&gt; | rings &lt;lgl&gt; |\n|---|---|---|---|---|\n| Mercury | Terrestrial planet |  0.382 |   58.64 | FALSE |\n| Venus   | Terrestrial planet |  0.949 | -243.02 | FALSE |\n| Earth   | Terrestrial planet |  1.000 |    1.00 | FALSE |\n| Mars    | Terrestrial planet |  0.532 |    1.03 | FALSE |\n| Jupiter | Gas giant          | 11.209 |    0.41 |  TRUE |\n| Saturn  | Gas giant          |  9.449 |    0.43 |  TRUE |\n| Uranus  | Gas giant          |  4.007 |   -0.72 |  TRUE |\n| Neptune | Gas giant          |  3.883 |    0.67 |  TRUE |\n\n",
            "text/html": [
              "<table>\n",
              "<caption>A data.frame: 8 × 5</caption>\n",
              "<thead>\n",
              "\t<tr><th scope=col>name</th><th scope=col>type</th><th scope=col>diameter</th><th scope=col>rotation</th><th scope=col>rings</th></tr>\n",
              "\t<tr><th scope=col>&lt;chr&gt;</th><th scope=col>&lt;chr&gt;</th><th scope=col>&lt;dbl&gt;</th><th scope=col>&lt;dbl&gt;</th><th scope=col>&lt;lgl&gt;</th></tr>\n",
              "</thead>\n",
              "<tbody>\n",
              "\t<tr><td>Mercury</td><td>Terrestrial planet</td><td> 0.382</td><td>  58.64</td><td>FALSE</td></tr>\n",
              "\t<tr><td>Venus  </td><td>Terrestrial planet</td><td> 0.949</td><td>-243.02</td><td>FALSE</td></tr>\n",
              "\t<tr><td>Earth  </td><td>Terrestrial planet</td><td> 1.000</td><td>   1.00</td><td>FALSE</td></tr>\n",
              "\t<tr><td>Mars   </td><td>Terrestrial planet</td><td> 0.532</td><td>   1.03</td><td>FALSE</td></tr>\n",
              "\t<tr><td>Jupiter</td><td>Gas giant         </td><td>11.209</td><td>   0.41</td><td> TRUE</td></tr>\n",
              "\t<tr><td>Saturn </td><td>Gas giant         </td><td> 9.449</td><td>   0.43</td><td> TRUE</td></tr>\n",
              "\t<tr><td>Uranus </td><td>Gas giant         </td><td> 4.007</td><td>  -0.72</td><td> TRUE</td></tr>\n",
              "\t<tr><td>Neptune</td><td>Gas giant         </td><td> 3.883</td><td>   0.67</td><td> TRUE</td></tr>\n",
              "</tbody>\n",
              "</table>\n"
            ]
          },
          "metadata": {
            "tags": []
          }
        }
      ]
    },
    {
      "cell_type": "code",
      "metadata": {
        "id": "LgqxDF29Lw9z",
        "outputId": "227cc3c8-32d5-4238-9f3f-06efe57bf270",
        "colab": {
          "base_uri": "https://localhost:8080/",
          "height": 175
        }
      },
      "source": [
        "# Select planets with diameter > 4\n",
        "subset(planets_df,diameter > 4)"
      ],
      "execution_count": null,
      "outputs": [
        {
          "output_type": "display_data",
          "data": {
            "text/plain": [
              "  name    type               diameter rotation rings\n",
              "1 Mercury Terrestrial planet 0.382      58.64  FALSE\n",
              "2 Venus   Terrestrial planet 0.949    -243.02  FALSE\n",
              "3 Earth   Terrestrial planet 1.000       1.00  FALSE\n",
              "4 Mars    Terrestrial planet 0.532       1.03  FALSE\n",
              "8 Neptune Gas giant          3.883       0.67   TRUE"
            ],
            "text/latex": "A data.frame: 5 × 5\n\\begin{tabular}{r|lllll}\n  & name & type & diameter & rotation & rings\\\\\n  & <chr> & <chr> & <dbl> & <dbl> & <lgl>\\\\\n\\hline\n\t1 & Mercury & Terrestrial planet & 0.382 &   58.64 & FALSE\\\\\n\t2 & Venus   & Terrestrial planet & 0.949 & -243.02 & FALSE\\\\\n\t3 & Earth   & Terrestrial planet & 1.000 &    1.00 & FALSE\\\\\n\t4 & Mars    & Terrestrial planet & 0.532 &    1.03 & FALSE\\\\\n\t8 & Neptune & Gas giant          & 3.883 &    0.67 &  TRUE\\\\\n\\end{tabular}\n",
            "text/markdown": "\nA data.frame: 5 × 5\n\n| <!--/--> | name &lt;chr&gt; | type &lt;chr&gt; | diameter &lt;dbl&gt; | rotation &lt;dbl&gt; | rings &lt;lgl&gt; |\n|---|---|---|---|---|---|\n| 1 | Mercury | Terrestrial planet | 0.382 |   58.64 | FALSE |\n| 2 | Venus   | Terrestrial planet | 0.949 | -243.02 | FALSE |\n| 3 | Earth   | Terrestrial planet | 1.000 |    1.00 | FALSE |\n| 4 | Mars    | Terrestrial planet | 0.532 |    1.03 | FALSE |\n| 8 | Neptune | Gas giant          | 3.883 |    0.67 |  TRUE |\n\n",
            "text/html": [
              "<table>\n",
              "<caption>A data.frame: 5 × 5</caption>\n",
              "<thead>\n",
              "\t<tr><th></th><th scope=col>name</th><th scope=col>type</th><th scope=col>diameter</th><th scope=col>rotation</th><th scope=col>rings</th></tr>\n",
              "\t<tr><th></th><th scope=col>&lt;chr&gt;</th><th scope=col>&lt;chr&gt;</th><th scope=col>&lt;dbl&gt;</th><th scope=col>&lt;dbl&gt;</th><th scope=col>&lt;lgl&gt;</th></tr>\n",
              "</thead>\n",
              "<tbody>\n",
              "\t<tr><th scope=row>1</th><td>Mercury</td><td>Terrestrial planet</td><td>0.382</td><td>  58.64</td><td>FALSE</td></tr>\n",
              "\t<tr><th scope=row>2</th><td>Venus  </td><td>Terrestrial planet</td><td>0.949</td><td>-243.02</td><td>FALSE</td></tr>\n",
              "\t<tr><th scope=row>3</th><td>Earth  </td><td>Terrestrial planet</td><td>1.000</td><td>   1.00</td><td>FALSE</td></tr>\n",
              "\t<tr><th scope=row>4</th><td>Mars   </td><td>Terrestrial planet</td><td>0.532</td><td>   1.03</td><td>FALSE</td></tr>\n",
              "\t<tr><th scope=row>8</th><td>Neptune</td><td>Gas giant         </td><td>3.883</td><td>   0.67</td><td> TRUE</td></tr>\n",
              "</tbody>\n",
              "</table>\n"
            ]
          },
          "metadata": {
            "tags": []
          }
        }
      ]
    },
    {
      "cell_type": "code",
      "metadata": {
        "id": "1Mc1awiyMFN3",
        "outputId": "dbe74851-de1e-42e2-9280-f95fd2a0512f",
        "colab": {
          "base_uri": "https://localhost:8080/",
          "height": 155
        }
      },
      "source": [
        "# subset using logical column\n",
        "subset(planets_df, subset = rings)"
      ],
      "execution_count": null,
      "outputs": [
        {
          "output_type": "display_data",
          "data": {
            "text/plain": [
              "  name    type      diameter rotation rings\n",
              "5 Jupiter Gas giant 11.209    0.41    TRUE \n",
              "6 Saturn  Gas giant  9.449    0.43    TRUE \n",
              "7 Uranus  Gas giant  4.007   -0.72    TRUE \n",
              "8 Neptune Gas giant  3.883    0.67    TRUE "
            ],
            "text/latex": "A data.frame: 4 × 5\n\\begin{tabular}{r|lllll}\n  & name & type & diameter & rotation & rings\\\\\n  & <chr> & <chr> & <dbl> & <dbl> & <lgl>\\\\\n\\hline\n\t5 & Jupiter & Gas giant & 11.209 &  0.41 & TRUE\\\\\n\t6 & Saturn  & Gas giant &  9.449 &  0.43 & TRUE\\\\\n\t7 & Uranus  & Gas giant &  4.007 & -0.72 & TRUE\\\\\n\t8 & Neptune & Gas giant &  3.883 &  0.67 & TRUE\\\\\n\\end{tabular}\n",
            "text/markdown": "\nA data.frame: 4 × 5\n\n| <!--/--> | name &lt;chr&gt; | type &lt;chr&gt; | diameter &lt;dbl&gt; | rotation &lt;dbl&gt; | rings &lt;lgl&gt; |\n|---|---|---|---|---|---|\n| 5 | Jupiter | Gas giant | 11.209 |  0.41 | TRUE |\n| 6 | Saturn  | Gas giant |  9.449 |  0.43 | TRUE |\n| 7 | Uranus  | Gas giant |  4.007 | -0.72 | TRUE |\n| 8 | Neptune | Gas giant |  3.883 |  0.67 | TRUE |\n\n",
            "text/html": [
              "<table>\n",
              "<caption>A data.frame: 4 × 5</caption>\n",
              "<thead>\n",
              "\t<tr><th></th><th scope=col>name</th><th scope=col>type</th><th scope=col>diameter</th><th scope=col>rotation</th><th scope=col>rings</th></tr>\n",
              "\t<tr><th></th><th scope=col>&lt;chr&gt;</th><th scope=col>&lt;chr&gt;</th><th scope=col>&lt;dbl&gt;</th><th scope=col>&lt;dbl&gt;</th><th scope=col>&lt;lgl&gt;</th></tr>\n",
              "</thead>\n",
              "<tbody>\n",
              "\t<tr><th scope=row>5</th><td>Jupiter</td><td>Gas giant</td><td>11.209</td><td> 0.41</td><td>TRUE</td></tr>\n",
              "\t<tr><th scope=row>6</th><td>Saturn </td><td>Gas giant</td><td> 9.449</td><td> 0.43</td><td>TRUE</td></tr>\n",
              "\t<tr><th scope=row>7</th><td>Uranus </td><td>Gas giant</td><td> 4.007</td><td>-0.72</td><td>TRUE</td></tr>\n",
              "\t<tr><th scope=row>8</th><td>Neptune</td><td>Gas giant</td><td> 3.883</td><td> 0.67</td><td>TRUE</td></tr>\n",
              "</tbody>\n",
              "</table>\n"
            ]
          },
          "metadata": {
            "tags": []
          }
        }
      ]
    },
    {
      "cell_type": "markdown",
      "metadata": {
        "id": "lA66IR7_Mhfw"
      },
      "source": [
        "### Sorting Data frame\n",
        "the `order()` function rearrange your data frame such that it starts with the smallest largest one according to your column;"
      ]
    },
    {
      "cell_type": "code",
      "metadata": {
        "id": "YqINVXFQNnok",
        "outputId": "9042838c-f827-42bf-9af9-65e11d7bed63",
        "colab": {
          "base_uri": "https://localhost:8080/",
          "height": 50
        }
      },
      "source": [
        "# How order works\n",
        "a <- c(1,4,6,7,9,5)\n",
        "order(a)\n",
        "a[order(a)]"
      ],
      "execution_count": null,
      "outputs": [
        {
          "output_type": "display_data",
          "data": {
            "text/plain": [
              "[1] 1 2 6 3 4 5"
            ],
            "text/latex": "\\begin{enumerate*}\n\\item 1\n\\item 2\n\\item 6\n\\item 3\n\\item 4\n\\item 5\n\\end{enumerate*}\n",
            "text/markdown": "1. 1\n2. 2\n3. 6\n4. 3\n5. 4\n6. 5\n\n\n",
            "text/html": [
              "<style>\n",
              ".list-inline {list-style: none; margin:0; padding: 0}\n",
              ".list-inline>li {display: inline-block}\n",
              ".list-inline>li:not(:last-child)::after {content: \"\\00b7\"; padding: 0 .5ex}\n",
              "</style>\n",
              "<ol class=list-inline><li>1</li><li>2</li><li>6</li><li>3</li><li>4</li><li>5</li></ol>\n"
            ]
          },
          "metadata": {
            "tags": []
          }
        },
        {
          "output_type": "display_data",
          "data": {
            "text/plain": [
              "[1] 1 4 5 6 7 9"
            ],
            "text/latex": "\\begin{enumerate*}\n\\item 1\n\\item 4\n\\item 5\n\\item 6\n\\item 7\n\\item 9\n\\end{enumerate*}\n",
            "text/markdown": "1. 1\n2. 4\n3. 5\n4. 6\n5. 7\n6. 9\n\n\n",
            "text/html": [
              "<style>\n",
              ".list-inline {list-style: none; margin:0; padding: 0}\n",
              ".list-inline>li {display: inline-block}\n",
              ".list-inline>li:not(:last-child)::after {content: \"\\00b7\"; padding: 0 .5ex}\n",
              "</style>\n",
              "<ol class=list-inline><li>1</li><li>4</li><li>5</li><li>6</li><li>7</li><li>9</li></ol>\n"
            ]
          },
          "metadata": {
            "tags": []
          }
        }
      ]
    },
    {
      "cell_type": "code",
      "metadata": {
        "id": "J1F9RYZrMMKT",
        "outputId": "a8f95bd5-a7cf-4b02-cfdc-928300819e29",
        "colab": {
          "base_uri": "https://localhost:8080/",
          "height": 454
        }
      },
      "source": [
        "# planets_df is pre-loaded in your workspace\n",
        "planets_df \n",
        "# Use order() to create positions\n",
        "size <- order(planets_df$diameter) \n",
        "\n",
        "# Use size to sort planets_df\n",
        "planets_df[size,]"
      ],
      "execution_count": null,
      "outputs": [
        {
          "output_type": "display_data",
          "data": {
            "text/plain": [
              "  name    type               diameter rotation rings\n",
              "1 Mercury Terrestrial planet  0.382     58.64  FALSE\n",
              "2 Venus   Terrestrial planet  0.949   -243.02  FALSE\n",
              "3 Earth   Terrestrial planet  1.000      1.00  FALSE\n",
              "4 Mars    Terrestrial planet  0.532      1.03  FALSE\n",
              "5 Jupiter Gas giant          11.209      0.41   TRUE\n",
              "6 Saturn  Gas giant           9.449      0.43   TRUE\n",
              "7 Uranus  Gas giant           4.007     -0.72   TRUE\n",
              "8 Neptune Gas giant           3.883      0.67   TRUE"
            ],
            "text/latex": "A data.frame: 8 × 5\n\\begin{tabular}{lllll}\n name & type & diameter & rotation & rings\\\\\n <chr> & <chr> & <dbl> & <dbl> & <lgl>\\\\\n\\hline\n\t Mercury & Terrestrial planet &  0.382 &   58.64 & FALSE\\\\\n\t Venus   & Terrestrial planet &  0.949 & -243.02 & FALSE\\\\\n\t Earth   & Terrestrial planet &  1.000 &    1.00 & FALSE\\\\\n\t Mars    & Terrestrial planet &  0.532 &    1.03 & FALSE\\\\\n\t Jupiter & Gas giant          & 11.209 &    0.41 &  TRUE\\\\\n\t Saturn  & Gas giant          &  9.449 &    0.43 &  TRUE\\\\\n\t Uranus  & Gas giant          &  4.007 &   -0.72 &  TRUE\\\\\n\t Neptune & Gas giant          &  3.883 &    0.67 &  TRUE\\\\\n\\end{tabular}\n",
            "text/markdown": "\nA data.frame: 8 × 5\n\n| name &lt;chr&gt; | type &lt;chr&gt; | diameter &lt;dbl&gt; | rotation &lt;dbl&gt; | rings &lt;lgl&gt; |\n|---|---|---|---|---|\n| Mercury | Terrestrial planet |  0.382 |   58.64 | FALSE |\n| Venus   | Terrestrial planet |  0.949 | -243.02 | FALSE |\n| Earth   | Terrestrial planet |  1.000 |    1.00 | FALSE |\n| Mars    | Terrestrial planet |  0.532 |    1.03 | FALSE |\n| Jupiter | Gas giant          | 11.209 |    0.41 |  TRUE |\n| Saturn  | Gas giant          |  9.449 |    0.43 |  TRUE |\n| Uranus  | Gas giant          |  4.007 |   -0.72 |  TRUE |\n| Neptune | Gas giant          |  3.883 |    0.67 |  TRUE |\n\n",
            "text/html": [
              "<table>\n",
              "<caption>A data.frame: 8 × 5</caption>\n",
              "<thead>\n",
              "\t<tr><th scope=col>name</th><th scope=col>type</th><th scope=col>diameter</th><th scope=col>rotation</th><th scope=col>rings</th></tr>\n",
              "\t<tr><th scope=col>&lt;chr&gt;</th><th scope=col>&lt;chr&gt;</th><th scope=col>&lt;dbl&gt;</th><th scope=col>&lt;dbl&gt;</th><th scope=col>&lt;lgl&gt;</th></tr>\n",
              "</thead>\n",
              "<tbody>\n",
              "\t<tr><td>Mercury</td><td>Terrestrial planet</td><td> 0.382</td><td>  58.64</td><td>FALSE</td></tr>\n",
              "\t<tr><td>Venus  </td><td>Terrestrial planet</td><td> 0.949</td><td>-243.02</td><td>FALSE</td></tr>\n",
              "\t<tr><td>Earth  </td><td>Terrestrial planet</td><td> 1.000</td><td>   1.00</td><td>FALSE</td></tr>\n",
              "\t<tr><td>Mars   </td><td>Terrestrial planet</td><td> 0.532</td><td>   1.03</td><td>FALSE</td></tr>\n",
              "\t<tr><td>Jupiter</td><td>Gas giant         </td><td>11.209</td><td>   0.41</td><td> TRUE</td></tr>\n",
              "\t<tr><td>Saturn </td><td>Gas giant         </td><td> 9.449</td><td>   0.43</td><td> TRUE</td></tr>\n",
              "\t<tr><td>Uranus </td><td>Gas giant         </td><td> 4.007</td><td>  -0.72</td><td> TRUE</td></tr>\n",
              "\t<tr><td>Neptune</td><td>Gas giant         </td><td> 3.883</td><td>   0.67</td><td> TRUE</td></tr>\n",
              "</tbody>\n",
              "</table>\n"
            ]
          },
          "metadata": {
            "tags": []
          }
        },
        {
          "output_type": "display_data",
          "data": {
            "text/plain": [
              "  name    type               diameter rotation rings\n",
              "1 Mercury Terrestrial planet  0.382     58.64  FALSE\n",
              "4 Mars    Terrestrial planet  0.532      1.03  FALSE\n",
              "2 Venus   Terrestrial planet  0.949   -243.02  FALSE\n",
              "3 Earth   Terrestrial planet  1.000      1.00  FALSE\n",
              "8 Neptune Gas giant           3.883      0.67   TRUE\n",
              "7 Uranus  Gas giant           4.007     -0.72   TRUE\n",
              "6 Saturn  Gas giant           9.449      0.43   TRUE\n",
              "5 Jupiter Gas giant          11.209      0.41   TRUE"
            ],
            "text/latex": "A data.frame: 8 × 5\n\\begin{tabular}{r|lllll}\n  & name & type & diameter & rotation & rings\\\\\n  & <chr> & <chr> & <dbl> & <dbl> & <lgl>\\\\\n\\hline\n\t1 & Mercury & Terrestrial planet &  0.382 &   58.64 & FALSE\\\\\n\t4 & Mars    & Terrestrial planet &  0.532 &    1.03 & FALSE\\\\\n\t2 & Venus   & Terrestrial planet &  0.949 & -243.02 & FALSE\\\\\n\t3 & Earth   & Terrestrial planet &  1.000 &    1.00 & FALSE\\\\\n\t8 & Neptune & Gas giant          &  3.883 &    0.67 &  TRUE\\\\\n\t7 & Uranus  & Gas giant          &  4.007 &   -0.72 &  TRUE\\\\\n\t6 & Saturn  & Gas giant          &  9.449 &    0.43 &  TRUE\\\\\n\t5 & Jupiter & Gas giant          & 11.209 &    0.41 &  TRUE\\\\\n\\end{tabular}\n",
            "text/markdown": "\nA data.frame: 8 × 5\n\n| <!--/--> | name &lt;chr&gt; | type &lt;chr&gt; | diameter &lt;dbl&gt; | rotation &lt;dbl&gt; | rings &lt;lgl&gt; |\n|---|---|---|---|---|---|\n| 1 | Mercury | Terrestrial planet |  0.382 |   58.64 | FALSE |\n| 4 | Mars    | Terrestrial planet |  0.532 |    1.03 | FALSE |\n| 2 | Venus   | Terrestrial planet |  0.949 | -243.02 | FALSE |\n| 3 | Earth   | Terrestrial planet |  1.000 |    1.00 | FALSE |\n| 8 | Neptune | Gas giant          |  3.883 |    0.67 |  TRUE |\n| 7 | Uranus  | Gas giant          |  4.007 |   -0.72 |  TRUE |\n| 6 | Saturn  | Gas giant          |  9.449 |    0.43 |  TRUE |\n| 5 | Jupiter | Gas giant          | 11.209 |    0.41 |  TRUE |\n\n",
            "text/html": [
              "<table>\n",
              "<caption>A data.frame: 8 × 5</caption>\n",
              "<thead>\n",
              "\t<tr><th></th><th scope=col>name</th><th scope=col>type</th><th scope=col>diameter</th><th scope=col>rotation</th><th scope=col>rings</th></tr>\n",
              "\t<tr><th></th><th scope=col>&lt;chr&gt;</th><th scope=col>&lt;chr&gt;</th><th scope=col>&lt;dbl&gt;</th><th scope=col>&lt;dbl&gt;</th><th scope=col>&lt;lgl&gt;</th></tr>\n",
              "</thead>\n",
              "<tbody>\n",
              "\t<tr><th scope=row>1</th><td>Mercury</td><td>Terrestrial planet</td><td> 0.382</td><td>  58.64</td><td>FALSE</td></tr>\n",
              "\t<tr><th scope=row>4</th><td>Mars   </td><td>Terrestrial planet</td><td> 0.532</td><td>   1.03</td><td>FALSE</td></tr>\n",
              "\t<tr><th scope=row>2</th><td>Venus  </td><td>Terrestrial planet</td><td> 0.949</td><td>-243.02</td><td>FALSE</td></tr>\n",
              "\t<tr><th scope=row>3</th><td>Earth  </td><td>Terrestrial planet</td><td> 1.000</td><td>   1.00</td><td>FALSE</td></tr>\n",
              "\t<tr><th scope=row>8</th><td>Neptune</td><td>Gas giant         </td><td> 3.883</td><td>   0.67</td><td> TRUE</td></tr>\n",
              "\t<tr><th scope=row>7</th><td>Uranus </td><td>Gas giant         </td><td> 4.007</td><td>  -0.72</td><td> TRUE</td></tr>\n",
              "\t<tr><th scope=row>6</th><td>Saturn </td><td>Gas giant         </td><td> 9.449</td><td>   0.43</td><td> TRUE</td></tr>\n",
              "\t<tr><th scope=row>5</th><td>Jupiter</td><td>Gas giant         </td><td>11.209</td><td>   0.41</td><td> TRUE</td></tr>\n",
              "</tbody>\n",
              "</table>\n"
            ]
          },
          "metadata": {
            "tags": []
          }
        }
      ]
    },
    {
      "cell_type": "markdown",
      "metadata": {
        "id": "gGGpxn0k7wl5"
      },
      "source": [
        "# 6. Working with List\n",
        "A **list** in R allows you to gather a variety of objects under one name (that is, the name of the list) in an ordered way. These objects can be **matrices, vectors, data frames, even other lists**, etc. It is not even required that these objects are related to each other in any way.\n",
        "\n",
        "## 6.1: Creating a list\n",
        "To construct a list you use the function list():\n",
        "> my_list <- list(comp1, comp2 ...)\n"
      ]
    },
    {
      "cell_type": "code",
      "metadata": {
        "id": "kAuL9vYE8HBE",
        "outputId": "5173eb24-b7bf-4195-e166-312e76e003b7",
        "colab": {
          "base_uri": "https://localhost:8080/",
          "height": 482
        }
      },
      "source": [
        "# Vector with numerics from 1 up to 10\n",
        "my_vector <- 1:10 \n",
        "\n",
        "# Matrix with numerics from 1 up to 9\n",
        "my_matrix <- matrix(1:9, ncol = 3)\n",
        "\n",
        "# First 10 elements of the built-in data frame mtcars\n",
        "my_df <- mtcars[1:10,]\n",
        "\n",
        "# Construct list with these different elements:\n",
        "my_list <- list(my_vector,my_matrix,my_df)\n",
        "my_list"
      ],
      "execution_count": 1,
      "outputs": [
        {
          "output_type": "display_data",
          "data": {
            "text/plain": [
              "[[1]]\n",
              " [1]  1  2  3  4  5  6  7  8  9 10\n",
              "\n",
              "[[2]]\n",
              "     [,1] [,2] [,3]\n",
              "[1,]    1    4    7\n",
              "[2,]    2    5    8\n",
              "[3,]    3    6    9\n",
              "\n",
              "[[3]]\n",
              "                   mpg cyl  disp  hp drat    wt  qsec vs am gear carb\n",
              "Mazda RX4         21.0   6 160.0 110 3.90 2.620 16.46  0  1    4    4\n",
              "Mazda RX4 Wag     21.0   6 160.0 110 3.90 2.875 17.02  0  1    4    4\n",
              "Datsun 710        22.8   4 108.0  93 3.85 2.320 18.61  1  1    4    1\n",
              "Hornet 4 Drive    21.4   6 258.0 110 3.08 3.215 19.44  1  0    3    1\n",
              "Hornet Sportabout 18.7   8 360.0 175 3.15 3.440 17.02  0  0    3    2\n",
              "Valiant           18.1   6 225.0 105 2.76 3.460 20.22  1  0    3    1\n",
              "Duster 360        14.3   8 360.0 245 3.21 3.570 15.84  0  0    3    4\n",
              "Merc 240D         24.4   4 146.7  62 3.69 3.190 20.00  1  0    4    2\n",
              "Merc 230          22.8   4 140.8  95 3.92 3.150 22.90  1  0    4    2\n",
              "Merc 280          19.2   6 167.6 123 3.92 3.440 18.30  1  0    4    4\n"
            ],
            "text/latex": "\\begin{enumerate}\n\\item \\begin{enumerate*}\n\\item 1\n\\item 2\n\\item 3\n\\item 4\n\\item 5\n\\item 6\n\\item 7\n\\item 8\n\\item 9\n\\item 10\n\\end{enumerate*}\n\n\\item A matrix: 3 × 3 of type int\n\\begin{tabular}{lll}\n\t 1 & 4 & 7\\\\\n\t 2 & 5 & 8\\\\\n\t 3 & 6 & 9\\\\\n\\end{tabular}\n\n\\item A data.frame: 10 × 11\n\\begin{tabular}{r|lllllllllll}\n  & mpg & cyl & disp & hp & drat & wt & qsec & vs & am & gear & carb\\\\\n  & <dbl> & <dbl> & <dbl> & <dbl> & <dbl> & <dbl> & <dbl> & <dbl> & <dbl> & <dbl> & <dbl>\\\\\n\\hline\n\tMazda RX4 & 21.0 & 6 & 160.0 & 110 & 3.90 & 2.620 & 16.46 & 0 & 1 & 4 & 4\\\\\n\tMazda RX4 Wag & 21.0 & 6 & 160.0 & 110 & 3.90 & 2.875 & 17.02 & 0 & 1 & 4 & 4\\\\\n\tDatsun 710 & 22.8 & 4 & 108.0 &  93 & 3.85 & 2.320 & 18.61 & 1 & 1 & 4 & 1\\\\\n\tHornet 4 Drive & 21.4 & 6 & 258.0 & 110 & 3.08 & 3.215 & 19.44 & 1 & 0 & 3 & 1\\\\\n\tHornet Sportabout & 18.7 & 8 & 360.0 & 175 & 3.15 & 3.440 & 17.02 & 0 & 0 & 3 & 2\\\\\n\tValiant & 18.1 & 6 & 225.0 & 105 & 2.76 & 3.460 & 20.22 & 1 & 0 & 3 & 1\\\\\n\tDuster 360 & 14.3 & 8 & 360.0 & 245 & 3.21 & 3.570 & 15.84 & 0 & 0 & 3 & 4\\\\\n\tMerc 240D & 24.4 & 4 & 146.7 &  62 & 3.69 & 3.190 & 20.00 & 1 & 0 & 4 & 2\\\\\n\tMerc 230 & 22.8 & 4 & 140.8 &  95 & 3.92 & 3.150 & 22.90 & 1 & 0 & 4 & 2\\\\\n\tMerc 280 & 19.2 & 6 & 167.6 & 123 & 3.92 & 3.440 & 18.30 & 1 & 0 & 4 & 4\\\\\n\\end{tabular}\n\n\\end{enumerate}\n",
            "text/markdown": "1. 1. 1\n2. 2\n3. 3\n4. 4\n5. 5\n6. 6\n7. 7\n8. 8\n9. 9\n10. 10\n\n\n\n2. \nA matrix: 3 × 3 of type int\n\n| 1 | 4 | 7 |\n| 2 | 5 | 8 |\n| 3 | 6 | 9 |\n\n\n3. \nA data.frame: 10 × 11\n\n| <!--/--> | mpg &lt;dbl&gt; | cyl &lt;dbl&gt; | disp &lt;dbl&gt; | hp &lt;dbl&gt; | drat &lt;dbl&gt; | wt &lt;dbl&gt; | qsec &lt;dbl&gt; | vs &lt;dbl&gt; | am &lt;dbl&gt; | gear &lt;dbl&gt; | carb &lt;dbl&gt; |\n|---|---|---|---|---|---|---|---|---|---|---|---|\n| Mazda RX4 | 21.0 | 6 | 160.0 | 110 | 3.90 | 2.620 | 16.46 | 0 | 1 | 4 | 4 |\n| Mazda RX4 Wag | 21.0 | 6 | 160.0 | 110 | 3.90 | 2.875 | 17.02 | 0 | 1 | 4 | 4 |\n| Datsun 710 | 22.8 | 4 | 108.0 |  93 | 3.85 | 2.320 | 18.61 | 1 | 1 | 4 | 1 |\n| Hornet 4 Drive | 21.4 | 6 | 258.0 | 110 | 3.08 | 3.215 | 19.44 | 1 | 0 | 3 | 1 |\n| Hornet Sportabout | 18.7 | 8 | 360.0 | 175 | 3.15 | 3.440 | 17.02 | 0 | 0 | 3 | 2 |\n| Valiant | 18.1 | 6 | 225.0 | 105 | 2.76 | 3.460 | 20.22 | 1 | 0 | 3 | 1 |\n| Duster 360 | 14.3 | 8 | 360.0 | 245 | 3.21 | 3.570 | 15.84 | 0 | 0 | 3 | 4 |\n| Merc 240D | 24.4 | 4 | 146.7 |  62 | 3.69 | 3.190 | 20.00 | 1 | 0 | 4 | 2 |\n| Merc 230 | 22.8 | 4 | 140.8 |  95 | 3.92 | 3.150 | 22.90 | 1 | 0 | 4 | 2 |\n| Merc 280 | 19.2 | 6 | 167.6 | 123 | 3.92 | 3.440 | 18.30 | 1 | 0 | 4 | 4 |\n\n\n\n\n",
            "text/html": [
              "<ol>\n",
              "\t<li><style>\n",
              ".list-inline {list-style: none; margin:0; padding: 0}\n",
              ".list-inline>li {display: inline-block}\n",
              ".list-inline>li:not(:last-child)::after {content: \"\\00b7\"; padding: 0 .5ex}\n",
              "</style>\n",
              "<ol class=list-inline><li>1</li><li>2</li><li>3</li><li>4</li><li>5</li><li>6</li><li>7</li><li>8</li><li>9</li><li>10</li></ol>\n",
              "</li>\n",
              "\t<li><table>\n",
              "<caption>A matrix: 3 × 3 of type int</caption>\n",
              "<tbody>\n",
              "\t<tr><td>1</td><td>4</td><td>7</td></tr>\n",
              "\t<tr><td>2</td><td>5</td><td>8</td></tr>\n",
              "\t<tr><td>3</td><td>6</td><td>9</td></tr>\n",
              "</tbody>\n",
              "</table>\n",
              "</li>\n",
              "\t<li><table>\n",
              "<caption>A data.frame: 10 × 11</caption>\n",
              "<thead>\n",
              "\t<tr><th></th><th scope=col>mpg</th><th scope=col>cyl</th><th scope=col>disp</th><th scope=col>hp</th><th scope=col>drat</th><th scope=col>wt</th><th scope=col>qsec</th><th scope=col>vs</th><th scope=col>am</th><th scope=col>gear</th><th scope=col>carb</th></tr>\n",
              "\t<tr><th></th><th scope=col>&lt;dbl&gt;</th><th scope=col>&lt;dbl&gt;</th><th scope=col>&lt;dbl&gt;</th><th scope=col>&lt;dbl&gt;</th><th scope=col>&lt;dbl&gt;</th><th scope=col>&lt;dbl&gt;</th><th scope=col>&lt;dbl&gt;</th><th scope=col>&lt;dbl&gt;</th><th scope=col>&lt;dbl&gt;</th><th scope=col>&lt;dbl&gt;</th><th scope=col>&lt;dbl&gt;</th></tr>\n",
              "</thead>\n",
              "<tbody>\n",
              "\t<tr><th scope=row>Mazda RX4</th><td>21.0</td><td>6</td><td>160.0</td><td>110</td><td>3.90</td><td>2.620</td><td>16.46</td><td>0</td><td>1</td><td>4</td><td>4</td></tr>\n",
              "\t<tr><th scope=row>Mazda RX4 Wag</th><td>21.0</td><td>6</td><td>160.0</td><td>110</td><td>3.90</td><td>2.875</td><td>17.02</td><td>0</td><td>1</td><td>4</td><td>4</td></tr>\n",
              "\t<tr><th scope=row>Datsun 710</th><td>22.8</td><td>4</td><td>108.0</td><td> 93</td><td>3.85</td><td>2.320</td><td>18.61</td><td>1</td><td>1</td><td>4</td><td>1</td></tr>\n",
              "\t<tr><th scope=row>Hornet 4 Drive</th><td>21.4</td><td>6</td><td>258.0</td><td>110</td><td>3.08</td><td>3.215</td><td>19.44</td><td>1</td><td>0</td><td>3</td><td>1</td></tr>\n",
              "\t<tr><th scope=row>Hornet Sportabout</th><td>18.7</td><td>8</td><td>360.0</td><td>175</td><td>3.15</td><td>3.440</td><td>17.02</td><td>0</td><td>0</td><td>3</td><td>2</td></tr>\n",
              "\t<tr><th scope=row>Valiant</th><td>18.1</td><td>6</td><td>225.0</td><td>105</td><td>2.76</td><td>3.460</td><td>20.22</td><td>1</td><td>0</td><td>3</td><td>1</td></tr>\n",
              "\t<tr><th scope=row>Duster 360</th><td>14.3</td><td>8</td><td>360.0</td><td>245</td><td>3.21</td><td>3.570</td><td>15.84</td><td>0</td><td>0</td><td>3</td><td>4</td></tr>\n",
              "\t<tr><th scope=row>Merc 240D</th><td>24.4</td><td>4</td><td>146.7</td><td> 62</td><td>3.69</td><td>3.190</td><td>20.00</td><td>1</td><td>0</td><td>4</td><td>2</td></tr>\n",
              "\t<tr><th scope=row>Merc 230</th><td>22.8</td><td>4</td><td>140.8</td><td> 95</td><td>3.92</td><td>3.150</td><td>22.90</td><td>1</td><td>0</td><td>4</td><td>2</td></tr>\n",
              "\t<tr><th scope=row>Merc 280</th><td>19.2</td><td>6</td><td>167.6</td><td>123</td><td>3.92</td><td>3.440</td><td>18.30</td><td>1</td><td>0</td><td>4</td><td>4</td></tr>\n",
              "</tbody>\n",
              "</table>\n",
              "</li>\n",
              "</ol>\n"
            ]
          },
          "metadata": {
            "tags": []
          }
        }
      ]
    },
    {
      "cell_type": "markdown",
      "metadata": {
        "id": "nEJkVmVb8sML"
      },
      "source": [
        "## 3.2: Creating a named list\n",
        "Just like on your to-do list, you want to avoid not knowing or remembering what the components of your list stand for. That is why you should give names to them:\n",
        "> my_list <- list(name1 = your_comp1, name2 = your_comp2)\n",
        "\n",
        "This creates a list with components that are named name1, name2, and so on. If you want to **name your lists after you've created them**, you can use the `  names() ` function as you did with vectors. The following commands are fully equivalent to the assignment above:\n",
        "\n",
        "> my_list <- list(your_comp1, your_comp2) \\\n",
        "> names(my_list) <- c(\"name1\", \"name2\")\n"
      ]
    },
    {
      "cell_type": "code",
      "metadata": {
        "id": "R7hK6XSV8kMM",
        "outputId": "3e31fbe2-ac66-4792-c12d-8f381fd8193b",
        "colab": {
          "base_uri": "https://localhost:8080/",
          "height": 533
        }
      },
      "source": [
        "# Vector with numerics from 1 up to 10\n",
        "my_vector <- 1:10 \n",
        "\n",
        "# Matrix with numerics from 1 up to 9\n",
        "my_matrix <- matrix(1:9, ncol = 3)\n",
        "\n",
        "# First 10 elements of the built-in data frame mtcars\n",
        "my_df <- mtcars[1:10,]\n",
        "\n",
        "# Adapt list() call to give the components names\n",
        "my_list <- list(my_vector, my_matrix, my_df)\n",
        "names(my_list) <- c(\"vector\",\"matrix\",\"dataframe\")\n",
        "# Print out my_list\n",
        "my_list"
      ],
      "execution_count": 2,
      "outputs": [
        {
          "output_type": "display_data",
          "data": {
            "text/plain": [
              "$vector\n",
              " [1]  1  2  3  4  5  6  7  8  9 10\n",
              "\n",
              "$matrix\n",
              "     [,1] [,2] [,3]\n",
              "[1,]    1    4    7\n",
              "[2,]    2    5    8\n",
              "[3,]    3    6    9\n",
              "\n",
              "$dataframe\n",
              "                   mpg cyl  disp  hp drat    wt  qsec vs am gear carb\n",
              "Mazda RX4         21.0   6 160.0 110 3.90 2.620 16.46  0  1    4    4\n",
              "Mazda RX4 Wag     21.0   6 160.0 110 3.90 2.875 17.02  0  1    4    4\n",
              "Datsun 710        22.8   4 108.0  93 3.85 2.320 18.61  1  1    4    1\n",
              "Hornet 4 Drive    21.4   6 258.0 110 3.08 3.215 19.44  1  0    3    1\n",
              "Hornet Sportabout 18.7   8 360.0 175 3.15 3.440 17.02  0  0    3    2\n",
              "Valiant           18.1   6 225.0 105 2.76 3.460 20.22  1  0    3    1\n",
              "Duster 360        14.3   8 360.0 245 3.21 3.570 15.84  0  0    3    4\n",
              "Merc 240D         24.4   4 146.7  62 3.69 3.190 20.00  1  0    4    2\n",
              "Merc 230          22.8   4 140.8  95 3.92 3.150 22.90  1  0    4    2\n",
              "Merc 280          19.2   6 167.6 123 3.92 3.440 18.30  1  0    4    4\n"
            ],
            "text/latex": "\\begin{description}\n\\item[\\$vector] \\begin{enumerate*}\n\\item 1\n\\item 2\n\\item 3\n\\item 4\n\\item 5\n\\item 6\n\\item 7\n\\item 8\n\\item 9\n\\item 10\n\\end{enumerate*}\n\n\\item[\\$matrix] A matrix: 3 × 3 of type int\n\\begin{tabular}{lll}\n\t 1 & 4 & 7\\\\\n\t 2 & 5 & 8\\\\\n\t 3 & 6 & 9\\\\\n\\end{tabular}\n\n\\item[\\$dataframe] A data.frame: 10 × 11\n\\begin{tabular}{r|lllllllllll}\n  & mpg & cyl & disp & hp & drat & wt & qsec & vs & am & gear & carb\\\\\n  & <dbl> & <dbl> & <dbl> & <dbl> & <dbl> & <dbl> & <dbl> & <dbl> & <dbl> & <dbl> & <dbl>\\\\\n\\hline\n\tMazda RX4 & 21.0 & 6 & 160.0 & 110 & 3.90 & 2.620 & 16.46 & 0 & 1 & 4 & 4\\\\\n\tMazda RX4 Wag & 21.0 & 6 & 160.0 & 110 & 3.90 & 2.875 & 17.02 & 0 & 1 & 4 & 4\\\\\n\tDatsun 710 & 22.8 & 4 & 108.0 &  93 & 3.85 & 2.320 & 18.61 & 1 & 1 & 4 & 1\\\\\n\tHornet 4 Drive & 21.4 & 6 & 258.0 & 110 & 3.08 & 3.215 & 19.44 & 1 & 0 & 3 & 1\\\\\n\tHornet Sportabout & 18.7 & 8 & 360.0 & 175 & 3.15 & 3.440 & 17.02 & 0 & 0 & 3 & 2\\\\\n\tValiant & 18.1 & 6 & 225.0 & 105 & 2.76 & 3.460 & 20.22 & 1 & 0 & 3 & 1\\\\\n\tDuster 360 & 14.3 & 8 & 360.0 & 245 & 3.21 & 3.570 & 15.84 & 0 & 0 & 3 & 4\\\\\n\tMerc 240D & 24.4 & 4 & 146.7 &  62 & 3.69 & 3.190 & 20.00 & 1 & 0 & 4 & 2\\\\\n\tMerc 230 & 22.8 & 4 & 140.8 &  95 & 3.92 & 3.150 & 22.90 & 1 & 0 & 4 & 2\\\\\n\tMerc 280 & 19.2 & 6 & 167.6 & 123 & 3.92 & 3.440 & 18.30 & 1 & 0 & 4 & 4\\\\\n\\end{tabular}\n\n\\end{description}\n",
            "text/markdown": "$vector\n:   1. 1\n2. 2\n3. 3\n4. 4\n5. 5\n6. 6\n7. 7\n8. 8\n9. 9\n10. 10\n\n\n\n$matrix\n:   \nA matrix: 3 × 3 of type int\n\n| 1 | 4 | 7 |\n| 2 | 5 | 8 |\n| 3 | 6 | 9 |\n\n\n$dataframe\n:   \nA data.frame: 10 × 11\n\n| <!--/--> | mpg &lt;dbl&gt; | cyl &lt;dbl&gt; | disp &lt;dbl&gt; | hp &lt;dbl&gt; | drat &lt;dbl&gt; | wt &lt;dbl&gt; | qsec &lt;dbl&gt; | vs &lt;dbl&gt; | am &lt;dbl&gt; | gear &lt;dbl&gt; | carb &lt;dbl&gt; |\n|---|---|---|---|---|---|---|---|---|---|---|---|\n| Mazda RX4 | 21.0 | 6 | 160.0 | 110 | 3.90 | 2.620 | 16.46 | 0 | 1 | 4 | 4 |\n| Mazda RX4 Wag | 21.0 | 6 | 160.0 | 110 | 3.90 | 2.875 | 17.02 | 0 | 1 | 4 | 4 |\n| Datsun 710 | 22.8 | 4 | 108.0 |  93 | 3.85 | 2.320 | 18.61 | 1 | 1 | 4 | 1 |\n| Hornet 4 Drive | 21.4 | 6 | 258.0 | 110 | 3.08 | 3.215 | 19.44 | 1 | 0 | 3 | 1 |\n| Hornet Sportabout | 18.7 | 8 | 360.0 | 175 | 3.15 | 3.440 | 17.02 | 0 | 0 | 3 | 2 |\n| Valiant | 18.1 | 6 | 225.0 | 105 | 2.76 | 3.460 | 20.22 | 1 | 0 | 3 | 1 |\n| Duster 360 | 14.3 | 8 | 360.0 | 245 | 3.21 | 3.570 | 15.84 | 0 | 0 | 3 | 4 |\n| Merc 240D | 24.4 | 4 | 146.7 |  62 | 3.69 | 3.190 | 20.00 | 1 | 0 | 4 | 2 |\n| Merc 230 | 22.8 | 4 | 140.8 |  95 | 3.92 | 3.150 | 22.90 | 1 | 0 | 4 | 2 |\n| Merc 280 | 19.2 | 6 | 167.6 | 123 | 3.92 | 3.440 | 18.30 | 1 | 0 | 4 | 4 |\n\n\n\n\n",
            "text/html": [
              "<dl>\n",
              "\t<dt>$vector</dt>\n",
              "\t\t<dd><style>\n",
              ".list-inline {list-style: none; margin:0; padding: 0}\n",
              ".list-inline>li {display: inline-block}\n",
              ".list-inline>li:not(:last-child)::after {content: \"\\00b7\"; padding: 0 .5ex}\n",
              "</style>\n",
              "<ol class=list-inline><li>1</li><li>2</li><li>3</li><li>4</li><li>5</li><li>6</li><li>7</li><li>8</li><li>9</li><li>10</li></ol>\n",
              "</dd>\n",
              "\t<dt>$matrix</dt>\n",
              "\t\t<dd><table>\n",
              "<caption>A matrix: 3 × 3 of type int</caption>\n",
              "<tbody>\n",
              "\t<tr><td>1</td><td>4</td><td>7</td></tr>\n",
              "\t<tr><td>2</td><td>5</td><td>8</td></tr>\n",
              "\t<tr><td>3</td><td>6</td><td>9</td></tr>\n",
              "</tbody>\n",
              "</table>\n",
              "</dd>\n",
              "\t<dt>$dataframe</dt>\n",
              "\t\t<dd><table>\n",
              "<caption>A data.frame: 10 × 11</caption>\n",
              "<thead>\n",
              "\t<tr><th></th><th scope=col>mpg</th><th scope=col>cyl</th><th scope=col>disp</th><th scope=col>hp</th><th scope=col>drat</th><th scope=col>wt</th><th scope=col>qsec</th><th scope=col>vs</th><th scope=col>am</th><th scope=col>gear</th><th scope=col>carb</th></tr>\n",
              "\t<tr><th></th><th scope=col>&lt;dbl&gt;</th><th scope=col>&lt;dbl&gt;</th><th scope=col>&lt;dbl&gt;</th><th scope=col>&lt;dbl&gt;</th><th scope=col>&lt;dbl&gt;</th><th scope=col>&lt;dbl&gt;</th><th scope=col>&lt;dbl&gt;</th><th scope=col>&lt;dbl&gt;</th><th scope=col>&lt;dbl&gt;</th><th scope=col>&lt;dbl&gt;</th><th scope=col>&lt;dbl&gt;</th></tr>\n",
              "</thead>\n",
              "<tbody>\n",
              "\t<tr><th scope=row>Mazda RX4</th><td>21.0</td><td>6</td><td>160.0</td><td>110</td><td>3.90</td><td>2.620</td><td>16.46</td><td>0</td><td>1</td><td>4</td><td>4</td></tr>\n",
              "\t<tr><th scope=row>Mazda RX4 Wag</th><td>21.0</td><td>6</td><td>160.0</td><td>110</td><td>3.90</td><td>2.875</td><td>17.02</td><td>0</td><td>1</td><td>4</td><td>4</td></tr>\n",
              "\t<tr><th scope=row>Datsun 710</th><td>22.8</td><td>4</td><td>108.0</td><td> 93</td><td>3.85</td><td>2.320</td><td>18.61</td><td>1</td><td>1</td><td>4</td><td>1</td></tr>\n",
              "\t<tr><th scope=row>Hornet 4 Drive</th><td>21.4</td><td>6</td><td>258.0</td><td>110</td><td>3.08</td><td>3.215</td><td>19.44</td><td>1</td><td>0</td><td>3</td><td>1</td></tr>\n",
              "\t<tr><th scope=row>Hornet Sportabout</th><td>18.7</td><td>8</td><td>360.0</td><td>175</td><td>3.15</td><td>3.440</td><td>17.02</td><td>0</td><td>0</td><td>3</td><td>2</td></tr>\n",
              "\t<tr><th scope=row>Valiant</th><td>18.1</td><td>6</td><td>225.0</td><td>105</td><td>2.76</td><td>3.460</td><td>20.22</td><td>1</td><td>0</td><td>3</td><td>1</td></tr>\n",
              "\t<tr><th scope=row>Duster 360</th><td>14.3</td><td>8</td><td>360.0</td><td>245</td><td>3.21</td><td>3.570</td><td>15.84</td><td>0</td><td>0</td><td>3</td><td>4</td></tr>\n",
              "\t<tr><th scope=row>Merc 240D</th><td>24.4</td><td>4</td><td>146.7</td><td> 62</td><td>3.69</td><td>3.190</td><td>20.00</td><td>1</td><td>0</td><td>4</td><td>2</td></tr>\n",
              "\t<tr><th scope=row>Merc 230</th><td>22.8</td><td>4</td><td>140.8</td><td> 95</td><td>3.92</td><td>3.150</td><td>22.90</td><td>1</td><td>0</td><td>4</td><td>2</td></tr>\n",
              "\t<tr><th scope=row>Merc 280</th><td>19.2</td><td>6</td><td>167.6</td><td>123</td><td>3.92</td><td>3.440</td><td>18.30</td><td>1</td><td>0</td><td>4</td><td>4</td></tr>\n",
              "</tbody>\n",
              "</table>\n",
              "</dd>\n",
              "</dl>\n"
            ]
          },
          "metadata": {
            "tags": []
          }
        }
      ]
    },
    {
      "cell_type": "markdown",
      "metadata": {
        "id": "owd4ce53-Fby"
      },
      "source": [
        "### 3.3 Use of List in R\n"
      ]
    },
    {
      "cell_type": "code",
      "metadata": {
        "id": "rFSRBCNO9t0o"
      },
      "source": [
        "city <- \"Kolkata\"\n",
        "places <- c('New Market','Victoria Memorial','Howrah Bridge','Park Street','South Park Cemetery','Dakshineshwar Kali Temple','Belur Math','Fort William','Prinsep Ghat','Old Chinatown')\n",
        "\n",
        "# Creating dataframe\n",
        "rating <- c(4.8,5.0,4.0,3.1,3.6)\n",
        "place <- c('New Market','Dakshineshwar Kali Temple','Victoria Memorial','Victoria Memorial','Howrah Bridge')\n",
        "comment <- c('Nice Place', \"Good Temple!!\",'Must Visit','Kolkata, Attarction...','Best place near ganga!')\n",
        "city_review_df <- data.frame(place,rating,comment)\n",
        "\n",
        "# Creating R List\n",
        "city_list <- list(name = city, touristPlaces = places, review = city_review_df )"
      ],
      "execution_count": 9,
      "outputs": []
    },
    {
      "cell_type": "code",
      "metadata": {
        "id": "5nr6BNm9_EmM",
        "outputId": "54482c63-3b5e-4812-a0c3-21e2866228cd",
        "colab": {
          "base_uri": "https://localhost:8080/",
          "height": 287
        }
      },
      "source": [
        "city_list"
      ],
      "execution_count": 10,
      "outputs": [
        {
          "output_type": "display_data",
          "data": {
            "text/plain": [
              "$name\n",
              "[1] \"Kolkata\"\n",
              "\n",
              "$touristPlaces\n",
              " [1] \"New Market\"                \"Victoria Memorial\"        \n",
              " [3] \"Howrah Bridge\"             \"Park Street\"              \n",
              " [5] \"South Park Cemetery\"       \"Dakshineshwar Kali Temple\"\n",
              " [7] \"Belur Math\"                \"Fort William\"             \n",
              " [9] \"Prinsep Ghat\"              \"Old Chinatown\"            \n",
              "\n",
              "$review\n",
              "                      place rating                comment\n",
              "1                New Market    4.8             Nice Place\n",
              "2 Dakshineshwar Kali Temple    5.0          Good Temple!!\n",
              "3         Victoria Memorial    4.0             Must Visit\n",
              "4         Victoria Memorial    3.1 Kolkata, Attarction...\n",
              "5             Howrah Bridge    3.6 Best place near ganga!\n"
            ],
            "text/latex": "\\begin{description}\n\\item[\\$name] 'Kolkata'\n\\item[\\$touristPlaces] \\begin{enumerate*}\n\\item 'New Market'\n\\item 'Victoria Memorial'\n\\item 'Howrah Bridge'\n\\item 'Park Street'\n\\item 'South Park Cemetery'\n\\item 'Dakshineshwar Kali Temple'\n\\item 'Belur Math'\n\\item 'Fort William'\n\\item 'Prinsep Ghat'\n\\item 'Old Chinatown'\n\\end{enumerate*}\n\n\\item[\\$review] A data.frame: 5 × 3\n\\begin{tabular}{lll}\n place & rating & comment\\\\\n <chr> & <dbl> & <chr>\\\\\n\\hline\n\t New Market                & 4.8 & Nice Place            \\\\\n\t Dakshineshwar Kali Temple & 5.0 & Good Temple!!         \\\\\n\t Victoria Memorial         & 4.0 & Must Visit            \\\\\n\t Victoria Memorial         & 3.1 & Kolkata, Attarction...\\\\\n\t Howrah Bridge             & 3.6 & Best place near ganga!\\\\\n\\end{tabular}\n\n\\end{description}\n",
            "text/markdown": "$name\n:   'Kolkata'\n$touristPlaces\n:   1. 'New Market'\n2. 'Victoria Memorial'\n3. 'Howrah Bridge'\n4. 'Park Street'\n5. 'South Park Cemetery'\n6. 'Dakshineshwar Kali Temple'\n7. 'Belur Math'\n8. 'Fort William'\n9. 'Prinsep Ghat'\n10. 'Old Chinatown'\n\n\n\n$review\n:   \nA data.frame: 5 × 3\n\n| place &lt;chr&gt; | rating &lt;dbl&gt; | comment &lt;chr&gt; |\n|---|---|---|\n| New Market                | 4.8 | Nice Place             |\n| Dakshineshwar Kali Temple | 5.0 | Good Temple!!          |\n| Victoria Memorial         | 4.0 | Must Visit             |\n| Victoria Memorial         | 3.1 | Kolkata, Attarction... |\n| Howrah Bridge             | 3.6 | Best place near ganga! |\n\n\n\n\n",
            "text/html": [
              "<dl>\n",
              "\t<dt>$name</dt>\n",
              "\t\t<dd>'Kolkata'</dd>\n",
              "\t<dt>$touristPlaces</dt>\n",
              "\t\t<dd><style>\n",
              ".list-inline {list-style: none; margin:0; padding: 0}\n",
              ".list-inline>li {display: inline-block}\n",
              ".list-inline>li:not(:last-child)::after {content: \"\\00b7\"; padding: 0 .5ex}\n",
              "</style>\n",
              "<ol class=list-inline><li>'New Market'</li><li>'Victoria Memorial'</li><li>'Howrah Bridge'</li><li>'Park Street'</li><li>'South Park Cemetery'</li><li>'Dakshineshwar Kali Temple'</li><li>'Belur Math'</li><li>'Fort William'</li><li>'Prinsep Ghat'</li><li>'Old Chinatown'</li></ol>\n",
              "</dd>\n",
              "\t<dt>$review</dt>\n",
              "\t\t<dd><table>\n",
              "<caption>A data.frame: 5 × 3</caption>\n",
              "<thead>\n",
              "\t<tr><th scope=col>place</th><th scope=col>rating</th><th scope=col>comment</th></tr>\n",
              "\t<tr><th scope=col>&lt;chr&gt;</th><th scope=col>&lt;dbl&gt;</th><th scope=col>&lt;chr&gt;</th></tr>\n",
              "</thead>\n",
              "<tbody>\n",
              "\t<tr><td>New Market               </td><td>4.8</td><td>Nice Place            </td></tr>\n",
              "\t<tr><td>Dakshineshwar Kali Temple</td><td>5.0</td><td>Good Temple!!         </td></tr>\n",
              "\t<tr><td>Victoria Memorial        </td><td>4.0</td><td>Must Visit            </td></tr>\n",
              "\t<tr><td>Victoria Memorial        </td><td>3.1</td><td>Kolkata, Attarction...</td></tr>\n",
              "\t<tr><td>Howrah Bridge            </td><td>3.6</td><td>Best place near ganga!</td></tr>\n",
              "</tbody>\n",
              "</table>\n",
              "</dd>\n",
              "</dl>\n"
            ]
          },
          "metadata": {
            "tags": []
          }
        }
      ]
    },
    {
      "cell_type": "markdown",
      "metadata": {
        "id": "LtiNkbykBxWY"
      },
      "source": [
        "### 3.4 Selecting elements from a list\n",
        "You can also refer to the names of the components, with `[[ ]]` or with the ` $ ` sign. Both will select the data frame representing the reviews:"
      ]
    },
    {
      "cell_type": "code",
      "metadata": {
        "id": "hGXlFN7TBgP7",
        "outputId": "c0f32fd2-2294-4ef2-d132-96e328724917",
        "colab": {
          "base_uri": "https://localhost:8080/",
          "height": 192
        }
      },
      "source": [
        "city_list[['name']]\n",
        "city_list[['review']]"
      ],
      "execution_count": 12,
      "outputs": [
        {
          "output_type": "display_data",
          "data": {
            "text/plain": [
              "[1] \"Kolkata\""
            ],
            "text/latex": "'Kolkata'",
            "text/markdown": "'Kolkata'",
            "text/html": [
              "'Kolkata'"
            ]
          },
          "metadata": {
            "tags": []
          }
        },
        {
          "output_type": "display_data",
          "data": {
            "text/plain": [
              "  place                     rating comment               \n",
              "1 New Market                4.8    Nice Place            \n",
              "2 Dakshineshwar Kali Temple 5.0    Good Temple!!         \n",
              "3 Victoria Memorial         4.0    Must Visit            \n",
              "4 Victoria Memorial         3.1    Kolkata, Attarction...\n",
              "5 Howrah Bridge             3.6    Best place near ganga!"
            ],
            "text/latex": "A data.frame: 5 × 3\n\\begin{tabular}{lll}\n place & rating & comment\\\\\n <chr> & <dbl> & <chr>\\\\\n\\hline\n\t New Market                & 4.8 & Nice Place            \\\\\n\t Dakshineshwar Kali Temple & 5.0 & Good Temple!!         \\\\\n\t Victoria Memorial         & 4.0 & Must Visit            \\\\\n\t Victoria Memorial         & 3.1 & Kolkata, Attarction...\\\\\n\t Howrah Bridge             & 3.6 & Best place near ganga!\\\\\n\\end{tabular}\n",
            "text/markdown": "\nA data.frame: 5 × 3\n\n| place &lt;chr&gt; | rating &lt;dbl&gt; | comment &lt;chr&gt; |\n|---|---|---|\n| New Market                | 4.8 | Nice Place             |\n| Dakshineshwar Kali Temple | 5.0 | Good Temple!!          |\n| Victoria Memorial         | 4.0 | Must Visit             |\n| Victoria Memorial         | 3.1 | Kolkata, Attarction... |\n| Howrah Bridge             | 3.6 | Best place near ganga! |\n\n",
            "text/html": [
              "<table>\n",
              "<caption>A data.frame: 5 × 3</caption>\n",
              "<thead>\n",
              "\t<tr><th scope=col>place</th><th scope=col>rating</th><th scope=col>comment</th></tr>\n",
              "\t<tr><th scope=col>&lt;chr&gt;</th><th scope=col>&lt;dbl&gt;</th><th scope=col>&lt;chr&gt;</th></tr>\n",
              "</thead>\n",
              "<tbody>\n",
              "\t<tr><td>New Market               </td><td>4.8</td><td>Nice Place            </td></tr>\n",
              "\t<tr><td>Dakshineshwar Kali Temple</td><td>5.0</td><td>Good Temple!!         </td></tr>\n",
              "\t<tr><td>Victoria Memorial        </td><td>4.0</td><td>Must Visit            </td></tr>\n",
              "\t<tr><td>Victoria Memorial        </td><td>3.1</td><td>Kolkata, Attarction...</td></tr>\n",
              "\t<tr><td>Howrah Bridge            </td><td>3.6</td><td>Best place near ganga!</td></tr>\n",
              "</tbody>\n",
              "</table>\n"
            ]
          },
          "metadata": {
            "tags": []
          }
        }
      ]
    },
    {
      "cell_type": "code",
      "metadata": {
        "id": "fDhmT530CPW3",
        "outputId": "82190d42-dc2c-4dc7-e490-31533a0dc36e",
        "colab": {
          "base_uri": "https://localhost:8080/",
          "height": 192
        }
      },
      "source": [
        "city_list[[1]]\n",
        "city_list[[3]]"
      ],
      "execution_count": 13,
      "outputs": [
        {
          "output_type": "display_data",
          "data": {
            "text/plain": [
              "[1] \"Kolkata\""
            ],
            "text/latex": "'Kolkata'",
            "text/markdown": "'Kolkata'",
            "text/html": [
              "'Kolkata'"
            ]
          },
          "metadata": {
            "tags": []
          }
        },
        {
          "output_type": "display_data",
          "data": {
            "text/plain": [
              "  place                     rating comment               \n",
              "1 New Market                4.8    Nice Place            \n",
              "2 Dakshineshwar Kali Temple 5.0    Good Temple!!         \n",
              "3 Victoria Memorial         4.0    Must Visit            \n",
              "4 Victoria Memorial         3.1    Kolkata, Attarction...\n",
              "5 Howrah Bridge             3.6    Best place near ganga!"
            ],
            "text/latex": "A data.frame: 5 × 3\n\\begin{tabular}{lll}\n place & rating & comment\\\\\n <chr> & <dbl> & <chr>\\\\\n\\hline\n\t New Market                & 4.8 & Nice Place            \\\\\n\t Dakshineshwar Kali Temple & 5.0 & Good Temple!!         \\\\\n\t Victoria Memorial         & 4.0 & Must Visit            \\\\\n\t Victoria Memorial         & 3.1 & Kolkata, Attarction...\\\\\n\t Howrah Bridge             & 3.6 & Best place near ganga!\\\\\n\\end{tabular}\n",
            "text/markdown": "\nA data.frame: 5 × 3\n\n| place &lt;chr&gt; | rating &lt;dbl&gt; | comment &lt;chr&gt; |\n|---|---|---|\n| New Market                | 4.8 | Nice Place             |\n| Dakshineshwar Kali Temple | 5.0 | Good Temple!!          |\n| Victoria Memorial         | 4.0 | Must Visit             |\n| Victoria Memorial         | 3.1 | Kolkata, Attarction... |\n| Howrah Bridge             | 3.6 | Best place near ganga! |\n\n",
            "text/html": [
              "<table>\n",
              "<caption>A data.frame: 5 × 3</caption>\n",
              "<thead>\n",
              "\t<tr><th scope=col>place</th><th scope=col>rating</th><th scope=col>comment</th></tr>\n",
              "\t<tr><th scope=col>&lt;chr&gt;</th><th scope=col>&lt;dbl&gt;</th><th scope=col>&lt;chr&gt;</th></tr>\n",
              "</thead>\n",
              "<tbody>\n",
              "\t<tr><td>New Market               </td><td>4.8</td><td>Nice Place            </td></tr>\n",
              "\t<tr><td>Dakshineshwar Kali Temple</td><td>5.0</td><td>Good Temple!!         </td></tr>\n",
              "\t<tr><td>Victoria Memorial        </td><td>4.0</td><td>Must Visit            </td></tr>\n",
              "\t<tr><td>Victoria Memorial        </td><td>3.1</td><td>Kolkata, Attarction...</td></tr>\n",
              "\t<tr><td>Howrah Bridge            </td><td>3.6</td><td>Best place near ganga!</td></tr>\n",
              "</tbody>\n",
              "</table>\n"
            ]
          },
          "metadata": {
            "tags": []
          }
        }
      ]
    }
  ]
}